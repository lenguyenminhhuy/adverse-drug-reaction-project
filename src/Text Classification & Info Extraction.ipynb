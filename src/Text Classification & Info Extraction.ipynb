{
  "nbformat": 4,
  "nbformat_minor": 2,
  "metadata": {
    "colab": {
      "name": "COSC2753-Assignment2-Nerveless ",
      "provenance": [],
      "collapsed_sections": [
        "r1xhy6aW7j8E"
      ],
      "toc_visible": true
    },
    "kernelspec": {
      "display_name": "Python 3",
      "name": "python3"
    },
    "language_info": {
      "name": "python"
    },
    "widgets": {
      "application/vnd.jupyter.widget-state+json": {
        "fa66d481e060439f849d13426dac1813": {
          "model_module": "@jupyter-widgets/controls",
          "model_name": "HBoxModel",
          "state": {
            "_view_name": "HBoxView",
            "_dom_classes": [],
            "_model_name": "HBoxModel",
            "_view_module": "@jupyter-widgets/controls",
            "_model_module_version": "1.5.0",
            "_view_count": null,
            "_view_module_version": "1.5.0",
            "box_style": "",
            "layout": "IPY_MODEL_9765f44db35848abbf8613c475828cd0",
            "_model_module": "@jupyter-widgets/controls",
            "children": [
              "IPY_MODEL_2908553d220d4abbb19a6593e6274761",
              "IPY_MODEL_bd60208135514ebaaa2caf697a343003"
            ]
          }
        },
        "9765f44db35848abbf8613c475828cd0": {
          "model_module": "@jupyter-widgets/base",
          "model_name": "LayoutModel",
          "state": {
            "_view_name": "LayoutView",
            "grid_template_rows": null,
            "right": null,
            "justify_content": null,
            "_view_module": "@jupyter-widgets/base",
            "overflow": null,
            "_model_module_version": "1.2.0",
            "_view_count": null,
            "flex_flow": null,
            "width": null,
            "min_width": null,
            "border": null,
            "align_items": null,
            "bottom": null,
            "_model_module": "@jupyter-widgets/base",
            "top": null,
            "grid_column": null,
            "overflow_y": null,
            "overflow_x": null,
            "grid_auto_flow": null,
            "grid_area": null,
            "grid_template_columns": null,
            "flex": null,
            "_model_name": "LayoutModel",
            "justify_items": null,
            "grid_row": null,
            "max_height": null,
            "align_content": null,
            "visibility": null,
            "align_self": null,
            "height": null,
            "min_height": null,
            "padding": null,
            "grid_auto_rows": null,
            "grid_gap": null,
            "max_width": null,
            "order": null,
            "_view_module_version": "1.2.0",
            "grid_template_areas": null,
            "object_position": null,
            "object_fit": null,
            "grid_auto_columns": null,
            "margin": null,
            "display": null,
            "left": null
          }
        },
        "2908553d220d4abbb19a6593e6274761": {
          "model_module": "@jupyter-widgets/controls",
          "model_name": "FloatProgressModel",
          "state": {
            "_view_name": "ProgressView",
            "style": "IPY_MODEL_540811d89b7d41c2b78f30c09bac96aa",
            "_dom_classes": [],
            "description": "Downloading: ",
            "_model_name": "FloatProgressModel",
            "bar_style": "success",
            "max": 3020,
            "_view_module": "@jupyter-widgets/controls",
            "_model_module_version": "1.5.0",
            "value": 3020,
            "_view_count": null,
            "_view_module_version": "1.5.0",
            "orientation": "horizontal",
            "min": 0,
            "description_tooltip": null,
            "_model_module": "@jupyter-widgets/controls",
            "layout": "IPY_MODEL_f7b693afb04a41418cc8e3e8579a88dd"
          }
        },
        "bd60208135514ebaaa2caf697a343003": {
          "model_module": "@jupyter-widgets/controls",
          "model_name": "HTMLModel",
          "state": {
            "_view_name": "HTMLView",
            "style": "IPY_MODEL_c172e2499852401caea3d77354241469",
            "_dom_classes": [],
            "description": "",
            "_model_name": "HTMLModel",
            "placeholder": "​",
            "_view_module": "@jupyter-widgets/controls",
            "_model_module_version": "1.5.0",
            "value": " 11.7k/? [00:02&lt;00:00, 5.47kB/s]",
            "_view_count": null,
            "_view_module_version": "1.5.0",
            "description_tooltip": null,
            "_model_module": "@jupyter-widgets/controls",
            "layout": "IPY_MODEL_2e9663a2ab034522af0d22cd419e8b54"
          }
        },
        "540811d89b7d41c2b78f30c09bac96aa": {
          "model_module": "@jupyter-widgets/controls",
          "model_name": "ProgressStyleModel",
          "state": {
            "_view_name": "StyleView",
            "_model_name": "ProgressStyleModel",
            "description_width": "initial",
            "_view_module": "@jupyter-widgets/base",
            "_model_module_version": "1.5.0",
            "_view_count": null,
            "_view_module_version": "1.2.0",
            "bar_color": null,
            "_model_module": "@jupyter-widgets/controls"
          }
        },
        "f7b693afb04a41418cc8e3e8579a88dd": {
          "model_module": "@jupyter-widgets/base",
          "model_name": "LayoutModel",
          "state": {
            "_view_name": "LayoutView",
            "grid_template_rows": null,
            "right": null,
            "justify_content": null,
            "_view_module": "@jupyter-widgets/base",
            "overflow": null,
            "_model_module_version": "1.2.0",
            "_view_count": null,
            "flex_flow": null,
            "width": null,
            "min_width": null,
            "border": null,
            "align_items": null,
            "bottom": null,
            "_model_module": "@jupyter-widgets/base",
            "top": null,
            "grid_column": null,
            "overflow_y": null,
            "overflow_x": null,
            "grid_auto_flow": null,
            "grid_area": null,
            "grid_template_columns": null,
            "flex": null,
            "_model_name": "LayoutModel",
            "justify_items": null,
            "grid_row": null,
            "max_height": null,
            "align_content": null,
            "visibility": null,
            "align_self": null,
            "height": null,
            "min_height": null,
            "padding": null,
            "grid_auto_rows": null,
            "grid_gap": null,
            "max_width": null,
            "order": null,
            "_view_module_version": "1.2.0",
            "grid_template_areas": null,
            "object_position": null,
            "object_fit": null,
            "grid_auto_columns": null,
            "margin": null,
            "display": null,
            "left": null
          }
        },
        "c172e2499852401caea3d77354241469": {
          "model_module": "@jupyter-widgets/controls",
          "model_name": "DescriptionStyleModel",
          "state": {
            "_view_name": "StyleView",
            "_model_name": "DescriptionStyleModel",
            "description_width": "",
            "_view_module": "@jupyter-widgets/base",
            "_model_module_version": "1.5.0",
            "_view_count": null,
            "_view_module_version": "1.2.0",
            "_model_module": "@jupyter-widgets/controls"
          }
        },
        "2e9663a2ab034522af0d22cd419e8b54": {
          "model_module": "@jupyter-widgets/base",
          "model_name": "LayoutModel",
          "state": {
            "_view_name": "LayoutView",
            "grid_template_rows": null,
            "right": null,
            "justify_content": null,
            "_view_module": "@jupyter-widgets/base",
            "overflow": null,
            "_model_module_version": "1.2.0",
            "_view_count": null,
            "flex_flow": null,
            "width": null,
            "min_width": null,
            "border": null,
            "align_items": null,
            "bottom": null,
            "_model_module": "@jupyter-widgets/base",
            "top": null,
            "grid_column": null,
            "overflow_y": null,
            "overflow_x": null,
            "grid_auto_flow": null,
            "grid_area": null,
            "grid_template_columns": null,
            "flex": null,
            "_model_name": "LayoutModel",
            "justify_items": null,
            "grid_row": null,
            "max_height": null,
            "align_content": null,
            "visibility": null,
            "align_self": null,
            "height": null,
            "min_height": null,
            "padding": null,
            "grid_auto_rows": null,
            "grid_gap": null,
            "max_width": null,
            "order": null,
            "_view_module_version": "1.2.0",
            "grid_template_areas": null,
            "object_position": null,
            "object_fit": null,
            "grid_auto_columns": null,
            "margin": null,
            "display": null,
            "left": null
          }
        },
        "8f6afb4d38b04c24b45455052d60ae6a": {
          "model_module": "@jupyter-widgets/controls",
          "model_name": "HBoxModel",
          "state": {
            "_view_name": "HBoxView",
            "_dom_classes": [],
            "_model_name": "HBoxModel",
            "_view_module": "@jupyter-widgets/controls",
            "_model_module_version": "1.5.0",
            "_view_count": null,
            "_view_module_version": "1.5.0",
            "box_style": "",
            "layout": "IPY_MODEL_ced3de1e313a4172ac2c80aeee50301d",
            "_model_module": "@jupyter-widgets/controls",
            "children": [
              "IPY_MODEL_5beaf2b1ba81440aaa5544bd07586b96",
              "IPY_MODEL_01d59f9413cc4ba789de409eb114d339"
            ]
          }
        },
        "ced3de1e313a4172ac2c80aeee50301d": {
          "model_module": "@jupyter-widgets/base",
          "model_name": "LayoutModel",
          "state": {
            "_view_name": "LayoutView",
            "grid_template_rows": null,
            "right": null,
            "justify_content": null,
            "_view_module": "@jupyter-widgets/base",
            "overflow": null,
            "_model_module_version": "1.2.0",
            "_view_count": null,
            "flex_flow": null,
            "width": null,
            "min_width": null,
            "border": null,
            "align_items": null,
            "bottom": null,
            "_model_module": "@jupyter-widgets/base",
            "top": null,
            "grid_column": null,
            "overflow_y": null,
            "overflow_x": null,
            "grid_auto_flow": null,
            "grid_area": null,
            "grid_template_columns": null,
            "flex": null,
            "_model_name": "LayoutModel",
            "justify_items": null,
            "grid_row": null,
            "max_height": null,
            "align_content": null,
            "visibility": null,
            "align_self": null,
            "height": null,
            "min_height": null,
            "padding": null,
            "grid_auto_rows": null,
            "grid_gap": null,
            "max_width": null,
            "order": null,
            "_view_module_version": "1.2.0",
            "grid_template_areas": null,
            "object_position": null,
            "object_fit": null,
            "grid_auto_columns": null,
            "margin": null,
            "display": null,
            "left": null
          }
        },
        "5beaf2b1ba81440aaa5544bd07586b96": {
          "model_module": "@jupyter-widgets/controls",
          "model_name": "FloatProgressModel",
          "state": {
            "_view_name": "ProgressView",
            "style": "IPY_MODEL_0d964af6c939440396c12a6ec74eeacb",
            "_dom_classes": [],
            "description": "Downloading: ",
            "_model_name": "FloatProgressModel",
            "bar_style": "success",
            "max": 1917,
            "_view_module": "@jupyter-widgets/controls",
            "_model_module_version": "1.5.0",
            "value": 1917,
            "_view_count": null,
            "_view_module_version": "1.5.0",
            "orientation": "horizontal",
            "min": 0,
            "description_tooltip": null,
            "_model_module": "@jupyter-widgets/controls",
            "layout": "IPY_MODEL_8889a3456fa44c3ea33a73e58e39bb3e"
          }
        },
        "01d59f9413cc4ba789de409eb114d339": {
          "model_module": "@jupyter-widgets/controls",
          "model_name": "HTMLModel",
          "state": {
            "_view_name": "HTMLView",
            "style": "IPY_MODEL_bdaa45d7659d42d2b0377580727a076b",
            "_dom_classes": [],
            "description": "",
            "_model_name": "HTMLModel",
            "placeholder": "​",
            "_view_module": "@jupyter-widgets/controls",
            "_model_module_version": "1.5.0",
            "value": " 11.9k/? [00:00&lt;00:00, 87.1kB/s]",
            "_view_count": null,
            "_view_module_version": "1.5.0",
            "description_tooltip": null,
            "_model_module": "@jupyter-widgets/controls",
            "layout": "IPY_MODEL_b1a21b82761c47c6a8f08a8a0af8d31d"
          }
        },
        "0d964af6c939440396c12a6ec74eeacb": {
          "model_module": "@jupyter-widgets/controls",
          "model_name": "ProgressStyleModel",
          "state": {
            "_view_name": "StyleView",
            "_model_name": "ProgressStyleModel",
            "description_width": "initial",
            "_view_module": "@jupyter-widgets/base",
            "_model_module_version": "1.5.0",
            "_view_count": null,
            "_view_module_version": "1.2.0",
            "bar_color": null,
            "_model_module": "@jupyter-widgets/controls"
          }
        },
        "8889a3456fa44c3ea33a73e58e39bb3e": {
          "model_module": "@jupyter-widgets/base",
          "model_name": "LayoutModel",
          "state": {
            "_view_name": "LayoutView",
            "grid_template_rows": null,
            "right": null,
            "justify_content": null,
            "_view_module": "@jupyter-widgets/base",
            "overflow": null,
            "_model_module_version": "1.2.0",
            "_view_count": null,
            "flex_flow": null,
            "width": null,
            "min_width": null,
            "border": null,
            "align_items": null,
            "bottom": null,
            "_model_module": "@jupyter-widgets/base",
            "top": null,
            "grid_column": null,
            "overflow_y": null,
            "overflow_x": null,
            "grid_auto_flow": null,
            "grid_area": null,
            "grid_template_columns": null,
            "flex": null,
            "_model_name": "LayoutModel",
            "justify_items": null,
            "grid_row": null,
            "max_height": null,
            "align_content": null,
            "visibility": null,
            "align_self": null,
            "height": null,
            "min_height": null,
            "padding": null,
            "grid_auto_rows": null,
            "grid_gap": null,
            "max_width": null,
            "order": null,
            "_view_module_version": "1.2.0",
            "grid_template_areas": null,
            "object_position": null,
            "object_fit": null,
            "grid_auto_columns": null,
            "margin": null,
            "display": null,
            "left": null
          }
        },
        "bdaa45d7659d42d2b0377580727a076b": {
          "model_module": "@jupyter-widgets/controls",
          "model_name": "DescriptionStyleModel",
          "state": {
            "_view_name": "StyleView",
            "_model_name": "DescriptionStyleModel",
            "description_width": "",
            "_view_module": "@jupyter-widgets/base",
            "_model_module_version": "1.5.0",
            "_view_count": null,
            "_view_module_version": "1.2.0",
            "_model_module": "@jupyter-widgets/controls"
          }
        },
        "b1a21b82761c47c6a8f08a8a0af8d31d": {
          "model_module": "@jupyter-widgets/base",
          "model_name": "LayoutModel",
          "state": {
            "_view_name": "LayoutView",
            "grid_template_rows": null,
            "right": null,
            "justify_content": null,
            "_view_module": "@jupyter-widgets/base",
            "overflow": null,
            "_model_module_version": "1.2.0",
            "_view_count": null,
            "flex_flow": null,
            "width": null,
            "min_width": null,
            "border": null,
            "align_items": null,
            "bottom": null,
            "_model_module": "@jupyter-widgets/base",
            "top": null,
            "grid_column": null,
            "overflow_y": null,
            "overflow_x": null,
            "grid_auto_flow": null,
            "grid_area": null,
            "grid_template_columns": null,
            "flex": null,
            "_model_name": "LayoutModel",
            "justify_items": null,
            "grid_row": null,
            "max_height": null,
            "align_content": null,
            "visibility": null,
            "align_self": null,
            "height": null,
            "min_height": null,
            "padding": null,
            "grid_auto_rows": null,
            "grid_gap": null,
            "max_width": null,
            "order": null,
            "_view_module_version": "1.2.0",
            "grid_template_areas": null,
            "object_position": null,
            "object_fit": null,
            "grid_auto_columns": null,
            "margin": null,
            "display": null,
            "left": null
          }
        },
        "3291b10a04284c3d8255a652dc8c60f7": {
          "model_module": "@jupyter-widgets/controls",
          "model_name": "HBoxModel",
          "state": {
            "_view_name": "HBoxView",
            "_dom_classes": [],
            "_model_name": "HBoxModel",
            "_view_module": "@jupyter-widgets/controls",
            "_model_module_version": "1.5.0",
            "_view_count": null,
            "_view_module_version": "1.5.0",
            "box_style": "",
            "layout": "IPY_MODEL_574ba1392a77486aade81daca6c68344",
            "_model_module": "@jupyter-widgets/controls",
            "children": [
              "IPY_MODEL_1a078d85fa3f4a06ad7905e5e837f383",
              "IPY_MODEL_82b8e09706c44ae4923c772f7710247d"
            ]
          }
        },
        "574ba1392a77486aade81daca6c68344": {
          "model_module": "@jupyter-widgets/base",
          "model_name": "LayoutModel",
          "state": {
            "_view_name": "LayoutView",
            "grid_template_rows": null,
            "right": null,
            "justify_content": null,
            "_view_module": "@jupyter-widgets/base",
            "overflow": null,
            "_model_module_version": "1.2.0",
            "_view_count": null,
            "flex_flow": null,
            "width": null,
            "min_width": null,
            "border": null,
            "align_items": null,
            "bottom": null,
            "_model_module": "@jupyter-widgets/base",
            "top": null,
            "grid_column": null,
            "overflow_y": null,
            "overflow_x": null,
            "grid_auto_flow": null,
            "grid_area": null,
            "grid_template_columns": null,
            "flex": null,
            "_model_name": "LayoutModel",
            "justify_items": null,
            "grid_row": null,
            "max_height": null,
            "align_content": null,
            "visibility": null,
            "align_self": null,
            "height": null,
            "min_height": null,
            "padding": null,
            "grid_auto_rows": null,
            "grid_gap": null,
            "max_width": null,
            "order": null,
            "_view_module_version": "1.2.0",
            "grid_template_areas": null,
            "object_position": null,
            "object_fit": null,
            "grid_auto_columns": null,
            "margin": null,
            "display": null,
            "left": null
          }
        },
        "1a078d85fa3f4a06ad7905e5e837f383": {
          "model_module": "@jupyter-widgets/controls",
          "model_name": "FloatProgressModel",
          "state": {
            "_view_name": "ProgressView",
            "style": "IPY_MODEL_a80e00bd73f948a299b1da54c8dd3892",
            "_dom_classes": [],
            "description": "Downloading: ",
            "_model_name": "FloatProgressModel",
            "bar_style": "success",
            "max": 306554,
            "_view_module": "@jupyter-widgets/controls",
            "_model_module_version": "1.5.0",
            "value": 306554,
            "_view_count": null,
            "_view_module_version": "1.5.0",
            "orientation": "horizontal",
            "min": 0,
            "description_tooltip": null,
            "_model_module": "@jupyter-widgets/controls",
            "layout": "IPY_MODEL_587b85e301d74d2d81667599c2a40b62"
          }
        },
        "82b8e09706c44ae4923c772f7710247d": {
          "model_module": "@jupyter-widgets/controls",
          "model_name": "HTMLModel",
          "state": {
            "_view_name": "HTMLView",
            "style": "IPY_MODEL_9b878ddaaafa4a83875a934b656928dc",
            "_dom_classes": [],
            "description": "",
            "_model_name": "HTMLModel",
            "placeholder": "​",
            "_view_module": "@jupyter-widgets/controls",
            "_model_module_version": "1.5.0",
            "value": " 1.42M/? [00:00&lt;00:00, 1.53MB/s]",
            "_view_count": null,
            "_view_module_version": "1.5.0",
            "description_tooltip": null,
            "_model_module": "@jupyter-widgets/controls",
            "layout": "IPY_MODEL_acee88c60a564096ab91e0375db577ca"
          }
        },
        "a80e00bd73f948a299b1da54c8dd3892": {
          "model_module": "@jupyter-widgets/controls",
          "model_name": "ProgressStyleModel",
          "state": {
            "_view_name": "StyleView",
            "_model_name": "ProgressStyleModel",
            "description_width": "initial",
            "_view_module": "@jupyter-widgets/base",
            "_model_module_version": "1.5.0",
            "_view_count": null,
            "_view_module_version": "1.2.0",
            "bar_color": null,
            "_model_module": "@jupyter-widgets/controls"
          }
        },
        "587b85e301d74d2d81667599c2a40b62": {
          "model_module": "@jupyter-widgets/base",
          "model_name": "LayoutModel",
          "state": {
            "_view_name": "LayoutView",
            "grid_template_rows": null,
            "right": null,
            "justify_content": null,
            "_view_module": "@jupyter-widgets/base",
            "overflow": null,
            "_model_module_version": "1.2.0",
            "_view_count": null,
            "flex_flow": null,
            "width": null,
            "min_width": null,
            "border": null,
            "align_items": null,
            "bottom": null,
            "_model_module": "@jupyter-widgets/base",
            "top": null,
            "grid_column": null,
            "overflow_y": null,
            "overflow_x": null,
            "grid_auto_flow": null,
            "grid_area": null,
            "grid_template_columns": null,
            "flex": null,
            "_model_name": "LayoutModel",
            "justify_items": null,
            "grid_row": null,
            "max_height": null,
            "align_content": null,
            "visibility": null,
            "align_self": null,
            "height": null,
            "min_height": null,
            "padding": null,
            "grid_auto_rows": null,
            "grid_gap": null,
            "max_width": null,
            "order": null,
            "_view_module_version": "1.2.0",
            "grid_template_areas": null,
            "object_position": null,
            "object_fit": null,
            "grid_auto_columns": null,
            "margin": null,
            "display": null,
            "left": null
          }
        },
        "9b878ddaaafa4a83875a934b656928dc": {
          "model_module": "@jupyter-widgets/controls",
          "model_name": "DescriptionStyleModel",
          "state": {
            "_view_name": "StyleView",
            "_model_name": "DescriptionStyleModel",
            "description_width": "",
            "_view_module": "@jupyter-widgets/base",
            "_model_module_version": "1.5.0",
            "_view_count": null,
            "_view_module_version": "1.2.0",
            "_model_module": "@jupyter-widgets/controls"
          }
        },
        "acee88c60a564096ab91e0375db577ca": {
          "model_module": "@jupyter-widgets/base",
          "model_name": "LayoutModel",
          "state": {
            "_view_name": "LayoutView",
            "grid_template_rows": null,
            "right": null,
            "justify_content": null,
            "_view_module": "@jupyter-widgets/base",
            "overflow": null,
            "_model_module_version": "1.2.0",
            "_view_count": null,
            "flex_flow": null,
            "width": null,
            "min_width": null,
            "border": null,
            "align_items": null,
            "bottom": null,
            "_model_module": "@jupyter-widgets/base",
            "top": null,
            "grid_column": null,
            "overflow_y": null,
            "overflow_x": null,
            "grid_auto_flow": null,
            "grid_area": null,
            "grid_template_columns": null,
            "flex": null,
            "_model_name": "LayoutModel",
            "justify_items": null,
            "grid_row": null,
            "max_height": null,
            "align_content": null,
            "visibility": null,
            "align_self": null,
            "height": null,
            "min_height": null,
            "padding": null,
            "grid_auto_rows": null,
            "grid_gap": null,
            "max_width": null,
            "order": null,
            "_view_module_version": "1.2.0",
            "grid_template_areas": null,
            "object_position": null,
            "object_fit": null,
            "grid_auto_columns": null,
            "margin": null,
            "display": null,
            "left": null
          }
        },
        "3fc3b571ba45428d8891fe50fc88c088": {
          "model_module": "@jupyter-widgets/controls",
          "model_name": "HBoxModel",
          "state": {
            "_view_name": "HBoxView",
            "_dom_classes": [],
            "_model_name": "HBoxModel",
            "_view_module": "@jupyter-widgets/controls",
            "_model_module_version": "1.5.0",
            "_view_count": null,
            "_view_module_version": "1.5.0",
            "box_style": "",
            "layout": "IPY_MODEL_944e04713fb443049d6ca78f351dc5f6",
            "_model_module": "@jupyter-widgets/controls",
            "children": [
              "IPY_MODEL_5bb5d23943c14d6aad475eff81532275",
              "IPY_MODEL_cfbcbbcfe2eb46d78e9d823341383e8d"
            ]
          }
        },
        "944e04713fb443049d6ca78f351dc5f6": {
          "model_module": "@jupyter-widgets/base",
          "model_name": "LayoutModel",
          "state": {
            "_view_name": "LayoutView",
            "grid_template_rows": null,
            "right": null,
            "justify_content": null,
            "_view_module": "@jupyter-widgets/base",
            "overflow": null,
            "_model_module_version": "1.2.0",
            "_view_count": null,
            "flex_flow": null,
            "width": null,
            "min_width": null,
            "border": null,
            "align_items": null,
            "bottom": null,
            "_model_module": "@jupyter-widgets/base",
            "top": null,
            "grid_column": null,
            "overflow_y": null,
            "overflow_x": null,
            "grid_auto_flow": null,
            "grid_area": null,
            "grid_template_columns": null,
            "flex": null,
            "_model_name": "LayoutModel",
            "justify_items": null,
            "grid_row": null,
            "max_height": null,
            "align_content": null,
            "visibility": null,
            "align_self": null,
            "height": null,
            "min_height": null,
            "padding": null,
            "grid_auto_rows": null,
            "grid_gap": null,
            "max_width": null,
            "order": null,
            "_view_module_version": "1.2.0",
            "grid_template_areas": null,
            "object_position": null,
            "object_fit": null,
            "grid_auto_columns": null,
            "margin": null,
            "display": null,
            "left": null
          }
        },
        "5bb5d23943c14d6aad475eff81532275": {
          "model_module": "@jupyter-widgets/controls",
          "model_name": "FloatProgressModel",
          "state": {
            "_view_name": "ProgressView",
            "style": "IPY_MODEL_4098eb91f19c4f33803cafac0477f107",
            "_dom_classes": [],
            "description": "Downloading: ",
            "_model_name": "FloatProgressModel",
            "bar_style": "success",
            "max": 18007,
            "_view_module": "@jupyter-widgets/controls",
            "_model_module_version": "1.5.0",
            "value": 18007,
            "_view_count": null,
            "_view_module_version": "1.5.0",
            "orientation": "horizontal",
            "min": 0,
            "description_tooltip": null,
            "_model_module": "@jupyter-widgets/controls",
            "layout": "IPY_MODEL_be626a93f4fd499ca3c5f0076d5d3dd9"
          }
        },
        "cfbcbbcfe2eb46d78e9d823341383e8d": {
          "model_module": "@jupyter-widgets/controls",
          "model_name": "HTMLModel",
          "state": {
            "_view_name": "HTMLView",
            "style": "IPY_MODEL_2ef1d3004d13462abe8720d8fcd883c5",
            "_dom_classes": [],
            "description": "",
            "_model_name": "HTMLModel",
            "placeholder": "​",
            "_view_module": "@jupyter-widgets/controls",
            "_model_module_version": "1.5.0",
            "value": " 59.7k/? [00:00&lt;00:00, 84.2kB/s]",
            "_view_count": null,
            "_view_module_version": "1.5.0",
            "description_tooltip": null,
            "_model_module": "@jupyter-widgets/controls",
            "layout": "IPY_MODEL_8fd99945be4546008e57d2d332d6ce27"
          }
        },
        "4098eb91f19c4f33803cafac0477f107": {
          "model_module": "@jupyter-widgets/controls",
          "model_name": "ProgressStyleModel",
          "state": {
            "_view_name": "StyleView",
            "_model_name": "ProgressStyleModel",
            "description_width": "initial",
            "_view_module": "@jupyter-widgets/base",
            "_model_module_version": "1.5.0",
            "_view_count": null,
            "_view_module_version": "1.2.0",
            "bar_color": null,
            "_model_module": "@jupyter-widgets/controls"
          }
        },
        "be626a93f4fd499ca3c5f0076d5d3dd9": {
          "model_module": "@jupyter-widgets/base",
          "model_name": "LayoutModel",
          "state": {
            "_view_name": "LayoutView",
            "grid_template_rows": null,
            "right": null,
            "justify_content": null,
            "_view_module": "@jupyter-widgets/base",
            "overflow": null,
            "_model_module_version": "1.2.0",
            "_view_count": null,
            "flex_flow": null,
            "width": null,
            "min_width": null,
            "border": null,
            "align_items": null,
            "bottom": null,
            "_model_module": "@jupyter-widgets/base",
            "top": null,
            "grid_column": null,
            "overflow_y": null,
            "overflow_x": null,
            "grid_auto_flow": null,
            "grid_area": null,
            "grid_template_columns": null,
            "flex": null,
            "_model_name": "LayoutModel",
            "justify_items": null,
            "grid_row": null,
            "max_height": null,
            "align_content": null,
            "visibility": null,
            "align_self": null,
            "height": null,
            "min_height": null,
            "padding": null,
            "grid_auto_rows": null,
            "grid_gap": null,
            "max_width": null,
            "order": null,
            "_view_module_version": "1.2.0",
            "grid_template_areas": null,
            "object_position": null,
            "object_fit": null,
            "grid_auto_columns": null,
            "margin": null,
            "display": null,
            "left": null
          }
        },
        "2ef1d3004d13462abe8720d8fcd883c5": {
          "model_module": "@jupyter-widgets/controls",
          "model_name": "DescriptionStyleModel",
          "state": {
            "_view_name": "StyleView",
            "_model_name": "DescriptionStyleModel",
            "description_width": "",
            "_view_module": "@jupyter-widgets/base",
            "_model_module_version": "1.5.0",
            "_view_count": null,
            "_view_module_version": "1.2.0",
            "_model_module": "@jupyter-widgets/controls"
          }
        },
        "8fd99945be4546008e57d2d332d6ce27": {
          "model_module": "@jupyter-widgets/base",
          "model_name": "LayoutModel",
          "state": {
            "_view_name": "LayoutView",
            "grid_template_rows": null,
            "right": null,
            "justify_content": null,
            "_view_module": "@jupyter-widgets/base",
            "overflow": null,
            "_model_module_version": "1.2.0",
            "_view_count": null,
            "flex_flow": null,
            "width": null,
            "min_width": null,
            "border": null,
            "align_items": null,
            "bottom": null,
            "_model_module": "@jupyter-widgets/base",
            "top": null,
            "grid_column": null,
            "overflow_y": null,
            "overflow_x": null,
            "grid_auto_flow": null,
            "grid_area": null,
            "grid_template_columns": null,
            "flex": null,
            "_model_name": "LayoutModel",
            "justify_items": null,
            "grid_row": null,
            "max_height": null,
            "align_content": null,
            "visibility": null,
            "align_self": null,
            "height": null,
            "min_height": null,
            "padding": null,
            "grid_auto_rows": null,
            "grid_gap": null,
            "max_width": null,
            "order": null,
            "_view_module_version": "1.2.0",
            "grid_template_areas": null,
            "object_position": null,
            "object_fit": null,
            "grid_auto_columns": null,
            "margin": null,
            "display": null,
            "left": null
          }
        },
        "18b85bb18b644e6ca1e54478cf7f9c9b": {
          "model_module": "@jupyter-widgets/controls",
          "model_name": "HBoxModel",
          "state": {
            "_view_name": "HBoxView",
            "_dom_classes": [],
            "_model_name": "HBoxModel",
            "_view_module": "@jupyter-widgets/controls",
            "_model_module_version": "1.5.0",
            "_view_count": null,
            "_view_module_version": "1.5.0",
            "box_style": "",
            "layout": "IPY_MODEL_d21e72bce6d442bea105b5a318054d1e",
            "_model_module": "@jupyter-widgets/controls",
            "children": [
              "IPY_MODEL_6328a9bca839432d8378bbf09cd716b4",
              "IPY_MODEL_1cdc7bc61e2c4bc683fcf1091225f843"
            ]
          }
        },
        "d21e72bce6d442bea105b5a318054d1e": {
          "model_module": "@jupyter-widgets/base",
          "model_name": "LayoutModel",
          "state": {
            "_view_name": "LayoutView",
            "grid_template_rows": null,
            "right": null,
            "justify_content": null,
            "_view_module": "@jupyter-widgets/base",
            "overflow": null,
            "_model_module_version": "1.2.0",
            "_view_count": null,
            "flex_flow": null,
            "width": null,
            "min_width": null,
            "border": null,
            "align_items": null,
            "bottom": null,
            "_model_module": "@jupyter-widgets/base",
            "top": null,
            "grid_column": null,
            "overflow_y": null,
            "overflow_x": null,
            "grid_auto_flow": null,
            "grid_area": null,
            "grid_template_columns": null,
            "flex": null,
            "_model_name": "LayoutModel",
            "justify_items": null,
            "grid_row": null,
            "max_height": null,
            "align_content": null,
            "visibility": null,
            "align_self": null,
            "height": null,
            "min_height": null,
            "padding": null,
            "grid_auto_rows": null,
            "grid_gap": null,
            "max_width": null,
            "order": null,
            "_view_module_version": "1.2.0",
            "grid_template_areas": null,
            "object_position": null,
            "object_fit": null,
            "grid_auto_columns": null,
            "margin": null,
            "display": null,
            "left": null
          }
        },
        "6328a9bca839432d8378bbf09cd716b4": {
          "model_module": "@jupyter-widgets/controls",
          "model_name": "FloatProgressModel",
          "state": {
            "_view_name": "ProgressView",
            "style": "IPY_MODEL_cb10197b59a541169e03904138c8da53",
            "_dom_classes": [],
            "description": "Downloading: ",
            "_model_name": "FloatProgressModel",
            "bar_style": "success",
            "max": 867712,
            "_view_module": "@jupyter-widgets/controls",
            "_model_module_version": "1.5.0",
            "value": 867712,
            "_view_count": null,
            "_view_module_version": "1.5.0",
            "orientation": "horizontal",
            "min": 0,
            "description_tooltip": null,
            "_model_module": "@jupyter-widgets/controls",
            "layout": "IPY_MODEL_4c2f60f519d44077a0b8f77988194f08"
          }
        },
        "1cdc7bc61e2c4bc683fcf1091225f843": {
          "model_module": "@jupyter-widgets/controls",
          "model_name": "HTMLModel",
          "state": {
            "_view_name": "HTMLView",
            "style": "IPY_MODEL_8227b2eee2194671b5e63a148decc382",
            "_dom_classes": [],
            "description": "",
            "_model_name": "HTMLModel",
            "placeholder": "​",
            "_view_module": "@jupyter-widgets/controls",
            "_model_module_version": "1.5.0",
            "value": " 2.31M/? [00:00&lt;00:00, 11.0MB/s]",
            "_view_count": null,
            "_view_module_version": "1.5.0",
            "description_tooltip": null,
            "_model_module": "@jupyter-widgets/controls",
            "layout": "IPY_MODEL_30df91c1127544dea4ebc1ded008cf78"
          }
        },
        "cb10197b59a541169e03904138c8da53": {
          "model_module": "@jupyter-widgets/controls",
          "model_name": "ProgressStyleModel",
          "state": {
            "_view_name": "StyleView",
            "_model_name": "ProgressStyleModel",
            "description_width": "initial",
            "_view_module": "@jupyter-widgets/base",
            "_model_module_version": "1.5.0",
            "_view_count": null,
            "_view_module_version": "1.2.0",
            "bar_color": null,
            "_model_module": "@jupyter-widgets/controls"
          }
        },
        "4c2f60f519d44077a0b8f77988194f08": {
          "model_module": "@jupyter-widgets/base",
          "model_name": "LayoutModel",
          "state": {
            "_view_name": "LayoutView",
            "grid_template_rows": null,
            "right": null,
            "justify_content": null,
            "_view_module": "@jupyter-widgets/base",
            "overflow": null,
            "_model_module_version": "1.2.0",
            "_view_count": null,
            "flex_flow": null,
            "width": null,
            "min_width": null,
            "border": null,
            "align_items": null,
            "bottom": null,
            "_model_module": "@jupyter-widgets/base",
            "top": null,
            "grid_column": null,
            "overflow_y": null,
            "overflow_x": null,
            "grid_auto_flow": null,
            "grid_area": null,
            "grid_template_columns": null,
            "flex": null,
            "_model_name": "LayoutModel",
            "justify_items": null,
            "grid_row": null,
            "max_height": null,
            "align_content": null,
            "visibility": null,
            "align_self": null,
            "height": null,
            "min_height": null,
            "padding": null,
            "grid_auto_rows": null,
            "grid_gap": null,
            "max_width": null,
            "order": null,
            "_view_module_version": "1.2.0",
            "grid_template_areas": null,
            "object_position": null,
            "object_fit": null,
            "grid_auto_columns": null,
            "margin": null,
            "display": null,
            "left": null
          }
        },
        "8227b2eee2194671b5e63a148decc382": {
          "model_module": "@jupyter-widgets/controls",
          "model_name": "DescriptionStyleModel",
          "state": {
            "_view_name": "StyleView",
            "_model_name": "DescriptionStyleModel",
            "description_width": "",
            "_view_module": "@jupyter-widgets/base",
            "_model_module_version": "1.5.0",
            "_view_count": null,
            "_view_module_version": "1.2.0",
            "_model_module": "@jupyter-widgets/controls"
          }
        },
        "30df91c1127544dea4ebc1ded008cf78": {
          "model_module": "@jupyter-widgets/base",
          "model_name": "LayoutModel",
          "state": {
            "_view_name": "LayoutView",
            "grid_template_rows": null,
            "right": null,
            "justify_content": null,
            "_view_module": "@jupyter-widgets/base",
            "overflow": null,
            "_model_module_version": "1.2.0",
            "_view_count": null,
            "flex_flow": null,
            "width": null,
            "min_width": null,
            "border": null,
            "align_items": null,
            "bottom": null,
            "_model_module": "@jupyter-widgets/base",
            "top": null,
            "grid_column": null,
            "overflow_y": null,
            "overflow_x": null,
            "grid_auto_flow": null,
            "grid_area": null,
            "grid_template_columns": null,
            "flex": null,
            "_model_name": "LayoutModel",
            "justify_items": null,
            "grid_row": null,
            "max_height": null,
            "align_content": null,
            "visibility": null,
            "align_self": null,
            "height": null,
            "min_height": null,
            "padding": null,
            "grid_auto_rows": null,
            "grid_gap": null,
            "max_width": null,
            "order": null,
            "_view_module_version": "1.2.0",
            "grid_template_areas": null,
            "object_position": null,
            "object_fit": null,
            "grid_auto_columns": null,
            "margin": null,
            "display": null,
            "left": null
          }
        },
        "c8e67e0588f74bafa757c1db239b4e95": {
          "model_module": "@jupyter-widgets/controls",
          "model_name": "HBoxModel",
          "state": {
            "_view_name": "HBoxView",
            "_dom_classes": [],
            "_model_name": "HBoxModel",
            "_view_module": "@jupyter-widgets/controls",
            "_model_module_version": "1.5.0",
            "_view_count": null,
            "_view_module_version": "1.5.0",
            "box_style": "",
            "layout": "IPY_MODEL_c73b12838dab4894b5752b50568d122a",
            "_model_module": "@jupyter-widgets/controls",
            "children": [
              "IPY_MODEL_57a3c30ffaf04872a63c001c4524d5b8",
              "IPY_MODEL_f36d0856faf445f2a750b6cfcf4fe0e1"
            ]
          }
        },
        "c73b12838dab4894b5752b50568d122a": {
          "model_module": "@jupyter-widgets/base",
          "model_name": "LayoutModel",
          "state": {
            "_view_name": "LayoutView",
            "grid_template_rows": null,
            "right": null,
            "justify_content": null,
            "_view_module": "@jupyter-widgets/base",
            "overflow": null,
            "_model_module_version": "1.2.0",
            "_view_count": null,
            "flex_flow": null,
            "width": null,
            "min_width": null,
            "border": null,
            "align_items": null,
            "bottom": null,
            "_model_module": "@jupyter-widgets/base",
            "top": null,
            "grid_column": null,
            "overflow_y": null,
            "overflow_x": null,
            "grid_auto_flow": null,
            "grid_area": null,
            "grid_template_columns": null,
            "flex": null,
            "_model_name": "LayoutModel",
            "justify_items": null,
            "grid_row": null,
            "max_height": null,
            "align_content": null,
            "visibility": null,
            "align_self": null,
            "height": null,
            "min_height": null,
            "padding": null,
            "grid_auto_rows": null,
            "grid_gap": null,
            "max_width": null,
            "order": null,
            "_view_module_version": "1.2.0",
            "grid_template_areas": null,
            "object_position": null,
            "object_fit": null,
            "grid_auto_columns": null,
            "margin": null,
            "display": null,
            "left": null
          }
        },
        "57a3c30ffaf04872a63c001c4524d5b8": {
          "model_module": "@jupyter-widgets/controls",
          "model_name": "FloatProgressModel",
          "state": {
            "_view_name": "ProgressView",
            "style": "IPY_MODEL_0745965c4cbc45ae9ce4c0085bdfe0bd",
            "_dom_classes": [],
            "description": "",
            "_model_name": "FloatProgressModel",
            "bar_style": "info",
            "max": 1,
            "_view_module": "@jupyter-widgets/controls",
            "_model_module_version": "1.5.0",
            "value": 1,
            "_view_count": null,
            "_view_module_version": "1.5.0",
            "orientation": "horizontal",
            "min": 0,
            "description_tooltip": null,
            "_model_module": "@jupyter-widgets/controls",
            "layout": "IPY_MODEL_d3ba1c610146490f9407bdd0796e9fac"
          }
        },
        "f36d0856faf445f2a750b6cfcf4fe0e1": {
          "model_module": "@jupyter-widgets/controls",
          "model_name": "HTMLModel",
          "state": {
            "_view_name": "HTMLView",
            "style": "IPY_MODEL_dfd4cf56357f4427828f7faeaa8ca55e",
            "_dom_classes": [],
            "description": "",
            "_model_name": "HTMLModel",
            "placeholder": "​",
            "_view_module": "@jupyter-widgets/controls",
            "_model_module_version": "1.5.0",
            "value": " 279/0 [00:04&lt;00:00,  4.11s/ examples]",
            "_view_count": null,
            "_view_module_version": "1.5.0",
            "description_tooltip": null,
            "_model_module": "@jupyter-widgets/controls",
            "layout": "IPY_MODEL_68cb2022f8d44a5384002e990cddcf0f"
          }
        },
        "0745965c4cbc45ae9ce4c0085bdfe0bd": {
          "model_module": "@jupyter-widgets/controls",
          "model_name": "ProgressStyleModel",
          "state": {
            "_view_name": "StyleView",
            "_model_name": "ProgressStyleModel",
            "description_width": "initial",
            "_view_module": "@jupyter-widgets/base",
            "_model_module_version": "1.5.0",
            "_view_count": null,
            "_view_module_version": "1.2.0",
            "bar_color": null,
            "_model_module": "@jupyter-widgets/controls"
          }
        },
        "d3ba1c610146490f9407bdd0796e9fac": {
          "model_module": "@jupyter-widgets/base",
          "model_name": "LayoutModel",
          "state": {
            "_view_name": "LayoutView",
            "grid_template_rows": null,
            "right": null,
            "justify_content": null,
            "_view_module": "@jupyter-widgets/base",
            "overflow": null,
            "_model_module_version": "1.2.0",
            "_view_count": null,
            "flex_flow": null,
            "width": null,
            "min_width": null,
            "border": null,
            "align_items": null,
            "bottom": null,
            "_model_module": "@jupyter-widgets/base",
            "top": null,
            "grid_column": null,
            "overflow_y": null,
            "overflow_x": null,
            "grid_auto_flow": null,
            "grid_area": null,
            "grid_template_columns": null,
            "flex": null,
            "_model_name": "LayoutModel",
            "justify_items": null,
            "grid_row": null,
            "max_height": null,
            "align_content": null,
            "visibility": null,
            "align_self": null,
            "height": null,
            "min_height": null,
            "padding": null,
            "grid_auto_rows": null,
            "grid_gap": null,
            "max_width": null,
            "order": null,
            "_view_module_version": "1.2.0",
            "grid_template_areas": null,
            "object_position": null,
            "object_fit": null,
            "grid_auto_columns": null,
            "margin": null,
            "display": null,
            "left": null
          }
        },
        "dfd4cf56357f4427828f7faeaa8ca55e": {
          "model_module": "@jupyter-widgets/controls",
          "model_name": "DescriptionStyleModel",
          "state": {
            "_view_name": "StyleView",
            "_model_name": "DescriptionStyleModel",
            "description_width": "",
            "_view_module": "@jupyter-widgets/base",
            "_model_module_version": "1.5.0",
            "_view_count": null,
            "_view_module_version": "1.2.0",
            "_model_module": "@jupyter-widgets/controls"
          }
        },
        "68cb2022f8d44a5384002e990cddcf0f": {
          "model_module": "@jupyter-widgets/base",
          "model_name": "LayoutModel",
          "state": {
            "_view_name": "LayoutView",
            "grid_template_rows": null,
            "right": null,
            "justify_content": null,
            "_view_module": "@jupyter-widgets/base",
            "overflow": null,
            "_model_module_version": "1.2.0",
            "_view_count": null,
            "flex_flow": null,
            "width": null,
            "min_width": null,
            "border": null,
            "align_items": null,
            "bottom": null,
            "_model_module": "@jupyter-widgets/base",
            "top": null,
            "grid_column": null,
            "overflow_y": null,
            "overflow_x": null,
            "grid_auto_flow": null,
            "grid_area": null,
            "grid_template_columns": null,
            "flex": null,
            "_model_name": "LayoutModel",
            "justify_items": null,
            "grid_row": null,
            "max_height": null,
            "align_content": null,
            "visibility": null,
            "align_self": null,
            "height": null,
            "min_height": null,
            "padding": null,
            "grid_auto_rows": null,
            "grid_gap": null,
            "max_width": null,
            "order": null,
            "_view_module_version": "1.2.0",
            "grid_template_areas": null,
            "object_position": null,
            "object_fit": null,
            "grid_auto_columns": null,
            "margin": null,
            "display": null,
            "left": null
          }
        }
      }
    }
  },
  "cells": [
    {
      "cell_type": "markdown",
      "source": [
        "RMIT University in Vietnam\n",
        "\n",
        "**Course**: COSC2753 Machine Learning\n",
        "\n",
        "**Semester**: 2021A\n",
        "\n",
        "**Assessment**: Machine Learning Project\n",
        "\n",
        "**Authors**: Le Nguyen Minh Huy - s3777280 + Nguyen Manh Triet - s3678932 \n",
        "\n",
        "**Date created**: 7/5/2021\n",
        "\n",
        "**Last updated**: 24/5/2021\n"
      ],
      "metadata": {}
    },
    {
      "cell_type": "markdown",
      "source": [
        "#Introduction"
      ],
      "metadata": {
        "id": "lfChaxAHmA08"
      }
    },
    {
      "cell_type": "markdown",
      "source": [
        "Adverse Drug Reaction (ADR), as depicted from its definition, is a noxious and unintended response of a drug that occurs at normal prescribed doses used in humans for various medical purposes like diagnosis, therapy of disease and so on. Seminar research undertaken in the late 20th and early 21st century in the USA and the UK indicated that the incidence of ADRs has remained relatively unchanged overtime. For elaboration, such figures suggest that an approximate of 5% and 10% of patients may suffer from an ADR at admission, during admission or at discharge, despite various precautionary efforts. Moreover, this prevalence threat needs to be thoroughly studied due to its correlation with morbidity and mortality, which can be financially costly and pose a potential negative impact on the prescriber-patient relationship.\n",
        "\n",
        "By implementing information extraction technologies, our project aims to classify a particular contextual content and determine whether it is related to Adverse Drug Reaction or not. Specifically, we will construct a deep learning model to perform binary classification. The input for this model will be a chunk of text and the expected outcome should be a binary indicator 0 or 1, in which 1 indicates having adverse drug reaction, while 0 is the opposite. Additionally, the sequences which are classified 1 from the previous model will be hence transferred to the information extraction model, which is a Named Entity Recognition model."
      ],
      "metadata": {
        "id": "He5rKJJ0whPO"
      }
    },
    {
      "cell_type": "markdown",
      "source": [
        "# Text classification model"
      ],
      "metadata": {
        "id": "4ITyoOEY7N3j"
      }
    },
    {
      "cell_type": "markdown",
      "source": [
        "## Library"
      ],
      "metadata": {
        "id": "h_PuiOfeU2qk"
      }
    },
    {
      "cell_type": "code",
      "execution_count": null,
      "source": [
        "!pip install datasets"
      ],
      "outputs": [],
      "metadata": {
        "id": "ZCITvMnM8eIF"
      }
    },
    {
      "cell_type": "code",
      "execution_count": null,
      "source": [
        "!pip install BackTranslation"
      ],
      "outputs": [],
      "metadata": {
        "id": "ROPaWO409eal"
      }
    },
    {
      "cell_type": "code",
      "execution_count": null,
      "source": [
        "# for working with dataset\n",
        "import logging\n",
        "import pandas as pd\n",
        "import numpy as np\n",
        "from numpy import random\n",
        "from datasets import ClassLabel\n",
        "from IPython.display import display, HTML\n",
        "\n",
        "# oversampling data\n",
        "from BackTranslation import BackTranslation\n",
        "\n",
        "# for visualizing data \n",
        "import plotly.express as px\n",
        "import plotly.graph_objects as go\n",
        "import plotly.figure_factory as ff\n",
        "import seaborn as sns\n",
        "import matplotlib.pyplot as plt\n",
        "\n",
        "# for modelling\n",
        "import gensim\n",
        "import nltk\n",
        "from sklearn.model_selection import train_test_split, GridSearchCV\n",
        "from sklearn.metrics import accuracy_score, confusion_matrix, f1_score, plot_roc_curve\n",
        "from sklearn.naive_bayes import MultinomialNB, GaussianNB\n",
        "from sklearn.feature_extraction.text import TfidfVectorizer\n",
        "from sklearn.preprocessing import LabelBinarizer, LabelEncoder\n",
        "from sklearn.metrics import confusion_matrix\n",
        "\n",
        "from tensorflow import keras\n",
        "from keras.models import Model, Sequential\n",
        "from keras.layers import LSTM, Activation, Dense, Dropout, Input, Embedding, Bidirectional, TimeDistributed, Conv1D, MaxPooling1D, Flatten\n",
        "from keras.optimizers import RMSprop\n",
        "from keras.preprocessing.text import Tokenizer\n",
        "from keras.preprocessing import sequence\n",
        "from keras.utils import to_categorical\n",
        "from keras.callbacks import EarlyStopping\n",
        "\n",
        "\n"
      ],
      "outputs": [],
      "metadata": {
        "id": "NQiah2YtU2Do"
      }
    },
    {
      "cell_type": "markdown",
      "source": [
        "## EDA"
      ],
      "metadata": {
        "id": "9Vwnxet3_btf"
      }
    },
    {
      "cell_type": "markdown",
      "source": [
        "The datasets implemented in this model is extracted from the Dataset Card for Adverse Drug Reaction Data v2 via *Hugging Face’s dataset* API. This model uses the ***Ade_corpus_v2_classification*** instance, which is used to classify whether a sentence is ADE-related (True) or not (False), containing 33709 rows and 2 attributes."
      ],
      "metadata": {
        "id": "vv0630hl8gXX"
      }
    },
    {
      "cell_type": "code",
      "execution_count": null,
      "source": [
        "from datasets import load_dataset\n",
        "dataset_cf = load_dataset('ade_corpus_v2', 'Ade_corpus_v2_classification')"
      ],
      "outputs": [],
      "metadata": {
        "id": "ZE76Ud2ikL40"
      }
    },
    {
      "cell_type": "code",
      "execution_count": null,
      "source": [
        "df_cf = pd.DataFrame(dataset_cf['train'])"
      ],
      "outputs": [],
      "metadata": {
        "id": "uxhA_mT1XU0A"
      }
    },
    {
      "cell_type": "code",
      "execution_count": null,
      "source": [
        "display(HTML(df_cf[:10].to_html()))"
      ],
      "outputs": [
        {
          "output_type": "display_data",
          "data": {
            "text/html": [
              "<table border=\"1\" class=\"dataframe\">\n",
              "  <thead>\n",
              "    <tr style=\"text-align: right;\">\n",
              "      <th></th>\n",
              "      <th>label</th>\n",
              "      <th>text</th>\n",
              "    </tr>\n",
              "  </thead>\n",
              "  <tbody>\n",
              "    <tr>\n",
              "      <th>0</th>\n",
              "      <td>1</td>\n",
              "      <td>Intravenous azithromycin-induced ototoxicity.</td>\n",
              "    </tr>\n",
              "    <tr>\n",
              "      <th>1</th>\n",
              "      <td>1</td>\n",
              "      <td>Immobilization, while Paget's bone disease was present, and perhaps enhanced activation of dihydrotachysterol by rifampicin, could have led to increased calcium-release into the circulation.</td>\n",
              "    </tr>\n",
              "    <tr>\n",
              "      <th>2</th>\n",
              "      <td>1</td>\n",
              "      <td>Unaccountable severe hypercalcemia in a patient treated for hypoparathyroidism with dihydrotachysterol.</td>\n",
              "    </tr>\n",
              "    <tr>\n",
              "      <th>3</th>\n",
              "      <td>1</td>\n",
              "      <td>METHODS: We report two cases of pseudoporphyria caused by naproxen and oxaprozin.</td>\n",
              "    </tr>\n",
              "    <tr>\n",
              "      <th>4</th>\n",
              "      <td>1</td>\n",
              "      <td>METHODS: We report two cases of pseudoporphyria caused by naproxen and oxaprozin.</td>\n",
              "    </tr>\n",
              "    <tr>\n",
              "      <th>5</th>\n",
              "      <td>1</td>\n",
              "      <td>Naproxen, the most common offender, has been associated with a dimorphic clinical pattern: a PCT-like presentation and one simulating erythropoietic protoporphyria in the pediatric population.</td>\n",
              "    </tr>\n",
              "    <tr>\n",
              "      <th>6</th>\n",
              "      <td>1</td>\n",
              "      <td>RESULTS: A 44-year-old man taking naproxen for chronic low back pain and a 20-year-old woman on oxaprozin for rheumatoid arthritis presented with tense bullae and cutaneous fragility on the face and the back of the hands.</td>\n",
              "    </tr>\n",
              "    <tr>\n",
              "      <th>7</th>\n",
              "      <td>1</td>\n",
              "      <td>RESULTS: A 44-year-old man taking naproxen for chronic low back pain and a 20-year-old woman on oxaprozin for rheumatoid arthritis presented with tense bullae and cutaneous fragility on the face and the back of the hands.</td>\n",
              "    </tr>\n",
              "    <tr>\n",
              "      <th>8</th>\n",
              "      <td>1</td>\n",
              "      <td>RESULTS: A 44-year-old man taking naproxen for chronic low back pain and a 20-year-old woman on oxaprozin for rheumatoid arthritis presented with tense bullae and cutaneous fragility on the face and the back of the hands.</td>\n",
              "    </tr>\n",
              "    <tr>\n",
              "      <th>9</th>\n",
              "      <td>1</td>\n",
              "      <td>RESULTS: A 44-year-old man taking naproxen for chronic low back pain and a 20-year-old woman on oxaprozin for rheumatoid arthritis presented with tense bullae and cutaneous fragility on the face and the back of the hands.</td>\n",
              "    </tr>\n",
              "  </tbody>\n",
              "</table>"
            ],
            "text/plain": [
              "<IPython.core.display.HTML object>"
            ]
          },
          "metadata": {
            "tags": []
          }
        }
      ],
      "metadata": {
        "colab": {
          "base_uri": "https://localhost:8080/",
          "height": 461
        },
        "id": "5KzhZMvndgrd",
        "outputId": "9d776705-9bda-4d7c-8591-6f28d70cfc7e"
      }
    },
    {
      "cell_type": "code",
      "execution_count": null,
      "source": [
        "df_cf = df_cf.drop_duplicates().reset_index(drop = True)"
      ],
      "outputs": [],
      "metadata": {
        "id": "MK9DG6W1Un88"
      }
    },
    {
      "cell_type": "code",
      "execution_count": null,
      "source": [
        "# visualize the distribution of target column (LengthOfStay)\n",
        "target_df = pd.DataFrame(df_cf['label'].value_counts()).rename(columns = {'label': 'Total value'},\n",
        "                              index = {0: 'Not-Related', \n",
        "                                       1: 'Related'}\n",
        "                              )\n",
        "target_df['Percentage'] = round(target_df['Total value']/len(df_cf) * 100, 2)\n",
        "\n",
        "fig = go.Figure(data = [go.Bar (\n",
        "    x=target_df.index.tolist(),\n",
        "    y = target_df['Percentage'].tolist(),\n",
        "    width=[0.4, 0.4],\n",
        "    marker_color = [\"#f5cb42\", '#de9b8c'])\n",
        "])\n",
        "\n",
        "fig.update_layout(\n",
        "    title_text = \"Percentage of medical context whether adverse drug related or not\", \n",
        "    xaxis_title = 'Class', \n",
        "    yaxis_title = 'Percentage')\n"
      ],
      "outputs": [
        {
          "output_type": "display_data",
          "data": {
            "text/html": [
              "<html>\n",
              "<head><meta charset=\"utf-8\" /></head>\n",
              "<body>\n",
              "    <div>\n",
              "            <script src=\"https://cdnjs.cloudflare.com/ajax/libs/mathjax/2.7.5/MathJax.js?config=TeX-AMS-MML_SVG\"></script><script type=\"text/javascript\">if (window.MathJax) {MathJax.Hub.Config({SVG: {font: \"STIX-Web\"}});}</script>\n",
              "                <script type=\"text/javascript\">window.PlotlyConfig = {MathJaxConfig: 'local'};</script>\n",
              "        <script src=\"https://cdn.plot.ly/plotly-latest.min.js\"></script>    \n",
              "            <div id=\"df92fe62-ddc2-4567-81b3-ab39c9c6a765\" class=\"plotly-graph-div\" style=\"height:525px; width:100%;\"></div>\n",
              "            <script type=\"text/javascript\">\n",
              "                \n",
              "                    window.PLOTLYENV=window.PLOTLYENV || {};\n",
              "                    \n",
              "                if (document.getElementById(\"df92fe62-ddc2-4567-81b3-ab39c9c6a765\")) {\n",
              "                    Plotly.newPlot(\n",
              "                        'df92fe62-ddc2-4567-81b3-ab39c9c6a765',\n",
              "                        [{\"marker\": {\"color\": [\"#f5cb42\", \"#de9b8c\"]}, \"type\": \"bar\", \"width\": [0.4, 0.4], \"x\": [\"Not-Related\", \"Related\"], \"y\": [79.56, 20.44]}],\n",
              "                        {\"template\": {\"data\": {\"bar\": [{\"error_x\": {\"color\": \"#2a3f5f\"}, \"error_y\": {\"color\": \"#2a3f5f\"}, \"marker\": {\"line\": {\"color\": \"#E5ECF6\", \"width\": 0.5}}, \"type\": \"bar\"}], \"barpolar\": [{\"marker\": {\"line\": {\"color\": \"#E5ECF6\", \"width\": 0.5}}, \"type\": \"barpolar\"}], \"carpet\": [{\"aaxis\": {\"endlinecolor\": \"#2a3f5f\", \"gridcolor\": \"white\", \"linecolor\": \"white\", \"minorgridcolor\": \"white\", \"startlinecolor\": \"#2a3f5f\"}, \"baxis\": {\"endlinecolor\": \"#2a3f5f\", \"gridcolor\": \"white\", \"linecolor\": \"white\", \"minorgridcolor\": \"white\", \"startlinecolor\": \"#2a3f5f\"}, \"type\": \"carpet\"}], \"choropleth\": [{\"colorbar\": {\"outlinewidth\": 0, \"ticks\": \"\"}, \"type\": \"choropleth\"}], \"contour\": [{\"colorbar\": {\"outlinewidth\": 0, \"ticks\": \"\"}, \"colorscale\": [[0.0, \"#0d0887\"], [0.1111111111111111, \"#46039f\"], [0.2222222222222222, \"#7201a8\"], [0.3333333333333333, \"#9c179e\"], [0.4444444444444444, \"#bd3786\"], [0.5555555555555556, \"#d8576b\"], [0.6666666666666666, \"#ed7953\"], [0.7777777777777778, \"#fb9f3a\"], [0.8888888888888888, \"#fdca26\"], [1.0, \"#f0f921\"]], \"type\": \"contour\"}], \"contourcarpet\": [{\"colorbar\": {\"outlinewidth\": 0, \"ticks\": \"\"}, \"type\": \"contourcarpet\"}], \"heatmap\": [{\"colorbar\": {\"outlinewidth\": 0, \"ticks\": \"\"}, \"colorscale\": [[0.0, \"#0d0887\"], [0.1111111111111111, \"#46039f\"], [0.2222222222222222, \"#7201a8\"], [0.3333333333333333, \"#9c179e\"], [0.4444444444444444, \"#bd3786\"], [0.5555555555555556, \"#d8576b\"], [0.6666666666666666, \"#ed7953\"], [0.7777777777777778, \"#fb9f3a\"], [0.8888888888888888, \"#fdca26\"], [1.0, \"#f0f921\"]], \"type\": \"heatmap\"}], \"heatmapgl\": [{\"colorbar\": {\"outlinewidth\": 0, \"ticks\": \"\"}, \"colorscale\": [[0.0, \"#0d0887\"], [0.1111111111111111, \"#46039f\"], [0.2222222222222222, \"#7201a8\"], [0.3333333333333333, \"#9c179e\"], [0.4444444444444444, \"#bd3786\"], [0.5555555555555556, \"#d8576b\"], [0.6666666666666666, \"#ed7953\"], [0.7777777777777778, \"#fb9f3a\"], [0.8888888888888888, \"#fdca26\"], [1.0, \"#f0f921\"]], \"type\": \"heatmapgl\"}], \"histogram\": [{\"marker\": {\"colorbar\": {\"outlinewidth\": 0, \"ticks\": \"\"}}, \"type\": \"histogram\"}], \"histogram2d\": [{\"colorbar\": {\"outlinewidth\": 0, \"ticks\": \"\"}, \"colorscale\": [[0.0, \"#0d0887\"], [0.1111111111111111, \"#46039f\"], [0.2222222222222222, \"#7201a8\"], [0.3333333333333333, \"#9c179e\"], [0.4444444444444444, \"#bd3786\"], [0.5555555555555556, \"#d8576b\"], [0.6666666666666666, \"#ed7953\"], [0.7777777777777778, \"#fb9f3a\"], [0.8888888888888888, \"#fdca26\"], [1.0, \"#f0f921\"]], \"type\": \"histogram2d\"}], \"histogram2dcontour\": [{\"colorbar\": {\"outlinewidth\": 0, \"ticks\": \"\"}, \"colorscale\": [[0.0, \"#0d0887\"], [0.1111111111111111, \"#46039f\"], [0.2222222222222222, \"#7201a8\"], [0.3333333333333333, \"#9c179e\"], [0.4444444444444444, \"#bd3786\"], [0.5555555555555556, \"#d8576b\"], [0.6666666666666666, \"#ed7953\"], [0.7777777777777778, \"#fb9f3a\"], [0.8888888888888888, \"#fdca26\"], [1.0, \"#f0f921\"]], \"type\": \"histogram2dcontour\"}], \"mesh3d\": [{\"colorbar\": {\"outlinewidth\": 0, \"ticks\": \"\"}, \"type\": \"mesh3d\"}], \"parcoords\": [{\"line\": {\"colorbar\": {\"outlinewidth\": 0, \"ticks\": \"\"}}, \"type\": \"parcoords\"}], \"pie\": [{\"automargin\": true, \"type\": \"pie\"}], \"scatter\": [{\"marker\": {\"colorbar\": {\"outlinewidth\": 0, \"ticks\": \"\"}}, \"type\": \"scatter\"}], \"scatter3d\": [{\"line\": {\"colorbar\": {\"outlinewidth\": 0, \"ticks\": \"\"}}, \"marker\": {\"colorbar\": {\"outlinewidth\": 0, \"ticks\": \"\"}}, \"type\": \"scatter3d\"}], \"scattercarpet\": [{\"marker\": {\"colorbar\": {\"outlinewidth\": 0, \"ticks\": \"\"}}, \"type\": \"scattercarpet\"}], \"scattergeo\": [{\"marker\": {\"colorbar\": {\"outlinewidth\": 0, \"ticks\": \"\"}}, \"type\": \"scattergeo\"}], \"scattergl\": [{\"marker\": {\"colorbar\": {\"outlinewidth\": 0, \"ticks\": \"\"}}, \"type\": \"scattergl\"}], \"scattermapbox\": [{\"marker\": {\"colorbar\": {\"outlinewidth\": 0, \"ticks\": \"\"}}, \"type\": \"scattermapbox\"}], \"scatterpolar\": [{\"marker\": {\"colorbar\": {\"outlinewidth\": 0, \"ticks\": \"\"}}, \"type\": \"scatterpolar\"}], \"scatterpolargl\": [{\"marker\": {\"colorbar\": {\"outlinewidth\": 0, \"ticks\": \"\"}}, \"type\": \"scatterpolargl\"}], \"scatterternary\": [{\"marker\": {\"colorbar\": {\"outlinewidth\": 0, \"ticks\": \"\"}}, \"type\": \"scatterternary\"}], \"surface\": [{\"colorbar\": {\"outlinewidth\": 0, \"ticks\": \"\"}, \"colorscale\": [[0.0, \"#0d0887\"], [0.1111111111111111, \"#46039f\"], [0.2222222222222222, \"#7201a8\"], [0.3333333333333333, \"#9c179e\"], [0.4444444444444444, \"#bd3786\"], [0.5555555555555556, \"#d8576b\"], [0.6666666666666666, \"#ed7953\"], [0.7777777777777778, \"#fb9f3a\"], [0.8888888888888888, \"#fdca26\"], [1.0, \"#f0f921\"]], \"type\": \"surface\"}], \"table\": [{\"cells\": {\"fill\": {\"color\": \"#EBF0F8\"}, \"line\": {\"color\": \"white\"}}, \"header\": {\"fill\": {\"color\": \"#C8D4E3\"}, \"line\": {\"color\": \"white\"}}, \"type\": \"table\"}]}, \"layout\": {\"annotationdefaults\": {\"arrowcolor\": \"#2a3f5f\", \"arrowhead\": 0, \"arrowwidth\": 1}, \"coloraxis\": {\"colorbar\": {\"outlinewidth\": 0, \"ticks\": \"\"}}, \"colorscale\": {\"diverging\": [[0, \"#8e0152\"], [0.1, \"#c51b7d\"], [0.2, \"#de77ae\"], [0.3, \"#f1b6da\"], [0.4, \"#fde0ef\"], [0.5, \"#f7f7f7\"], [0.6, \"#e6f5d0\"], [0.7, \"#b8e186\"], [0.8, \"#7fbc41\"], [0.9, \"#4d9221\"], [1, \"#276419\"]], \"sequential\": [[0.0, \"#0d0887\"], [0.1111111111111111, \"#46039f\"], [0.2222222222222222, \"#7201a8\"], [0.3333333333333333, \"#9c179e\"], [0.4444444444444444, \"#bd3786\"], [0.5555555555555556, \"#d8576b\"], [0.6666666666666666, \"#ed7953\"], [0.7777777777777778, \"#fb9f3a\"], [0.8888888888888888, \"#fdca26\"], [1.0, \"#f0f921\"]], \"sequentialminus\": [[0.0, \"#0d0887\"], [0.1111111111111111, \"#46039f\"], [0.2222222222222222, \"#7201a8\"], [0.3333333333333333, \"#9c179e\"], [0.4444444444444444, \"#bd3786\"], [0.5555555555555556, \"#d8576b\"], [0.6666666666666666, \"#ed7953\"], [0.7777777777777778, \"#fb9f3a\"], [0.8888888888888888, \"#fdca26\"], [1.0, \"#f0f921\"]]}, \"colorway\": [\"#636efa\", \"#EF553B\", \"#00cc96\", \"#ab63fa\", \"#FFA15A\", \"#19d3f3\", \"#FF6692\", \"#B6E880\", \"#FF97FF\", \"#FECB52\"], \"font\": {\"color\": \"#2a3f5f\"}, \"geo\": {\"bgcolor\": \"white\", \"lakecolor\": \"white\", \"landcolor\": \"#E5ECF6\", \"showlakes\": true, \"showland\": true, \"subunitcolor\": \"white\"}, \"hoverlabel\": {\"align\": \"left\"}, \"hovermode\": \"closest\", \"mapbox\": {\"style\": \"light\"}, \"paper_bgcolor\": \"white\", \"plot_bgcolor\": \"#E5ECF6\", \"polar\": {\"angularaxis\": {\"gridcolor\": \"white\", \"linecolor\": \"white\", \"ticks\": \"\"}, \"bgcolor\": \"#E5ECF6\", \"radialaxis\": {\"gridcolor\": \"white\", \"linecolor\": \"white\", \"ticks\": \"\"}}, \"scene\": {\"xaxis\": {\"backgroundcolor\": \"#E5ECF6\", \"gridcolor\": \"white\", \"gridwidth\": 2, \"linecolor\": \"white\", \"showbackground\": true, \"ticks\": \"\", \"zerolinecolor\": \"white\"}, \"yaxis\": {\"backgroundcolor\": \"#E5ECF6\", \"gridcolor\": \"white\", \"gridwidth\": 2, \"linecolor\": \"white\", \"showbackground\": true, \"ticks\": \"\", \"zerolinecolor\": \"white\"}, \"zaxis\": {\"backgroundcolor\": \"#E5ECF6\", \"gridcolor\": \"white\", \"gridwidth\": 2, \"linecolor\": \"white\", \"showbackground\": true, \"ticks\": \"\", \"zerolinecolor\": \"white\"}}, \"shapedefaults\": {\"line\": {\"color\": \"#2a3f5f\"}}, \"ternary\": {\"aaxis\": {\"gridcolor\": \"white\", \"linecolor\": \"white\", \"ticks\": \"\"}, \"baxis\": {\"gridcolor\": \"white\", \"linecolor\": \"white\", \"ticks\": \"\"}, \"bgcolor\": \"#E5ECF6\", \"caxis\": {\"gridcolor\": \"white\", \"linecolor\": \"white\", \"ticks\": \"\"}}, \"title\": {\"x\": 0.05}, \"xaxis\": {\"automargin\": true, \"gridcolor\": \"white\", \"linecolor\": \"white\", \"ticks\": \"\", \"title\": {\"standoff\": 15}, \"zerolinecolor\": \"white\", \"zerolinewidth\": 2}, \"yaxis\": {\"automargin\": true, \"gridcolor\": \"white\", \"linecolor\": \"white\", \"ticks\": \"\", \"title\": {\"standoff\": 15}, \"zerolinecolor\": \"white\", \"zerolinewidth\": 2}}}, \"title\": {\"text\": \"Percentage of medical context whether adverse drug related or not\"}, \"xaxis\": {\"title\": {\"text\": \"Class\"}}, \"yaxis\": {\"title\": {\"text\": \"Percentage\"}}},\n",
              "                        {\"responsive\": true}\n",
              "                    ).then(function(){\n",
              "                            \n",
              "var gd = document.getElementById('df92fe62-ddc2-4567-81b3-ab39c9c6a765');\n",
              "var x = new MutationObserver(function (mutations, observer) {{\n",
              "        var display = window.getComputedStyle(gd).display;\n",
              "        if (!display || display === 'none') {{\n",
              "            console.log([gd, 'removed!']);\n",
              "            Plotly.purge(gd);\n",
              "            observer.disconnect();\n",
              "        }}\n",
              "}});\n",
              "\n",
              "// Listen for the removal of the full notebook cells\n",
              "var notebookContainer = gd.closest('#notebook-container');\n",
              "if (notebookContainer) {{\n",
              "    x.observe(notebookContainer, {childList: true});\n",
              "}}\n",
              "\n",
              "// Listen for the clearing of the current output cell\n",
              "var outputEl = gd.closest('.output');\n",
              "if (outputEl) {{\n",
              "    x.observe(outputEl, {childList: true});\n",
              "}}\n",
              "\n",
              "                        })\n",
              "                };\n",
              "                \n",
              "            </script>\n",
              "        </div>\n",
              "</body>\n",
              "</html>"
            ]
          },
          "metadata": {
            "tags": []
          }
        }
      ],
      "metadata": {
        "colab": {
          "base_uri": "https://localhost:8080/",
          "height": 542
        },
        "id": "bx3APoSBnWRB",
        "outputId": "ed05a424-ee01-4c2c-f27f-01320f9cd567"
      }
    },
    {
      "cell_type": "markdown",
      "source": [
        "Training a model in an imbalanced dataset leads to a significant bias towards larger classes. Moreover, the class with fewer data points will be treated as noise and ignored during the training process. There are two main ways to balancing the datasets: oversampling and undersampling. \n",
        "\n",
        "As we lose much information using the undersampling method, the team implemented oversampling technique which helps them to have more data of the minority class. In NLP, the **back-translation** technique allows us to paraphrase each instance in the dataset. Specifically, we did translate the original corpus from English to three common languages that are* French*, *Japanese*, and *Spanish*, and then back translating them to English. To implement the technique, we have used the `BackTranslation` python package which utilizes the googletrans library and Baidu Translation API."
      ],
      "metadata": {
        "id": "GAYuYxB7nmvz"
      }
    },
    {
      "cell_type": "markdown",
      "source": [
        "## Handle imbalanced data"
      ],
      "metadata": {
        "id": "4pCSPhDtnfdf"
      }
    },
    {
      "cell_type": "markdown",
      "source": [
        "Dealing with an **imbalanced dataset** is one of the most crucial phases to have a model with good performance. There are lots of strategies to handle the problem which could be improving the classification algorithms or balancing the dataset. Regarding balancing the training dataset, as we will lose much information if undersampling, the team decided to implement oversampling technique which helps us to have more data of the minority class.\n",
        "\n",
        "In Natural Language Processing (NLP), the **back-translation** technique allows us to paraphrase each instance in the dataset. Specifically, we will translate the original corpus from English to different common languages that are *French*, *Japanese*, and *Spanish*, and then back translating them  to English [ref]. To implement the technique, \bwe have used the BackTranslation python package which utilizes the `googletrans` library and `Baidu Translation` API."
      ],
      "metadata": {
        "id": "QTLjzS_JXoXz"
      }
    },
    {
      "cell_type": "code",
      "execution_count": null,
      "source": [
        "trans = BackTranslation(url=[\n",
        "      'translate.google.com',\n",
        "      'translate.google.co.kr',\n",
        "    ])\n",
        "\n",
        "language_code =  ['fr','es', 'ja']"
      ],
      "outputs": [],
      "metadata": {
        "id": "lowRjMYondX7"
      }
    },
    {
      "cell_type": "code",
      "execution_count": null,
      "source": [
        "text_bt = []\n",
        "for language in language_code:\n",
        "  for i in range (0, len(df_cf[df_cf['label'] == 1])):\n",
        "    trans = BackTranslation(url=[\n",
        "        'translate.google.com',\n",
        "        'translate.google.co.kr',\n",
        "      ])\n",
        "    text_translate = trans.translate(df_cf['text'][i],\n",
        "                                src ='en',\n",
        "                                tmp = language)\n",
        "                    \n",
        "    result = text_translate.result_text\n",
        "    text_bt.append(result)"
      ],
      "outputs": [],
      "metadata": {
        "id": "Nlfjpgx9V-8U"
      }
    },
    {
      "cell_type": "code",
      "execution_count": null,
      "source": [
        "labels = []\n",
        "for _ in range (0,3):\n",
        "  for i in range(0, len(df_cf[df_cf['label'] ==1])):\n",
        "    labels.append(1)"
      ],
      "outputs": [],
      "metadata": {
        "id": "x0FewqlUk-5T"
      }
    },
    {
      "cell_type": "code",
      "execution_count": null,
      "source": [
        "df_cf_bt = pd.DataFrame(data = {'label': labels, 'text': text_bt})"
      ],
      "outputs": [],
      "metadata": {
        "id": "n31luhTIkHAQ"
      }
    },
    {
      "cell_type": "code",
      "execution_count": null,
      "source": [
        "df_cf = df_cf.append(df_cf_bt, ignore_index=True)"
      ],
      "outputs": [],
      "metadata": {
        "id": "DpLvV-GWlO-5"
      }
    },
    {
      "cell_type": "code",
      "execution_count": null,
      "source": [
        "df_cf"
      ],
      "outputs": [
        {
          "output_type": "execute_result",
          "data": {
            "text/html": [
              "<div>\n",
              "<style scoped>\n",
              "    .dataframe tbody tr th:only-of-type {\n",
              "        vertical-align: middle;\n",
              "    }\n",
              "\n",
              "    .dataframe tbody tr th {\n",
              "        vertical-align: top;\n",
              "    }\n",
              "\n",
              "    .dataframe thead th {\n",
              "        text-align: right;\n",
              "    }\n",
              "</style>\n",
              "<table border=\"1\" class=\"dataframe\">\n",
              "  <thead>\n",
              "    <tr style=\"text-align: right;\">\n",
              "      <th></th>\n",
              "      <th>label</th>\n",
              "      <th>text</th>\n",
              "    </tr>\n",
              "  </thead>\n",
              "  <tbody>\n",
              "    <tr>\n",
              "      <th>0</th>\n",
              "      <td>1</td>\n",
              "      <td>Intravenous azithromycin-induced ototoxicity.</td>\n",
              "    </tr>\n",
              "    <tr>\n",
              "      <th>1</th>\n",
              "      <td>1</td>\n",
              "      <td>Immobilization, while Paget's bone disease was...</td>\n",
              "    </tr>\n",
              "    <tr>\n",
              "      <th>2</th>\n",
              "      <td>1</td>\n",
              "      <td>Unaccountable severe hypercalcemia in a patien...</td>\n",
              "    </tr>\n",
              "    <tr>\n",
              "      <th>3</th>\n",
              "      <td>1</td>\n",
              "      <td>METHODS: We report two cases of pseudoporphyri...</td>\n",
              "    </tr>\n",
              "    <tr>\n",
              "      <th>4</th>\n",
              "      <td>1</td>\n",
              "      <td>Naproxen, the most common offender, has been a...</td>\n",
              "    </tr>\n",
              "    <tr>\n",
              "      <th>...</th>\n",
              "      <td>...</td>\n",
              "      <td>...</td>\n",
              "    </tr>\n",
              "    <tr>\n",
              "      <th>33704</th>\n",
              "      <td>1</td>\n",
              "      <td>Reversible Non-pleureline declining palatable ...</td>\n",
              "    </tr>\n",
              "    <tr>\n",
              "      <th>33705</th>\n",
              "      <td>1</td>\n",
              "      <td>Lithium treatment ended in 1975 for lithium po...</td>\n",
              "    </tr>\n",
              "    <tr>\n",
              "      <th>33706</th>\n",
              "      <td>1</td>\n",
              "      <td>Eosinophilic caused by clozapine was observed ...</td>\n",
              "    </tr>\n",
              "    <tr>\n",
              "      <th>33707</th>\n",
              "      <td>1</td>\n",
              "      <td>Eyeosinospheric spheres encountered 0.2 to 61....</td>\n",
              "    </tr>\n",
              "    <tr>\n",
              "      <th>33708</th>\n",
              "      <td>1</td>\n",
              "      <td>The challenge with Clozapine in the history of...</td>\n",
              "    </tr>\n",
              "  </tbody>\n",
              "</table>\n",
              "<p>33709 rows × 2 columns</p>\n",
              "</div>"
            ],
            "text/plain": [
              "       label                                               text\n",
              "0          1      Intravenous azithromycin-induced ototoxicity.\n",
              "1          1  Immobilization, while Paget's bone disease was...\n",
              "2          1  Unaccountable severe hypercalcemia in a patien...\n",
              "3          1  METHODS: We report two cases of pseudoporphyri...\n",
              "4          1  Naproxen, the most common offender, has been a...\n",
              "...      ...                                                ...\n",
              "33704      1  Reversible Non-pleureline declining palatable ...\n",
              "33705      1  Lithium treatment ended in 1975 for lithium po...\n",
              "33706      1  Eosinophilic caused by clozapine was observed ...\n",
              "33707      1  Eyeosinospheric spheres encountered 0.2 to 61....\n",
              "33708      1  The challenge with Clozapine in the history of...\n",
              "\n",
              "[33709 rows x 2 columns]"
            ]
          },
          "metadata": {
            "tags": []
          },
          "execution_count": 17
        }
      ],
      "metadata": {
        "colab": {
          "base_uri": "https://localhost:8080/",
          "height": 419
        },
        "id": "5ch46gEIlTmg",
        "outputId": "ec871a30-c672-4a7e-eed7-62b068da4082"
      }
    },
    {
      "cell_type": "code",
      "execution_count": null,
      "source": [
        "my_data = df_cf.to_csv('balanced_data')"
      ],
      "outputs": [],
      "metadata": {
        "id": "hd1Mxu6DpijF"
      }
    },
    {
      "cell_type": "markdown",
      "source": [
        "## Load balanced dataset"
      ],
      "metadata": {
        "id": "isqjJuNWUGFc"
      }
    },
    {
      "cell_type": "code",
      "execution_count": null,
      "source": [
        "from google.colab import drive\n",
        "drive.mount('/content/drive')"
      ],
      "outputs": [
        {
          "output_type": "stream",
          "name": "stdout",
          "text": [
            "Mounted at /content/drive\n"
          ]
        }
      ],
      "metadata": {
        "colab": {
          "base_uri": "https://localhost:8080/"
        },
        "id": "qdGwyBLbAOux",
        "outputId": "bae98caf-359c-47d7-8a9e-3d25d79c90ba"
      }
    },
    {
      "cell_type": "code",
      "execution_count": null,
      "source": [
        "df_cf = pd.read_csv('/content/drive/MyDrive/balanced_data', index_col =0)"
      ],
      "outputs": [],
      "metadata": {
        "id": "j7MkYMP-ARr4"
      }
    },
    {
      "cell_type": "code",
      "execution_count": null,
      "source": [
        "# visualize the distribution of target column (LengthOfStay)\n",
        "target_df = pd.DataFrame(df_cf['label'].value_counts()).rename(columns = {'label': 'Total value'},\n",
        "                              index = {0: 'Not-Related', \n",
        "                                       1: 'Related'}\n",
        "                              )\n",
        "target_df['Percentage'] = round(target_df['Total value']/len(df_cf) * 100, 2)\n",
        "\n",
        "fig = go.Figure(data = [go.Bar (\n",
        "    x=target_df.index.tolist(),\n",
        "    y = target_df['Percentage'].tolist(),\n",
        "    width=[0.4, 0.4],\n",
        "    marker_color = [\"#f5cb42\", '#de9b8c'])\n",
        "])\n",
        "\n",
        "fig.update_layout(\n",
        "    title_text = \"Percentage of medical context whether adverse drug related or not\", \n",
        "    xaxis_title = 'Class', \n",
        "    yaxis_title = 'Percentage')\n"
      ],
      "outputs": [
        {
          "output_type": "display_data",
          "data": {
            "text/html": [
              "<html>\n",
              "<head><meta charset=\"utf-8\" /></head>\n",
              "<body>\n",
              "    <div>\n",
              "            <script src=\"https://cdnjs.cloudflare.com/ajax/libs/mathjax/2.7.5/MathJax.js?config=TeX-AMS-MML_SVG\"></script><script type=\"text/javascript\">if (window.MathJax) {MathJax.Hub.Config({SVG: {font: \"STIX-Web\"}});}</script>\n",
              "                <script type=\"text/javascript\">window.PlotlyConfig = {MathJaxConfig: 'local'};</script>\n",
              "        <script src=\"https://cdn.plot.ly/plotly-latest.min.js\"></script>    \n",
              "            <div id=\"4b30c0c0-b994-43ab-893c-3a16fb8ac1f4\" class=\"plotly-graph-div\" style=\"height:525px; width:100%;\"></div>\n",
              "            <script type=\"text/javascript\">\n",
              "                \n",
              "                    window.PLOTLYENV=window.PLOTLYENV || {};\n",
              "                    \n",
              "                if (document.getElementById(\"4b30c0c0-b994-43ab-893c-3a16fb8ac1f4\")) {\n",
              "                    Plotly.newPlot(\n",
              "                        '4b30c0c0-b994-43ab-893c-3a16fb8ac1f4',\n",
              "                        [{\"marker\": {\"color\": [\"#f5cb42\", \"#de9b8c\"]}, \"type\": \"bar\", \"width\": [0.4, 0.4], \"x\": [\"Related\", \"Not-Related\"], \"y\": [50.68, 49.32]}],\n",
              "                        {\"template\": {\"data\": {\"bar\": [{\"error_x\": {\"color\": \"#2a3f5f\"}, \"error_y\": {\"color\": \"#2a3f5f\"}, \"marker\": {\"line\": {\"color\": \"#E5ECF6\", \"width\": 0.5}}, \"type\": \"bar\"}], \"barpolar\": [{\"marker\": {\"line\": {\"color\": \"#E5ECF6\", \"width\": 0.5}}, \"type\": \"barpolar\"}], \"carpet\": [{\"aaxis\": {\"endlinecolor\": \"#2a3f5f\", \"gridcolor\": \"white\", \"linecolor\": \"white\", \"minorgridcolor\": \"white\", \"startlinecolor\": \"#2a3f5f\"}, \"baxis\": {\"endlinecolor\": \"#2a3f5f\", \"gridcolor\": \"white\", \"linecolor\": \"white\", \"minorgridcolor\": \"white\", \"startlinecolor\": \"#2a3f5f\"}, \"type\": \"carpet\"}], \"choropleth\": [{\"colorbar\": {\"outlinewidth\": 0, \"ticks\": \"\"}, \"type\": \"choropleth\"}], \"contour\": [{\"colorbar\": {\"outlinewidth\": 0, \"ticks\": \"\"}, \"colorscale\": [[0.0, \"#0d0887\"], [0.1111111111111111, \"#46039f\"], [0.2222222222222222, \"#7201a8\"], [0.3333333333333333, \"#9c179e\"], [0.4444444444444444, \"#bd3786\"], [0.5555555555555556, \"#d8576b\"], [0.6666666666666666, \"#ed7953\"], [0.7777777777777778, \"#fb9f3a\"], [0.8888888888888888, \"#fdca26\"], [1.0, \"#f0f921\"]], \"type\": \"contour\"}], \"contourcarpet\": [{\"colorbar\": {\"outlinewidth\": 0, \"ticks\": \"\"}, \"type\": \"contourcarpet\"}], \"heatmap\": [{\"colorbar\": {\"outlinewidth\": 0, \"ticks\": \"\"}, \"colorscale\": [[0.0, \"#0d0887\"], [0.1111111111111111, \"#46039f\"], [0.2222222222222222, \"#7201a8\"], [0.3333333333333333, \"#9c179e\"], [0.4444444444444444, \"#bd3786\"], [0.5555555555555556, \"#d8576b\"], [0.6666666666666666, \"#ed7953\"], [0.7777777777777778, \"#fb9f3a\"], [0.8888888888888888, \"#fdca26\"], [1.0, \"#f0f921\"]], \"type\": \"heatmap\"}], \"heatmapgl\": [{\"colorbar\": {\"outlinewidth\": 0, \"ticks\": \"\"}, \"colorscale\": [[0.0, \"#0d0887\"], [0.1111111111111111, \"#46039f\"], [0.2222222222222222, \"#7201a8\"], [0.3333333333333333, \"#9c179e\"], [0.4444444444444444, \"#bd3786\"], [0.5555555555555556, \"#d8576b\"], [0.6666666666666666, \"#ed7953\"], [0.7777777777777778, \"#fb9f3a\"], [0.8888888888888888, \"#fdca26\"], [1.0, \"#f0f921\"]], \"type\": \"heatmapgl\"}], \"histogram\": [{\"marker\": {\"colorbar\": {\"outlinewidth\": 0, \"ticks\": \"\"}}, \"type\": \"histogram\"}], \"histogram2d\": [{\"colorbar\": {\"outlinewidth\": 0, \"ticks\": \"\"}, \"colorscale\": [[0.0, \"#0d0887\"], [0.1111111111111111, \"#46039f\"], [0.2222222222222222, \"#7201a8\"], [0.3333333333333333, \"#9c179e\"], [0.4444444444444444, \"#bd3786\"], [0.5555555555555556, \"#d8576b\"], [0.6666666666666666, \"#ed7953\"], [0.7777777777777778, \"#fb9f3a\"], [0.8888888888888888, \"#fdca26\"], [1.0, \"#f0f921\"]], \"type\": \"histogram2d\"}], \"histogram2dcontour\": [{\"colorbar\": {\"outlinewidth\": 0, \"ticks\": \"\"}, \"colorscale\": [[0.0, \"#0d0887\"], [0.1111111111111111, \"#46039f\"], [0.2222222222222222, \"#7201a8\"], [0.3333333333333333, \"#9c179e\"], [0.4444444444444444, \"#bd3786\"], [0.5555555555555556, \"#d8576b\"], [0.6666666666666666, \"#ed7953\"], [0.7777777777777778, \"#fb9f3a\"], [0.8888888888888888, \"#fdca26\"], [1.0, \"#f0f921\"]], \"type\": \"histogram2dcontour\"}], \"mesh3d\": [{\"colorbar\": {\"outlinewidth\": 0, \"ticks\": \"\"}, \"type\": \"mesh3d\"}], \"parcoords\": [{\"line\": {\"colorbar\": {\"outlinewidth\": 0, \"ticks\": \"\"}}, \"type\": \"parcoords\"}], \"pie\": [{\"automargin\": true, \"type\": \"pie\"}], \"scatter\": [{\"marker\": {\"colorbar\": {\"outlinewidth\": 0, \"ticks\": \"\"}}, \"type\": \"scatter\"}], \"scatter3d\": [{\"line\": {\"colorbar\": {\"outlinewidth\": 0, \"ticks\": \"\"}}, \"marker\": {\"colorbar\": {\"outlinewidth\": 0, \"ticks\": \"\"}}, \"type\": \"scatter3d\"}], \"scattercarpet\": [{\"marker\": {\"colorbar\": {\"outlinewidth\": 0, \"ticks\": \"\"}}, \"type\": \"scattercarpet\"}], \"scattergeo\": [{\"marker\": {\"colorbar\": {\"outlinewidth\": 0, \"ticks\": \"\"}}, \"type\": \"scattergeo\"}], \"scattergl\": [{\"marker\": {\"colorbar\": {\"outlinewidth\": 0, \"ticks\": \"\"}}, \"type\": \"scattergl\"}], \"scattermapbox\": [{\"marker\": {\"colorbar\": {\"outlinewidth\": 0, \"ticks\": \"\"}}, \"type\": \"scattermapbox\"}], \"scatterpolar\": [{\"marker\": {\"colorbar\": {\"outlinewidth\": 0, \"ticks\": \"\"}}, \"type\": \"scatterpolar\"}], \"scatterpolargl\": [{\"marker\": {\"colorbar\": {\"outlinewidth\": 0, \"ticks\": \"\"}}, \"type\": \"scatterpolargl\"}], \"scatterternary\": [{\"marker\": {\"colorbar\": {\"outlinewidth\": 0, \"ticks\": \"\"}}, \"type\": \"scatterternary\"}], \"surface\": [{\"colorbar\": {\"outlinewidth\": 0, \"ticks\": \"\"}, \"colorscale\": [[0.0, \"#0d0887\"], [0.1111111111111111, \"#46039f\"], [0.2222222222222222, \"#7201a8\"], [0.3333333333333333, \"#9c179e\"], [0.4444444444444444, \"#bd3786\"], [0.5555555555555556, \"#d8576b\"], [0.6666666666666666, \"#ed7953\"], [0.7777777777777778, \"#fb9f3a\"], [0.8888888888888888, \"#fdca26\"], [1.0, \"#f0f921\"]], \"type\": \"surface\"}], \"table\": [{\"cells\": {\"fill\": {\"color\": \"#EBF0F8\"}, \"line\": {\"color\": \"white\"}}, \"header\": {\"fill\": {\"color\": \"#C8D4E3\"}, \"line\": {\"color\": \"white\"}}, \"type\": \"table\"}]}, \"layout\": {\"annotationdefaults\": {\"arrowcolor\": \"#2a3f5f\", \"arrowhead\": 0, \"arrowwidth\": 1}, \"coloraxis\": {\"colorbar\": {\"outlinewidth\": 0, \"ticks\": \"\"}}, \"colorscale\": {\"diverging\": [[0, \"#8e0152\"], [0.1, \"#c51b7d\"], [0.2, \"#de77ae\"], [0.3, \"#f1b6da\"], [0.4, \"#fde0ef\"], [0.5, \"#f7f7f7\"], [0.6, \"#e6f5d0\"], [0.7, \"#b8e186\"], [0.8, \"#7fbc41\"], [0.9, \"#4d9221\"], [1, \"#276419\"]], \"sequential\": [[0.0, \"#0d0887\"], [0.1111111111111111, \"#46039f\"], [0.2222222222222222, \"#7201a8\"], [0.3333333333333333, \"#9c179e\"], [0.4444444444444444, \"#bd3786\"], [0.5555555555555556, \"#d8576b\"], [0.6666666666666666, \"#ed7953\"], [0.7777777777777778, \"#fb9f3a\"], [0.8888888888888888, \"#fdca26\"], [1.0, \"#f0f921\"]], \"sequentialminus\": [[0.0, \"#0d0887\"], [0.1111111111111111, \"#46039f\"], [0.2222222222222222, \"#7201a8\"], [0.3333333333333333, \"#9c179e\"], [0.4444444444444444, \"#bd3786\"], [0.5555555555555556, \"#d8576b\"], [0.6666666666666666, \"#ed7953\"], [0.7777777777777778, \"#fb9f3a\"], [0.8888888888888888, \"#fdca26\"], [1.0, \"#f0f921\"]]}, \"colorway\": [\"#636efa\", \"#EF553B\", \"#00cc96\", \"#ab63fa\", \"#FFA15A\", \"#19d3f3\", \"#FF6692\", \"#B6E880\", \"#FF97FF\", \"#FECB52\"], \"font\": {\"color\": \"#2a3f5f\"}, \"geo\": {\"bgcolor\": \"white\", \"lakecolor\": \"white\", \"landcolor\": \"#E5ECF6\", \"showlakes\": true, \"showland\": true, \"subunitcolor\": \"white\"}, \"hoverlabel\": {\"align\": \"left\"}, \"hovermode\": \"closest\", \"mapbox\": {\"style\": \"light\"}, \"paper_bgcolor\": \"white\", \"plot_bgcolor\": \"#E5ECF6\", \"polar\": {\"angularaxis\": {\"gridcolor\": \"white\", \"linecolor\": \"white\", \"ticks\": \"\"}, \"bgcolor\": \"#E5ECF6\", \"radialaxis\": {\"gridcolor\": \"white\", \"linecolor\": \"white\", \"ticks\": \"\"}}, \"scene\": {\"xaxis\": {\"backgroundcolor\": \"#E5ECF6\", \"gridcolor\": \"white\", \"gridwidth\": 2, \"linecolor\": \"white\", \"showbackground\": true, \"ticks\": \"\", \"zerolinecolor\": \"white\"}, \"yaxis\": {\"backgroundcolor\": \"#E5ECF6\", \"gridcolor\": \"white\", \"gridwidth\": 2, \"linecolor\": \"white\", \"showbackground\": true, \"ticks\": \"\", \"zerolinecolor\": \"white\"}, \"zaxis\": {\"backgroundcolor\": \"#E5ECF6\", \"gridcolor\": \"white\", \"gridwidth\": 2, \"linecolor\": \"white\", \"showbackground\": true, \"ticks\": \"\", \"zerolinecolor\": \"white\"}}, \"shapedefaults\": {\"line\": {\"color\": \"#2a3f5f\"}}, \"ternary\": {\"aaxis\": {\"gridcolor\": \"white\", \"linecolor\": \"white\", \"ticks\": \"\"}, \"baxis\": {\"gridcolor\": \"white\", \"linecolor\": \"white\", \"ticks\": \"\"}, \"bgcolor\": \"#E5ECF6\", \"caxis\": {\"gridcolor\": \"white\", \"linecolor\": \"white\", \"ticks\": \"\"}}, \"title\": {\"x\": 0.05}, \"xaxis\": {\"automargin\": true, \"gridcolor\": \"white\", \"linecolor\": \"white\", \"ticks\": \"\", \"title\": {\"standoff\": 15}, \"zerolinecolor\": \"white\", \"zerolinewidth\": 2}, \"yaxis\": {\"automargin\": true, \"gridcolor\": \"white\", \"linecolor\": \"white\", \"ticks\": \"\", \"title\": {\"standoff\": 15}, \"zerolinecolor\": \"white\", \"zerolinewidth\": 2}}}, \"title\": {\"text\": \"Percentage of medical context whether adverse drug related or not\"}, \"xaxis\": {\"title\": {\"text\": \"Class\"}}, \"yaxis\": {\"title\": {\"text\": \"Percentage\"}}},\n",
              "                        {\"responsive\": true}\n",
              "                    ).then(function(){\n",
              "                            \n",
              "var gd = document.getElementById('4b30c0c0-b994-43ab-893c-3a16fb8ac1f4');\n",
              "var x = new MutationObserver(function (mutations, observer) {{\n",
              "        var display = window.getComputedStyle(gd).display;\n",
              "        if (!display || display === 'none') {{\n",
              "            console.log([gd, 'removed!']);\n",
              "            Plotly.purge(gd);\n",
              "            observer.disconnect();\n",
              "        }}\n",
              "}});\n",
              "\n",
              "// Listen for the removal of the full notebook cells\n",
              "var notebookContainer = gd.closest('#notebook-container');\n",
              "if (notebookContainer) {{\n",
              "    x.observe(notebookContainer, {childList: true});\n",
              "}}\n",
              "\n",
              "// Listen for the clearing of the current output cell\n",
              "var outputEl = gd.closest('.output');\n",
              "if (outputEl) {{\n",
              "    x.observe(outputEl, {childList: true});\n",
              "}}\n",
              "\n",
              "                        })\n",
              "                };\n",
              "                \n",
              "            </script>\n",
              "        </div>\n",
              "</body>\n",
              "</html>"
            ]
          },
          "metadata": {
            "tags": []
          }
        }
      ],
      "metadata": {
        "colab": {
          "base_uri": "https://localhost:8080/",
          "height": 542
        },
        "id": "VZt81-zYlXo8",
        "outputId": "e40bac63-1888-49ac-f3a4-557888ed0cfe"
      }
    },
    {
      "cell_type": "code",
      "execution_count": null,
      "source": [
        "df_cf['length'] = df_cf['text'].str.split().str.len()"
      ],
      "outputs": [],
      "metadata": {
        "id": "N9OF-wpNYohz"
      }
    },
    {
      "cell_type": "code",
      "execution_count": null,
      "source": [
        "df_cf = df_cf.drop_duplicates().reset_index(drop = True)"
      ],
      "outputs": [],
      "metadata": {
        "id": "Q5nzWg5tZgsI"
      }
    },
    {
      "cell_type": "code",
      "execution_count": null,
      "source": [
        "print(\"Median length: \",np.median(df_cf['length']))\n",
        "print(\"Mean length: \",round(np.mean(df_cf['length']),2))\n",
        "print(\"Max length: \", np.max(df_cf['length']))"
      ],
      "outputs": [
        {
          "output_type": "stream",
          "name": "stdout",
          "text": [
            "Median length:  17.0\n",
            "Mean length:  18.17\n",
            "Max length:  135\n"
          ]
        }
      ],
      "metadata": {
        "colab": {
          "base_uri": "https://localhost:8080/"
        },
        "id": "L3OkiV8oUbk2",
        "outputId": "b85c4293-0c10-43be-faf9-de1c1dd44807"
      }
    },
    {
      "cell_type": "markdown",
      "source": [
        "## Machine Learning approach"
      ],
      "metadata": {
        "id": "RfYAZvcQ9_ct"
      }
    },
    {
      "cell_type": "markdown",
      "source": [
        "### Feature extraction "
      ],
      "metadata": {
        "id": "7nRYuKXHcOvW"
      }
    },
    {
      "cell_type": "markdown",
      "source": [
        "As Machine Learning algorithms can only deal with numerical data, text data needs to be converted to numbers. One of the most common ways to perform machine learning on text is representing documents in vectors, whose process is called vectorization [ref ]. Technically, there are lots of effective ways to generate text to numbers, such as label encoding, one-hot encoding, etc. However, the meaning and the relationship between words may be ignored during the training process by using these techniques since the vectors are simply discrete numbers. Thus, to deal with the issue, the team decided to use TFIDFVectorizer which enables us to emphasize the importance of words in specific documents and their relevance in other documents as well."
      ],
      "metadata": {
        "id": "_chGdEOm2_-p"
      }
    },
    {
      "cell_type": "markdown",
      "source": [
        "TFIDF stands for Term Frequency - Inverse Document Frequencies, which not only aims to indicate the importance of the words in the given context but also take into account the relation to other documents from the same corpus. The algorithm is focusing on the number of times that word appears in a document and in other documents in the corpus as well. To be more specific, a word that often appears in a document has more relevance for that document, which interprets there is a higher probability that the document is about that specific word. Moreover, when a word frequently appears in lots of different documents, it would be considered as a less-important word since it is relevant for many documents from the whole set."
      ],
      "metadata": {
        "id": "TIYq_QYxSZzl"
      }
    },
    {
      "cell_type": "code",
      "execution_count": null,
      "source": [
        "vectorizer = TfidfVectorizer()                                                                            "
      ],
      "outputs": [],
      "metadata": {
        "id": "VEHEDrUKa4Cm"
      }
    },
    {
      "cell_type": "code",
      "execution_count": null,
      "source": [
        "# independent and dependent variable\n",
        "X = df_cf['text']\n",
        "y = df_cf['label']\n",
        "\n",
        "# spit dataset into three sets: training set, validation set and test set\n",
        "X_train, X_test, y_train, y_test = train_test_split(X, y, \n",
        "                                                    test_size=0.2, \n",
        "                                                    random_state = 123) \n",
        "\n",
        "X_train, X_val, y_train, y_val = train_test_split(X_train, y_train,\n",
        "                                                  test_size = 0.2,\n",
        "                                                  random_state = 123)"
      ],
      "outputs": [],
      "metadata": {
        "id": "jCeHeBqNUocZ"
      }
    },
    {
      "cell_type": "code",
      "execution_count": null,
      "source": [
        "X_train_tfidf = vectorizer.fit_transform(X_train.values)"
      ],
      "outputs": [],
      "metadata": {
        "id": "boEm_ujniDCp"
      }
    },
    {
      "cell_type": "code",
      "execution_count": null,
      "source": [
        "X_train_tfidf.shape"
      ],
      "outputs": [
        {
          "output_type": "execute_result",
          "data": {
            "text/plain": [
              "(21573, 19602)"
            ]
          },
          "metadata": {
            "tags": []
          },
          "execution_count": 35
        }
      ],
      "metadata": {
        "colab": {
          "base_uri": "https://localhost:8080/"
        },
        "id": "e4AdhIHWVNTo",
        "outputId": "565f414c-73ba-4f6a-9479-0603ef55bcf5"
      }
    },
    {
      "cell_type": "code",
      "execution_count": null,
      "source": [
        "feature_names = vectorizer.get_feature_names() \n",
        " \n",
        "#get tfidf vector for first document \n",
        "first_document_vector=X_train_tfidf[0] \n",
        " \n",
        "#print the scores \n",
        "df = pd.DataFrame(first_document_vector.T.todense(), \n",
        "                  index=feature_names, \n",
        "                  columns=[\"tfidf_score\"]) \n",
        "df.sort_values(by=[\"tfidf_score\"],ascending=False).head(20)"
      ],
      "outputs": [
        {
          "output_type": "execute_result",
          "data": {
            "text/html": [
              "<div>\n",
              "<style scoped>\n",
              "    .dataframe tbody tr th:only-of-type {\n",
              "        vertical-align: middle;\n",
              "    }\n",
              "\n",
              "    .dataframe tbody tr th {\n",
              "        vertical-align: top;\n",
              "    }\n",
              "\n",
              "    .dataframe thead th {\n",
              "        text-align: right;\n",
              "    }\n",
              "</style>\n",
              "<table border=\"1\" class=\"dataframe\">\n",
              "  <thead>\n",
              "    <tr style=\"text-align: right;\">\n",
              "      <th></th>\n",
              "      <th>tfidf_score</th>\n",
              "    </tr>\n",
              "  </thead>\n",
              "  <tbody>\n",
              "    <tr>\n",
              "      <th>pterygium</th>\n",
              "      <td>0.395878</td>\n",
              "    </tr>\n",
              "    <tr>\n",
              "      <th>02</th>\n",
              "      <td>0.347663</td>\n",
              "    </tr>\n",
              "    <tr>\n",
              "      <th>excision</th>\n",
              "      <td>0.333936</td>\n",
              "    </tr>\n",
              "    <tr>\n",
              "      <th>intraoperative</th>\n",
              "      <td>0.295709</td>\n",
              "    </tr>\n",
              "    <tr>\n",
              "      <th>28</th>\n",
              "      <td>0.279632</td>\n",
              "    </tr>\n",
              "    <tr>\n",
              "      <th>application</th>\n",
              "      <td>0.277799</td>\n",
              "    </tr>\n",
              "    <tr>\n",
              "      <th>minutes</th>\n",
              "      <td>0.277799</td>\n",
              "    </tr>\n",
              "    <tr>\n",
              "      <th>mitomycin</th>\n",
              "      <td>0.275203</td>\n",
              "    </tr>\n",
              "    <tr>\n",
              "      <th>underwent</th>\n",
              "      <td>0.246094</td>\n",
              "    </tr>\n",
              "    <tr>\n",
              "      <th>single</th>\n",
              "      <td>0.234924</td>\n",
              "    </tr>\n",
              "    <tr>\n",
              "      <th>man</th>\n",
              "      <td>0.188120</td>\n",
              "    </tr>\n",
              "    <tr>\n",
              "      <th>old</th>\n",
              "      <td>0.145578</td>\n",
              "    </tr>\n",
              "    <tr>\n",
              "      <th>year</th>\n",
              "      <td>0.144330</td>\n",
              "    </tr>\n",
              "    <tr>\n",
              "      <th>for</th>\n",
              "      <td>0.112429</td>\n",
              "    </tr>\n",
              "    <tr>\n",
              "      <th>with</th>\n",
              "      <td>0.077186</td>\n",
              "    </tr>\n",
              "    <tr>\n",
              "      <th>of</th>\n",
              "      <td>0.058452</td>\n",
              "    </tr>\n",
              "    <tr>\n",
              "      <th>oxime</th>\n",
              "      <td>0.000000</td>\n",
              "    </tr>\n",
              "    <tr>\n",
              "      <th>oximetry</th>\n",
              "      <td>0.000000</td>\n",
              "    </tr>\n",
              "    <tr>\n",
              "      <th>oximetasoline</th>\n",
              "      <td>0.000000</td>\n",
              "    </tr>\n",
              "    <tr>\n",
              "      <th>oximes</th>\n",
              "      <td>0.000000</td>\n",
              "    </tr>\n",
              "  </tbody>\n",
              "</table>\n",
              "</div>"
            ],
            "text/plain": [
              "                tfidf_score\n",
              "pterygium          0.395878\n",
              "02                 0.347663\n",
              "excision           0.333936\n",
              "intraoperative     0.295709\n",
              "28                 0.279632\n",
              "application        0.277799\n",
              "minutes            0.277799\n",
              "mitomycin          0.275203\n",
              "underwent          0.246094\n",
              "single             0.234924\n",
              "man                0.188120\n",
              "old                0.145578\n",
              "year               0.144330\n",
              "for                0.112429\n",
              "with               0.077186\n",
              "of                 0.058452\n",
              "oxime              0.000000\n",
              "oximetry           0.000000\n",
              "oximetasoline      0.000000\n",
              "oximes             0.000000"
            ]
          },
          "metadata": {
            "tags": []
          },
          "execution_count": 36
        }
      ],
      "metadata": {
        "colab": {
          "base_uri": "https://localhost:8080/",
          "height": 669
        },
        "id": "iUl2YChwySx8",
        "outputId": "18992751-0ffe-464f-caee-a15b5a85c224"
      }
    },
    {
      "cell_type": "markdown",
      "source": [
        "When applying `fit_transform` to the training set, the vectorizer object has fixed the vocabulary containing in that corpus. Hence, with the validation set, we should only use `transform` function instead of utilizing the `fit_transform` as this would update our vocabulary set."
      ],
      "metadata": {
        "id": "IR6jzbLtiq8W"
      }
    },
    {
      "cell_type": "code",
      "execution_count": null,
      "source": [
        "X_val_tfidf = vectorizer.transform(X_val.values)"
      ],
      "outputs": [],
      "metadata": {
        "id": "nAeQTjslij-j"
      }
    },
    {
      "cell_type": "markdown",
      "source": [
        "### Modeling"
      ],
      "metadata": {
        "id": "pPJY3-8fqZLQ"
      }
    },
    {
      "cell_type": "markdown",
      "source": [
        ". To evaluate the model on the validation set, the team chose the metrics of F1 score, a harmonic means of precision and recall. Since F1 score conveys the balance between precision and recall, it is preferable to use in some classification problem."
      ],
      "metadata": {
        "id": "Z1woRqRD8pqi"
      }
    },
    {
      "cell_type": "markdown",
      "source": [
        "#### 1) MultinomialNB "
      ],
      "metadata": {
        "id": "a7_kB0cDoY7q"
      }
    },
    {
      "cell_type": "markdown",
      "source": [
        "**MultinomialNB** stands for Multinomial Naive Bayes algorithm which is a probabilistic learning method often applied in Natural Language Processing (NLP). Based on the Bayes theorem, the algorithm returns the label of a given text. Specifically, it computes the probability of each label for a particular document and then choose the result of the *highest probability* as output.\n"
      ],
      "metadata": {
        "id": "uKiL4GIYTx1L"
      }
    },
    {
      "cell_type": "code",
      "execution_count": null,
      "source": [
        "clf_1 = MultinomialNB()\n",
        "clf_1.fit(X_train_tfidf, y_train)"
      ],
      "outputs": [
        {
          "output_type": "execute_result",
          "data": {
            "text/plain": [
              "MultinomialNB(alpha=1.0, class_prior=None, fit_prior=True)"
            ]
          },
          "metadata": {
            "tags": []
          },
          "execution_count": 38
        }
      ],
      "metadata": {
        "colab": {
          "base_uri": "https://localhost:8080/"
        },
        "id": "DDfdJFFZh51e",
        "outputId": "8a2b6d2f-cfca-4518-b09e-01deb4b43c9a"
      }
    },
    {
      "cell_type": "code",
      "execution_count": null,
      "source": [
        "y_pred = clf_1.predict(X_val_tfidf)"
      ],
      "outputs": [],
      "metadata": {
        "id": "9oJnZLyHiI32"
      }
    },
    {
      "cell_type": "code",
      "execution_count": null,
      "source": [
        "from sklearn.metrics import classification_report\n",
        "print(classification_report(y_val, y_pred))"
      ],
      "outputs": [
        {
          "output_type": "stream",
          "name": "stdout",
          "text": [
            "              precision    recall  f1-score   support\n",
            "\n",
            "           0       0.87      0.80      0.84      2612\n",
            "           1       0.83      0.89      0.86      2782\n",
            "\n",
            "    accuracy                           0.85      5394\n",
            "   macro avg       0.85      0.85      0.85      5394\n",
            "weighted avg       0.85      0.85      0.85      5394\n",
            "\n"
          ]
        }
      ],
      "metadata": {
        "colab": {
          "base_uri": "https://localhost:8080/"
        },
        "id": "r6vtPKv5oJIp",
        "outputId": "b218abd8-cc47-4b10-d4b3-60b8909962d0"
      }
    },
    {
      "cell_type": "code",
      "execution_count": null,
      "source": [
        "f1 = f1_score(y_val,y_pred)\n",
        "auc_score = roc_auc_score(y_val, y_pred)\n",
        "\n",
        "\n",
        "print(f'F1 score: {round(100*f1,2)}')"
      ],
      "outputs": [
        {
          "output_type": "stream",
          "name": "stdout",
          "text": [
            "F1 score: 85.73\n"
          ]
        }
      ],
      "metadata": {
        "colab": {
          "base_uri": "https://localhost:8080/"
        },
        "id": "o5O7zZorcnVh",
        "outputId": "0752153c-16c4-42ff-b16f-db32754b58c1"
      }
    },
    {
      "cell_type": "code",
      "execution_count": null,
      "source": [
        "# visualize the result \n",
        "plot_roc_curve(clf_1, X_val_tfidf, y_val) \n",
        "plt.plot([0, 1], [0, 1], color='navy', lw= 2, linestyle='--')\n",
        "plt.show()   "
      ],
      "outputs": [
        {
          "output_type": "display_data",
          "data": {
            "image/png": "[encoded data removed]",
            "text/plain": [
              "<Figure size 432x288 with 1 Axes>"
            ]
          },
          "metadata": {
            "tags": []
          }
        }
      ],
      "metadata": {
        "colab": {
          "base_uri": "https://localhost:8080/",
          "height": 279
        },
        "id": "gIGtcNwUj9Un",
        "outputId": "483841d9-8141-4d46-bdc3-a7e51d4e9f2a"
      }
    },
    {
      "cell_type": "markdown",
      "source": [
        "#### 2) LightGBM \n"
      ],
      "metadata": {
        "id": "8MK_cjHYu6d1"
      }
    },
    {
      "cell_type": "markdown",
      "source": [
        "**LightGBM** is a gradient boosting which is currenly mostly use in classification task. Regarding tree based learning algorithm, LightGBM model grows tree vertically instead of horizontally like others, which is called tree leaf-wise. By using this algorithm, we did reduce significant loss than other level-wise algorithm as well as choose a max-delta-loss leaf to grow.\n",
        "\n",
        "Moreover, LightGBM algorithm can work fast with a large amount of data and takes lower memory to execute."
      ],
      "metadata": {
        "id": "FQmrfcXIT1dy"
      }
    },
    {
      "cell_type": "code",
      "execution_count": null,
      "source": [
        "from lightgbm import LGBMClassifier"
      ],
      "outputs": [],
      "metadata": {
        "id": "KlyXwS1Gu9TN"
      }
    },
    {
      "cell_type": "code",
      "execution_count": null,
      "source": [
        "clf_2 = LGBMClassifier()\n",
        "clf_2.fit(X_train_tfidf, y_train)\n"
      ],
      "outputs": [
        {
          "output_type": "execute_result",
          "data": {
            "text/plain": [
              "LGBMClassifier(boosting_type='gbdt', class_weight=None, colsample_bytree=1.0,\n",
              "               importance_type='split', learning_rate=0.1, max_depth=-1,\n",
              "               min_child_samples=20, min_child_weight=0.001, min_split_gain=0.0,\n",
              "               n_estimators=100, n_jobs=-1, num_leaves=31, objective=None,\n",
              "               random_state=None, reg_alpha=0.0, reg_lambda=0.0, silent=True,\n",
              "               subsample=1.0, subsample_for_bin=200000, subsample_freq=0)"
            ]
          },
          "metadata": {
            "tags": []
          },
          "execution_count": 54
        }
      ],
      "metadata": {
        "colab": {
          "base_uri": "https://localhost:8080/"
        },
        "id": "EJTNqWbKakpw",
        "outputId": "67a60c1d-849e-4836-daa8-66772a94429c"
      }
    },
    {
      "cell_type": "code",
      "execution_count": null,
      "source": [
        "y_pred = clf_2.predict(X_val_tfidf)"
      ],
      "outputs": [],
      "metadata": {
        "id": "VFMv7VcUavaf"
      }
    },
    {
      "cell_type": "code",
      "execution_count": null,
      "source": [
        "f1 = f1_score(y_val, y_pred)\n",
        "print(f'F1 score: {round(100*f1,2)}')"
      ],
      "outputs": [
        {
          "output_type": "stream",
          "name": "stdout",
          "text": [
            "F1 score: 82.84\n"
          ]
        }
      ],
      "metadata": {
        "colab": {
          "base_uri": "https://localhost:8080/"
        },
        "id": "K6J1I920baJl",
        "outputId": "b9eea551-c0b4-4f70-a6fb-248fa0c88fd0"
      }
    },
    {
      "cell_type": "code",
      "execution_count": null,
      "source": [
        "# visualize the result \n",
        "plot_roc_curve(clf_2, X_val_tfidf, y_val) \n",
        "plt.plot([0, 1], [0, 1], color='navy', lw= 2, linestyle='--')\n",
        "plt.show()   "
      ],
      "outputs": [
        {
          "output_type": "display_data",
          "data": {
            "image/png": "[encoded data removed]",
            "text/plain": [
              "<Figure size 432x288 with 1 Axes>"
            ]
          },
          "metadata": {
            "tags": []
          }
        }
      ],
      "metadata": {
        "colab": {
          "base_uri": "https://localhost:8080/",
          "height": 279
        },
        "id": "oAoGwTCGx25o",
        "outputId": "edf263ab-3bb7-4f9d-a135-0f26f6c6a61d"
      }
    },
    {
      "cell_type": "markdown",
      "source": [
        "#### 3) Logistic Regression"
      ],
      "metadata": {
        "id": "1Gzqn0eDIfHn"
      }
    },
    {
      "cell_type": "markdown",
      "source": [
        "Logistic regression uses the logistic function as known as the sigmoid function. Logistic regression can not only predict the discrete label but also predict the probabilities of for each class based on given attributes.\n",
        "\n",
        "The sigmoid function is an S-shaped curve that can take any real number and map it into a value between 0 and 1."
      ],
      "metadata": {
        "id": "r48sSpZWT5CS"
      }
    },
    {
      "cell_type": "code",
      "execution_count": null,
      "source": [
        "from sklearn.linear_model import LogisticRegression\n",
        "clf_3 = LogisticRegression()\n",
        "clf_3.fit(X_train_tfidf, y_train)\n",
        "y_pred = clf_3.predict(X_val_tfidf)\n",
        "\n",
        "print(f'F1 score: {f1_score(y_val, y_pred)}')"
      ],
      "outputs": [
        {
          "output_type": "stream",
          "name": "stdout",
          "text": [
            "F1 score: 0.8671804982971858\n"
          ]
        }
      ],
      "metadata": {
        "colab": {
          "base_uri": "https://localhost:8080/"
        },
        "id": "kWxyqAN4InOX",
        "outputId": "388bded9-dc71-4caf-9219-6b205518e13f"
      }
    },
    {
      "cell_type": "code",
      "execution_count": null,
      "source": [
        "# visualize the result \n",
        "plot_roc_curve(clf_3, X_val_tfidf, y_val) \n",
        "plt.plot([0, 1], [0, 1], color='navy', lw= 2, linestyle='--')\n",
        "plt.show()   "
      ],
      "outputs": [
        {
          "output_type": "display_data",
          "data": {
            "image/png": "[encoded data removed]",
            "text/plain": [
              "<Figure size 432x288 with 1 Axes>"
            ]
          },
          "metadata": {
            "tags": []
          }
        }
      ],
      "metadata": {
        "colab": {
          "base_uri": "https://localhost:8080/",
          "height": 279
        },
        "id": "v-xlJeJjx8D5",
        "outputId": "5b4ce009-243e-4cee-ea1c-5d036ff4b2a9"
      }
    },
    {
      "cell_type": "markdown",
      "source": [
        "## Deep Learning approach"
      ],
      "metadata": {
        "id": "IlpTP47EwkWR"
      }
    },
    {
      "cell_type": "markdown",
      "source": [
        "#### Data Preporcessing"
      ],
      "metadata": {
        "id": "peIg4d2N6d5_"
      }
    },
    {
      "cell_type": "markdown",
      "source": [
        "Long Short-Term Memory (LSTM) which belongs to a larger category of neural networks named Recurrent Neural Network (RNN) is widely used for many NLP tasks. As the model is able to handle the long term dependencies through its complicated architecture, LSTM returns a better performance when the context is quite long. Moreover, LSTM reduces the vanishing gradient problem happening with RNN model. Therefore, the team has built a bidirectional LSTM model for `text classification` task.\n",
        "\n"
      ],
      "metadata": {
        "id": "RxyEWeXLtZwb"
      }
    },
    {
      "cell_type": "code",
      "execution_count": null,
      "source": [
        "# split dataset\n",
        "X = df_cf['text']\n",
        "y = df_cf['label']\n",
        "\n",
        "X_train, X_test, y_train, y_test = train_test_split(X, y, test_size=0.2)\n",
        "X_train, X_val, y_train, y_val = train_test_split(X_train, y_train, test_size=0.2)\n"
      ],
      "outputs": [],
      "metadata": {
        "id": "Wr6Sqslb8ksT"
      }
    },
    {
      "cell_type": "markdown",
      "source": [
        "After splitting the dataset into 3 segments, which are: training set, validation set and test set, the data will be converted into numbers by implementing tokenize technique.\n",
        "\n",
        "One of the most popular framework widely used in NLP, Keras, provides the Tokenizer function for data scientist to generate text document to numbers. Then, the output will be fitted to the CNN model.\n"
      ],
      "metadata": {
        "id": "PjD6DA6-90JN"
      }
    },
    {
      "cell_type": "code",
      "execution_count": null,
      "source": [
        "max_words = 5000\n",
        "max_len = max(df_cf['length'])\n",
        "tokenizer = Tokenizer(num_words=max_words)\n",
        "tokenizer.fit_on_texts(X_train)\n",
        "vocab_size = len(tokenizer.word_index) + 1\n",
        "\n",
        "sequences = tokenizer.texts_to_sequences(X_train)\n",
        "\n",
        "sequences_matrix = sequence.pad_sequences(sequences,\n",
        "                                          maxlen=max_len)"
      ],
      "outputs": [],
      "metadata": {
        "id": "9DH3RFiJ7u5S"
      }
    },
    {
      "cell_type": "markdown",
      "source": [
        "### RNN: Long-Short Term Memory"
      ],
      "metadata": {
        "id": "gHZZLJrsPTxP"
      }
    },
    {
      "cell_type": "markdown",
      "source": [
        "We constructed the RNNModel function that allows us to build and add more layers. Inside the function, there is an Embedding layer to embed text to numerical data. The following layer is LSTM with the vectors' size of 64. Then, pass those vectors through the fully connected linear layer Dense with the `relu` activation function. Finally, using sigmoid function to get the probability of the sequences belonging to Adversed Drug Event (class 1).\n"
      ],
      "metadata": {
        "id": "GfrGDMYN-dbe"
      }
    },
    {
      "cell_type": "code",
      "execution_count": null,
      "source": [
        "def train_model(model):\n",
        "  model.compile(loss='binary_crossentropy',\n",
        "              optimizer=keras.optimizers.Adam(learning_rate = 0.001),\n",
        "              metrics=[keras.metrics.Precision(),\n",
        "                        keras.metrics.Recall()]\n",
        "              )\n",
        "  model.fit(sequences_matrix,\n",
        "          y_train,\n",
        "          batch_size=128,\n",
        "          epochs= 5,\n",
        "          validation_split = 0.2,\n",
        "          callbacks=[EarlyStopping(monitor='val_loss',\n",
        "                                   min_delta=0.001\n",
        "                                   )])\n",
        "\n",
        "def eval_model(model):\n",
        "  # process validate data\n",
        "\n",
        "  val_sequences = tokenizer.texts_to_sequences(X_val)\n",
        "  val_sequences_matrix = sequence.pad_sequences(val_sequences,\n",
        "                                                maxlen=max_len)\n",
        "  \n",
        "  result = model.evaluate(val_sequences_matrix,\n",
        "                        y_val)\n",
        "  print('Precision', result[1])\n",
        "  print('Recall', result[2])\n",
        "  print('F1 score', 2*result[1]*result[2]/(result[1] + result[2]))\n"
      ],
      "outputs": [],
      "metadata": {
        "id": "sJutCbey6x76"
      }
    },
    {
      "cell_type": "markdown",
      "source": [
        "#### 1) Baseline "
      ],
      "metadata": {
        "id": "i8U5ffxWmntG"
      }
    },
    {
      "cell_type": "markdown",
      "source": [
        "This model has only one LSTM layer and two activation functions: **ReLU** and **sigmoid**."
      ],
      "metadata": {
        "id": "9jVoSpGa2npP"
      }
    },
    {
      "cell_type": "code",
      "execution_count": null,
      "source": [
        "def LSTMbaseline():\n",
        "  activation_func = 'relu'\n",
        "  inputs = Input(name='inputs',shape=[max_len])\n",
        "  layer = Embedding(input_dim=max_words, \n",
        "                    output_dim=12,\n",
        "                    input_length=max_len)(inputs)\n",
        "  layer = LSTM(128, activation=activation_func)(layer)\n",
        "  layer = Dense(1,name='out_layer')(layer)\n",
        "  layer = Activation('sigmoid')(layer)\n",
        "  model = Model(inputs=inputs,outputs=layer)\n",
        "  return model\n",
        "\n",
        "model = LSTMbaseline()\n",
        "model.summary()\n"
      ],
      "outputs": [
        {
          "output_type": "stream",
          "name": "stdout",
          "text": [
            "Model: \"model_15\"\n",
            "_________________________________________________________________\n",
            "Layer (type)                 Output Shape              Param #   \n",
            "=================================================================\n",
            "inputs (InputLayer)          [(None, 135)]             0         \n",
            "_________________________________________________________________\n",
            "embedding_17 (Embedding)     (None, 135, 12)           60000     \n",
            "_________________________________________________________________\n",
            "lstm_23 (LSTM)               (None, 128)               72192     \n",
            "_________________________________________________________________\n",
            "out_layer (Dense)            (None, 1)                 129       \n",
            "_________________________________________________________________\n",
            "activation_28 (Activation)   (None, 1)                 0         \n",
            "=================================================================\n",
            "Total params: 132,321\n",
            "Trainable params: 132,321\n",
            "Non-trainable params: 0\n",
            "_________________________________________________________________\n"
          ]
        }
      ],
      "metadata": {
        "colab": {
          "base_uri": "https://localhost:8080/"
        },
        "id": "It-K3qqSmnOk",
        "outputId": "c8195d8c-1120-4fca-ca62-44c9e47239ed"
      }
    },
    {
      "cell_type": "code",
      "execution_count": null,
      "source": [
        "history = train_model(model)"
      ],
      "outputs": [],
      "metadata": {
        "id": "GtcW1t11w66Z"
      }
    },
    {
      "cell_type": "code",
      "execution_count": null,
      "source": [
        "eval_result = eval_model(model)"
      ],
      "outputs": [
        {
          "output_type": "stream",
          "name": "stdout",
          "text": [
            "167/167 [==============================] - 6s 39ms/step - loss: 0.6513 - precision_12: 0.6715 - recall_12: 0.9223\n",
            "Precision 0.6714712977409363\n",
            "Recall 0.9223010540008545\n",
            "F1 score 0.7771482357075303\n"
          ]
        }
      ],
      "metadata": {
        "colab": {
          "base_uri": "https://localhost:8080/"
        },
        "id": "AjlflH4m6Ko8",
        "outputId": "a2fbbea3-5723-459c-c3f4-a0f43a865f96"
      }
    },
    {
      "cell_type": "markdown",
      "source": [
        "#### 2) One LSTM layer and dropout layer"
      ],
      "metadata": {
        "id": "08WAHZPXm1B6"
      }
    },
    {
      "cell_type": "markdown",
      "source": [
        "For addressing overfitting issue, a regularization technique - dropout wasapplied to the one-LSTM-layer model. We have chosen the dropout rate of 0.5."
      ],
      "metadata": {
        "id": "X_8cPAkR22Cv"
      }
    },
    {
      "cell_type": "code",
      "execution_count": null,
      "source": [
        "def onelayer_dropout():\n",
        "  activation_func = 'relu'\n",
        "  dropout_rate = 0.5\n",
        "  inputs = Input(name='inputs',shape=[max_len])\n",
        "  layer = Embedding(input_dim=max_words, \n",
        "                    output_dim=12,\n",
        "                    input_length=max_len)(inputs)\n",
        "\n",
        "  layer = LSTM(128, activation=activation_func)(layer)\n",
        "  layer = Dense(1,name='out_layer')(layer)\n",
        "  layer = Dropout(dropout_rate)(layer)\n",
        "  layer = Activation('sigmoid')(layer)\n",
        "  model = Model(inputs=inputs,outputs=layer)\n",
        "  return model\n",
        "\n",
        "model_2 = onelayer_dropout()\n",
        "model_2.summary()\n",
        "\n"
      ],
      "outputs": [
        {
          "output_type": "stream",
          "name": "stdout",
          "text": [
            "Model: \"model_19\"\n",
            "_________________________________________________________________\n",
            "Layer (type)                 Output Shape              Param #   \n",
            "=================================================================\n",
            "inputs (InputLayer)          [(None, 135)]             0         \n",
            "_________________________________________________________________\n",
            "embedding_21 (Embedding)     (None, 135, 12)           60000     \n",
            "_________________________________________________________________\n",
            "lstm_26 (LSTM)               (None, 128)               72192     \n",
            "_________________________________________________________________\n",
            "out_layer (Dense)            (None, 1)                 129       \n",
            "_________________________________________________________________\n",
            "dropout_11 (Dropout)         (None, 1)                 0         \n",
            "_________________________________________________________________\n",
            "activation_32 (Activation)   (None, 1)                 0         \n",
            "=================================================================\n",
            "Total params: 132,321\n",
            "Trainable params: 132,321\n",
            "Non-trainable params: 0\n",
            "_________________________________________________________________\n"
          ]
        }
      ],
      "metadata": {
        "colab": {
          "base_uri": "https://localhost:8080/"
        },
        "id": "qpG8gHISn48Z",
        "outputId": "4b358341-2b25-40c2-f3b2-57043653b2e3"
      }
    },
    {
      "cell_type": "code",
      "execution_count": null,
      "source": [
        "history = train_model(model_2)"
      ],
      "outputs": [
        {
          "output_type": "stream",
          "name": "stdout",
          "text": [
            "Epoch 1/5\n",
            "134/134 [==============================] - 53s 385ms/step - loss: 0.6809 - precision_15: 0.6240 - recall_15: 0.2071 - val_loss: 0.5398 - val_precision_15: 0.8074 - val_recall_15: 0.7212\n",
            "Epoch 2/5\n",
            "134/134 [==============================] - 50s 376ms/step - loss: 0.5561 - precision_15: 0.7999 - recall_15: 0.4200 - val_loss: 0.4707 - val_precision_15: 0.7694 - val_recall_15: 0.9178\n",
            "Epoch 3/5\n",
            "134/134 [==============================] - 51s 378ms/step - loss: 0.5142 - precision_15: 0.8597 - recall_15: 0.4314 - val_loss: 0.4139 - val_precision_15: 0.8292 - val_recall_15: 0.8648\n",
            "Epoch 4/5\n",
            "134/134 [==============================] - 51s 379ms/step - loss: 0.4831 - precision_15: 0.8885 - recall_15: 0.4558 - val_loss: 0.3778 - val_precision_15: 0.8624 - val_recall_15: 0.8294\n",
            "Epoch 5/5\n",
            "134/134 [==============================] - 51s 381ms/step - loss: 0.4673 - precision_15: 0.9052 - recall_15: 0.4634 - val_loss: 0.3947 - val_precision_15: 0.7895 - val_recall_15: 0.9343\n"
          ]
        }
      ],
      "metadata": {
        "id": "tPGeXEBRVbff",
        "colab": {
          "base_uri": "https://localhost:8080/"
        },
        "outputId": "e536d129-33d4-44a7-95d9-2a25c5250303"
      }
    },
    {
      "cell_type": "code",
      "execution_count": null,
      "source": [
        "eval_result = eval_model(model_2)"
      ],
      "outputs": [
        {
          "output_type": "stream",
          "name": "stdout",
          "text": [
            "167/167 [==============================] - 7s 40ms/step - loss: 0.3891 - precision_15: 0.7985 - recall_15: 0.9372\n",
            "Precision 0.798535943031311\n",
            "Recall 0.9372431635856628\n",
            "F1 score 0.8623474618751444\n"
          ]
        }
      ],
      "metadata": {
        "colab": {
          "base_uri": "https://localhost:8080/"
        },
        "id": "45l3xMDt7P0W",
        "outputId": "e4affb22-29dd-4e08-e387-5f1d8d96002e"
      }
    },
    {
      "cell_type": "markdown",
      "source": [
        "\n",
        "Arguments\n",
        "- monitor: Quantity to be monitored. In this case, we use `val_loss` to monitor our quantity. \n",
        "\n",
        "- min_delta: Minimum change in the monitored quantity to qualify as an improvement, i.e. an absolute change of less than min_delta, will count as no improvement.\n",
        "\n"
      ],
      "metadata": {
        "id": "-pAP3u1AWERl"
      }
    },
    {
      "cell_type": "markdown",
      "source": [
        "#### 3) Two LSTM layers with dropout"
      ],
      "metadata": {
        "id": "Ny_RxfmV5XTg"
      }
    },
    {
      "cell_type": "markdown",
      "source": [
        "The related work has proved that RNN model performance can improve thanks to the number of LSTM layers, in other words the depth. Hence, we decided to experiment with two LSTM layers with the same dropout rate which is 0.5."
      ],
      "metadata": {
        "id": "rb78i0cV28fa"
      }
    },
    {
      "cell_type": "code",
      "execution_count": null,
      "source": [
        "def twolayer_dropout():\n",
        "  activation_func = 'relu'\n",
        "  dropout_rate = 0.5\n",
        "  inputs = Input(name='inputs',shape=[max_len])\n",
        "  layer = Embedding(input_dim=max_words, \n",
        "                    output_dim=12,\n",
        "                    input_length=max_len)(inputs)\n",
        "\n",
        "  layer = LSTM(128, activation=activation_func, \n",
        "                 return_sequences=True)(layer)\n",
        "\n",
        "  layer = LSTM(256, activation=activation_func, \n",
        "               return_sequences=False)(layer)\n",
        "\n",
        "  # layer = Dense(256,name='FC1')(layer)\n",
        "  # layer = Activation(activation_func)(layer)\n",
        "  layer = Dense(1,name='out_layer')(layer)\n",
        "  layer = Dropout(dropout_rate)(layer)\n",
        "  layer = Activation('sigmoid')(layer)\n",
        "  model = Model(inputs=inputs,outputs=layer)\n",
        "  return model\n",
        "\n",
        "model_3 = twolayer_dropout()\n",
        "model_3.summary()"
      ],
      "outputs": [
        {
          "output_type": "stream",
          "name": "stdout",
          "text": [
            "Model: \"model_21\"\n",
            "_________________________________________________________________\n",
            "Layer (type)                 Output Shape              Param #   \n",
            "=================================================================\n",
            "inputs (InputLayer)          [(None, 135)]             0         \n",
            "_________________________________________________________________\n",
            "embedding_23 (Embedding)     (None, 135, 12)           60000     \n",
            "_________________________________________________________________\n",
            "lstm_29 (LSTM)               (None, 135, 128)          72192     \n",
            "_________________________________________________________________\n",
            "lstm_30 (LSTM)               (None, 256)               394240    \n",
            "_________________________________________________________________\n",
            "out_layer (Dense)            (None, 1)                 257       \n",
            "_________________________________________________________________\n",
            "dropout_13 (Dropout)         (None, 1)                 0         \n",
            "_________________________________________________________________\n",
            "activation_34 (Activation)   (None, 1)                 0         \n",
            "=================================================================\n",
            "Total params: 526,689\n",
            "Trainable params: 526,689\n",
            "Non-trainable params: 0\n",
            "_________________________________________________________________\n"
          ]
        }
      ],
      "metadata": {
        "colab": {
          "base_uri": "https://localhost:8080/"
        },
        "id": "YzwNzAUP5a7R",
        "outputId": "48691211-5f71-4639-9431-875696523ea4"
      }
    },
    {
      "cell_type": "code",
      "execution_count": null,
      "source": [
        "history = train_model(model_3)"
      ],
      "outputs": [
        {
          "output_type": "stream",
          "name": "stdout",
          "text": [
            "Epoch 1/5\n",
            "134/134 [==============================] - 216s 2s/step - loss: 0.6871 - precision_16: 0.5218 - recall_16: 0.3472 - val_loss: 0.5402 - val_precision_16: 0.7974 - val_recall_16: 0.7514\n",
            "Epoch 2/5\n",
            "134/134 [==============================] - 216s 2s/step - loss: 0.5533 - precision_16: 0.8266 - recall_16: 0.4001 - val_loss: 0.4503 - val_precision_16: 0.8568 - val_recall_16: 0.7717\n",
            "Epoch 3/5\n",
            "134/134 [==============================] - 217s 2s/step - loss: 0.5026 - precision_16: 0.8707 - recall_16: 0.4261 - val_loss: 0.4082 - val_precision_16: 0.8388 - val_recall_16: 0.8511\n",
            "Epoch 4/5\n",
            "134/134 [==============================] - 214s 2s/step - loss: 0.4746 - precision_16: 0.8940 - recall_16: 0.4545 - val_loss: 0.3722 - val_precision_16: 0.8591 - val_recall_16: 0.8388\n",
            "Epoch 5/5\n",
            "134/134 [==============================] - 210s 2s/step - loss: 0.4595 - precision_16: 0.9054 - recall_16: 0.4595 - val_loss: 0.3667 - val_precision_16: 0.8304 - val_recall_16: 0.9074\n"
          ]
        }
      ],
      "metadata": {
        "colab": {
          "base_uri": "https://localhost:8080/"
        },
        "id": "arRej9w85dxH",
        "outputId": "a8be9942-6424-4fdc-df3c-899e6ba23503"
      }
    },
    {
      "cell_type": "code",
      "execution_count": null,
      "source": [
        "eval_result = eval_model(model_3)"
      ],
      "outputs": [
        {
          "output_type": "stream",
          "name": "stdout",
          "text": [
            "167/167 [==============================] - 30s 180ms/step - loss: 0.3642 - precision_16: 0.8308 - recall_16: 0.9044\n",
            "Precision 0.8308167457580566\n",
            "Recall 0.9043705463409424\n",
            "F1 score 0.8660346899630812\n"
          ]
        }
      ],
      "metadata": {
        "colab": {
          "base_uri": "https://localhost:8080/"
        },
        "id": "IIXXDM1i5sfA",
        "outputId": "41a1044d-8d30-4f4d-b4f2-823bcee904de"
      }
    },
    {
      "cell_type": "markdown",
      "source": [
        "#### 4) Three LSTM layers with dropout\n"
      ],
      "metadata": {
        "id": "0o61Hx0crHnO"
      }
    },
    {
      "cell_type": "markdown",
      "source": [
        "Inspired by the high performance of Google Translate tool using seven layers of LSTM, the team stacked their model with another LSTM layer as well as the dropout layer."
      ],
      "metadata": {
        "id": "rP4GqZCF3DhN"
      }
    },
    {
      "cell_type": "code",
      "execution_count": null,
      "source": [
        "def threelayer_dropout():\n",
        "  activation_func = 'relu'\n",
        "  dropout_rate = 0.5\n",
        "  inputs = Input(name='inputs',shape=[max_len])\n",
        "  layer = Embedding(input_dim=max_words, \n",
        "                    output_dim=12,\n",
        "                    input_length=max_len)(inputs)\n",
        "\n",
        "  layer = LSTM(128, activation=activation_func, \n",
        "                 return_sequences=True)(layer)\n",
        "\n",
        "  layer = LSTM(256, activation=activation_func, \n",
        "               return_sequences=True)(layer)\n",
        "\n",
        "  layer = LSTM(256, activation=activation_func, \n",
        "               return_sequences=False)(layer)\n",
        "\n",
        "  layer = Dense(1,name='out_layer')(layer)\n",
        "  layer = Dropout(dropout_rate)(layer)\n",
        "  layer = Activation('sigmoid')(layer)\n",
        "  model = Model(inputs=inputs,outputs=layer)\n",
        "  return model\n",
        "\n",
        "model_4 = threelayer_dropout()\n",
        "model_4.summary()"
      ],
      "outputs": [
        {
          "output_type": "stream",
          "name": "stdout",
          "text": [
            "Model: \"model_1\"\n",
            "_________________________________________________________________\n",
            "Layer (type)                 Output Shape              Param #   \n",
            "=================================================================\n",
            "inputs (InputLayer)          [(None, 135)]             0         \n",
            "_________________________________________________________________\n",
            "embedding_1 (Embedding)      (None, 135, 12)           60000     \n",
            "_________________________________________________________________\n",
            "lstm_3 (LSTM)                (None, 135, 128)          72192     \n",
            "_________________________________________________________________\n",
            "lstm_4 (LSTM)                (None, 135, 256)          394240    \n",
            "_________________________________________________________________\n",
            "lstm_5 (LSTM)                (None, 256)               525312    \n",
            "_________________________________________________________________\n",
            "out_layer (Dense)            (None, 1)                 257       \n",
            "_________________________________________________________________\n",
            "dropout_1 (Dropout)          (None, 1)                 0         \n",
            "_________________________________________________________________\n",
            "activation_1 (Activation)    (None, 1)                 0         \n",
            "=================================================================\n",
            "Total params: 1,052,001\n",
            "Trainable params: 1,052,001\n",
            "Non-trainable params: 0\n",
            "_________________________________________________________________\n"
          ]
        }
      ],
      "metadata": {
        "colab": {
          "base_uri": "https://localhost:8080/"
        },
        "id": "40IDS9EywsUm",
        "outputId": "5b649ab9-b289-40ba-8706-250959cb1dc2"
      }
    },
    {
      "cell_type": "code",
      "execution_count": null,
      "source": [
        "history = train_model(model_4)"
      ],
      "outputs": [
        {
          "output_type": "stream",
          "name": "stdout",
          "text": [
            "Epoch 1/5\n",
            "134/134 [==============================] - 366s 3s/step - loss: 0.6932 - precision_1: 0.4892 - recall_1: 0.1107 - val_loss: 0.6531 - val_precision_1: 0.7004 - val_recall_1: 0.7300\n",
            "Epoch 2/5\n",
            "134/134 [==============================] - 374s 3s/step - loss: 0.6083 - precision_1: 0.7592 - recall_1: 0.3501 - val_loss: 0.4523 - val_precision_1: 0.7961 - val_recall_1: 0.8912\n",
            "Epoch 3/5\n",
            "134/134 [==============================] - 359s 3s/step - loss: 0.5113 - precision_1: 0.8489 - recall_1: 0.4503 - val_loss: 0.3866 - val_precision_1: 0.8633 - val_recall_1: 0.8609\n",
            "Epoch 4/5\n",
            "134/134 [==============================] - 367s 3s/step - loss: 0.4890 - precision_1: 0.8721 - recall_1: 0.4432 - val_loss: 0.3446 - val_precision_1: 0.8503 - val_recall_1: 0.9100\n",
            "Epoch 5/5\n",
            "134/134 [==============================] - 361s 3s/step - loss: 0.4603 - precision_1: 0.9056 - recall_1: 0.4660 - val_loss: 0.3669 - val_precision_1: 0.8307 - val_recall_1: 0.9238\n"
          ]
        }
      ],
      "metadata": {
        "colab": {
          "base_uri": "https://localhost:8080/"
        },
        "id": "ndZzl2aXw385",
        "outputId": "b6c3c15e-1e83-4138-9411-0b9501c3b08e"
      }
    },
    {
      "cell_type": "code",
      "execution_count": null,
      "source": [
        "eval_result = eval_model(model_4)"
      ],
      "outputs": [
        {
          "output_type": "stream",
          "name": "stdout",
          "text": [
            "167/167 [==============================] - 52s 310ms/step - loss: 0.3889 - precision_1: 0.8066 - recall_1: 0.9085\n",
            "Precision 0.806633472442627\n",
            "Recall 0.908479630947113\n",
            "F1 score 0.854532657824075\n"
          ]
        }
      ],
      "metadata": {
        "colab": {
          "base_uri": "https://localhost:8080/"
        },
        "id": "XC31T33Yw-dA",
        "outputId": "5c6202b5-b918-49ed-e519-a17ac2b4377f"
      }
    },
    {
      "cell_type": "markdown",
      "source": [
        "#### 5) BidirectionalLSTM"
      ],
      "metadata": {
        "id": "5BsaU99IrQjL"
      }
    },
    {
      "cell_type": "markdown",
      "source": [
        "We replaced one LSTM layer with one Bidirectional LSTM (BLSTM) layer. Although BLSTM has double memory cells compared to the LSTM layer, the text data is processed in both directions, which helps the model capture the patterns that may be fail recognized in a unidirectional LSTM.\n"
      ],
      "metadata": {
        "id": "T1nAq9Pj3KDJ"
      }
    },
    {
      "cell_type": "code",
      "execution_count": null,
      "source": [
        "def bidirectional_dropout():\n",
        "  activation_func = 'relu'\n",
        "  dropout_rate = 0.5\n",
        "  inputs = Input(name='inputs',shape=[max_len])\n",
        "  layer = Embedding(input_dim=max_words, \n",
        "                    output_dim=12,\n",
        "                    input_length=max_len)(inputs)\n",
        "  layer = Bidirectional(LSTM(128, return_sequences=True))(layer)\n",
        "  layer = LSTM(64, return_sequences=False)(layer)\n",
        "  layer = Dense(1,name='out_layer')(layer)\n",
        "  layer = Dropout(dropout_rate)(layer)\n",
        "  layer = Activation('sigmoid')(layer)\n",
        "  model = Model(inputs=inputs,outputs=layer)\n",
        "  return model\n",
        "\n",
        "model_5 = bidirectional_dropout()\n",
        "model_5.summary()\n"
      ],
      "outputs": [
        {
          "output_type": "stream",
          "name": "stdout",
          "text": [
            "Model: \"model_8\"\n",
            "_________________________________________________________________\n",
            "Layer (type)                 Output Shape              Param #   \n",
            "=================================================================\n",
            "inputs (InputLayer)          [(None, 135)]             0         \n",
            "_________________________________________________________________\n",
            "embedding_12 (Embedding)     (None, 135, 12)           60000     \n",
            "_________________________________________________________________\n",
            "bidirectional_8 (Bidirection (None, 135, 256)          144384    \n",
            "_________________________________________________________________\n",
            "lstm_16 (LSTM)               (None, 64)                82176     \n",
            "_________________________________________________________________\n",
            "out_layer (Dense)            (None, 1)                 65        \n",
            "_________________________________________________________________\n",
            "dropout_9 (Dropout)          (None, 1)                 0         \n",
            "_________________________________________________________________\n",
            "activation_8 (Activation)    (None, 1)                 0         \n",
            "=================================================================\n",
            "Total params: 286,625\n",
            "Trainable params: 286,625\n",
            "Non-trainable params: 0\n",
            "_________________________________________________________________\n"
          ]
        }
      ],
      "metadata": {
        "colab": {
          "base_uri": "https://localhost:8080/"
        },
        "id": "W2EJ76YD9Rzf",
        "outputId": "7b1f4589-dfe2-4ed4-e2b1-e5e70ec09a18"
      }
    },
    {
      "cell_type": "code",
      "execution_count": null,
      "source": [
        "history = train_model(model_5)"
      ],
      "outputs": [
        {
          "output_type": "stream",
          "name": "stdout",
          "text": [
            "Epoch 1/5\n",
            "134/134 [==============================] - 132s 949ms/step - loss: 0.6655 - precision_6: 0.6158 - recall_6: 0.2805 - val_loss: 0.4602 - val_precision_6: 0.8281 - val_recall_6: 0.8448\n",
            "Epoch 2/5\n",
            "134/134 [==============================] - 126s 939ms/step - loss: 0.5277 - precision_6: 0.8481 - recall_6: 0.4270 - val_loss: 0.4424 - val_precision_6: 0.8296 - val_recall_6: 0.8916\n",
            "Epoch 3/5\n",
            "134/134 [==============================] - 127s 947ms/step - loss: 0.4923 - precision_6: 0.8811 - recall_6: 0.4462 - val_loss: 0.3903 - val_precision_6: 0.8694 - val_recall_6: 0.8770\n",
            "Epoch 4/5\n",
            "134/134 [==============================] - 127s 950ms/step - loss: 0.4640 - precision_6: 0.9081 - recall_6: 0.4652 - val_loss: 0.3464 - val_precision_6: 0.8700 - val_recall_6: 0.8820\n",
            "Epoch 5/5\n",
            "134/134 [==============================] - 125s 935ms/step - loss: 0.4449 - precision_6: 0.9199 - recall_6: 0.4659 - val_loss: 0.3286 - val_precision_6: 0.8600 - val_recall_6: 0.8967\n"
          ]
        }
      ],
      "metadata": {
        "colab": {
          "base_uri": "https://localhost:8080/"
        },
        "id": "772K1AGh_m0y",
        "outputId": "89eb3ea7-a086-40b7-aa50-a13db7bab30c"
      }
    },
    {
      "cell_type": "code",
      "execution_count": null,
      "source": [
        "eval_result = eval_model(model_5)"
      ],
      "outputs": [
        {
          "output_type": "stream",
          "name": "stdout",
          "text": [
            "167/167 [==============================] - 12s 72ms/step - loss: 0.3515 - precision_6: 0.8410 - recall_6: 0.8894\n",
            "Precision 0.8410455584526062\n",
            "Recall 0.889428436756134\n",
            "F1 score 0.8645606213862312\n"
          ]
        }
      ],
      "metadata": {
        "colab": {
          "base_uri": "https://localhost:8080/"
        },
        "id": "hWNh68Bf_0Mb",
        "outputId": "8f8c2c9b-6307-4959-c56a-453a5080f963"
      }
    },
    {
      "cell_type": "markdown",
      "source": [
        "### CNN"
      ],
      "metadata": {
        "id": "nUQV-lVpirQt"
      }
    },
    {
      "cell_type": "markdown",
      "source": [
        "CNNs have been applied to several problems in NLP and gotten remarkable results recently. Specifically, such task like sentiment analysis was enhanced in terms of the accuracy and processing time by using CNN model. As a result, we adopt CNN as one of solutions for the depicted task. Various hyperparameters testings were performed to conclude the state-of-the-art structure for text classification task."
      ],
      "metadata": {
        "id": "ERpeuU0E3OhV"
      }
    },
    {
      "cell_type": "markdown",
      "source": [
        "#### 1) CNN with dropout"
      ],
      "metadata": {
        "id": "qyVdHMjCvs5Z"
      }
    },
    {
      "cell_type": "markdown",
      "source": [
        "The model has one convolutional layer followed by a max-pooling layer and a dropout layer having rate of 0.5 to address the overfitting problem."
      ],
      "metadata": {
        "id": "6GK-orQhkUbz"
      }
    },
    {
      "cell_type": "code",
      "execution_count": null,
      "source": [
        "sequences_matrix.shape"
      ],
      "outputs": [
        {
          "output_type": "execute_result",
          "data": {
            "text/plain": [
              "(21312, 135)"
            ]
          },
          "metadata": {
            "tags": []
          },
          "execution_count": 16
        }
      ],
      "metadata": {
        "colab": {
          "base_uri": "https://localhost:8080/"
        },
        "id": "-4A6xp_XsfwQ",
        "outputId": "f7482364-d7e6-4ed7-a122-9506549d1774"
      }
    },
    {
      "cell_type": "code",
      "execution_count": null,
      "source": [
        "def CNN():\n",
        "  # inital model\n",
        "  length = 135\n",
        "  inputs = Input(shape=(length,))\n",
        "  layer = Embedding(vocab_size, 100)(inputs)\n",
        "  layer = Conv1D(filters=32, \n",
        "                 kernel_size=4, \n",
        "                 activation='relu')(layer)\n",
        "  layer = Dropout(0.5)(layer)\n",
        "  layer = MaxPooling1D(pool_size=2)(layer)\n",
        "  layer = Flatten()(layer)\n",
        "  # layer = Dense(10, activation='relu')(layer)\n",
        "  layer = Dense(1, activation='sigmoid')(layer)\n",
        "  model = Model(inputs=inputs, outputs=layer)\n",
        "  model.summary()\n",
        "  return model \n"
      ],
      "outputs": [],
      "metadata": {
        "id": "qB3wLV76jSC4"
      }
    },
    {
      "cell_type": "code",
      "execution_count": null,
      "source": [
        "cnn_1 = CNN()\n",
        "history = train_model(cnn_1)"
      ],
      "outputs": [
        {
          "output_type": "stream",
          "name": "stdout",
          "text": [
            "Model: \"model_1\"\n",
            "_________________________________________________________________\n",
            "Layer (type)                 Output Shape              Param #   \n",
            "=================================================================\n",
            "input_3 (InputLayer)         [(None, 135)]             0         \n",
            "_________________________________________________________________\n",
            "embedding_2 (Embedding)      (None, 135, 100)          1986100   \n",
            "_________________________________________________________________\n",
            "conv1d_1 (Conv1D)            (None, 132, 32)           12832     \n",
            "_________________________________________________________________\n",
            "dropout_1 (Dropout)          (None, 132, 32)           0         \n",
            "_________________________________________________________________\n",
            "max_pooling1d_1 (MaxPooling1 (None, 66, 32)            0         \n",
            "_________________________________________________________________\n",
            "flatten_1 (Flatten)          (None, 2112)              0         \n",
            "_________________________________________________________________\n",
            "dense_1 (Dense)              (None, 1)                 2113      \n",
            "=================================================================\n",
            "Total params: 2,001,045\n",
            "Trainable params: 2,001,045\n",
            "Non-trainable params: 0\n",
            "_________________________________________________________________\n",
            "Epoch 1/5\n",
            "134/134 [==============================] - 13s 90ms/step - loss: 0.6752 - precision: 0.5752 - recall: 0.4262 - val_loss: 0.4405 - val_precision: 0.8487 - val_recall: 0.7735\n",
            "Epoch 2/5\n",
            "134/134 [==============================] - 12s 87ms/step - loss: 0.3435 - precision: 0.8630 - recall: 0.8473 - val_loss: 0.3428 - val_precision: 0.8650 - val_recall: 0.8662\n",
            "Epoch 3/5\n",
            "134/134 [==============================] - 12s 87ms/step - loss: 0.2306 - precision: 0.9120 - recall: 0.9189 - val_loss: 0.3236 - val_precision: 0.8528 - val_recall: 0.9008\n",
            "Epoch 4/5\n",
            "134/134 [==============================] - 12s 88ms/step - loss: 0.1863 - precision: 0.9263 - recall: 0.9352 - val_loss: 0.3147 - val_precision: 0.8769 - val_recall: 0.8672\n",
            "Epoch 5/5\n",
            "134/134 [==============================] - 12s 87ms/step - loss: 0.1421 - precision: 0.9469 - recall: 0.9538 - val_loss: 0.3194 - val_precision: 0.8613 - val_recall: 0.8962\n"
          ]
        }
      ],
      "metadata": {
        "colab": {
          "base_uri": "https://localhost:8080/"
        },
        "id": "181INjsKqEZf",
        "outputId": "79ed2fbf-880a-4a60-b9ef-d1b3564ac096"
      }
    },
    {
      "cell_type": "code",
      "execution_count": null,
      "source": [
        "eval_result = eval_model(cnn_1)"
      ],
      "outputs": [
        {
          "output_type": "stream",
          "name": "stdout",
          "text": [
            "167/167 [==============================] - 1s 5ms/step - loss: 0.3302 - precision: 0.8529 - recall: 0.8952\n",
            "Precision 0.8529307246208191\n",
            "Recall 0.8952274322509766\n",
            "F1 score 0.8735673937609962\n"
          ]
        }
      ],
      "metadata": {
        "colab": {
          "base_uri": "https://localhost:8080/"
        },
        "id": "w6nT-ukutwan",
        "outputId": "9e35095a-d67e-4938-b592-b32f83f63d81"
      }
    },
    {
      "cell_type": "markdown",
      "source": [
        "#### 2) Deep CNN"
      ],
      "metadata": {
        "id": "RCBRH54bvjsb"
      }
    },
    {
      "cell_type": "markdown",
      "source": [
        "This model contains two sets of convolutional layers followed by a max pooling layer. Moreover, after the second max pooling layer, the team has included a dropout function of 0.5 rate to prevent overfitting problem. Then, a Dense layer as known as fully connected layer was appended with the dropout function. The final layer is a single Dense layer with a SoftMax activation function."
      ],
      "metadata": {
        "id": "7y36f-vrkfvK"
      }
    },
    {
      "cell_type": "code",
      "execution_count": null,
      "source": [
        "def deep_CNN():\n",
        "  # inital model\n",
        "  length = 135\n",
        "  inputs = Input(shape=(length,))\n",
        "  layer = Embedding(vocab_size, 100)(inputs)\n",
        "  layer = Conv1D(filters=32, \n",
        "                 kernel_size=4, \n",
        "                 activation='relu')(layer)\n",
        "  layer = MaxPooling1D(pool_size=2)(layer)\n",
        "  \n",
        "  layer = Conv1D(filters=32, \n",
        "                 kernel_size=4, \n",
        "                 activation='relu')(layer)\n",
        "  layer = MaxPooling1D(pool_size=2)(layer)\n",
        "\n",
        "  layer = Dropout(0.5)(layer)\n",
        "\n",
        "  layer = Flatten()(layer)\n",
        "  # layer = Dense(10, activation='relu')(layer)\n",
        "  layer = Dense(1, activation='sigmoid')(layer)\n",
        "  model = Model(inputs=inputs, outputs=layer)\n",
        "  model.summary()\n",
        "  return model "
      ],
      "outputs": [],
      "metadata": {
        "id": "DEL1H-I9vv_d"
      }
    },
    {
      "cell_type": "code",
      "execution_count": null,
      "source": [
        "cnn_2 = deep_CNN()"
      ],
      "outputs": [
        {
          "output_type": "stream",
          "name": "stdout",
          "text": [
            "Model: \"model_16\"\n",
            "_________________________________________________________________\n",
            "Layer (type)                 Output Shape              Param #   \n",
            "=================================================================\n",
            "input_32 (InputLayer)        [(None, 135)]             0         \n",
            "_________________________________________________________________\n",
            "embedding_30 (Embedding)     (None, 135, 100)          1981100   \n",
            "_________________________________________________________________\n",
            "conv1d_18 (Conv1D)           (None, 132, 32)           12832     \n",
            "_________________________________________________________________\n",
            "max_pooling1d_15 (MaxPooling (None, 66, 32)            0         \n",
            "_________________________________________________________________\n",
            "conv1d_19 (Conv1D)           (None, 63, 32)            4128      \n",
            "_________________________________________________________________\n",
            "max_pooling1d_16 (MaxPooling (None, 31, 32)            0         \n",
            "_________________________________________________________________\n",
            "dropout_19 (Dropout)         (None, 31, 32)            0         \n",
            "_________________________________________________________________\n",
            "flatten_9 (Flatten)          (None, 992)               0         \n",
            "_________________________________________________________________\n",
            "dense_27 (Dense)             (None, 1)                 993       \n",
            "=================================================================\n",
            "Total params: 1,999,053\n",
            "Trainable params: 1,999,053\n",
            "Non-trainable params: 0\n",
            "_________________________________________________________________\n"
          ]
        }
      ],
      "metadata": {
        "colab": {
          "base_uri": "https://localhost:8080/"
        },
        "id": "agZQfhI0v5Bn",
        "outputId": "303d3e20-da55-4967-b113-9396f9ec04b2"
      }
    },
    {
      "cell_type": "code",
      "execution_count": null,
      "source": [
        "history = train_model(cnn_2)"
      ],
      "outputs": [
        {
          "output_type": "stream",
          "name": "stdout",
          "text": [
            "Epoch 1/5\n",
            "134/134 [==============================] - 12s 80ms/step - loss: 0.6730 - precision_13: 0.5508 - recall_13: 0.6216 - val_loss: 0.4538 - val_precision_13: 0.8197 - val_recall_13: 0.7678\n",
            "Epoch 2/5\n",
            "134/134 [==============================] - 10s 77ms/step - loss: 0.3944 - precision_13: 0.8359 - recall_13: 0.8198 - val_loss: 0.3860 - val_precision_13: 0.8393 - val_recall_13: 0.8264\n",
            "Epoch 3/5\n",
            "134/134 [==============================] - 10s 77ms/step - loss: 0.2668 - precision_13: 0.9022 - recall_13: 0.8888 - val_loss: 0.3810 - val_precision_13: 0.8462 - val_recall_13: 0.8246\n",
            "Epoch 4/5\n",
            "134/134 [==============================] - 10s 76ms/step - loss: 0.2005 - precision_13: 0.9198 - recall_13: 0.9250 - val_loss: 0.3973 - val_precision_13: 0.8199 - val_recall_13: 0.8730\n"
          ]
        }
      ],
      "metadata": {
        "colab": {
          "base_uri": "https://localhost:8080/"
        },
        "id": "lJEtuPMbv7j6",
        "outputId": "c9e86e35-a69f-4e04-a2a4-c8b2c9a2dedd"
      }
    },
    {
      "cell_type": "code",
      "execution_count": null,
      "source": [
        "eval_result = eval_model(cnn_2)"
      ],
      "outputs": [
        {
          "output_type": "stream",
          "name": "stdout",
          "text": [
            "167/167 [==============================] - 1s 4ms/step - loss: 0.4100 - precision_13: 0.8147 - recall_13: 0.8674\n",
            "Precision 0.8147494792938232\n",
            "Recall 0.8673929572105408\n",
            "F1 score 0.8402474664381183\n"
          ]
        }
      ],
      "metadata": {
        "colab": {
          "base_uri": "https://localhost:8080/"
        },
        "id": "dsL5aQCZv-ze",
        "outputId": "bf42fc10-b2e2-48c0-fa56-fb4f76b49382"
      }
    },
    {
      "cell_type": "markdown",
      "source": [
        "### Save the best model"
      ],
      "metadata": {
        "id": "Z0iSMwHTM0SM"
      }
    },
    {
      "cell_type": "markdown",
      "source": [
        "Regarding Machine Learning approach, Logistic Regression gets the highest score among three Machine Learning model, 0.867 compared to 0.857 and 0.828. This model achieves a remarkable result when compared to five experiments with LSTM Deep Learning model. On the other hand, although CNN is not widely used in NLP tasks, our **CNN with dropout** model has been considered as the best one with F1 score of 0.87. The result suggests a great promise of adapting a `CNN model` in NLP field as well as balancing dataset using `back-translation`."
      ],
      "metadata": {
        "id": "DTZaIHQV5Tpf"
      }
    },
    {
      "cell_type": "code",
      "execution_count": null,
      "source": [
        "model_path = '/content/drive/MyDrive/ML_A2/text-classification-model'"
      ],
      "outputs": [],
      "metadata": {
        "id": "qnrgXSbJNHLv"
      }
    },
    {
      "cell_type": "code",
      "execution_count": null,
      "source": [
        "cnn_1.save(model_path)"
      ],
      "outputs": [
        {
          "output_type": "stream",
          "name": "stdout",
          "text": [
            "INFO:tensorflow:Assets written to: /content/drive/MyDrive/ML_A2/text-classification-model/assets\n"
          ]
        }
      ],
      "metadata": {
        "colab": {
          "base_uri": "https://localhost:8080/"
        },
        "id": "iqaYBsu6M2Ty",
        "outputId": "86884396-e273-4f5e-fc18-5ebf71e7c339"
      }
    },
    {
      "cell_type": "markdown",
      "source": [
        "### Test final model"
      ],
      "metadata": {
        "id": "H0bj6n2S9n2c"
      }
    },
    {
      "cell_type": "code",
      "execution_count": null,
      "source": [
        "# load model\n",
        "my_model = keras.models.load_model(model_path)"
      ],
      "outputs": [],
      "metadata": {
        "id": "n-IKBbgZMioC"
      }
    },
    {
      "cell_type": "code",
      "execution_count": null,
      "source": [
        "def model_predict(input):\n",
        "  test_sequences = tokenizer.texts_to_sequences(input)\n",
        "  test_sequences_matrix = sequence.pad_sequences(test_sequences,\n",
        "                                                  maxlen=max_len)\n",
        "  prediction = my_model.predict(test_sequences_matrix)\n",
        "  threshold = 0.5\n",
        "  prediction = list(map(lambda x: 0 if x<=threshold else 1, prediction))\n",
        "  return prediction"
      ],
      "outputs": [],
      "metadata": {
        "id": "aZyJxz7D9sA6"
      }
    },
    {
      "cell_type": "code",
      "execution_count": null,
      "source": [
        "prediction = model_predict(X_test)"
      ],
      "outputs": [],
      "metadata": {
        "id": "tIFd0xsi-JMy"
      }
    },
    {
      "cell_type": "code",
      "execution_count": null,
      "source": [
        "df_testing = pd.DataFrame({'text': X_test, 'label': prediction}).reset_index(drop = True)"
      ],
      "outputs": [],
      "metadata": {
        "id": "tY5iGv9yP0Pe"
      }
    },
    {
      "cell_type": "code",
      "execution_count": null,
      "source": [
        "df_testing_label_1 = df_testing[df_testing['label'] == 1]"
      ],
      "outputs": [],
      "metadata": {
        "id": "ktXWSClC-Nk3"
      }
    },
    {
      "cell_type": "code",
      "execution_count": null,
      "source": [
        "df_testing_label_1.to_csv('/content/drive/MyDrive/ML_A2/data-testing-ner')"
      ],
      "outputs": [],
      "metadata": {
        "id": "UlIuZt93QeAJ"
      }
    },
    {
      "cell_type": "markdown",
      "source": [
        "# NER model"
      ],
      "metadata": {
        "id": "lnuu4ubN8eae"
      }
    },
    {
      "cell_type": "markdown",
      "source": [
        "## Library"
      ],
      "metadata": {
        "id": "nJcUUbvciZzC"
      }
    },
    {
      "cell_type": "code",
      "execution_count": null,
      "source": [
        "!pip install datasets"
      ],
      "outputs": [
        {
          "output_type": "stream",
          "name": "stdout",
          "text": [
            "Requirement already satisfied: datasets in /usr/local/lib/python3.7/dist-packages (1.6.2)\n",
            "Requirement already satisfied: huggingface-hub<0.1.0 in /usr/local/lib/python3.7/dist-packages (from datasets) (0.0.9)\n",
            "Requirement already satisfied: importlib-metadata; python_version < \"3.8\" in /usr/local/lib/python3.7/dist-packages (from datasets) (4.0.1)\n",
            "Requirement already satisfied: pandas in /usr/local/lib/python3.7/dist-packages (from datasets) (1.1.5)\n",
            "Requirement already satisfied: tqdm<4.50.0,>=4.27 in /usr/local/lib/python3.7/dist-packages (from datasets) (4.41.1)\n",
            "Requirement already satisfied: xxhash in /usr/local/lib/python3.7/dist-packages (from datasets) (2.0.2)\n",
            "Requirement already satisfied: multiprocess in /usr/local/lib/python3.7/dist-packages (from datasets) (0.70.11.1)\n",
            "Requirement already satisfied: fsspec in /usr/local/lib/python3.7/dist-packages (from datasets) (2021.5.0)\n",
            "Requirement already satisfied: dill in /usr/local/lib/python3.7/dist-packages (from datasets) (0.3.3)\n",
            "Requirement already satisfied: numpy>=1.17 in /usr/local/lib/python3.7/dist-packages (from datasets) (1.19.5)\n",
            "Requirement already satisfied: pyarrow>=1.0.0<4.0.0 in /usr/local/lib/python3.7/dist-packages (from datasets) (3.0.0)\n",
            "Requirement already satisfied: requests>=2.19.0 in /usr/local/lib/python3.7/dist-packages (from datasets) (2.23.0)\n",
            "Requirement already satisfied: packaging in /usr/local/lib/python3.7/dist-packages (from datasets) (20.9)\n",
            "Requirement already satisfied: typing-extensions in /usr/local/lib/python3.7/dist-packages (from huggingface-hub<0.1.0->datasets) (3.7.4.3)\n",
            "Requirement already satisfied: filelock in /usr/local/lib/python3.7/dist-packages (from huggingface-hub<0.1.0->datasets) (3.0.12)\n",
            "Requirement already satisfied: zipp>=0.5 in /usr/local/lib/python3.7/dist-packages (from importlib-metadata; python_version < \"3.8\"->datasets) (3.4.1)\n",
            "Requirement already satisfied: python-dateutil>=2.7.3 in /usr/local/lib/python3.7/dist-packages (from pandas->datasets) (2.8.1)\n",
            "Requirement already satisfied: pytz>=2017.2 in /usr/local/lib/python3.7/dist-packages (from pandas->datasets) (2018.9)\n",
            "Requirement already satisfied: urllib3!=1.25.0,!=1.25.1,<1.26,>=1.21.1 in /usr/local/lib/python3.7/dist-packages (from requests>=2.19.0->datasets) (1.24.3)\n",
            "Requirement already satisfied: chardet<4,>=3.0.2 in /usr/local/lib/python3.7/dist-packages (from requests>=2.19.0->datasets) (3.0.4)\n",
            "Requirement already satisfied: certifi>=2017.4.17 in /usr/local/lib/python3.7/dist-packages (from requests>=2.19.0->datasets) (2020.12.5)\n",
            "Requirement already satisfied: idna<3,>=2.5 in /usr/local/lib/python3.7/dist-packages (from requests>=2.19.0->datasets) (2.10)\n",
            "Requirement already satisfied: pyparsing>=2.0.2 in /usr/local/lib/python3.7/dist-packages (from packaging->datasets) (2.4.7)\n",
            "Requirement already satisfied: six>=1.5 in /usr/local/lib/python3.7/dist-packages (from python-dateutil>=2.7.3->pandas->datasets) (1.15.0)\n"
          ]
        }
      ],
      "metadata": {
        "colab": {
          "base_uri": "https://localhost:8080/"
        },
        "id": "P87zjL7jhRrO",
        "outputId": "6b752cf5-fe02-4237-9415-58ca9c3c3f3f"
      }
    },
    {
      "cell_type": "code",
      "execution_count": null,
      "source": [
        "!pip install sklearn-crfsuite"
      ],
      "outputs": [
        {
          "output_type": "stream",
          "name": "stdout",
          "text": [
            "Requirement already satisfied: sklearn-crfsuite in /usr/local/lib/python3.7/dist-packages (0.3.6)\n",
            "Requirement already satisfied: tabulate in /usr/local/lib/python3.7/dist-packages (from sklearn-crfsuite) (0.8.9)\n",
            "Requirement already satisfied: python-crfsuite>=0.8.3 in /usr/local/lib/python3.7/dist-packages (from sklearn-crfsuite) (0.9.7)\n",
            "Requirement already satisfied: six in /usr/local/lib/python3.7/dist-packages (from sklearn-crfsuite) (1.15.0)\n",
            "Requirement already satisfied: tqdm>=2.0 in /usr/local/lib/python3.7/dist-packages (from sklearn-crfsuite) (4.41.1)\n"
          ]
        }
      ],
      "metadata": {
        "colab": {
          "base_uri": "https://localhost:8080/"
        },
        "id": "qsmcFL_vFaRA",
        "outputId": "c2be931a-e382-4045-d21c-0f2eb34bcc08"
      }
    },
    {
      "cell_type": "code",
      "execution_count": null,
      "source": [
        "!pip install git+https://www.github.com/keras-team/keras-contrib.git"
      ],
      "outputs": [
        {
          "output_type": "stream",
          "name": "stdout",
          "text": [
            "Collecting git+https://www.github.com/keras-team/keras-contrib.git\n",
            "  Cloning https://www.github.com/keras-team/keras-contrib.git to /tmp/pip-req-build-l9din8qx\n",
            "  Running command git clone -q https://www.github.com/keras-team/keras-contrib.git /tmp/pip-req-build-l9din8qx\n",
            "Requirement already satisfied (use --upgrade to upgrade): keras-contrib==2.0.8 from git+https://www.github.com/keras-team/keras-contrib.git in /usr/local/lib/python3.7/dist-packages\n",
            "Requirement already satisfied: keras in /usr/local/lib/python3.7/dist-packages (from keras-contrib==2.0.8) (2.4.3)\n",
            "Requirement already satisfied: h5py in /usr/local/lib/python3.7/dist-packages (from keras->keras-contrib==2.0.8) (2.10.0)\n",
            "Requirement already satisfied: numpy>=1.9.1 in /usr/local/lib/python3.7/dist-packages (from keras->keras-contrib==2.0.8) (1.19.5)\n",
            "Requirement already satisfied: scipy>=0.14 in /usr/local/lib/python3.7/dist-packages (from keras->keras-contrib==2.0.8) (1.4.1)\n",
            "Requirement already satisfied: pyyaml in /usr/local/lib/python3.7/dist-packages (from keras->keras-contrib==2.0.8) (3.13)\n",
            "Requirement already satisfied: six in /usr/local/lib/python3.7/dist-packages (from h5py->keras->keras-contrib==2.0.8) (1.15.0)\n",
            "Building wheels for collected packages: keras-contrib\n",
            "  Building wheel for keras-contrib (setup.py) ... \u001b[?25l\u001b[?25hdone\n",
            "  Created wheel for keras-contrib: filename=keras_contrib-2.0.8-cp37-none-any.whl size=101065 sha256=57e6b4a78a7bcb99b107fa4a8c019957d6ef571d67d5f2db51a12b32a3cb2fb6\n",
            "  Stored in directory: /tmp/pip-ephem-wheel-cache-xnehmmuo/wheels/11/27/c8/4ed56de7b55f4f61244e2dc6ef3cdbaff2692527a2ce6502ba\n",
            "Successfully built keras-contrib\n"
          ]
        }
      ],
      "metadata": {
        "colab": {
          "base_uri": "https://localhost:8080/"
        },
        "id": "64u8eLpXkXxT",
        "outputId": "a606fdb2-0a41-422a-ddb0-9eb0e06c9d33"
      }
    },
    {
      "cell_type": "code",
      "execution_count": null,
      "source": [
        "import pandas as pd\n",
        "import numpy as np\n",
        "from datasets import load_dataset\n",
        "import spacy\n",
        "from spacy.gold import biluo_tags_from_offsets\n",
        "import en_core_web_sm\n",
        "\n",
        "# for visualizing data \n",
        "import plotly.express as px\n",
        "import plotly.graph_objects as go\n",
        "import plotly.figure_factory as ff\n",
        "import seaborn as sns\n",
        "import matplotlib.pyplot as plt\n",
        "from collections import Counter\n",
        "from sklearn_crfsuite.metrics import flat_classification_report\n",
        "\n",
        "from sklearn.metrics import classification_report, f1_score\n",
        "from sklearn.model_selection import cross_val_predict\n",
        "from sklearn.base import BaseEstimator, TransformerMixin\n",
        "from sklearn.ensemble import RandomForestClassifier\n",
        "from tensorflow import keras\n",
        "from keras_contrib.layers import CRF"
      ],
      "outputs": [],
      "metadata": {
        "id": "8Yxy2vu1ilk9"
      }
    },
    {
      "cell_type": "markdown",
      "source": [
        "\n",
        "## Dataset Preparation"
      ],
      "metadata": {
        "id": "7HMuAxtAc54b"
      }
    },
    {
      "cell_type": "code",
      "execution_count": null,
      "source": [
        "nlp = en_core_web_sm.load()\n",
        "dataset_ner = load_dataset(\n",
        "   'ade_corpus_v2', 'Ade_corpus_v2_drug_dosage_relation')"
      ],
      "outputs": [
        {
          "output_type": "display_data",
          "data": {
            "application/vnd.jupyter.widget-view+json": {
              "model_id": "fa66d481e060439f849d13426dac1813",
              "version_minor": 0,
              "version_major": 2
            },
            "text/plain": [
              "HBox(children=(FloatProgress(value=0.0, description='Downloading', max=3020.0, style=ProgressStyle(description…"
            ]
          },
          "metadata": {
            "tags": []
          }
        },
        {
          "output_type": "stream",
          "name": "stdout",
          "text": [
            "\n"
          ]
        },
        {
          "output_type": "display_data",
          "data": {
            "application/vnd.jupyter.widget-view+json": {
              "model_id": "8f6afb4d38b04c24b45455052d60ae6a",
              "version_minor": 0,
              "version_major": 2
            },
            "text/plain": [
              "HBox(children=(FloatProgress(value=0.0, description='Downloading', max=1917.0, style=ProgressStyle(description…"
            ]
          },
          "metadata": {
            "tags": []
          }
        },
        {
          "output_type": "stream",
          "name": "stdout",
          "text": [
            "\n",
            "Downloading and preparing dataset ade_corpus_v2/Ade_corpus_v2_drug_dosage_relation (download: 3.62 MiB, generated: 63.21 KiB, post-processed: Unknown size, total: 3.68 MiB) to /root/.cache/huggingface/datasets/ade_corpus_v2/Ade_corpus_v2_drug_dosage_relation/1.0.0/940d61334dbfac6b01ac5d00286a2122608b8dc79706ee7e9206a1edb172c559...\n"
          ]
        },
        {
          "output_type": "display_data",
          "data": {
            "application/vnd.jupyter.widget-view+json": {
              "model_id": "3291b10a04284c3d8255a652dc8c60f7",
              "version_minor": 0,
              "version_major": 2
            },
            "text/plain": [
              "HBox(children=(FloatProgress(value=0.0, description='Downloading', max=306554.0, style=ProgressStyle(descripti…"
            ]
          },
          "metadata": {
            "tags": []
          }
        },
        {
          "output_type": "stream",
          "name": "stdout",
          "text": [
            "\n"
          ]
        },
        {
          "output_type": "display_data",
          "data": {
            "application/vnd.jupyter.widget-view+json": {
              "model_id": "3fc3b571ba45428d8891fe50fc88c088",
              "version_minor": 0,
              "version_major": 2
            },
            "text/plain": [
              "HBox(children=(FloatProgress(value=0.0, description='Downloading', max=18007.0, style=ProgressStyle(descriptio…"
            ]
          },
          "metadata": {
            "tags": []
          }
        },
        {
          "output_type": "stream",
          "name": "stdout",
          "text": [
            "\n"
          ]
        },
        {
          "output_type": "display_data",
          "data": {
            "application/vnd.jupyter.widget-view+json": {
              "model_id": "18b85bb18b644e6ca1e54478cf7f9c9b",
              "version_minor": 0,
              "version_major": 2
            },
            "text/plain": [
              "HBox(children=(FloatProgress(value=0.0, description='Downloading', max=867712.0, style=ProgressStyle(descripti…"
            ]
          },
          "metadata": {
            "tags": []
          }
        },
        {
          "output_type": "stream",
          "name": "stdout",
          "text": [
            "\n"
          ]
        },
        {
          "output_type": "display_data",
          "data": {
            "application/vnd.jupyter.widget-view+json": {
              "model_id": "c8e67e0588f74bafa757c1db239b4e95",
              "version_minor": 0,
              "version_major": 2
            },
            "text/plain": [
              "HBox(children=(FloatProgress(value=1.0, bar_style='info', max=1.0), HTML(value='')))"
            ]
          },
          "metadata": {
            "tags": []
          }
        },
        {
          "output_type": "stream",
          "name": "stdout",
          "text": [
            "\rDataset ade_corpus_v2 downloaded and prepared to /root/.cache/huggingface/datasets/ade_corpus_v2/Ade_corpus_v2_drug_dosage_relation/1.0.0/940d61334dbfac6b01ac5d00286a2122608b8dc79706ee7e9206a1edb172c559. Subsequent calls will reuse this data.\n"
          ]
        }
      ],
      "metadata": {
        "colab": {
          "base_uri": "https://localhost:8080/",
          "height": 325,
          "referenced_widgets": [
            "fa66d481e060439f849d13426dac1813",
            "9765f44db35848abbf8613c475828cd0",
            "2908553d220d4abbb19a6593e6274761",
            "bd60208135514ebaaa2caf697a343003",
            "540811d89b7d41c2b78f30c09bac96aa",
            "f7b693afb04a41418cc8e3e8579a88dd",
            "c172e2499852401caea3d77354241469",
            "2e9663a2ab034522af0d22cd419e8b54",
            "8f6afb4d38b04c24b45455052d60ae6a",
            "ced3de1e313a4172ac2c80aeee50301d",
            "5beaf2b1ba81440aaa5544bd07586b96",
            "01d59f9413cc4ba789de409eb114d339",
            "0d964af6c939440396c12a6ec74eeacb",
            "8889a3456fa44c3ea33a73e58e39bb3e",
            "bdaa45d7659d42d2b0377580727a076b",
            "b1a21b82761c47c6a8f08a8a0af8d31d",
            "3291b10a04284c3d8255a652dc8c60f7",
            "574ba1392a77486aade81daca6c68344",
            "1a078d85fa3f4a06ad7905e5e837f383",
            "82b8e09706c44ae4923c772f7710247d",
            "a80e00bd73f948a299b1da54c8dd3892",
            "587b85e301d74d2d81667599c2a40b62",
            "9b878ddaaafa4a83875a934b656928dc",
            "acee88c60a564096ab91e0375db577ca",
            "3fc3b571ba45428d8891fe50fc88c088",
            "944e04713fb443049d6ca78f351dc5f6",
            "5bb5d23943c14d6aad475eff81532275",
            "cfbcbbcfe2eb46d78e9d823341383e8d",
            "4098eb91f19c4f33803cafac0477f107",
            "be626a93f4fd499ca3c5f0076d5d3dd9",
            "2ef1d3004d13462abe8720d8fcd883c5",
            "8fd99945be4546008e57d2d332d6ce27",
            "18b85bb18b644e6ca1e54478cf7f9c9b",
            "d21e72bce6d442bea105b5a318054d1e",
            "6328a9bca839432d8378bbf09cd716b4",
            "1cdc7bc61e2c4bc683fcf1091225f843",
            "cb10197b59a541169e03904138c8da53",
            "4c2f60f519d44077a0b8f77988194f08",
            "8227b2eee2194671b5e63a148decc382",
            "30df91c1127544dea4ebc1ded008cf78",
            "c8e67e0588f74bafa757c1db239b4e95",
            "c73b12838dab4894b5752b50568d122a",
            "57a3c30ffaf04872a63c001c4524d5b8",
            "f36d0856faf445f2a750b6cfcf4fe0e1",
            "0745965c4cbc45ae9ce4c0085bdfe0bd",
            "d3ba1c610146490f9407bdd0796e9fac",
            "dfd4cf56357f4427828f7faeaa8ca55e",
            "68cb2022f8d44a5384002e990cddcf0f"
          ]
        },
        "id": "V5fiOUpE8hgH",
        "outputId": "3ecb2a83-397d-48da-9b9a-942c267fb87f"
      }
    },
    {
      "cell_type": "code",
      "execution_count": null,
      "source": [
        "df_ner = pd.DataFrame(dataset_ner['train'])\n",
        "df_ner"
      ],
      "outputs": [
        {
          "output_type": "execute_result",
          "data": {
            "text/html": [
              "<div>\n",
              "<style scoped>\n",
              "    .dataframe tbody tr th:only-of-type {\n",
              "        vertical-align: middle;\n",
              "    }\n",
              "\n",
              "    .dataframe tbody tr th {\n",
              "        vertical-align: top;\n",
              "    }\n",
              "\n",
              "    .dataframe thead th {\n",
              "        text-align: right;\n",
              "    }\n",
              "</style>\n",
              "<table border=\"1\" class=\"dataframe\">\n",
              "  <thead>\n",
              "    <tr style=\"text-align: right;\">\n",
              "      <th></th>\n",
              "      <th>dosage</th>\n",
              "      <th>drug</th>\n",
              "      <th>indexes</th>\n",
              "      <th>text</th>\n",
              "    </tr>\n",
              "  </thead>\n",
              "  <tbody>\n",
              "    <tr>\n",
              "      <th>0</th>\n",
              "      <td>1500 mg/m2</td>\n",
              "      <td>methotrexate</td>\n",
              "      <td>{'drug': {'end_char': [91], 'start_char': [79]...</td>\n",
              "      <td>An episode of subacute encephalopathy after th...</td>\n",
              "    </tr>\n",
              "    <tr>\n",
              "      <th>1</th>\n",
              "      <td>4 times per day</td>\n",
              "      <td>insulin</td>\n",
              "      <td>{'drug': {'end_char': [40], 'start_char': [33]...</td>\n",
              "      <td>She continued to receive regular insulin 4 tim...</td>\n",
              "    </tr>\n",
              "    <tr>\n",
              "      <th>2</th>\n",
              "      <td>1 drop</td>\n",
              "      <td>brimonidine</td>\n",
              "      <td>{'drug': {'end_char': [97], 'start_char': [86]...</td>\n",
              "      <td>A 5-month-old infant became lethargic and poor...</td>\n",
              "    </tr>\n",
              "    <tr>\n",
              "      <th>3</th>\n",
              "      <td>200 mg</td>\n",
              "      <td>TCA</td>\n",
              "      <td>{'drug': {'end_char': [49, 166], 'start_char':...</td>\n",
              "      <td>The presented patient was treated with 200 mg ...</td>\n",
              "    </tr>\n",
              "    <tr>\n",
              "      <th>4</th>\n",
              "      <td>overdose</td>\n",
              "      <td>ibuprofen</td>\n",
              "      <td>{'drug': {'end_char': [53], 'start_char': [44]...</td>\n",
              "      <td>Central nervous system manifestations of an ib...</td>\n",
              "    </tr>\n",
              "    <tr>\n",
              "      <th>...</th>\n",
              "      <td>...</td>\n",
              "      <td>...</td>\n",
              "      <td>...</td>\n",
              "      <td>...</td>\n",
              "    </tr>\n",
              "    <tr>\n",
              "      <th>274</th>\n",
              "      <td>low</td>\n",
              "      <td>alprazolam</td>\n",
              "      <td>{'drug': {'end_char': [132], 'start_char': [12...</td>\n",
              "      <td>1. Changes in the plasma cortisol level were r...</td>\n",
              "    </tr>\n",
              "    <tr>\n",
              "      <th>275</th>\n",
              "      <td>20-25 mg/d</td>\n",
              "      <td>olanzapine</td>\n",
              "      <td>{'drug': {'end_char': [117], 'start_char': [10...</td>\n",
              "      <td>We report on three patients with acute schizop...</td>\n",
              "    </tr>\n",
              "    <tr>\n",
              "      <th>276</th>\n",
              "      <td>5 mg</td>\n",
              "      <td>isosorbide dinitrate</td>\n",
              "      <td>{'drug': {'end_char': [114], 'start_char': [94...</td>\n",
              "      <td>A 65-year-old woman with angina pectoris prese...</td>\n",
              "    </tr>\n",
              "    <tr>\n",
              "      <th>277</th>\n",
              "      <td>5 mg</td>\n",
              "      <td>isosorbide dinitrate</td>\n",
              "      <td>{'drug': {'end_char': [73], 'start_char': [53]...</td>\n",
              "      <td>In a postural challenge test after administrat...</td>\n",
              "    </tr>\n",
              "    <tr>\n",
              "      <th>278</th>\n",
              "      <td>High</td>\n",
              "      <td>phosphate</td>\n",
              "      <td>{'drug': {'end_char': [19, 67], 'start_char': ...</td>\n",
              "      <td>High-dose phosphate treatment leads to hypokal...</td>\n",
              "    </tr>\n",
              "  </tbody>\n",
              "</table>\n",
              "<p>279 rows × 4 columns</p>\n",
              "</div>"
            ],
            "text/plain": [
              "              dosage  ...                                               text\n",
              "0         1500 mg/m2  ...  An episode of subacute encephalopathy after th...\n",
              "1    4 times per day  ...  She continued to receive regular insulin 4 tim...\n",
              "2             1 drop  ...  A 5-month-old infant became lethargic and poor...\n",
              "3             200 mg  ...  The presented patient was treated with 200 mg ...\n",
              "4           overdose  ...  Central nervous system manifestations of an ib...\n",
              "..               ...  ...                                                ...\n",
              "274              low  ...  1. Changes in the plasma cortisol level were r...\n",
              "275       20-25 mg/d  ...  We report on three patients with acute schizop...\n",
              "276             5 mg  ...  A 65-year-old woman with angina pectoris prese...\n",
              "277             5 mg  ...  In a postural challenge test after administrat...\n",
              "278             High  ...  High-dose phosphate treatment leads to hypokal...\n",
              "\n",
              "[279 rows x 4 columns]"
            ]
          },
          "metadata": {
            "tags": []
          },
          "execution_count": 5
        }
      ],
      "metadata": {
        "colab": {
          "base_uri": "https://localhost:8080/",
          "height": 407
        },
        "id": "jGMUd5rsrcA4",
        "outputId": "c5579d80-3b3d-408b-8147-7ed8fd5e97a4"
      }
    },
    {
      "cell_type": "markdown",
      "source": [
        "**Evaluation:** The original format of the dataset is not suitable for training in neural network as it is not presented in IOB annotation. Therefore, we have to find a workaround solution, by converting from JSON format to spaCy's BIOLOU scheme and using one of spaCy's API to make the data conversion to the preferable format. "
      ],
      "metadata": {
        "id": "YlqI7knzG0m1"
      }
    },
    {
      "cell_type": "code",
      "execution_count": null,
      "source": [
        "# Extract neccessary features of the dataset \n",
        "indexes = df_ner['indexes']\n",
        "sentences = df_ner['text']"
      ],
      "outputs": [],
      "metadata": {
        "id": "Qw_sOvVYQVY7"
      }
    },
    {
      "cell_type": "code",
      "execution_count": null,
      "source": [
        "# This function is used to convert JSON format data to spaCy's BILOU scheme\n",
        "def convert_to_spacy_format(positions, data):\n",
        "  TRAIN_DATA = []\n",
        "  for i, example in enumerate(positions):  # see example above\n",
        "\n",
        "    sentence = data[i]\n",
        "    entities = []\n",
        "\n",
        "    for entity in example:\n",
        "      label = entity.upper()\n",
        "      start_positions = (example[entity]['start_char'])\n",
        "      end_positions = (example[entity]['end_char'])\n",
        "\n",
        "      if (len(start_positions) > 0) and (len(end_positions) > 0):\n",
        "        for idx, val in enumerate(start_positions):\n",
        "          start_pos = start_positions[idx]\n",
        "          end_pos = end_positions[idx]\n",
        "        entities.append((start_pos, end_pos, label))\n",
        "    TRAIN_DATA.append((sentence, {'entities': entities}))\n",
        "  return TRAIN_DATA\n",
        "\n",
        "# This function is used to convert spaCy's BILOU scheme to the IOB tagging scheme\n",
        "def convert_to_flair_format(data, file):\n",
        "  count = 1\n",
        "  with open(file,\"w\") as f:\n",
        "    for sent, tags in data:\n",
        "        doc = nlp(sent)\n",
        "   \n",
        "        try:\n",
        "          biluo = biluo_tags_from_offsets(doc,tags['entities'])\n",
        "          for word,tag in zip(doc, biluo):\n",
        "              f.write(f\"'Sen{count}' {word} {tag}\\n\")\n",
        "          count += 1\n",
        "          f.write(\"\\n\")\n",
        "        except ValueError:\n",
        "          continue"
      ],
      "outputs": [],
      "metadata": {
        "id": "7lKZ30XPTQ6N"
      }
    },
    {
      "cell_type": "code",
      "execution_count": null,
      "source": [
        "# Execute data conversion function on acquired dataset above\n",
        "samples = convert_to_spacy_format(indexes, sentences)\n",
        "\n",
        "# Additional step to convert to the desired scheme, IOB tagging format and export the final dataset into file\n",
        "convert_to_flair_format(samples, 'drug_dose_ner.txt')"
      ],
      "outputs": [],
      "metadata": {
        "id": "-nxIMIWOaFuD"
      }
    },
    {
      "cell_type": "code",
      "execution_count": null,
      "source": [
        "from google.colab import drive\n",
        "drive.mount('/content/drive')"
      ],
      "outputs": [
        {
          "output_type": "stream",
          "name": "stdout",
          "text": [
            "Mounted at /content/drive\n"
          ]
        }
      ],
      "metadata": {
        "colab": {
          "base_uri": "https://localhost:8080/"
        },
        "id": "peJGI9KeR6Bx",
        "outputId": "9bda972a-1a8b-48d2-9fd7-cfd673826580"
      }
    },
    {
      "cell_type": "code",
      "execution_count": null,
      "source": [
        "# This is the final version of our dataset for the NER model, we now load it in dataframe\n",
        "df = pd.read_csv('/content/drive/MyDrive/ML_A2/drug_dose_ner.txt',\n",
        "                           delimiter=\" \",\n",
        "                           names=['Sentence #','Word', 'Tag'],\n",
        "                           index_col=False)"
      ],
      "outputs": [],
      "metadata": {
        "id": "mZ-TEJFZPbES"
      }
    },
    {
      "cell_type": "code",
      "execution_count": null,
      "source": [
        "print(\"Number of sentences: \", len(df.groupby(['Sentence #'])))\n",
        "\n",
        "words = list(set(df[\"Word\"].values))\n",
        "n_words = len(words)\n",
        "print(\"Number of unique words in the dataset: \", n_words)\n",
        "\n",
        "tags = list(set(df[\"Tag\"].values))\n",
        "print(\"Tags:\", tags)\n",
        "n_tags = len(tags)\n",
        "print(\"Number of Labels: \", n_tags)\n",
        "\n",
        "print(\"The construct of the dataset\")\n",
        "df.head(n=10)"
      ],
      "outputs": [
        {
          "output_type": "stream",
          "name": "stdout",
          "text": [
            "Number of sentences:  279\n",
            "Number of unique words in the dataset:  1584\n",
            "Tags: ['B-DRUG', 'L-DRUG', 'I-DRUG', 'U-DOSAGE', 'L-DOSAGE', 'O', '-', 'U-DRUG', 'I-DOSAGE', 'B-DOSAGE']\n",
            "Number of Labels:  10\n",
            "The construct of the dataset\n"
          ]
        },
        {
          "output_type": "execute_result",
          "data": {
            "text/html": [
              "<div>\n",
              "<style scoped>\n",
              "    .dataframe tbody tr th:only-of-type {\n",
              "        vertical-align: middle;\n",
              "    }\n",
              "\n",
              "    .dataframe tbody tr th {\n",
              "        vertical-align: top;\n",
              "    }\n",
              "\n",
              "    .dataframe thead th {\n",
              "        text-align: right;\n",
              "    }\n",
              "</style>\n",
              "<table border=\"1\" class=\"dataframe\">\n",
              "  <thead>\n",
              "    <tr style=\"text-align: right;\">\n",
              "      <th></th>\n",
              "      <th>Sentence #</th>\n",
              "      <th>Word</th>\n",
              "      <th>Tag</th>\n",
              "    </tr>\n",
              "  </thead>\n",
              "  <tbody>\n",
              "    <tr>\n",
              "      <th>0</th>\n",
              "      <td>'Sen1'</td>\n",
              "      <td>An</td>\n",
              "      <td>O</td>\n",
              "    </tr>\n",
              "    <tr>\n",
              "      <th>1</th>\n",
              "      <td>'Sen1'</td>\n",
              "      <td>episode</td>\n",
              "      <td>O</td>\n",
              "    </tr>\n",
              "    <tr>\n",
              "      <th>2</th>\n",
              "      <td>'Sen1'</td>\n",
              "      <td>of</td>\n",
              "      <td>O</td>\n",
              "    </tr>\n",
              "    <tr>\n",
              "      <th>3</th>\n",
              "      <td>'Sen1'</td>\n",
              "      <td>subacute</td>\n",
              "      <td>O</td>\n",
              "    </tr>\n",
              "    <tr>\n",
              "      <th>4</th>\n",
              "      <td>'Sen1'</td>\n",
              "      <td>encephalopathy</td>\n",
              "      <td>O</td>\n",
              "    </tr>\n",
              "    <tr>\n",
              "      <th>5</th>\n",
              "      <td>'Sen1'</td>\n",
              "      <td>after</td>\n",
              "      <td>O</td>\n",
              "    </tr>\n",
              "    <tr>\n",
              "      <th>6</th>\n",
              "      <td>'Sen1'</td>\n",
              "      <td>the</td>\n",
              "      <td>O</td>\n",
              "    </tr>\n",
              "    <tr>\n",
              "      <th>7</th>\n",
              "      <td>'Sen1'</td>\n",
              "      <td>infusion</td>\n",
              "      <td>O</td>\n",
              "    </tr>\n",
              "    <tr>\n",
              "      <th>8</th>\n",
              "      <td>'Sen1'</td>\n",
              "      <td>of</td>\n",
              "      <td>O</td>\n",
              "    </tr>\n",
              "    <tr>\n",
              "      <th>9</th>\n",
              "      <td>'Sen1'</td>\n",
              "      <td>a</td>\n",
              "      <td>O</td>\n",
              "    </tr>\n",
              "  </tbody>\n",
              "</table>\n",
              "</div>"
            ],
            "text/plain": [
              "  Sentence #            Word Tag\n",
              "0     'Sen1'              An   O\n",
              "1     'Sen1'         episode   O\n",
              "2     'Sen1'              of   O\n",
              "3     'Sen1'        subacute   O\n",
              "4     'Sen1'  encephalopathy   O\n",
              "5     'Sen1'           after   O\n",
              "6     'Sen1'             the   O\n",
              "7     'Sen1'        infusion   O\n",
              "8     'Sen1'              of   O\n",
              "9     'Sen1'               a   O"
            ]
          },
          "metadata": {
            "tags": []
          },
          "execution_count": 456
        }
      ],
      "metadata": {
        "colab": {
          "base_uri": "https://localhost:8080/",
          "height": 439
        },
        "id": "3DvZQh6vkqQq",
        "outputId": "44126659-065c-4f91-9766-07d0c3039a84"
      }
    },
    {
      "cell_type": "markdown",
      "source": [
        "Currently, the tag category contains one suspicous type ('-') and it is not follow along the IOB annotation as we want (currently follow the BILOU scheme of spaCy framwork). Therefore, further preprocessing must be performed to acquire a sufficient dataset"
      ],
      "metadata": {
        "id": "-1DxxkwFkyL8"
      }
    },
    {
      "cell_type": "code",
      "execution_count": null,
      "source": [
        "df['Tag'].value_counts()"
      ],
      "outputs": [
        {
          "output_type": "execute_result",
          "data": {
            "text/plain": [
              "O           7069\n",
              "I-DOSAGE     241\n",
              "U-DRUG       231\n",
              "B-DOSAGE     196\n",
              "L-DOSAGE     196\n",
              "U-DOSAGE      73\n",
              "B-DRUG        42\n",
              "L-DRUG        42\n",
              "-             22\n",
              "I-DRUG        11\n",
              "Name: Tag, dtype: int64"
            ]
          },
          "metadata": {
            "tags": []
          },
          "execution_count": 392
        }
      ],
      "metadata": {
        "colab": {
          "base_uri": "https://localhost:8080/"
        },
        "id": "7ib1KsZCrr7b",
        "outputId": "5b8170d2-8713-4410-98c8-2d9b31915148"
      }
    },
    {
      "cell_type": "code",
      "execution_count": null,
      "source": [
        "# The (-) tag partakes only a unnoticable proportion of the dataset, therefore, removing it will not affect our dataset\n",
        "df.drop(df[df['Tag'] == '-'].index, inplace = True)"
      ],
      "outputs": [],
      "metadata": {
        "id": "oxyo_Hd9sc_8"
      }
    },
    {
      "cell_type": "code",
      "execution_count": null,
      "source": [
        "# Based upon the above result, we proceed to drop dupplicate tokens to avoid value redundancy\n",
        "df.drop_duplicates(inplace=True)"
      ],
      "outputs": [],
      "metadata": {
        "id": "1e86gDX_xjkR"
      }
    },
    {
      "cell_type": "code",
      "execution_count": null,
      "source": [
        "# Since our tagging scheme is currently spaCy's BILOU format, we want to convert it back to the \n",
        "# standard IOB tagging scheme\n",
        "def format_tag(row):\n",
        "  row = list(row)\n",
        "  for i, c in enumerate(row):\n",
        "    if c == 'L' and i == 0:\n",
        "      row[i] = 'I'\n",
        "    if c == 'U' and i == 0:\n",
        "      row[i] = 'B'\n",
        "  return ''.join(row)"
      ],
      "outputs": [],
      "metadata": {
        "id": "e-zFzV1byOyw"
      }
    },
    {
      "cell_type": "code",
      "execution_count": null,
      "source": [
        "# Apply defined function in all row of the dataframe\n",
        "df['Tag'] = df['Tag'].map(lambda row : format_tag(row))"
      ],
      "outputs": [],
      "metadata": {
        "id": "DJcZe8hzytYo"
      }
    },
    {
      "cell_type": "markdown",
      "source": [
        "After preprocessing, tag categories have been updated"
      ],
      "metadata": {
        "id": "DylfIDT9yw9q"
      }
    },
    {
      "cell_type": "code",
      "execution_count": null,
      "source": [
        "print(\"Number of sentences: \", len(df.groupby(['Sentence #'])))\n",
        "\n",
        "words = list(set(df[\"Word\"].values))\n",
        "total_words = list(df['Word'].values)\n",
        "total_tags = list(df['Tag'].values)\n",
        "\n",
        "n_words = len(words)\n",
        "print(\"Number of unique words in the dataset: \", n_words)\n",
        "print(\"Number of total words in the dataset: \", len(total_words))\n",
        "print(\"Number of total labels in the dataset: \", len(total_tags))\n",
        "\n",
        "tags = list(set(df[\"Tag\"].values))\n",
        "print(\"Tags:\", tags)\n",
        "n_tags = len(tags)\n",
        "print(\"Number of Labels: \", n_tags)\n",
        "\n",
        "print(\"The construct of the dataset\")\n",
        "df.head(n=10)"
      ],
      "outputs": [
        {
          "output_type": "stream",
          "name": "stdout",
          "text": [
            "Number of sentences:  279\n",
            "Number of unique words in the dataset:  1579\n",
            "Number of total words in the dataset:  7368\n",
            "Number of total labels in the dataset:  7368\n",
            "Tags: ['B-DRUG', 'I-DRUG', 'O', 'I-DOSAGE', 'B-DOSAGE']\n",
            "Number of Labels:  5\n",
            "The construct of the dataset\n"
          ]
        },
        {
          "output_type": "execute_result",
          "data": {
            "text/html": [
              "<div>\n",
              "<style scoped>\n",
              "    .dataframe tbody tr th:only-of-type {\n",
              "        vertical-align: middle;\n",
              "    }\n",
              "\n",
              "    .dataframe tbody tr th {\n",
              "        vertical-align: top;\n",
              "    }\n",
              "\n",
              "    .dataframe thead th {\n",
              "        text-align: right;\n",
              "    }\n",
              "</style>\n",
              "<table border=\"1\" class=\"dataframe\">\n",
              "  <thead>\n",
              "    <tr style=\"text-align: right;\">\n",
              "      <th></th>\n",
              "      <th>Sentence #</th>\n",
              "      <th>Word</th>\n",
              "      <th>Tag</th>\n",
              "    </tr>\n",
              "  </thead>\n",
              "  <tbody>\n",
              "    <tr>\n",
              "      <th>0</th>\n",
              "      <td>'Sen1'</td>\n",
              "      <td>An</td>\n",
              "      <td>O</td>\n",
              "    </tr>\n",
              "    <tr>\n",
              "      <th>1</th>\n",
              "      <td>'Sen1'</td>\n",
              "      <td>episode</td>\n",
              "      <td>O</td>\n",
              "    </tr>\n",
              "    <tr>\n",
              "      <th>2</th>\n",
              "      <td>'Sen1'</td>\n",
              "      <td>of</td>\n",
              "      <td>O</td>\n",
              "    </tr>\n",
              "    <tr>\n",
              "      <th>3</th>\n",
              "      <td>'Sen1'</td>\n",
              "      <td>subacute</td>\n",
              "      <td>O</td>\n",
              "    </tr>\n",
              "    <tr>\n",
              "      <th>4</th>\n",
              "      <td>'Sen1'</td>\n",
              "      <td>encephalopathy</td>\n",
              "      <td>O</td>\n",
              "    </tr>\n",
              "    <tr>\n",
              "      <th>5</th>\n",
              "      <td>'Sen1'</td>\n",
              "      <td>after</td>\n",
              "      <td>O</td>\n",
              "    </tr>\n",
              "    <tr>\n",
              "      <th>6</th>\n",
              "      <td>'Sen1'</td>\n",
              "      <td>the</td>\n",
              "      <td>O</td>\n",
              "    </tr>\n",
              "    <tr>\n",
              "      <th>7</th>\n",
              "      <td>'Sen1'</td>\n",
              "      <td>infusion</td>\n",
              "      <td>O</td>\n",
              "    </tr>\n",
              "    <tr>\n",
              "      <th>9</th>\n",
              "      <td>'Sen1'</td>\n",
              "      <td>a</td>\n",
              "      <td>O</td>\n",
              "    </tr>\n",
              "    <tr>\n",
              "      <th>10</th>\n",
              "      <td>'Sen1'</td>\n",
              "      <td>moderate</td>\n",
              "      <td>O</td>\n",
              "    </tr>\n",
              "  </tbody>\n",
              "</table>\n",
              "</div>"
            ],
            "text/plain": [
              "   Sentence #            Word Tag\n",
              "0      'Sen1'              An   O\n",
              "1      'Sen1'         episode   O\n",
              "2      'Sen1'              of   O\n",
              "3      'Sen1'        subacute   O\n",
              "4      'Sen1'  encephalopathy   O\n",
              "5      'Sen1'           after   O\n",
              "6      'Sen1'             the   O\n",
              "7      'Sen1'        infusion   O\n",
              "9      'Sen1'               a   O\n",
              "10     'Sen1'        moderate   O"
            ]
          },
          "metadata": {
            "tags": []
          },
          "execution_count": 461
        }
      ],
      "metadata": {
        "colab": {
          "base_uri": "https://localhost:8080/",
          "height": 475
        },
        "id": "yekeqom8tJ9k",
        "outputId": "d2c9fe70-7b0c-4756-f4f7-6ed84a56e545"
      }
    },
    {
      "cell_type": "markdown",
      "source": [
        "## EDA\n"
      ],
      "metadata": {
        "id": "HtCxGWt47pck"
      }
    },
    {
      "cell_type": "code",
      "execution_count": null,
      "source": [
        "# This function is used to plot out the distribution of each label in the dataset \n",
        "def summary(item_list, limit=None):\n",
        "  count_dict = dict(Counter(item_list))\n",
        "  count_items = sorted(count_dict.items(), key=lambda x:x[1], reverse=True)\n",
        "  print(\"Number of unique items: \", len(count_items))\n",
        "  print(\"Average count: \", round(len(item_list)/len(count_items)),\"\\n\")\n",
        "  total_items = len(item_list)\n",
        "\n",
        "  proportion_list = []\n",
        "  xlabels = []\n",
        "  \n",
        "  for i, (key, value) in enumerate(count_items):\n",
        "      if limit:\n",
        "          if i>limit:\n",
        "              break\n",
        "      proportion =  round(value*100/total_items, 2)\n",
        "      proportion_list.append(proportion)\n",
        "  return proportion_list"
      ],
      "outputs": [],
      "metadata": {
        "id": "mA5fMrl-d9Kw"
      }
    },
    {
      "cell_type": "code",
      "execution_count": null,
      "source": [
        "proportion_list = summary(total_tags)\n",
        "fig = go.Figure(data = [go.Bar (\n",
        "                            x = df['Tag'].unique(),\n",
        "                            y = proportion_list,\n",
        "                            width= 0.3,\n",
        "                            marker_color = [\"#f5cb42\", '#de9b8c', '#8ccfde', '#dec48c', '#9b8cde']\n",
        "                            )\n",
        "                        ])\n",
        "\n",
        "fig.update_layout(\n",
        "    title_text = \"Percentage of all tags in the dataset\", \n",
        "    xaxis_title = 'Tag', \n",
        "    yaxis_title = 'Percentage of total Tags')"
      ],
      "outputs": [
        {
          "output_type": "stream",
          "name": "stdout",
          "text": [
            "Number of unique items:  5\n",
            "Average count:  1474 \n",
            "\n"
          ]
        },
        {
          "output_type": "display_data",
          "data": {
            "text/html": [
              "<html>\n",
              "<head><meta charset=\"utf-8\" /></head>\n",
              "<body>\n",
              "    <div>\n",
              "            <script src=\"https://cdnjs.cloudflare.com/ajax/libs/mathjax/2.7.5/MathJax.js?config=TeX-AMS-MML_SVG\"></script><script type=\"text/javascript\">if (window.MathJax) {MathJax.Hub.Config({SVG: {font: \"STIX-Web\"}});}</script>\n",
              "                <script type=\"text/javascript\">window.PlotlyConfig = {MathJaxConfig: 'local'};</script>\n",
              "        <script src=\"https://cdn.plot.ly/plotly-latest.min.js\"></script>    \n",
              "            <div id=\"98c25189-2ce9-4dd3-8ef2-c72f287ee4cb\" class=\"plotly-graph-div\" style=\"height:525px; width:100%;\"></div>\n",
              "            <script type=\"text/javascript\">\n",
              "                \n",
              "                    window.PLOTLYENV=window.PLOTLYENV || {};\n",
              "                    \n",
              "                if (document.getElementById(\"98c25189-2ce9-4dd3-8ef2-c72f287ee4cb\")) {\n",
              "                    Plotly.newPlot(\n",
              "                        '98c25189-2ce9-4dd3-8ef2-c72f287ee4cb',\n",
              "                        [{\"marker\": {\"color\": [\"#f5cb42\", \"#de9b8c\", \"#8ccfde\", \"#dec48c\", \"#9b8cde\"]}, \"type\": \"bar\", \"width\": 0.3, \"x\": [\"O\", \"B-DRUG\", \"B-DOSAGE\", \"I-DOSAGE\", \"I-DRUG\"], \"y\": [86.09, 5.84, 3.71, 3.65, 0.72]}],\n",
              "                        {\"template\": {\"data\": {\"bar\": [{\"error_x\": {\"color\": \"#2a3f5f\"}, \"error_y\": {\"color\": \"#2a3f5f\"}, \"marker\": {\"line\": {\"color\": \"#E5ECF6\", \"width\": 0.5}}, \"type\": \"bar\"}], \"barpolar\": [{\"marker\": {\"line\": {\"color\": \"#E5ECF6\", \"width\": 0.5}}, \"type\": \"barpolar\"}], \"carpet\": [{\"aaxis\": {\"endlinecolor\": \"#2a3f5f\", \"gridcolor\": \"white\", \"linecolor\": \"white\", \"minorgridcolor\": \"white\", \"startlinecolor\": \"#2a3f5f\"}, \"baxis\": {\"endlinecolor\": \"#2a3f5f\", \"gridcolor\": \"white\", \"linecolor\": \"white\", \"minorgridcolor\": \"white\", \"startlinecolor\": \"#2a3f5f\"}, \"type\": \"carpet\"}], \"choropleth\": [{\"colorbar\": {\"outlinewidth\": 0, \"ticks\": \"\"}, \"type\": \"choropleth\"}], \"contour\": [{\"colorbar\": {\"outlinewidth\": 0, \"ticks\": \"\"}, \"colorscale\": [[0.0, \"#0d0887\"], [0.1111111111111111, \"#46039f\"], [0.2222222222222222, \"#7201a8\"], [0.3333333333333333, \"#9c179e\"], [0.4444444444444444, \"#bd3786\"], [0.5555555555555556, \"#d8576b\"], [0.6666666666666666, \"#ed7953\"], [0.7777777777777778, \"#fb9f3a\"], [0.8888888888888888, \"#fdca26\"], [1.0, \"#f0f921\"]], \"type\": \"contour\"}], \"contourcarpet\": [{\"colorbar\": {\"outlinewidth\": 0, \"ticks\": \"\"}, \"type\": \"contourcarpet\"}], \"heatmap\": [{\"colorbar\": {\"outlinewidth\": 0, \"ticks\": \"\"}, \"colorscale\": [[0.0, \"#0d0887\"], [0.1111111111111111, \"#46039f\"], [0.2222222222222222, \"#7201a8\"], [0.3333333333333333, \"#9c179e\"], [0.4444444444444444, \"#bd3786\"], [0.5555555555555556, \"#d8576b\"], [0.6666666666666666, \"#ed7953\"], [0.7777777777777778, \"#fb9f3a\"], [0.8888888888888888, \"#fdca26\"], [1.0, \"#f0f921\"]], \"type\": \"heatmap\"}], \"heatmapgl\": [{\"colorbar\": {\"outlinewidth\": 0, \"ticks\": \"\"}, \"colorscale\": [[0.0, \"#0d0887\"], [0.1111111111111111, \"#46039f\"], [0.2222222222222222, \"#7201a8\"], [0.3333333333333333, \"#9c179e\"], [0.4444444444444444, \"#bd3786\"], [0.5555555555555556, \"#d8576b\"], [0.6666666666666666, \"#ed7953\"], [0.7777777777777778, \"#fb9f3a\"], [0.8888888888888888, \"#fdca26\"], [1.0, \"#f0f921\"]], \"type\": \"heatmapgl\"}], \"histogram\": [{\"marker\": {\"colorbar\": {\"outlinewidth\": 0, \"ticks\": \"\"}}, \"type\": \"histogram\"}], \"histogram2d\": [{\"colorbar\": {\"outlinewidth\": 0, \"ticks\": \"\"}, \"colorscale\": [[0.0, \"#0d0887\"], [0.1111111111111111, \"#46039f\"], [0.2222222222222222, \"#7201a8\"], [0.3333333333333333, \"#9c179e\"], [0.4444444444444444, \"#bd3786\"], [0.5555555555555556, \"#d8576b\"], [0.6666666666666666, \"#ed7953\"], [0.7777777777777778, \"#fb9f3a\"], [0.8888888888888888, \"#fdca26\"], [1.0, \"#f0f921\"]], \"type\": \"histogram2d\"}], \"histogram2dcontour\": [{\"colorbar\": {\"outlinewidth\": 0, \"ticks\": \"\"}, \"colorscale\": [[0.0, \"#0d0887\"], [0.1111111111111111, \"#46039f\"], [0.2222222222222222, \"#7201a8\"], [0.3333333333333333, \"#9c179e\"], [0.4444444444444444, \"#bd3786\"], [0.5555555555555556, \"#d8576b\"], [0.6666666666666666, \"#ed7953\"], [0.7777777777777778, \"#fb9f3a\"], [0.8888888888888888, \"#fdca26\"], [1.0, \"#f0f921\"]], \"type\": \"histogram2dcontour\"}], \"mesh3d\": [{\"colorbar\": {\"outlinewidth\": 0, \"ticks\": \"\"}, \"type\": \"mesh3d\"}], \"parcoords\": [{\"line\": {\"colorbar\": {\"outlinewidth\": 0, \"ticks\": \"\"}}, \"type\": \"parcoords\"}], \"pie\": [{\"automargin\": true, \"type\": \"pie\"}], \"scatter\": [{\"marker\": {\"colorbar\": {\"outlinewidth\": 0, \"ticks\": \"\"}}, \"type\": \"scatter\"}], \"scatter3d\": [{\"line\": {\"colorbar\": {\"outlinewidth\": 0, \"ticks\": \"\"}}, \"marker\": {\"colorbar\": {\"outlinewidth\": 0, \"ticks\": \"\"}}, \"type\": \"scatter3d\"}], \"scattercarpet\": [{\"marker\": {\"colorbar\": {\"outlinewidth\": 0, \"ticks\": \"\"}}, \"type\": \"scattercarpet\"}], \"scattergeo\": [{\"marker\": {\"colorbar\": {\"outlinewidth\": 0, \"ticks\": \"\"}}, \"type\": \"scattergeo\"}], \"scattergl\": [{\"marker\": {\"colorbar\": {\"outlinewidth\": 0, \"ticks\": \"\"}}, \"type\": \"scattergl\"}], \"scattermapbox\": [{\"marker\": {\"colorbar\": {\"outlinewidth\": 0, \"ticks\": \"\"}}, \"type\": \"scattermapbox\"}], \"scatterpolar\": [{\"marker\": {\"colorbar\": {\"outlinewidth\": 0, \"ticks\": \"\"}}, \"type\": \"scatterpolar\"}], \"scatterpolargl\": [{\"marker\": {\"colorbar\": {\"outlinewidth\": 0, \"ticks\": \"\"}}, \"type\": \"scatterpolargl\"}], \"scatterternary\": [{\"marker\": {\"colorbar\": {\"outlinewidth\": 0, \"ticks\": \"\"}}, \"type\": \"scatterternary\"}], \"surface\": [{\"colorbar\": {\"outlinewidth\": 0, \"ticks\": \"\"}, \"colorscale\": [[0.0, \"#0d0887\"], [0.1111111111111111, \"#46039f\"], [0.2222222222222222, \"#7201a8\"], [0.3333333333333333, \"#9c179e\"], [0.4444444444444444, \"#bd3786\"], [0.5555555555555556, \"#d8576b\"], [0.6666666666666666, \"#ed7953\"], [0.7777777777777778, \"#fb9f3a\"], [0.8888888888888888, \"#fdca26\"], [1.0, \"#f0f921\"]], \"type\": \"surface\"}], \"table\": [{\"cells\": {\"fill\": {\"color\": \"#EBF0F8\"}, \"line\": {\"color\": \"white\"}}, \"header\": {\"fill\": {\"color\": \"#C8D4E3\"}, \"line\": {\"color\": \"white\"}}, \"type\": \"table\"}]}, \"layout\": {\"annotationdefaults\": {\"arrowcolor\": \"#2a3f5f\", \"arrowhead\": 0, \"arrowwidth\": 1}, \"coloraxis\": {\"colorbar\": {\"outlinewidth\": 0, \"ticks\": \"\"}}, \"colorscale\": {\"diverging\": [[0, \"#8e0152\"], [0.1, \"#c51b7d\"], [0.2, \"#de77ae\"], [0.3, \"#f1b6da\"], [0.4, \"#fde0ef\"], [0.5, \"#f7f7f7\"], [0.6, \"#e6f5d0\"], [0.7, \"#b8e186\"], [0.8, \"#7fbc41\"], [0.9, \"#4d9221\"], [1, \"#276419\"]], \"sequential\": [[0.0, \"#0d0887\"], [0.1111111111111111, \"#46039f\"], [0.2222222222222222, \"#7201a8\"], [0.3333333333333333, \"#9c179e\"], [0.4444444444444444, \"#bd3786\"], [0.5555555555555556, \"#d8576b\"], [0.6666666666666666, \"#ed7953\"], [0.7777777777777778, \"#fb9f3a\"], [0.8888888888888888, \"#fdca26\"], [1.0, \"#f0f921\"]], \"sequentialminus\": [[0.0, \"#0d0887\"], [0.1111111111111111, \"#46039f\"], [0.2222222222222222, \"#7201a8\"], [0.3333333333333333, \"#9c179e\"], [0.4444444444444444, \"#bd3786\"], [0.5555555555555556, \"#d8576b\"], [0.6666666666666666, \"#ed7953\"], [0.7777777777777778, \"#fb9f3a\"], [0.8888888888888888, \"#fdca26\"], [1.0, \"#f0f921\"]]}, \"colorway\": [\"#636efa\", \"#EF553B\", \"#00cc96\", \"#ab63fa\", \"#FFA15A\", \"#19d3f3\", \"#FF6692\", \"#B6E880\", \"#FF97FF\", \"#FECB52\"], \"font\": {\"color\": \"#2a3f5f\"}, \"geo\": {\"bgcolor\": \"white\", \"lakecolor\": \"white\", \"landcolor\": \"#E5ECF6\", \"showlakes\": true, \"showland\": true, \"subunitcolor\": \"white\"}, \"hoverlabel\": {\"align\": \"left\"}, \"hovermode\": \"closest\", \"mapbox\": {\"style\": \"light\"}, \"paper_bgcolor\": \"white\", \"plot_bgcolor\": \"#E5ECF6\", \"polar\": {\"angularaxis\": {\"gridcolor\": \"white\", \"linecolor\": \"white\", \"ticks\": \"\"}, \"bgcolor\": \"#E5ECF6\", \"radialaxis\": {\"gridcolor\": \"white\", \"linecolor\": \"white\", \"ticks\": \"\"}}, \"scene\": {\"xaxis\": {\"backgroundcolor\": \"#E5ECF6\", \"gridcolor\": \"white\", \"gridwidth\": 2, \"linecolor\": \"white\", \"showbackground\": true, \"ticks\": \"\", \"zerolinecolor\": \"white\"}, \"yaxis\": {\"backgroundcolor\": \"#E5ECF6\", \"gridcolor\": \"white\", \"gridwidth\": 2, \"linecolor\": \"white\", \"showbackground\": true, \"ticks\": \"\", \"zerolinecolor\": \"white\"}, \"zaxis\": {\"backgroundcolor\": \"#E5ECF6\", \"gridcolor\": \"white\", \"gridwidth\": 2, \"linecolor\": \"white\", \"showbackground\": true, \"ticks\": \"\", \"zerolinecolor\": \"white\"}}, \"shapedefaults\": {\"line\": {\"color\": \"#2a3f5f\"}}, \"ternary\": {\"aaxis\": {\"gridcolor\": \"white\", \"linecolor\": \"white\", \"ticks\": \"\"}, \"baxis\": {\"gridcolor\": \"white\", \"linecolor\": \"white\", \"ticks\": \"\"}, \"bgcolor\": \"#E5ECF6\", \"caxis\": {\"gridcolor\": \"white\", \"linecolor\": \"white\", \"ticks\": \"\"}}, \"title\": {\"x\": 0.05}, \"xaxis\": {\"automargin\": true, \"gridcolor\": \"white\", \"linecolor\": \"white\", \"ticks\": \"\", \"title\": {\"standoff\": 15}, \"zerolinecolor\": \"white\", \"zerolinewidth\": 2}, \"yaxis\": {\"automargin\": true, \"gridcolor\": \"white\", \"linecolor\": \"white\", \"ticks\": \"\", \"title\": {\"standoff\": 15}, \"zerolinecolor\": \"white\", \"zerolinewidth\": 2}}}, \"title\": {\"text\": \"Percentage of all tags in the dataset\"}, \"xaxis\": {\"title\": {\"text\": \"Tag\"}}, \"yaxis\": {\"title\": {\"text\": \"Percentage of total Tags\"}}},\n",
              "                        {\"responsive\": true}\n",
              "                    ).then(function(){\n",
              "                            \n",
              "var gd = document.getElementById('98c25189-2ce9-4dd3-8ef2-c72f287ee4cb');\n",
              "var x = new MutationObserver(function (mutations, observer) {{\n",
              "        var display = window.getComputedStyle(gd).display;\n",
              "        if (!display || display === 'none') {{\n",
              "            console.log([gd, 'removed!']);\n",
              "            Plotly.purge(gd);\n",
              "            observer.disconnect();\n",
              "        }}\n",
              "}});\n",
              "\n",
              "// Listen for the removal of the full notebook cells\n",
              "var notebookContainer = gd.closest('#notebook-container');\n",
              "if (notebookContainer) {{\n",
              "    x.observe(notebookContainer, {childList: true});\n",
              "}}\n",
              "\n",
              "// Listen for the clearing of the current output cell\n",
              "var outputEl = gd.closest('.output');\n",
              "if (outputEl) {{\n",
              "    x.observe(outputEl, {childList: true});\n",
              "}}\n",
              "\n",
              "                        })\n",
              "                };\n",
              "                \n",
              "            </script>\n",
              "        </div>\n",
              "</body>\n",
              "</html>"
            ]
          },
          "metadata": {
            "tags": []
          }
        }
      ],
      "metadata": {
        "colab": {
          "base_uri": "https://localhost:8080/",
          "height": 596
        },
        "id": "2y5tT-yFyyPz",
        "outputId": "304ca009-80bb-442a-a77c-e938bcdcd77c"
      }
    },
    {
      "cell_type": "markdown",
      "source": [
        "**Evaluation:**\n",
        "As illustrated in the graph above, there is a overwhelming class imbalance. \n",
        "While O-tag partakes over 80% of the total Tags in the whole dataset, the others, decreasing in percentage from B-DRUG to I-DRUG, contribute only a unnoticable proportion. Therefore, due to this phenomena, we select macro-f1 score to be our evaluation metrics as the macro-average gives every class the same importance, and therefore better reflects how well the model performs - considering that you aim at having a model that performs well on ALL classes, including the minority classes.\n"
      ],
      "metadata": {
        "id": "bKLW01L2s01S"
      }
    },
    {
      "cell_type": "code",
      "execution_count": null,
      "source": [
        "# This class is defined to construct data to this format \n",
        "# [(Token_1, Tag_1), ..., (Token_n, Tag_n)]\"\"\"\n",
        "class GetSentence(object):\n",
        "    def __init__(self, data):\n",
        "        self.n_sentence=1\n",
        "        self.data=data\n",
        "        self.empty = False\n",
        "        function=lambda d:[(w, t) for w, t in zip(d[\"Word\"].values.tolist(),\n",
        "                                                  d[\"Tag\"].values.tolist())]\n",
        "        \n",
        "        self.group_sent = self.data.groupby(\"Sentence #\").apply(function)\n",
        "        self.all_sentences = [d for d in self.group_sent] \n",
        "    \n",
        "    def get_next(self):\n",
        "        try:\n",
        "            s = self.data[self.data[\"Sentence #\"] == \"Sentence: {}\".format(self.n_sent)]\n",
        "            self.n_sent += 1\n",
        "            return s[\"Word\"].values.tolist(), s[\"Tag\"].values.tolist()    \n",
        "        except:\n",
        "            self.empty = True\n",
        "            return None, None"
      ],
      "outputs": [],
      "metadata": {
        "id": "-BuYo1Hp7v_j"
      }
    },
    {
      "cell_type": "code",
      "execution_count": null,
      "source": [
        "get = GetSentence(df)\n",
        "sentences_data = get.all_sentences\n",
        "print('This is what an example sentence looks like after:')\n",
        "print(sentences_data[0])"
      ],
      "outputs": [
        {
          "output_type": "stream",
          "name": "stdout",
          "text": [
            "This is what an example sentence looks like after:\n",
            "[('An', 'O'), ('episode', 'O'), ('of', 'O'), ('subacute', 'O'), ('encephalopathy', 'O'), ('after', 'O'), ('the', 'O'), ('infusion', 'O'), ('a', 'O'), ('moderate', 'O'), ('dose', 'O'), ('methotrexate', 'B-DRUG'), ('(', 'O'), ('1500', 'B-DOSAGE'), ('mg', 'I-DOSAGE'), ('/', 'I-DOSAGE'), ('m2', 'I-DOSAGE'), (')', 'O'), ('MTX', 'O'), ('is', 'O'), ('reported', 'O'), ('in', 'O'), ('young', 'O'), ('adult', 'O'), ('with', 'O'), ('metastastic', 'O'), ('gastric', 'O'), ('cancer', 'O'), ('.', 'O')]\n"
          ]
        }
      ],
      "metadata": {
        "id": "so4OK4ht7xMH",
        "colab": {
          "base_uri": "https://localhost:8080/"
        },
        "outputId": "b1972a1b-18f1-4099-9884-fc6597a4fd0d"
      }
    },
    {
      "cell_type": "code",
      "execution_count": null,
      "source": [
        "# Examine sentences length's distribution\n",
        "lengths = list(map(lambda x: len(x), sentences_data))\n",
        "sns.displot(lengths)\n",
        "plt.xlabel(\"Number of words in a sentence\")\n",
        "plt.ylabel(\"Proportion\")\n",
        "print(\"Median: \",np.median(lengths))\n",
        "print(\"Mean: \",round(np.mean(lengths),2))"
      ],
      "outputs": [
        {
          "output_type": "stream",
          "name": "stdout",
          "text": [
            "Median:  26.0\n",
            "Mean:  26.41\n"
          ]
        },
        {
          "output_type": "display_data",
          "data": {
            "image/png": "[encoded data removed]",
            "text/plain": [
              "<Figure size 360x360 with 1 Axes>"
            ]
          },
          "metadata": {
            "tags": [],
            "needs_background": "light"
          }
        }
      ],
      "metadata": {
        "colab": {
          "base_uri": "https://localhost:8080/",
          "height": 419
        },
        "id": "zmFQISkoNi58",
        "outputId": "bdda32ca-562c-415f-9f99-eaa3cc4aed4b"
      }
    },
    {
      "cell_type": "markdown",
      "source": [
        "## Machine Learning approach"
      ],
      "metadata": {
        "id": "qhz3r0veK6SB"
      }
    },
    {
      "cell_type": "markdown",
      "source": [
        "### 1) Inherit scikit-learn based classes approach\n",
        "Our initial baseline approach is to inherit BaseEstimator and TransformerMixin classes from scikit-learn. Those classes give the get_params and set_params methods that all Scikit-learn estimators require as well as gives the fit_transform method respectively. Altogether, we want to create a scikit-learn base classes to use with the built-in cross-validation."
      ],
      "metadata": {
        "id": "BchIzlATKNDF"
      }
    },
    {
      "cell_type": "code",
      "execution_count": null,
      "source": [
        "# We construct a plain Python classes and inherit some of scikit-learn classes to implement their functions\n",
        "# to make a simple memory tagger \n",
        "class MemoryTagger(BaseEstimator, TransformerMixin):\n",
        "    \n",
        "    def fit(self, X, y):\n",
        "        # Expects a list of words as X and a list of tags as y.\n",
        "        voc = {}\n",
        "        self.tags = []\n",
        "        for x, t in zip(X, y):\n",
        "            if t not in self.tags:\n",
        "                self.tags.append(t)\n",
        "            if x in voc:\n",
        "                if t in voc[x]:\n",
        "                    voc[x][t] += 1\n",
        "                else:\n",
        "                    voc[x][t] = 1\n",
        "            else:\n",
        "                voc[x] = {t: 1}\n",
        "        self.memory = {}\n",
        "        for k, d in voc.items():\n",
        "            self.memory[k] = max(d, key=d.get)\n",
        "    \n",
        "    def predict(self, X, y=None):\n",
        "        # Predict the the tag from memory. If word is unknown, predict 'O'.\n",
        "        return [self.memory.get(x, 'O') for x in X]"
      ],
      "outputs": [],
      "metadata": {
        "id": "RsWA-i-aDbEq"
      }
    },
    {
      "cell_type": "code",
      "execution_count": null,
      "source": [
        "tagger = MemoryTagger()"
      ],
      "outputs": [],
      "metadata": {
        "id": "Q26jlBYrGXM_"
      }
    },
    {
      "cell_type": "code",
      "execution_count": null,
      "source": [
        "tagger.fit(total_words, total_tags)"
      ],
      "outputs": [],
      "metadata": {
        "id": "G04GZWEIGy_-"
      }
    },
    {
      "cell_type": "code",
      "execution_count": null,
      "source": [
        "print(tagger.predict(total_words))"
      ],
      "outputs": [
        {
          "output_type": "stream",
          "name": "stdout",
          "text": [
            "['O', 'O', 'O', 'O', 'O', 'O', 'O', 'O', 'O', 'I-DOSAGE', 'O', 'B-DRUG', 'O', 'B-DOSAGE', 'I-DOSAGE', 'I-DOSAGE', 'I-DOSAGE', 'O', 'O', 'O', 'O', 'O', 'O', 'O', 'O', 'O', 'O', 'O', 'O', 'O', 'O', 'O', 'O', 'O', 'B-DRUG', 'O', 'I-DOSAGE', 'I-DOSAGE', 'I-DOSAGE', 'O', 'O', 'O', 'O', 'O', 'O', 'O', 'O', 'O', 'O', 'O', 'O', 'O', 'O', 'O', 'O', 'O', 'O', 'O', 'O', 'O', 'O', 'O', 'O', 'O', 'B-DRUG', 'O', 'O', 'O', 'O', 'O', 'O', 'O', 'O', 'O', 'O', 'B-DOSAGE', 'I-DOSAGE', 'O', 'O', 'O', 'O', 'O', 'O', 'O', 'O', 'O', 'O', 'O', 'O', 'O', 'O', 'O', 'O', 'O', 'O', 'O', 'O', 'O', 'O', 'O', 'I-DOSAGE', 'O', 'O', 'O', 'O', 'O', 'O', 'O', 'O', 'O', 'B-DRUG', 'B-DOSAGE', 'O', 'O', 'O', 'O', 'B-DRUG', 'B-DOSAGE', 'O', 'O', 'O', 'O', 'O', 'O', 'O', 'O', 'O', 'O', 'O', 'O', 'O', 'O', 'O', 'O', 'O', 'O', 'O', 'O', 'O', 'O', 'O', 'O', 'O', 'O', 'O', 'O', 'B-DOSAGE', 'O', 'O', 'B-DRUG', 'O', 'O', 'O', 'O', 'O', 'O', 'O', 'O', 'O', 'O', 'O', 'O', 'O', 'O', 'O', 'O', 'O', 'B-DOSAGE', 'O', 'O', 'B-DRUG', 'O', 'O', 'O', 'O', 'O', 'O', 'O', 'O', 'O', 'O', 'O', 'O', 'O', 'O', 'O', 'O', 'O', 'O', 'O', 'O', 'O', 'O', 'O', 'B-DRUG', 'O', 'O', 'O', 'O', 'O', 'O', 'B-DOSAGE', 'I-DOSAGE', 'O', 'B-DRUG', 'O', 'O', 'O', 'O', 'O', 'O', 'O', 'O', 'O', 'O', 'I-DOSAGE', 'O', 'O', 'O', 'O', 'B-DOSAGE', 'O', 'B-DRUG', 'O', 'I-DRUG', 'O', 'O', 'I-DOSAGE', 'I-DOSAGE', 'I-DOSAGE', 'O', 'I-DOSAGE', 'O', 'O', 'O', 'O', 'O', 'O', 'O', 'O', 'O', 'O', 'O', 'O', 'O', 'O', 'O', 'O', 'O', 'O', 'O', 'O', 'O', 'O', 'O', 'O', 'I-DOSAGE', 'O', 'O', 'O', 'O', 'B-DOSAGE', 'O', 'B-DRUG', 'O', 'I-DRUG', 'O', 'O', 'I-DOSAGE', 'I-DOSAGE', 'I-DOSAGE', 'O', 'I-DOSAGE', 'O', 'O', 'O', 'O', 'O', 'O', 'O', 'O', 'O', 'O', 'O', 'O', 'O', 'O', 'O', 'O', 'O', 'O', 'O', 'O', 'O', 'O', 'O', 'O', 'O', 'O', 'O', 'O', 'B-DOSAGE', 'O', 'O', 'B-DRUG', 'I-DRUG', 'O', 'O', 'O', 'O', 'O', 'O', 'O', 'O', 'O', 'O', 'O', 'O', 'O', 'O', 'O', 'B-DOSAGE', 'O', 'B-DRUG', 'I-DRUG', 'B-DRUG', 'O', 'I-DRUG', 'O', 'O', 'O', 'O', 'O', 'O', 'O', 'O', 'O', 'O', 'O', 'O', 'O', 'O', 'O', 'B-DOSAGE', 'O', 'B-DRUG', 'I-DRUG', 'B-DRUG', 'O', 'I-DRUG', 'O', 'O', 'I-DOSAGE', 'O', 'O', 'O', 'O', 'O', 'O', 'O', 'O', 'O', 'B-DRUG', 'B-DOSAGE', 'I-DOSAGE', 'I-DOSAGE', 'I-DOSAGE', 'O', 'O', 'O', 'O', 'O', 'O', 'O', 'O', 'O', 'O', 'O', 'O', 'O', 'O', 'I-DOSAGE', 'O', 'O', 'O', 'O', 'O', 'O', 'O', 'O', 'O', 'B-DRUG', 'B-DOSAGE', 'I-DOSAGE', 'I-DOSAGE', 'I-DOSAGE', 'O', 'O', 'O', 'O', 'O', 'O', 'O', 'O', 'O', 'O', 'O', 'O', 'O', 'O', 'O', 'O', 'O', 'O', 'O', 'O', 'O', 'O', 'O', 'O', 'I-DOSAGE', 'B-DRUG', 'O', 'O', 'O', 'O', 'O', 'O', 'O', 'O', 'O', 'O', 'O', 'O', 'O', 'O', 'O', 'O', 'O', 'O', 'O', 'O', 'O', 'B-DRUG', 'O', 'O', 'O', 'O', 'O', 'O', 'O', 'O', 'O', 'O', 'O', 'B-DOSAGE', 'O', 'O', 'O', 'O', 'O', 'O', 'O', 'O', 'O', 'O', 'O', 'O', 'O', 'O', 'O', 'O', 'O', 'B-DRUG', 'O', 'O', 'O', 'O', 'O', 'O', 'O', 'O', 'O', 'O', 'O', 'B-DOSAGE', 'O', 'O', 'O', 'O', 'O', 'O', 'O', 'O', 'O', 'O', 'O', 'O', 'O', 'O', 'O', 'O', 'O', 'B-DRUG', 'O', 'O', 'O', 'O', 'O', 'O', 'O', 'O', 'O', 'O', 'O', 'B-DOSAGE', 'O', 'O', 'O', 'O', 'O', 'O', 'O', 'O', 'O', 'O', 'O', 'O', 'O', 'O', 'O', 'O', 'O', 'O', 'O', 'O', 'O', 'O', 'O', 'O', 'I-DOSAGE', 'O', 'B-DRUG', 'O', 'O', 'O', 'O', 'O', 'B-DRUG', 'O', 'O', 'O', 'B-DOSAGE', 'I-DOSAGE', 'O', 'B-DOSAGE', 'I-DOSAGE', 'O', 'O', 'O', 'O', 'O', 'O', 'O', 'O', 'O', 'O', 'O', 'O', 'O', 'O', 'O', 'O', 'O', 'O', 'O', 'O', 'O', 'O', 'O', 'O', 'O', 'O', 'O', 'O', 'O', 'O', 'O', 'O', 'O', 'O', 'O', 'O', 'O', 'O', 'B-DRUG', 'B-DOSAGE', 'O', 'O', 'O', 'O', 'O', 'O', 'O', 'O', 'O', 'O', 'O', 'O', 'O', 'O', 'B-DRUG', 'B-DOSAGE', 'O', 'O', 'O', 'O', 'O', 'O', 'O', 'O', 'O', 'O', 'O', 'O', 'O', 'O', 'O', 'O', 'O', 'O', 'O', 'O', 'O', 'O', 'O', 'O', 'O', 'O', 'O', 'O', 'O', 'O', 'O', 'O', 'O', 'O', 'O', 'O', 'O', 'O', 'O', 'O', 'O', 'O', 'O', 'B-DOSAGE', 'O', 'O', 'O', 'O', 'O', 'B-DRUG', 'O', 'O', 'I-DOSAGE', 'I-DOSAGE', 'O', 'O', 'O', 'O', 'O', 'O', 'B-DOSAGE', 'O', 'O', 'B-DRUG', 'O', 'I-DRUG', 'O', 'O', 'O', 'O', 'O', 'O', 'O', 'O', 'O', 'O', 'O', 'O', 'O', 'O', 'O', 'O', 'B-DOSAGE', 'I-DOSAGE', 'O', 'B-DRUG', 'I-DRUG', 'O', 'O', 'O', 'O', 'B-DOSAGE', 'O', 'O', 'O', 'O', 'O', 'O', 'O', 'O', 'O', 'O', 'O', 'O', 'O', 'O', 'O', 'O', 'O', 'O', 'O', 'O', 'O', 'O', 'O', 'B-DOSAGE', 'O', 'O', 'O', 'O', 'O', 'O', 'O', 'O', 'O', 'O', 'O', 'O', 'O', 'O', 'O', 'O', 'O', 'O', 'O', 'O', 'O', 'B-DOSAGE', 'O', 'O', 'O', 'O', 'O', 'O', 'O', 'O', 'O', 'O', 'O', 'O', 'O', 'O', 'O', 'O', 'O', 'O', 'O', 'O', 'O', 'B-DOSAGE', 'O', 'O', 'O', 'O', 'O', 'O', 'O', 'O', 'O', 'O', 'O', 'O', 'O', 'O', 'O', 'O', 'O', 'O', 'O', 'O', 'O', 'B-DOSAGE', 'O', 'O', 'O', 'O', 'O', 'O', 'O', 'O', 'O', 'O', 'O', 'O', 'O', 'O', 'O', 'O', 'O', 'O', 'O', 'O', 'O', 'O', 'O', 'O', 'O', 'O', 'O', 'O', 'O', 'O', 'O', 'O', 'O', 'O', 'O', 'O', 'I-DOSAGE', 'O', 'I-DOSAGE', 'B-DRUG', 'O', 'O', 'O', 'O', 'O', 'O', 'O', 'O', 'O', 'O', 'O', 'O', 'O', 'O', 'O', 'O', 'O', 'O', 'O', 'O', 'O', 'O', 'O', 'O', 'O', 'O', 'O', 'I-DOSAGE', 'O', 'O', 'I-DOSAGE', 'B-DRUG', 'O', 'O', 'O', 'O', 'O', 'O', 'O', 'O', 'O', 'O', 'O', 'O', 'O', 'O', 'O', 'O', 'O', 'O', 'O', 'O', 'O', 'O', 'O', 'O', 'O', 'O', 'O', 'O', 'O', 'O', 'O', 'O', 'I-DOSAGE', 'B-DRUG', 'O', 'O', 'O', 'O', 'O', 'O', 'O', 'O', 'O', 'O', 'O', 'B-DRUG', 'B-DOSAGE', 'O', 'O', 'O', 'O', 'O', 'O', 'O', 'O', 'O', 'O', 'O', 'O', 'O', 'O', 'O', 'O', 'O', 'O', 'O', 'O', 'O', 'O', 'O', 'O', 'O', 'O', 'O', 'O', 'O', 'O', 'O', 'O', 'O', 'O', 'O', 'O', 'O', 'O', 'O', 'O', 'B-DOSAGE', 'O', 'O', 'O', 'O', 'O', 'O', 'O', 'O', 'O', 'O', 'O', 'O', 'O', 'O', 'O', 'O', 'O', 'O', 'O', 'O', 'O', 'O', 'O', 'O', 'O', 'O', 'O', 'O', 'O', 'O', 'B-DOSAGE', 'O', 'O', 'O', 'O', 'O', 'O', 'O', 'O', 'O', 'O', 'O', 'O', 'O', 'O', 'O', 'O', 'O', 'O', 'O', 'O', 'O', 'O', 'O', 'O', 'O', 'O', 'O', 'O', 'O', 'O', 'B-DOSAGE', 'O', 'O', 'O', 'O', 'O', 'O', 'O', 'B-DRUG', 'O', 'I-DOSAGE', 'O', 'O', 'O', 'O', 'O', 'I-DOSAGE', 'O', 'O', 'O', 'O', 'O', 'O', 'O', 'O', 'O', 'O', 'O', 'O', 'O', 'O', 'O', 'O', 'O', 'O', 'O', 'O', 'O', 'O', 'O', 'O', 'O', 'B-DRUG', 'I-DRUG', 'O', 'O', 'O', 'B-DOSAGE', 'I-DOSAGE', 'I-DOSAGE', 'I-DOSAGE', 'O', 'O', 'O', 'O', 'O', 'O', 'O', 'O', 'O', 'O', 'O', 'O', 'O', 'O', 'O', 'O', 'O', 'O', 'O', 'O', 'O', 'B-DRUG', 'O', 'O', 'O', 'I-DOSAGE', 'O', 'I-DOSAGE', 'I-DOSAGE', 'O', 'O', 'I-DOSAGE', 'O', 'I-DOSAGE', 'I-DOSAGE', 'O', 'O', 'O', 'O', 'O', 'O', 'O', 'O', 'O', 'O', 'O', 'O', 'O', 'O', 'O', 'B-DRUG', 'B-DOSAGE', 'O', 'O', 'O', 'O', 'O', 'O', 'B-DOSAGE', 'O', 'O', 'B-DRUG', 'O', 'O', 'O', 'O', 'O', 'O', 'O', 'O', 'O', 'O', 'O', 'O', 'O', 'O', 'O', 'O', 'O', 'O', 'O', 'O', 'O', 'O', 'O', 'O', 'O', 'O', 'O', 'O', 'O', 'O', 'O', 'O', 'B-DOSAGE', 'I-DOSAGE', 'O', 'B-DRUG', 'O', 'O', 'O', 'O', 'O', 'O', 'O', 'O', 'O', 'O', 'O', 'O', 'O', 'O', 'O', 'O', 'O', 'O', 'O', 'O', 'O', 'O', 'O', 'O', 'O', 'O', 'O', 'O', 'O', 'O', 'O', 'O', 'O', 'O', 'O', 'O', 'O', 'O', 'O', 'O', 'O', 'O', 'O', 'O', 'O', 'O', 'O', 'O', 'O', 'O', 'O', 'O', 'O', 'O', 'O', 'B-DRUG', 'I-DRUG', 'O', 'B-DOSAGE', 'I-DOSAGE', 'I-DOSAGE', 'I-DOSAGE', 'O', 'O', 'O', 'O', 'O', 'O', 'O', 'O', 'O', 'O', 'O', 'O', 'O', 'O', 'O', 'O', 'O', 'O', 'O', 'O', 'O', 'O', 'O', 'O', 'O', 'B-DOSAGE', 'O', 'O', 'B-DRUG', 'O', 'O', 'O', 'O', 'O', 'B-DOSAGE', 'I-DOSAGE', 'I-DOSAGE', 'I-DOSAGE', 'O', 'B-DRUG', 'O', 'O', 'O', 'O', 'O', 'O', 'O', 'O', 'O', 'O', 'O', 'O', 'O', 'O', 'O', 'O', 'O', 'O', 'O', 'O', 'O', 'O', 'O', 'O', 'B-DRUG', 'O', 'O', 'O', 'I-DOSAGE', 'I-DOSAGE', 'I-DOSAGE', 'O', 'B-DOSAGE', 'I-DOSAGE', 'I-DOSAGE', 'I-DOSAGE', 'I-DOSAGE', 'O', 'O', 'O', 'O', 'O', 'O', 'O', 'O', 'O', 'O', 'O', 'O', 'O', 'O', 'O', 'O', 'O', 'O', 'O', 'O', 'O', 'O', 'O', 'O', 'O', 'O', 'O', 'O', 'O', 'O', 'O', 'O', 'O', 'B-DOSAGE', 'O', 'O', 'O', 'B-DRUG', 'O', 'O', 'O', 'O', 'O', 'O', 'O', 'O', 'O', 'O', 'O', 'O', 'O', 'O', 'O', 'O', 'O', 'O', 'O', 'O', 'O', 'O', 'B-DRUG', 'B-DOSAGE', 'O', 'O', 'O', 'O', 'O', 'O', 'O', 'O', 'O', 'O', 'O', 'O', 'O', 'O', 'O', 'O', 'O', 'O', 'O', 'O', 'O', 'B-DOSAGE', 'O', 'I-DOSAGE', 'O', 'O', 'O', 'O', 'O', 'O', 'O', 'O', 'O', 'O', 'O', 'O', 'O', 'O', 'B-DRUG', 'O', 'O', 'O', 'O', 'O', 'O', 'O', 'O', 'O', 'O', 'O', 'O', 'O', 'O', 'O', 'O', 'O', 'O', 'B-DOSAGE', 'O', 'I-DOSAGE', 'O', 'O', 'O', 'O', 'O', 'O', 'O', 'O', 'O', 'O', 'O', 'O', 'O', 'O', 'B-DRUG', 'O', 'O', 'O', 'O', 'O', 'O', 'O', 'O', 'O', 'O', 'O', 'O', 'O', 'O', 'O', 'O', 'O', 'O', 'B-DOSAGE', 'O', 'I-DOSAGE', 'O', 'O', 'O', 'O', 'O', 'O', 'O', 'O', 'O', 'O', 'O', 'O', 'O', 'O', 'B-DRUG', 'O', 'O', 'O', 'O', 'O', 'O', 'O', 'O', 'O', 'O', 'O', 'O', 'O', 'O', 'O', 'O', 'O', 'O', 'O', 'O', 'O', 'O', 'O', 'B-DOSAGE', 'I-DOSAGE', 'I-DOSAGE', 'I-DOSAGE', 'O', 'B-DRUG', 'O', 'I-DRUG', 'O', 'O', 'O', 'O', 'O', 'O', 'O', 'O', 'O', 'O', 'O', 'O', 'B-DOSAGE', 'I-DOSAGE', 'B-DRUG', 'O', 'O', 'O', 'O', 'O', 'O', 'O', 'O', 'O', 'O', 'O', 'O', 'O', 'O', 'O', 'O', 'O', 'O', 'O', 'O', 'O', 'O', 'O', 'O', 'O', 'O', 'O', 'O', 'O', 'O', 'O', 'O', 'I-DOSAGE', 'I-DOSAGE', 'O', 'O', 'O', 'O', 'O', 'O', 'O', 'O', 'O', 'O', 'O', 'O', 'O', 'O', 'O', 'O', 'O', 'O', 'O', 'O', 'O', 'O', 'O', 'O', 'O', 'O', 'O', 'O', 'O', 'O', 'O', 'O', 'O', 'O', 'O', 'O', 'O', 'O', 'O', 'O', 'O', 'O', 'O', 'O', 'O', 'I-DOSAGE', 'I-DOSAGE', 'O', 'O', 'O', 'O', 'O', 'O', 'O', 'O', 'O', 'O', 'O', 'O', 'O', 'O', 'O', 'O', 'O', 'O', 'O', 'O', 'O', 'O', 'O', 'O', 'O', 'O', 'O', 'O', 'O', 'O', 'O', 'B-DRUG', 'I-DRUG', 'O', 'O', 'B-DOSAGE', 'I-DOSAGE', 'I-DOSAGE', 'I-DOSAGE', 'I-DOSAGE', 'O', 'O', 'O', 'I-DOSAGE', 'I-DOSAGE', 'I-DOSAGE', 'O', 'O', 'O', 'O', 'O', 'O', 'O', 'O', 'O', 'O', 'O', 'O', 'O', 'O', 'O', 'O', 'O', 'O', 'O', 'O', 'O', 'O', 'O', 'O', 'O', 'O', 'O', 'O', 'O', 'O', 'B-DRUG', 'O', 'B-DOSAGE', 'I-DOSAGE', 'O', 'O', 'O', 'O', 'O', 'O', 'O', 'O', 'O', 'O', 'O', 'O', 'O', 'O', 'O', 'B-DOSAGE', 'O', 'B-DRUG', 'O', 'O', 'O', 'O', 'O', 'O', 'O', 'O', 'O', 'O', 'O', 'O', 'O', 'O', 'O', 'B-DOSAGE', 'O', 'B-DRUG', 'O', 'O', 'O', 'O', 'O', 'O', 'O', 'O', 'O', 'O', 'O', 'O', 'O', 'O', 'O', 'O', 'O', 'O', 'O', 'O', 'O', 'O', 'O', 'O', 'O', 'O', 'O', 'O', 'I-DRUG', 'O', 'O', 'O', 'O', 'O', 'O', 'O', 'O', 'O', 'O', 'O', 'O', 'O', 'B-DOSAGE', 'O', 'B-DRUG', 'O', 'B-DOSAGE', 'I-DOSAGE', 'I-DOSAGE', 'I-DOSAGE', 'O', 'O', 'O', 'O', 'O', 'O', 'O', 'O', 'O', 'O', 'O', 'O', 'O', 'I-DRUG', 'O', 'O', 'O', 'O', 'O', 'O', 'O', 'O', 'O', 'O', 'O', 'O', 'O', 'B-DOSAGE', 'O', 'O', 'B-DRUG', 'O', 'B-DOSAGE', 'I-DOSAGE', 'I-DOSAGE', 'I-DOSAGE', 'O', 'O', 'O', 'O', 'O', 'O', 'O', 'O', 'O', 'O', 'B-DRUG', 'B-DOSAGE', 'O', 'O', 'O', 'O', 'O', 'O', 'O', 'O', 'O', 'O', 'O', 'O', 'O', 'O', 'O', 'B-DRUG', 'B-DOSAGE', 'O', 'O', 'O', 'O', 'O', 'O', 'O', 'O', 'O', 'O', 'O', 'O', 'O', 'O', 'O', 'O', 'O', 'O', 'O', 'O', 'O', 'O', 'O', 'B-DRUG', 'O', 'O', 'O', 'O', 'O', 'O', 'O', 'O', 'O', 'O', 'O', 'B-DRUG', 'O', 'O', 'O', 'I-DOSAGE', 'I-DOSAGE', 'I-DOSAGE', 'O', 'O', 'O', 'O', 'O', 'O', 'B-DRUG', 'O', 'O', 'O', 'O', 'O', 'O', 'O', 'O', 'O', 'O', 'O', 'B-DRUG', 'O', 'O', 'O', 'I-DOSAGE', 'I-DOSAGE', 'I-DOSAGE', 'O', 'O', 'O', 'O', 'O', 'O', 'O', 'O', 'O', 'O', 'O', 'O', 'O', 'O', 'O', 'B-DRUG', 'O', 'I-DRUG', 'B-DOSAGE', 'I-DOSAGE', 'I-DOSAGE', 'I-DOSAGE', 'O', 'O', 'I-DRUG', 'O', 'O', 'O', 'O', 'O', 'O', 'O', 'O', 'O', 'O', 'O', 'B-DRUG', 'O', 'O', 'B-DOSAGE', 'I-DOSAGE', 'I-DOSAGE', 'I-DOSAGE', 'O', 'O', 'O', 'O', 'O', 'O', 'O', 'O', 'O', 'O', 'B-DRUG', 'O', 'O', 'O', 'O', 'O', 'O', 'O', 'O', 'O', 'O', 'O', 'O', 'O', 'O', 'O', 'B-DRUG', 'B-DOSAGE', 'O', 'O', 'O', 'O', 'O', 'O', 'O', 'O', 'O', 'O', 'O', 'O', 'O', 'O', 'O', 'O', 'O', 'O', 'O', 'O', 'O', 'B-DOSAGE', 'O', 'O', 'O', 'O', 'B-DRUG', 'O', 'O', 'O', 'O', 'O', 'O', 'B-DRUG', 'B-DOSAGE', 'O', 'O', 'O', 'O', 'O', 'O', 'O', 'O', 'O', 'O', 'O', 'O', 'O', 'O', 'O', 'O', 'O', 'O', 'O', 'B-DOSAGE', 'I-DOSAGE', 'I-DOSAGE', 'I-DOSAGE', 'B-DRUG', 'O', 'O', 'O', 'O', 'O', 'O', 'O', 'O', 'O', 'O', 'O', 'O', 'O', 'B-DOSAGE', 'O', 'O', 'B-DRUG', 'O', 'O', 'O', 'O', 'O', 'O', 'O', 'O', 'B-DRUG', 'O', 'B-DOSAGE', 'I-DOSAGE', 'I-DOSAGE', 'I-DOSAGE', 'O', 'O', 'O', 'O', 'O', 'O', 'O', 'O', 'O', 'O', 'O', 'O', 'O', 'O', 'O', 'O', 'B-DOSAGE', 'O', 'O', 'O', 'I-DOSAGE', 'O', 'O', 'O', 'O', 'O', 'O', 'O', 'O', 'O', 'O', 'O', 'O', 'O', 'O', 'O', 'O', 'B-DOSAGE', 'O', 'O', 'O', 'I-DOSAGE', 'O', 'O', 'O', 'O', 'O', 'O', 'O', 'O', 'O', 'O', 'O', 'O', 'O', 'O', 'O', 'O', 'B-DOSAGE', 'O', 'O', 'O', 'I-DOSAGE', 'O', 'O', 'O', 'O', 'O', 'O', 'O', 'O', 'O', 'O', 'O', 'O', 'O', 'O', 'O', 'O', 'O', 'O', 'O', 'O', 'O', 'O', 'O', 'O', 'O', 'O', 'O', 'O', 'O', 'O', 'O', 'O', 'O', 'O', 'O', 'O', 'O', 'O', 'O', 'O', 'O', 'O', 'O', 'O', 'O', 'O', 'O', 'O', 'O', 'B-DOSAGE', 'O', 'O', 'O', 'O', 'O', 'O', 'O', 'O', 'O', 'O', 'O', 'O', 'O', 'O', 'O', 'O', 'O', 'O', 'O', 'O', 'O', 'O', 'O', 'O', 'O', 'O', 'O', 'O', 'O', 'O', 'O', 'O', 'O', 'O', 'O', 'O', 'O', 'O', 'O', 'O', 'O', 'O', 'B-DOSAGE', 'O', 'O', 'O', 'O', 'O', 'O', 'O', 'O', 'O', 'O', 'O', 'O', 'O', 'O', 'O', 'O', 'O', 'O', 'O', 'O', 'O', 'O', 'O', 'O', 'O', 'O', 'O', 'O', 'O', 'O', 'O', 'O', 'O', 'O', 'O', 'O', 'O', 'O', 'O', 'O', 'O', 'O', 'B-DOSAGE', 'O', 'O', 'O', 'O', 'O', 'O', 'O', 'O', 'O', 'O', 'O', 'O', 'O', 'O', 'O', 'O', 'O', 'B-DOSAGE', 'O', 'O', 'O', 'O', 'O', 'O', 'O', 'O', 'O', 'O', 'O', 'O', 'O', 'O', 'O', 'O', 'O', 'O', 'O', 'O', 'O', 'O', 'O', 'O', 'O', 'O', 'O', 'O', 'O', 'O', 'O', 'O', 'O', 'O', 'O', 'B-DOSAGE', 'O', 'O', 'O', 'O', 'O', 'O', 'O', 'O', 'O', 'O', 'O', 'O', 'O', 'O', 'O', 'O', 'O', 'O', 'O', 'O', 'O', 'O', 'O', 'O', 'O', 'O', 'O', 'O', 'O', 'O', 'O', 'O', 'O', 'O', 'O', 'B-DOSAGE', 'O', 'O', 'O', 'O', 'O', 'O', 'O', 'O', 'O', 'O', 'O', 'O', 'O', 'O', 'O', 'O', 'O', 'O', 'O', 'O', 'O', 'O', 'O', 'O', 'O', 'O', 'O', 'O', 'O', 'O', 'O', 'O', 'O', 'O', 'O', 'B-DOSAGE', 'O', 'O', 'O', 'O', 'I-DOSAGE', 'I-DOSAGE', 'O', 'O', 'O', 'O', 'O', 'O', 'O', 'O', 'O', 'O', 'O', 'O', 'O', 'O', 'O', 'O', 'O', 'O', 'O', 'O', 'O', 'O', 'O', 'O', 'O', 'O', 'O', 'O', 'O', 'O', 'O', 'O', 'O', 'O', 'B-DOSAGE', 'O', 'O', 'O', 'O', 'I-DOSAGE', 'I-DOSAGE', 'O', 'O', 'O', 'O', 'O', 'O', 'O', 'O', 'O', 'O', 'O', 'O', 'O', 'O', 'O', 'O', 'O', 'O', 'O', 'O', 'O', 'O', 'O', 'O', 'O', 'O', 'O', 'O', 'O', 'O', 'O', 'O', 'O', 'B-DOSAGE', 'O', 'O', 'O', 'O', 'I-DOSAGE', 'I-DOSAGE', 'O', 'O', 'O', 'O', 'O', 'O', 'O', 'O', 'O', 'O', 'O', 'O', 'O', 'O', 'O', 'O', 'O', 'O', 'O', 'O', 'O', 'O', 'O', 'O', 'O', 'O', 'O', 'O', 'B-DOSAGE', 'B-DRUG', 'O', 'O', 'O', 'O', 'O', 'O', 'O', 'O', 'O', 'O', 'O', 'O', 'O', 'O', 'O', 'O', 'O', 'O', 'O', 'O', 'O', 'B-DRUG', 'I-DRUG', 'O', 'B-DOSAGE', 'I-DOSAGE', 'I-DOSAGE', 'I-DOSAGE', 'O', 'O', 'O', 'O', 'O', 'O', 'O', 'O', 'O', 'O', 'B-DRUG', 'O', 'O', 'O', 'O', 'O', 'O', 'B-DOSAGE', 'O', 'O', 'B-DRUG', 'O', 'O', 'O', 'O', 'O', 'O', 'O', 'O', 'O', 'O', 'O', 'O', 'O', 'O', 'O', 'O', 'O', 'O', 'O', 'O', 'O', 'B-DOSAGE', 'O', 'O', 'B-DRUG', 'O', 'O', 'O', 'O', 'O', 'O', 'O', 'O', 'O', 'O', 'O', 'O', 'O', 'O', 'O', 'O', 'O', 'O', 'O', 'O', 'B-DRUG', 'B-DOSAGE', 'O', 'O', 'O', 'O', 'O', 'O', 'O', 'O', 'O', 'O', 'O', 'O', 'O', 'B-DOSAGE', 'O', 'O', 'O', 'B-DRUG', 'O', 'O', 'O', 'O', 'O', 'O', 'O', 'O', 'O', 'O', 'O', 'O', 'O', 'O', 'O', 'I-DOSAGE', 'O', 'B-DOSAGE', 'O', 'O', 'O', 'O', 'B-DOSAGE', 'I-DOSAGE', 'I-DOSAGE', 'I-DOSAGE', 'O', 'O', 'O', 'O', 'O', 'O', 'O', 'O', 'O', 'O', 'O', 'O', 'O', 'O', 'O', 'O', 'O', 'O', 'O', 'B-DOSAGE', 'O', 'B-DRUG', 'O', 'O', 'I-DOSAGE', 'I-DOSAGE', 'I-DOSAGE', 'O', 'O', 'O', 'O', 'O', 'O', 'O', 'O', 'O', 'O', 'O', 'O', 'O', 'O', 'O', 'O', 'O', 'O', 'O', 'O', 'O', 'B-DOSAGE', 'O', 'O', 'B-DRUG', 'O', 'O', 'I-DOSAGE', 'I-DOSAGE', 'I-DOSAGE', 'O', 'O', 'O', 'B-DOSAGE', 'O', 'O', 'B-DRUG', 'O', 'O', 'O', 'O', 'O', 'O', 'O', 'O', 'O', 'O', 'O', 'O', 'O', 'O', 'O', 'O', 'O', 'O', 'O', 'O', 'O', 'O', 'O', 'O', 'O', 'O', 'O', 'O', 'O', 'B-DOSAGE', 'I-DOSAGE', 'B-DRUG', 'O', 'O', 'O', 'O', 'O', 'O', 'O', 'O', 'O', 'B-DOSAGE', 'O', 'O', 'B-DRUG', 'O', 'O', 'O', 'O', 'O', 'O', 'B-DOSAGE', 'O', 'O', 'B-DRUG', 'O', 'O', 'O', 'O', 'O', 'O', 'O', 'O', 'O', 'O', 'O', 'O', 'O', 'O', 'O', 'O', 'O', 'B-DOSAGE', 'O', 'O', 'B-DRUG', 'O', 'O', 'O', 'O', 'O', 'O', 'O', 'O', 'O', 'O', 'O', 'O', 'O', 'O', 'O', 'O', 'O', 'O', 'O', 'O', 'O', 'O', 'O', 'O', 'O', 'O', 'O', 'B-DOSAGE', 'I-DOSAGE', 'B-DRUG', 'O', 'O', 'O', 'O', 'B-DRUG', 'B-DOSAGE', 'O', 'O', 'O', 'O', 'O', 'O', 'O', 'O', 'O', 'O', 'O', 'O', 'O', 'O', 'B-DOSAGE', 'O', 'O', 'O', 'O', 'O', 'O', 'O', 'B-DRUG', 'B-DOSAGE', 'O', 'O', 'O', 'O', 'O', 'O', 'O', 'O', 'O', 'O', 'O', 'O', 'O', 'O', 'O', 'O', 'O', 'O', 'O', 'O', 'B-DOSAGE', 'I-DOSAGE', 'B-DRUG', 'O', 'O', 'O', 'O', 'O', 'O', 'O', 'O', 'O', 'O', 'O', 'O', 'O', 'O', 'O', 'O', 'B-DOSAGE', 'I-DOSAGE', 'B-DRUG', 'O', 'O', 'O', 'O', 'O', 'O', 'O', 'O', 'O', 'O', 'O', 'O', 'B-DOSAGE', 'O', 'O', 'B-DRUG', 'O', 'O', 'I-DOSAGE', 'I-DOSAGE', 'O', 'O', 'O', 'O', 'O', 'O', 'O', 'O', 'O', 'O', 'O', 'O', 'O', 'O', 'O', 'O', 'O', 'O', 'O', 'O', 'O', 'O', 'O', 'O', 'O', 'O', 'B-DOSAGE', 'O', 'O', 'B-DRUG', 'O', 'O', 'I-DOSAGE', 'I-DOSAGE', 'O', 'O', 'O', 'O', 'O', 'O', 'O', 'O', 'O', 'O', 'O', 'O', 'O', 'O', 'O', 'O', 'O', 'O', 'O', 'O', 'O', 'O', 'O', 'O', 'O', 'O', 'O', 'O', 'O', 'B-DOSAGE', 'O', 'O', 'B-DRUG', 'O', 'O', 'O', 'O', 'O', 'O', 'O', 'O', 'O', 'O', 'B-DOSAGE', 'O', 'O', 'B-DRUG', 'O', 'O', 'O', 'O', 'O', 'O', 'O', 'O', 'O', 'O', 'O', 'O', 'O', 'O', 'O', 'O', 'O', 'O', 'O', 'O', 'O', 'O', 'B-DOSAGE', 'O', 'O', 'O', 'O', 'O', 'B-DRUG', 'O', 'B-DOSAGE', 'O', 'I-DOSAGE', 'I-DOSAGE', 'I-DOSAGE', 'I-DOSAGE', 'O', 'O', 'O', 'O', 'O', 'O', 'O', 'O', 'O', 'O', 'O', 'O', 'O', 'O', 'O', 'O', 'O', 'O', 'O', 'O', 'O', 'O', 'O', 'B-DOSAGE', 'O', 'O', 'O', 'O', 'O', 'B-DRUG', 'O', 'B-DOSAGE', 'O', 'I-DOSAGE', 'I-DOSAGE', 'I-DOSAGE', 'I-DOSAGE', 'O', 'O', 'O', 'O', 'O', 'O', 'O', 'O', 'O', 'O', 'O', 'O', 'O', 'O', 'O', 'B-DOSAGE', 'O', 'B-DRUG', 'O', 'O', 'O', 'O', 'O', 'B-DRUG', 'O', 'O', 'O', 'O', 'O', 'O', 'O', 'O', 'O', 'B-DRUG', 'B-DOSAGE', 'I-DOSAGE', 'I-DOSAGE', 'I-DOSAGE', 'O', 'O', 'O', 'O', 'O', 'O', 'O', 'O', 'O', 'O', 'O', 'O', 'O', 'O', 'B-DRUG', 'B-DOSAGE', 'O', 'O', 'O', 'O', 'O', 'O', 'O', 'O', 'O', 'O', 'O', 'O', 'O', 'O', 'O', 'O', 'O', 'O', 'O', 'O', 'O', 'I-DOSAGE', 'I-DOSAGE', 'I-DOSAGE', 'O', 'O', 'O', 'O', 'B-DRUG', 'O', 'O', 'O', 'O', 'O', 'O', 'O', 'O', 'O', 'O', 'O', 'O', 'O', 'O', 'O', 'O', 'O', 'O', 'O', 'O', 'O', 'O', 'O', 'O', 'B-DRUG', 'B-DOSAGE', 'I-DOSAGE', 'I-DOSAGE', 'I-DOSAGE', 'O', 'O', 'O', 'O', 'O', 'O', 'O', 'O', 'O', 'O', 'O', 'O', 'O', 'O', 'O', 'O', 'O', 'O', 'O', 'B-DOSAGE', 'O', 'O', 'B-DRUG', 'O', 'O', 'O', 'O', 'O', 'O', 'O', 'O', 'O', 'O', 'O', 'O', 'O', 'O', 'O', 'O', 'O', 'O', 'O', 'O', 'O', 'B-DOSAGE', 'O', 'O', 'B-DRUG', 'O', 'B-DOSAGE', 'O', 'O', 'O', 'O', 'O', 'O', 'O', 'O', 'O', 'O', 'O', 'O', 'O', 'O', 'O', 'O', 'O', 'O', 'O', 'O', 'O', 'O', 'O', 'O', 'O', 'O', 'O', 'B-DOSAGE', 'O', 'O', 'B-DRUG', 'O', 'O', 'O', 'B-DOSAGE', 'O', 'O', 'B-DRUG', 'O', 'O', 'O', 'O', 'O', 'O', 'O', 'O', 'O', 'O', 'O', 'O', 'O', 'O', 'O', 'O', 'O', 'O', 'O', 'O', 'O', 'O', 'O', 'O', 'O', 'O', 'O', 'O', 'O', 'O', 'O', 'O', 'O', 'O', 'O', 'O', 'O', 'O', 'O', 'O', 'O', 'O', 'O', 'O', 'O', 'O', 'B-DOSAGE', 'O', 'B-DRUG', 'O', 'O', 'O', 'O', 'I-DOSAGE', 'I-DOSAGE', 'I-DOSAGE', 'O', 'O', 'O', 'O', 'O', 'O', 'O', 'O', 'O', 'O', 'O', 'O', 'O', 'O', 'O', 'O', 'O', 'O', 'O', 'O', 'O', 'O', 'O', 'O', 'O', 'O', 'O', 'O', 'O', 'O', 'O', 'O', 'O', 'O', 'O', 'O', 'O', 'O', 'O', 'O', 'O', 'O', 'O', 'O', 'O', 'B-DOSAGE', 'O', 'B-DRUG', 'O', 'O', 'O', 'O', 'I-DOSAGE', 'I-DOSAGE', 'I-DOSAGE', 'O', 'O', 'O', 'O', 'O', 'O', 'O', 'O', 'O', 'O', 'O', 'O', 'O', 'O', 'O', 'O', 'O', 'O', 'O', 'O', 'O', 'O', 'O', 'O', 'O', 'O', 'O', 'O', 'O', 'O', 'O', 'O', 'O', 'O', 'O', 'O', 'O', 'O', 'O', 'O', 'O', 'O', 'O', 'O', 'O', 'B-DOSAGE', 'O', 'O', 'B-DRUG', 'O', 'O', 'O', 'O', 'I-DOSAGE', 'I-DOSAGE', 'I-DOSAGE', 'O', 'O', 'O', 'O', 'O', 'O', 'O', 'O', 'O', 'O', 'O', 'O', 'O', 'O', 'O', 'O', 'O', 'O', 'O', 'O', 'O', 'O', 'O', 'O', 'O', 'O', 'O', 'O', 'O', 'O', 'O', 'O', 'O', 'O', 'O', 'O', 'O', 'O', 'O', 'O', 'O', 'O', 'O', 'O', 'O', 'B-DOSAGE', 'O', 'O', 'B-DRUG', 'O', 'O', 'O', 'O', 'I-DOSAGE', 'I-DOSAGE', 'I-DOSAGE', 'O', 'O', 'O', 'O', 'O', 'O', 'O', 'O', 'O', 'O', 'O', 'O', 'O', 'O', 'O', 'O', 'O', 'O', 'B-DOSAGE', 'O', 'O', 'B-DRUG', 'O', 'O', 'O', 'O', 'O', 'O', 'O', 'O', 'O', 'O', 'O', 'O', 'O', 'O', 'B-DRUG', 'O', 'O', 'O', 'O', 'O', 'O', 'O', 'O', 'B-DOSAGE', 'I-DOSAGE', 'I-DOSAGE', 'I-DOSAGE', 'O', 'O', 'O', 'O', 'O', 'O', 'O', 'O', 'O', 'O', 'O', 'O', 'O', 'O', 'O', 'O', 'O', 'O', 'O', 'O', 'O', 'O', 'B-DRUG', 'O', 'O', 'O', 'O', 'O', 'O', 'O', 'O', 'B-DOSAGE', 'I-DOSAGE', 'I-DOSAGE', 'I-DOSAGE', 'O', 'O', 'O', 'O', 'O', 'O', 'O', 'O', 'O', 'O', 'O', 'O', 'O', 'O', 'O', 'O', 'O', 'O', 'O', 'O', 'O', 'B-DRUG', 'O', 'B-DOSAGE', 'I-DOSAGE', 'O', 'I-DOSAGE', 'I-DOSAGE', 'O', 'O', 'O', 'O', 'O', 'O', 'O', 'O', 'O', 'O', 'O', 'O', 'O', 'O', 'O', 'O', 'O', 'O', 'O', 'B-DRUG', 'O', 'B-DOSAGE', 'I-DOSAGE', 'O', 'O', 'O', 'O', 'O', 'O', 'O', 'O', 'O', 'O', 'O', 'O', 'O', 'O', 'O', 'O', 'O', 'O', 'O', 'O', 'O', 'B-DOSAGE', 'O', 'O', 'B-DRUG', 'O', 'O', 'O', 'O', 'O', 'O', 'O', 'O', 'O', 'O', 'O', 'O', 'B-DOSAGE', 'O', 'O', 'B-DRUG', 'O', 'O', 'O', 'O', 'O', 'O', 'O', 'O', 'O', 'O', 'O', 'O', 'O', 'O', 'O', 'O', 'O', 'O', 'O', 'O', 'O', 'O', 'O', 'O', 'O', 'O', 'O', 'O', 'O', 'O', 'O', 'B-DRUG', 'B-DOSAGE', 'I-DOSAGE', 'I-DOSAGE', 'I-DOSAGE', 'O', 'O', 'O', 'O', 'O', 'O', 'O', 'O', 'B-DOSAGE', 'O', 'O', 'B-DRUG', 'I-DRUG', 'O', 'O', 'O', 'O', 'O', 'O', 'O', 'O', 'O', 'O', 'O', 'O', 'O', 'B-DRUG', 'O', 'O', 'O', 'B-DOSAGE', 'I-DOSAGE', 'I-DOSAGE', 'I-DOSAGE', 'O', 'O', 'O', 'O', 'O', 'O', 'O', 'O', 'O', 'O', 'O', 'O', 'O', 'O', 'O', 'O', 'O', 'O', 'O', 'O', 'O', 'O', 'O', 'O', 'O', 'O', 'O', 'O', 'O', 'B-DOSAGE', 'O', 'O', 'O', 'O', 'O', 'O', 'O', 'O', 'O', 'O', 'O', 'O', 'O', 'B-DOSAGE', 'I-DOSAGE', 'I-DOSAGE', 'I-DOSAGE', 'B-DRUG', 'O', 'O', 'I-DOSAGE', 'O', 'B-DRUG', 'O', 'O', 'O', 'O', 'O', 'O', 'O', 'O', 'O', 'O', 'O', 'O', 'O', 'O', 'O', 'O', 'B-DOSAGE', 'O', 'O', 'O', 'O', 'O', 'O', 'O', 'O', 'O', 'O', 'O', 'O', 'O', 'B-DOSAGE', 'I-DOSAGE', 'I-DOSAGE', 'I-DOSAGE', 'B-DRUG', 'O', 'O', 'I-DOSAGE', 'O', 'B-DRUG', 'O', 'O', 'O', 'O', 'O', 'O', 'O', 'O', 'O', 'I-DOSAGE', 'O', 'O', 'O', 'O', 'O', 'O', 'O', 'O', 'O', 'O', 'I-DOSAGE', 'O', 'O', 'O', 'O', 'O', 'O', 'O', 'O', 'O', 'O', 'O', 'O', 'O', 'O', 'O', 'O', 'O', 'I-DOSAGE', 'O', 'O', 'O', 'O', 'O', 'O', 'O', 'O', 'O', 'O', 'I-DOSAGE', 'O', 'O', 'O', 'O', 'O', 'O', 'O', 'O', 'O', 'O', 'O', 'O', 'O', 'O', 'O', 'O', 'O', 'I-DOSAGE', 'O', 'O', 'O', 'O', 'O', 'O', 'O', 'O', 'O', 'O', 'I-DOSAGE', 'O', 'O', 'O', 'O', 'O', 'O', 'O', 'O', 'O', 'O', 'O', 'O', 'O', 'O', 'O', 'O', 'O', 'I-DOSAGE', 'O', 'O', 'O', 'O', 'O', 'O', 'O', 'O', 'O', 'O', 'I-DOSAGE', 'O', 'O', 'O', 'O', 'O', 'O', 'O', 'O', 'O', 'O', 'O', 'O', 'O', 'O', 'O', 'O', 'O', 'I-DOSAGE', 'O', 'O', 'O', 'O', 'O', 'O', 'O', 'O', 'O', 'O', 'I-DOSAGE', 'O', 'O', 'O', 'O', 'O', 'O', 'O', 'O', 'O', 'O', 'O', 'O', 'O', 'O', 'O', 'O', 'O', 'O', 'O', 'O', 'O', 'O', 'O', 'O', 'O', 'O', 'O', 'O', 'O', 'O', 'O', 'I-DOSAGE', 'O', 'O', 'I-DOSAGE', 'I-DOSAGE', 'I-DOSAGE', 'O', 'B-DRUG', 'O', 'O', 'O', 'O', 'B-DOSAGE', 'O', 'B-DRUG', 'O', 'O', 'O', 'O', 'O', 'O', 'O', 'O', 'O', 'O', 'O', 'O', 'O', 'O', 'O', 'O', 'O', 'O', 'O', 'O', 'O', 'B-DOSAGE', 'O', 'O', 'B-DRUG', 'I-DRUG', 'O', 'O', 'O', 'O', 'O', 'O', 'O', 'O', 'O', 'O', 'B-DOSAGE', 'O', 'O', 'B-DRUG', 'I-DRUG', 'O', 'O', 'O', 'O', 'O', 'O', 'O', 'O', 'O', 'O', 'O', 'O', 'O', 'O', 'O', 'O', 'O', 'O', 'O', 'O', 'O', 'O', 'O', 'B-DOSAGE', 'O', 'O', 'B-DRUG', 'I-DRUG', 'O', 'O', 'O', 'O', 'O', 'O', 'O', 'O', 'B-DOSAGE', 'O', 'B-DRUG', 'O', 'O', 'O', 'O', 'O', 'O', 'O', 'O', 'O', 'O', 'B-DOSAGE', 'O', 'B-DRUG', 'O', 'O', 'O', 'O', 'O', 'O', 'O', 'O', 'O', 'O', 'O', 'O', 'O', 'O', 'O', 'O', 'O', 'O', 'O', 'O', 'O', 'O', 'O', 'O', 'O', 'O', 'B-DOSAGE', 'O', 'O', 'B-DRUG', 'O', 'O', 'O', 'O', 'O', 'O', 'O', 'O', 'O', 'O', 'O', 'O', 'O', 'O', 'O', 'O', 'O', 'O', 'O', 'O', 'O', 'O', 'O', 'O', 'B-DOSAGE', 'O', 'O', 'B-DRUG', 'O', 'O', 'O', 'O', 'O', 'O', 'O', 'O', 'O', 'O', 'O', 'O', 'O', 'B-DOSAGE', 'O', 'B-DRUG', 'O', 'O', 'O', 'O', 'O', 'O', 'O', 'O', 'O', 'O', 'O', 'O', 'O', 'O', 'B-DRUG', 'I-DRUG', 'O', 'B-DRUG', 'O', 'I-DRUG', 'O', 'O', 'O', 'O', 'O', 'O', 'O', 'O', 'O', 'O', 'O', 'O', 'O', 'O', 'O', 'B-DOSAGE', 'I-DOSAGE', 'I-DOSAGE', 'I-DOSAGE', 'I-DOSAGE', 'O', 'O', 'O', 'O', 'O', 'O', 'O', 'O', 'O', 'B-DRUG', 'I-DRUG', 'O', 'B-DRUG', 'O', 'I-DRUG', 'O', 'O', 'O', 'O', 'O', 'O', 'O', 'O', 'O', 'O', 'O', 'O', 'O', 'O', 'O', 'B-DOSAGE', 'I-DOSAGE', 'I-DOSAGE', 'I-DOSAGE', 'I-DOSAGE', 'O', 'O', 'O', 'O', 'O', 'O', 'O', 'O', 'O', 'O', 'O', 'B-DRUG', 'O', 'O', 'I-DOSAGE', 'I-DOSAGE', 'I-DOSAGE', 'I-DOSAGE', 'O', 'O', 'O', 'O', 'O', 'O', 'O', 'O', 'O', 'O', 'O', 'O', 'O', 'O', 'O', 'O', 'O', 'O', 'B-DRUG', 'I-DRUG', 'O', 'O', 'O', 'O', 'O', 'O', 'O', 'O', 'O', 'O', 'O', 'B-DOSAGE', 'O', 'O', 'O', 'O', 'O', 'O', 'O', 'O', 'O', 'O', 'O', 'B-DRUG', 'O', 'O', 'O', 'O', 'O', 'O', 'O', 'O', 'O', 'O', 'O', 'B-DRUG', 'O', 'O', 'O', 'O', 'O', 'O', 'O', 'O', 'O', 'O', 'O', 'O', 'O', 'O', 'O', 'B-DRUG', 'O', 'O', 'O', 'O', 'O', 'O', 'O', 'O', 'O', 'O', 'O', 'O', 'O', 'O', 'O', 'O', 'O', 'O', 'I-DOSAGE', 'B-DRUG', 'O', 'O', 'O', 'O', 'O', 'O', 'O', 'O', 'B-DOSAGE', 'O', 'O', 'O', 'O', 'O', 'O', 'O', 'O', 'O', 'O', 'O', 'O', 'O', 'O', 'O', 'O', 'O', 'O', 'O', 'O', 'B-DOSAGE', 'O', 'O', 'O', 'O', 'O', 'O', 'O', 'O', 'O', 'O', 'O', 'O', 'O', 'O', 'O', 'O', 'O', 'O', 'O', 'O', 'O', 'O', 'O', 'O', 'O', 'O', 'B-DRUG', 'O', 'B-DOSAGE', 'I-DOSAGE', 'I-DOSAGE', 'O', 'O', 'I-DOSAGE', 'O', 'I-DOSAGE', 'O', 'O', 'O', 'O', 'O', 'O', 'O', 'O', 'O', 'O', 'O', 'O', 'O', 'O', 'O', 'O', 'O', 'O', 'O', 'O', 'O', 'B-DRUG', 'O', 'I-DRUG', 'O', 'O', 'O', 'O', 'O', 'O', 'O', 'O', 'O', 'O', 'O', 'O', 'O', 'O', 'O', 'O', 'O', 'B-DRUG', 'O', 'B-DOSAGE', 'I-DOSAGE', 'O', 'B-DOSAGE', 'I-DOSAGE', 'O', 'O', 'O', 'O', 'O', 'O', 'O', 'O', 'O', 'O', 'O', 'O', 'O', 'O', 'O', 'O', 'O', 'O', 'O', 'O', 'O', 'O', 'O', 'O', 'O', 'B-DRUG', 'O', 'B-DOSAGE', 'I-DOSAGE', 'O', 'B-DOSAGE', 'I-DOSAGE', 'O', 'O', 'O', 'O', 'O', 'O', 'O', 'O', 'O', 'O', 'O', 'O', 'O', 'O', 'O', 'O', 'O', 'O', 'O', 'O', 'O', 'B-DOSAGE', 'O', 'O', 'I-DOSAGE', 'O', 'O', 'O', 'O', 'O', 'O', 'O', 'O', 'O', 'O', 'O', 'O', 'O', 'O', 'O', 'O', 'O', 'O', 'O', 'O', 'O', 'O', 'O', 'O', 'O', 'O', 'O', 'O', 'O', 'O', 'O', 'B-DOSAGE', 'O', 'O', 'I-DOSAGE', 'O', 'O', 'O', 'O', 'O', 'O', 'O', 'O', 'O', 'O', 'O', 'O', 'O', 'O', 'O', 'O', 'O', 'O', 'O', 'O', 'O', 'O', 'O', 'O', 'O', 'O', 'O', 'O', 'O', 'O', 'O', 'B-DRUG', 'O', 'I-DOSAGE', 'O', 'O', 'O', 'O', 'O', 'O', 'O', 'O', 'O', 'O', 'O', 'O', 'O', 'O', 'O', 'O', 'O', 'O', 'O', 'O', 'O', 'O', 'O', 'B-DRUG', 'B-DRUG', 'B-DOSAGE', 'I-DOSAGE', 'I-DOSAGE', 'I-DOSAGE', 'O', 'B-DRUG', 'B-DOSAGE', 'I-DOSAGE', 'O', 'I-DOSAGE', 'O', 'O', 'O', 'O', 'O', 'O', 'O', 'O', 'O', 'O', 'O', 'O', 'O', 'O', 'B-DRUG', 'B-DRUG', 'B-DOSAGE', 'I-DOSAGE', 'I-DOSAGE', 'I-DOSAGE', 'O', 'B-DRUG', 'B-DOSAGE', 'I-DOSAGE', 'O', 'I-DOSAGE', 'O', 'O', 'O', 'O', 'O', 'O', 'O', 'O', 'O', 'O', 'O', 'O', 'O', 'O', 'O', 'B-DRUG', 'O', 'B-DOSAGE', 'I-DOSAGE', 'O', 'O', 'O', 'O', 'O', 'O', 'O', 'O', 'O', 'O', 'O', 'O', 'O', 'O', 'O', 'O', 'O', 'O', 'O', 'O', 'O', 'O', 'O', 'O', 'O', 'O', 'O', 'O', 'O', 'O', 'O', 'O', 'O', 'O', 'O', 'O', 'O', 'O', 'O', 'O', 'O', 'O', 'O', 'O', 'O', 'O', 'O', 'O', 'O', 'O', 'O', 'O', 'O', 'O', 'O', 'O', 'O', 'O', 'O', 'O', 'O', 'O', 'O', 'O', 'O', 'O', 'O', 'O', 'O', 'B-DOSAGE', 'O', 'O', 'O', 'O', 'O', 'O', 'B-DOSAGE', 'I-DOSAGE', 'B-DRUG', 'O', 'O', 'O', 'O', 'O', 'B-DRUG', 'B-DOSAGE', 'O', 'O', 'O', 'O', 'O', 'O', 'O', 'O', 'O', 'O', 'O', 'O', 'O', 'O', 'O', 'O', 'O', 'O', 'O', 'O', 'B-DRUG', 'B-DOSAGE', 'O', 'O', 'O', 'O', 'O', 'O', 'O', 'O', 'O', 'O', 'O', 'O', 'O', 'O', 'O', 'B-DOSAGE', 'O', 'O', 'O', 'O', 'O', 'O', 'O', 'O', 'O', 'O', 'O', 'O', 'O', 'O', 'O', 'O', 'O', 'O', 'O', 'O', 'O', 'O', 'O', 'O', 'O', 'O', 'O', 'O', 'O', 'O', 'O', 'O', 'O', 'O', 'O', 'O', 'B-DOSAGE', 'O', 'O', 'O', 'O', 'O', 'O', 'O', 'O', 'O', 'O', 'O', 'O', 'O', 'O', 'O', 'O', 'O', 'O', 'O', 'O', 'O', 'O', 'O', 'O', 'O', 'O', 'O', 'O', 'O', 'O', 'O', 'O', 'O', 'O', 'O', 'O', 'O', 'O', 'O', 'O', 'O', 'O', 'O', 'O', 'O', 'O', 'O', 'B-DOSAGE', 'O', 'O', 'O', 'O', 'O', 'O', 'O', 'O', 'O', 'O', 'O', 'O', 'O', 'O', 'O', 'O', 'O', 'O', 'O', 'O', 'O', 'O', 'O', 'O', 'O', 'O', 'O', 'O', 'O', 'O', 'O', 'B-DOSAGE', 'O', 'O', 'O', 'O', 'O', 'O', 'O', 'O', 'O', 'O', 'O', 'O', 'O', 'O', 'O', 'O', 'O', 'O', 'O', 'O', 'O', 'O', 'O', 'O', 'O', 'O', 'O', 'O', 'I-DOSAGE', 'O', 'B-DRUG', 'O', 'O', 'O', 'O', 'O', 'O', 'O', 'O', 'O', 'O', 'O', 'O', 'O', 'O', 'O', 'B-DRUG', 'B-DOSAGE', 'O', 'O', 'O', 'O', 'O', 'O', 'O', 'O', 'I-DOSAGE', 'O', 'O', 'I-DOSAGE', 'O', 'O', 'O', 'B-DRUG', 'O', 'O', 'O', 'O', 'O', 'O', 'O', 'O', 'O', 'O', 'O', 'O', 'O', 'O', 'O', 'I-DOSAGE', 'O', 'O', 'I-DOSAGE', 'O', 'O', 'O', 'B-DRUG', 'O', 'O', 'O', 'O', 'O', 'O', 'O', 'O', 'O', 'O', 'O', 'O', 'O', 'O', 'O', 'I-DOSAGE', 'O', 'O', 'O', 'O', 'I-DOSAGE', 'O', 'B-DRUG', 'O', 'O', 'O', 'O', 'O', 'O', 'O', 'O', 'O', 'O', 'O', 'O', 'O', 'O', 'O', 'O', 'O', 'O', 'O', 'O', 'B-DOSAGE', 'O', 'O', 'B-DRUG', 'O', 'O', 'O', 'O', 'O', 'O', 'O', 'O', 'O', 'O', 'O', 'O', 'O', 'O', 'O', 'O', 'O', 'O', 'O', 'O', 'O', 'O', 'B-DOSAGE', 'I-DOSAGE', 'B-DRUG', 'O', 'O', 'O', 'O', 'O', 'O', 'O', 'O', 'O', 'B-DOSAGE', 'O', 'O', 'B-DRUG', 'O', 'O', 'O', 'O', 'O', 'O', 'O', 'O', 'O', 'O', 'O', 'O', 'O', 'O', 'O', 'O', 'O', 'O', 'O', 'O', 'O', 'O', 'O', 'O', 'O', 'O', 'O', 'I-DOSAGE', 'B-DRUG', 'O', 'O', 'O', 'O', 'B-DOSAGE', 'I-DOSAGE', 'O', 'O', 'B-DRUG', 'O', 'O', 'O', 'O', 'O', 'O', 'O', 'O', 'O', 'B-DOSAGE', 'O', 'O', 'B-DRUG', 'O', 'O', 'O', 'O', 'O', 'O', 'O', 'O', 'O', 'B-DOSAGE', 'O', 'O', 'B-DRUG', 'O', 'O', 'O', 'O', 'O', 'O', 'O', 'O', 'O', 'O', 'O', 'O', 'O', 'O', 'O', 'O', 'O', 'O', 'O', 'O', 'O', 'O', 'O', 'O', 'O', 'O', 'O', 'I-DOSAGE', 'B-DRUG', 'O', 'O', 'O', 'O', 'O', 'O', 'B-DOSAGE', 'O', 'O', 'B-DRUG', 'O', 'O', 'O', 'O', 'O', 'O', 'O', 'O', 'O', 'O', 'O', 'O', 'O', 'B-DOSAGE', 'O', 'O', 'B-DRUG', 'O', 'O', 'I-DOSAGE', 'I-DOSAGE', 'I-DOSAGE', 'O', 'O', 'I-DOSAGE', 'I-DOSAGE', 'I-DOSAGE', 'O', 'O', 'O', 'O', 'O', 'O', 'O', 'O', 'O', 'O', 'O', 'O', 'O', 'O', 'O', 'O', 'O', 'B-DOSAGE', 'O', 'O', 'B-DRUG', 'O', 'O', 'I-DOSAGE', 'I-DOSAGE', 'I-DOSAGE', 'O', 'O', 'I-DOSAGE', 'I-DOSAGE', 'I-DOSAGE', 'O', 'O', 'O', 'O', 'O', 'O', 'O', 'O', 'O', 'O', 'O', 'O', 'O', 'O', 'O', 'O', 'O', 'B-DOSAGE', 'O', 'O', 'B-DRUG', 'O', 'O', 'I-DOSAGE', 'I-DOSAGE', 'I-DOSAGE', 'O', 'O', 'O', 'O', 'O', 'O', 'O', 'O', 'O', 'O', 'O', 'O', 'O', 'O', 'O', 'O', 'O', 'O', 'O', 'O', 'O', 'O', 'O', 'O', 'O', 'B-DOSAGE', 'I-DOSAGE', 'O', 'O', 'O', 'O', 'B-DRUG', 'O', 'O', 'O', 'O', 'O', 'O', 'O', 'O', 'O', 'O', 'O', 'O', 'O', 'O', 'O', 'O', 'O', 'O', 'B-DOSAGE', 'I-DOSAGE', 'O', 'O', 'O', 'O', 'B-DRUG', 'O', 'O', 'O', 'O', 'O', 'O', 'O', 'O', 'O', 'O', 'O', 'O', 'O', 'O', 'O', 'O', 'O', 'O', 'B-DOSAGE', 'I-DOSAGE', 'O', 'O', 'O', 'O', 'B-DRUG', 'O', 'O', 'O', 'O', 'O', 'O', 'O', 'O', 'O', 'O', 'O', 'O', 'O', 'B-DRUG', 'I-DRUG', 'O', 'O', 'O', 'B-DOSAGE', 'I-DOSAGE', 'O', 'O', 'O', 'O', 'O', 'O', 'O', 'O', 'O', 'O', 'O', 'O', 'O', 'O', 'O', 'O', 'O', 'O', 'O', 'B-DOSAGE', 'I-DOSAGE', 'O', 'B-DRUG', 'O', 'O', 'O', 'O', 'O', 'O', 'O', 'O', 'O', 'O', 'O', 'O', 'O', 'O', 'B-DRUG', 'O', 'B-DOSAGE', 'O', 'B-DOSAGE', 'I-DOSAGE', 'I-DOSAGE', 'I-DOSAGE', 'O', 'O', 'O', 'O', 'O', 'O', 'O', 'O', 'O', 'O', 'O', 'O', 'O', 'O', 'B-DRUG', 'O', 'B-DOSAGE', 'I-DOSAGE', 'O', 'O', 'O', 'O', 'O', 'O', 'O', 'O', 'O', 'O', 'O', 'O', 'O', 'O', 'O', 'O', 'O', 'O', 'O', 'O', 'O', 'O', 'O', 'O', 'B-DOSAGE', 'O', 'B-DRUG', 'O', 'O', 'O', 'O', 'O', 'O', 'O', 'O', 'O', 'O', 'O', 'O', 'O', 'O', 'O', 'O', 'O', 'O', 'O', 'O', 'O', 'O', 'B-DOSAGE', 'O', 'B-DRUG', 'O', 'O', 'O', 'O', 'O', 'B-DOSAGE', 'O', 'O', 'O', 'B-DRUG', 'O', 'O', 'O', 'O', 'O', 'O', 'O', 'O', 'O', 'O', 'O', 'O', 'O', 'O', 'O', 'O', 'O', 'O', 'O', 'O', 'O', 'O', 'O', 'O', 'O', 'O', 'O', 'O', 'O', 'O', 'O', 'O', 'O', 'B-DRUG', 'O', 'B-DOSAGE', 'I-DOSAGE', 'I-DOSAGE', 'I-DOSAGE', 'O', 'O', 'O', 'O', 'O', 'O', 'O', 'O', 'O', 'O', 'O', 'O', 'O', 'O', 'O', 'O', 'O', 'O', 'O', 'O', 'O', 'O', 'O', 'O', 'O', 'O', 'O', 'O', 'O', 'O', 'O', 'O', 'O', 'O', 'B-DOSAGE', 'I-DOSAGE', 'I-DOSAGE', 'I-DOSAGE', 'B-DRUG', 'O', 'O', 'O', 'O', 'O', 'O', 'O', 'O', 'O', 'O', 'O', 'O', 'O', 'O', 'O', 'O', 'O', 'O', 'O', 'O', 'O', 'O', 'O', 'O', 'O', 'O', 'O', 'O', 'O', 'O', 'O', 'O', 'O', 'O', 'O', 'O', 'B-DOSAGE', 'I-DOSAGE', 'I-DOSAGE', 'I-DOSAGE', 'B-DRUG', 'O', 'O', 'O', 'O', 'O', 'O', 'O', 'O', 'O', 'O', 'O', 'O', 'O', 'O', 'B-DOSAGE', 'O', 'O', 'B-DRUG', 'O', 'O', 'O', 'O', 'O', 'O', 'O', 'O', 'O', 'O', 'O', 'O', 'O', 'O', 'O', 'O', 'O', 'O', 'O', 'O', 'O', 'O', 'O', 'B-DOSAGE', 'O', 'O', 'O', 'B-DOSAGE', 'I-DOSAGE', 'O', 'B-DRUG', 'O', 'O', 'O', 'O', 'O', 'O', 'O', 'O', 'O', 'O', 'O', 'O', 'B-DRUG', 'O', 'B-DOSAGE', 'I-DOSAGE', 'I-DOSAGE', 'I-DOSAGE', 'I-DOSAGE', 'I-DOSAGE', 'O', 'O', 'O', 'O', 'O', 'O', 'O', 'O', 'O', 'O', 'O', 'O', 'O', 'O', 'O', 'O', 'O', 'B-DRUG', 'O', 'O', 'B-DOSAGE', 'I-DOSAGE', 'O', 'O', 'O', 'O', 'O', 'O', 'O', 'O', 'O', 'O', 'O', 'O', 'O', 'O', 'O', 'O', 'O', 'O', 'O', 'O', 'O', 'O', 'O', 'O', 'O', 'O', 'B-DOSAGE', 'O', 'O', 'O', 'O', 'O', 'O', 'O', 'O', 'O', 'O', 'O', 'O', 'O', 'O', 'B-DOSAGE', 'O', 'O', 'O', 'O', 'B-DOSAGE', 'O', 'O', 'O', 'B-DRUG', 'O', 'O', 'O', 'O', 'O', 'O', 'O', 'O', 'O', 'O', 'O', 'O', 'O', 'O', 'O', 'O', 'O', 'O', 'O', 'O', 'O', 'O', 'O', 'B-DOSAGE', 'O', 'O', 'B-DRUG', 'O', 'O', 'O', 'O', 'O', 'O', 'O', 'O', 'O', 'O', 'O', 'O', 'O', 'O', 'O', 'O', 'O', 'O', 'O', 'O', 'O', 'O', 'O', 'O', 'O', 'O', 'O', 'O', 'B-DOSAGE', 'O', 'O', 'B-DRUG', 'O', 'O', 'O', 'O', 'O', 'O', 'O', 'O', 'O', 'O', 'O', 'O', 'O', 'O', 'O', 'O', 'O', 'O', 'O', 'O', 'O', 'O', 'O', 'O', 'O', 'O', 'O', 'O', 'O', 'O', 'O', 'O', 'O', 'O', 'I-DOSAGE', 'I-DOSAGE', 'I-DOSAGE', 'O', 'O', 'O', 'I-DOSAGE', 'O', 'O', 'O', 'O', 'O', 'O', 'O', 'O', 'O', 'O', 'O', 'O', 'O', 'O', 'B-DOSAGE', 'O', 'O', 'B-DRUG', 'O', 'O', 'O', 'O', 'O', 'O', 'O', 'O', 'O', 'O', 'O', 'O', 'O', 'O', 'O', 'O', 'O', 'O', 'B-DRUG', 'O', 'O', 'O', 'O', 'B-DOSAGE', 'I-DOSAGE', 'O', 'I-DOSAGE', 'O', 'O', 'O', 'O', 'O', 'O', 'O', 'O', 'O', 'O', 'O', 'O', 'O', 'O', 'O', 'O', 'O', 'O', 'O', 'O', 'O', 'O', 'O', 'O', 'O', 'O', 'O', 'O', 'O', 'O', 'B-DRUG', 'B-DOSAGE', 'I-DOSAGE', 'O', 'O', 'O', 'O', 'O', 'O', 'O', 'O', 'O', 'O', 'O', 'O', 'O', 'O', 'O', 'O', 'O', 'O', 'O', 'O', 'O', 'O', 'O', 'O', 'O', 'B-DOSAGE', 'O', 'O', 'B-DRUG', 'O', 'O', 'O', 'O', 'O', 'O', 'O', 'O', 'O', 'O', 'O', 'O', 'O', 'O', 'O', 'O', 'O', 'O', 'B-DOSAGE', 'O', 'O', 'B-DRUG', 'O', 'O', 'O', 'O', 'O', 'O', 'O', 'O', 'O', 'O', 'O', 'O', 'O', 'O', 'O', 'O', 'O', 'O', 'O', 'O', 'O', 'O', 'O', 'B-DOSAGE', 'O', 'O', 'B-DRUG', 'O', 'O', 'O', 'O', 'O', 'O', 'O', 'O', 'O', 'O', 'O', 'O', 'O', 'O', 'O', 'O', 'O', 'O', 'O', 'B-DOSAGE', 'O', 'O', 'O', 'O', 'O', 'B-DRUG', 'O', 'O', 'O', 'O', 'O', 'O', 'O', 'O', 'O', 'O', 'O', 'O', 'O', 'O', 'O', 'O', 'O', 'O', 'O', 'O', 'O', 'O', 'O', 'O', 'O', 'O', 'O', 'O', 'O', 'B-DOSAGE', 'O', 'O', 'O', 'O', 'O', 'B-DRUG', 'O', 'O', 'O', 'O', 'O', 'O', 'O', 'O', 'O', 'O', 'O', 'O', 'O', 'O', 'O', 'O', 'O', 'O', 'O', 'O', 'O', 'O', 'B-DOSAGE', 'O', 'O', 'O', 'O', 'O', 'O', 'O', 'O', 'O', 'O', 'O', 'B-DOSAGE', 'O', 'O', 'O', 'B-DRUG', 'O', 'O', 'O', 'O', 'O', 'O', 'O', 'O', 'O', 'O', 'O', 'O', 'O', 'B-DOSAGE', 'O', 'O', 'B-DRUG', 'O', 'O', 'O', 'O', 'O', 'O', 'O', 'O', 'O', 'O', 'O', 'O', 'O', 'O', 'O', 'O', 'O', 'O', 'O', 'O', 'O', 'O', 'O', 'O', 'O', 'O', 'O', 'O', 'O', 'O', 'O', 'O', 'O', 'O', 'O', 'B-DOSAGE', 'O', 'B-DRUG', 'O', 'B-DRUG', 'I-DRUG', 'B-DOSAGE', 'O', 'O', 'O', 'O', 'O', 'O', 'O', 'O', 'O', 'O', 'B-DRUG', 'I-DRUG', 'B-DOSAGE', 'O', 'O', 'O', 'O', 'O', 'O', 'O', 'O', 'O', 'O', 'O', 'O', 'O', 'O', 'O', 'O', 'O', 'O', 'O', 'O', 'O', 'O', 'B-DRUG', 'I-DRUG', 'B-DOSAGE', 'O', 'O', 'O', 'O', 'O', 'O', 'O', 'O', 'O', 'O', 'O', 'O', 'O', 'O', 'O', 'O', 'I-DOSAGE', 'O', 'I-DOSAGE', 'I-DOSAGE', 'I-DOSAGE', 'I-DOSAGE', 'I-DOSAGE', 'O', 'O', 'O', 'O', 'O', 'O', 'O', 'O', 'O', 'O', 'B-DRUG', 'I-DRUG', 'B-DOSAGE', 'O', 'O', 'O', 'O', 'O', 'O', 'O', 'O', 'O', 'O', 'O', 'O', 'O', 'O', 'O', 'O', 'O', 'O', 'O', 'O', 'O', 'B-DRUG', 'B-DOSAGE', 'O', 'O', 'O', 'O', 'O', 'O', 'O', 'O', 'O', 'O', 'O', 'O', 'O', 'O', 'O', 'O', 'O', 'O', 'O', 'O', 'O', 'O', 'O', 'O', 'O', 'O', 'O', 'B-DOSAGE', 'O', 'B-DRUG', 'O', 'O', 'O', 'O', 'O', 'O', 'O', 'O', 'O', 'O', 'O', 'O', 'O', 'O', 'O', 'O', 'O', 'O', 'O', 'O', 'O', 'O', 'O', 'O', 'O', 'O', 'O', 'O', 'O', 'O', 'O', 'O', 'O', 'O', 'O', 'O', 'B-DRUG', 'B-DOSAGE', 'I-DOSAGE', 'I-DOSAGE', 'I-DOSAGE', 'O', 'O', 'O', 'O', 'O', 'O', 'O', 'B-DOSAGE', 'O', 'O', 'B-DRUG', 'O', 'O', 'O', 'O', 'O', 'O', 'O', 'O', 'O', 'O', 'O', 'O', 'O', 'O', 'O', 'O', 'O', 'O', 'O', 'O', 'O', 'B-DRUG', 'O', 'O', 'O', 'O', 'O', 'I-DOSAGE', 'I-DOSAGE', 'I-DOSAGE', 'I-DOSAGE', 'O', 'B-DOSAGE', 'I-DOSAGE', 'I-DOSAGE', 'I-DOSAGE', 'I-DOSAGE', 'O', 'O', 'O', 'B-DRUG', 'O', 'O', 'O', 'O', 'O', 'O', 'O', 'O', 'O', 'O', 'O', 'O', 'O', 'O', 'O', 'O', 'O', 'O', 'O', 'O', 'O', 'O', 'O', 'O', 'O', 'O', 'O', 'O', 'B-DRUG', 'O', 'O', 'O', 'O', 'O', 'I-DOSAGE', 'I-DOSAGE', 'I-DOSAGE', 'I-DOSAGE', 'O', 'B-DOSAGE', 'I-DOSAGE', 'I-DOSAGE', 'I-DOSAGE', 'I-DOSAGE', 'O', 'O', 'O', 'B-DRUG', 'O', 'O', 'O', 'O', 'O', 'O', 'O', 'O', 'O', 'B-DOSAGE', 'O', 'O', 'O', 'O', 'O', 'O', 'O', 'B-DOSAGE', 'O', 'B-DRUG', 'O', 'O', 'O', 'O', 'O', 'O', 'O', 'O', 'O', 'O', 'O', 'O', 'O', 'O', 'O', 'O', 'O', 'O', 'O', 'O', 'O', 'O', 'O', 'O', 'O', 'O', 'O', 'O', 'O', 'B-DOSAGE', 'I-DOSAGE', 'O', 'O', 'B-DRUG', 'O', 'I-DRUG', 'O', 'O', 'O', 'O', 'O', 'O', 'O', 'O', 'O', 'O', 'O', 'O', 'O', 'O', 'O', 'O', 'O', 'B-DRUG', 'O', 'O', 'B-DOSAGE', 'O', 'O', 'I-DOSAGE', 'I-DOSAGE', 'I-DOSAGE', 'O', 'O', 'O', 'O', 'O', 'O', 'O', 'O', 'O', 'O', 'O', 'O', 'O', 'B-DRUG', 'O', 'O', 'O', 'O', 'O', 'O', 'O', 'O', 'O', 'O', 'O', 'O', 'B-DOSAGE', 'O', 'O', 'O', 'O', 'O', 'O', 'O', 'O', 'O', 'O', 'O', 'B-DRUG', 'O', 'O', 'O', 'O', 'O', 'O', 'O', 'O', 'O', 'O', 'O', 'O', 'O', 'O', 'O', 'O', 'O', 'B-DRUG', 'O', 'O', 'O', 'O', 'O', 'O', 'O', 'O', 'O', 'O', 'O', 'O', 'B-DOSAGE', 'O', 'O', 'O', 'O', 'O', 'O', 'O', 'O', 'O', 'O', 'O', 'B-DRUG', 'O', 'O', 'O', 'O', 'O', 'O', 'O', 'O', 'O', 'O', 'O', 'O', 'O', 'O', 'O', 'O', 'O', 'O', 'O', 'O', 'O', 'O', 'O', 'B-DOSAGE', 'O', 'O', 'B-DRUG', 'I-DRUG', 'O', 'O', 'O', 'O', 'O', 'O', 'O', 'O', 'O', 'O', 'O', 'O', 'O', 'O', 'O', 'O', 'B-DOSAGE', 'O', 'O', 'B-DRUG', 'I-DRUG', 'O', 'O', 'O', 'O', 'B-DOSAGE', 'O', 'O', 'B-DRUG', 'I-DRUG', 'O', 'O', 'O', 'O', 'O', 'O', 'O', 'O', 'O', 'O', 'O', 'O', 'O', 'O', 'O', 'O', 'O', 'O', 'O', 'O', 'O', 'O', 'O', 'O', 'O', 'O', 'B-DOSAGE', 'O', 'O', 'B-DRUG', 'I-DRUG', 'O', 'O', 'O', 'O', 'O', 'O', 'O', 'O', 'O', 'O', 'O', 'O', 'O', 'O', 'O', 'O', 'O', 'O', 'O', 'O', 'O', 'O', 'O', 'B-DRUG', 'B-DOSAGE', 'O', 'O', 'O', 'O', 'O', 'O', 'O', 'O', 'B-DRUG', 'O', 'O', 'O', 'O', 'O', 'O', 'O', 'I-DOSAGE', 'I-DOSAGE', 'I-DOSAGE', 'O', 'O', 'O', 'O', 'O', 'O', 'O', 'O', 'O', 'O', 'O', 'B-DRUG', 'O', 'O', 'O', 'O', 'O', 'O', 'O', 'I-DOSAGE', 'I-DOSAGE', 'I-DOSAGE', 'O', 'O', 'O', 'O', 'O', 'O', 'O', 'O', 'O', 'O', 'O', 'O', 'O', 'O', 'O', 'O', 'O', 'O', 'B-DRUG', 'O', 'O', 'B-DOSAGE', 'O', 'O', 'O', 'O', 'O', 'O', 'O', 'O', 'O', 'O', 'O', 'O', 'O', 'O', 'O', 'O', 'O', 'O', 'O', 'O', 'B-DRUG', 'O', 'O', 'I-DOSAGE', 'O', 'O', 'O', 'O', 'O', 'O', 'O', 'O', 'O', 'O', 'O', 'O', 'O', 'O', 'O', 'O', 'O', 'O', 'O', 'B-DOSAGE', 'O', 'O', 'B-DRUG', 'O', 'O', 'O', 'O', 'O', 'O', 'O', 'O', 'O', 'O', 'O', 'B-DOSAGE', 'B-DRUG', 'O', 'O', 'O', 'O', 'O', 'O', 'O', 'O', 'O', 'O', 'O', 'B-DOSAGE', 'O', 'O', 'B-DRUG', 'O', 'O', 'O', 'O', 'O', 'O', 'O', 'O', 'O', 'O', 'O', 'B-DOSAGE', 'B-DRUG', 'O', 'O', 'O', 'O', 'O', 'O', 'O', 'O', 'B-DOSAGE', 'O', 'O', 'O', 'O', 'O', 'O', 'O', 'O', 'O', 'O', 'O', 'O', 'O', 'O', 'O', 'O', 'O', 'O', 'O', 'O', 'O', 'B-DOSAGE', 'O', 'O', 'O', 'O', 'O', 'O', 'O', 'O', 'O', 'O', 'O', 'O', 'O', 'O', 'O', 'O', 'O', 'O', 'O', 'O', 'O', 'O', 'O', 'O', 'O', 'O', 'O', 'O', 'O', 'B-DRUG', 'O', 'O', 'O', 'O', 'O', 'O', 'O', 'O', 'O', 'O', 'O', 'O', 'O', 'O', 'O', 'O', 'O', 'O', 'O', 'O', 'O', 'O', 'O', 'O', 'I-DOSAGE', 'O', 'O', 'O', 'O', 'O', 'O', 'O', 'B-DOSAGE', 'I-DOSAGE', 'B-DRUG', 'O', 'O', 'O', 'O', 'O', 'O', 'O', 'O', 'O', 'O', 'O', 'O', 'O', 'O', 'O', 'O', 'O', 'O', 'O', 'O', 'O', 'O', 'O', 'O', 'I-DOSAGE', 'O', 'I-DRUG', 'B-DOSAGE', 'O', 'B-DOSAGE', 'I-DOSAGE', 'O', 'O', 'O', 'O', 'O', 'O', 'O', 'O', 'O', 'O', 'B-DRUG', 'B-DOSAGE', 'O', 'O', 'O', 'O', 'O', 'O', 'O', 'B-DRUG', 'O', 'O', 'O', 'O', 'O', 'O', 'O', 'O', 'O', 'O', 'O', 'O', 'B-DRUG', 'B-DOSAGE', 'O', 'O', 'O', 'O', 'O', 'O', 'O', 'O', 'O', 'O', 'O', 'O', 'O', 'O', 'O', 'B-DOSAGE', 'O', 'B-DRUG', 'O', 'O', 'O', 'O', 'O', 'O', 'O', 'O', 'O', 'O', 'O', 'O', 'O', 'O', 'B-DOSAGE', 'I-DOSAGE', 'O', 'O', 'O', 'O', 'B-DRUG', 'O', 'O', 'O', 'O', 'O', 'O', 'O', 'O', 'O', 'O', 'O', 'O', 'O', 'O', 'O', 'O', 'O', 'O', 'O', 'O', 'B-DOSAGE', 'I-DOSAGE', 'O', 'O', 'O', 'O', 'B-DRUG', 'O', 'O', 'O', 'O', 'O', 'O', 'O', 'O', 'O', 'O', 'O', 'O', 'O', 'O', 'O', 'O', 'O', 'O', 'O', 'O', 'B-DOSAGE', 'I-DOSAGE', 'O', 'O', 'O', 'O', 'O', 'O', 'O', 'O', 'O', 'O', 'O', 'O', 'O', 'O', 'O', 'O', 'O', 'O', 'O', 'O', 'O', 'O', 'O', 'O', 'B-DOSAGE', 'I-DOSAGE', 'O', 'O', 'O', 'O', 'O', 'O', 'O', 'O', 'O', 'O', 'O', 'O', 'O', 'O', 'O', 'O', 'O', 'O', 'O', 'O', 'O', 'O', 'O', 'O', 'O', 'O', 'O', 'O', 'O', 'O', 'O', 'O', 'O', 'B-DRUG', 'O', 'O', 'O', 'O', 'O', 'O', 'O', 'O', 'O', 'B-DOSAGE', 'I-DOSAGE', 'I-DOSAGE', 'I-DOSAGE', 'O', 'O', 'O', 'O', 'O', 'O', 'O', 'O', 'O', 'O', 'O', 'O', 'O', 'O', 'O', 'O', 'O', 'O', 'O', 'B-DRUG', 'O', 'O', 'O', 'O', 'O', 'O', 'O', 'O', 'O', 'B-DOSAGE', 'I-DOSAGE', 'I-DOSAGE', 'I-DOSAGE', 'O', 'O', 'O', 'O', 'O', 'O', 'O', 'O', 'O', 'O', 'O', 'O', 'O', 'O', 'O', 'O', 'O', 'O', 'O', 'O', 'B-DOSAGE', 'O', 'O', 'B-DRUG', 'O', 'O', 'O', 'O', 'O', 'O', 'B-DOSAGE', 'I-DOSAGE', 'I-DOSAGE', 'I-DOSAGE', 'O', 'O', 'B-DOSAGE', 'O', 'O', 'O', 'O', 'O', 'O', 'O', 'O', 'O', 'O', 'O', 'O', 'O', 'O', 'O', 'O', 'O', 'B-DRUG', 'O', 'B-DOSAGE', 'O', 'B-DOSAGE', 'I-DOSAGE', 'I-DOSAGE', 'I-DOSAGE', 'O', 'O', 'O', 'O', 'O', 'O', 'O', 'O', 'O', 'O', 'O', 'O', 'O', 'O', 'O', 'O', 'B-DRUG', 'I-DRUG', 'O', 'O', 'I-DOSAGE', 'O', 'O', 'O', 'O', 'O', 'O', 'O', 'O', 'O', 'O', 'B-DRUG', 'I-DRUG', 'O', 'O', 'I-DOSAGE', 'O', 'O', 'O', 'O', 'O', 'O', 'O', 'O', 'O', 'O', 'O', 'O', 'O', 'O', 'O', 'O', 'O', 'O', 'O', 'O', 'O', 'O', 'I-DOSAGE', 'O', 'O', 'B-DOSAGE', 'O', 'O', 'O', 'O', 'O', 'O', 'O', 'O', 'O', 'O']\n"
          ]
        }
      ],
      "metadata": {
        "colab": {
          "base_uri": "https://localhost:8080/"
        },
        "id": "joRV5g-7G1fG",
        "outputId": "237d716c-6a31-4bf9-c85a-dc23d46f4add"
      }
    },
    {
      "cell_type": "code",
      "execution_count": null,
      "source": [
        "tagger.tags"
      ],
      "outputs": [
        {
          "output_type": "execute_result",
          "data": {
            "text/plain": [
              "['O', 'B-DRUG', 'B-DOSAGE', 'I-DOSAGE', 'I-DRUG']"
            ]
          },
          "metadata": {
            "tags": []
          },
          "execution_count": 404
        }
      ],
      "metadata": {
        "colab": {
          "base_uri": "https://localhost:8080/"
        },
        "id": "uvQLP52oHbhU",
        "outputId": "86deaca0-1971-44db-b1e6-580e7cbc4afe"
      }
    },
    {
      "cell_type": "code",
      "execution_count": null,
      "source": [
        "words = df[\"Word\"].values.tolist()\n",
        "tags = df[\"Tag\"].values.tolist()"
      ],
      "outputs": [],
      "metadata": {
        "id": "TeZ6i4cfIWB9"
      }
    },
    {
      "cell_type": "code",
      "execution_count": null,
      "source": [
        "pred = cross_val_predict(estimator=MemoryTagger(), X=words, y=tags, cv=5)"
      ],
      "outputs": [],
      "metadata": {
        "id": "58By5aJlIYbA"
      }
    },
    {
      "cell_type": "code",
      "execution_count": null,
      "source": [
        "report = classification_report(y_pred=pred, y_true=tags)\n",
        "print(report)"
      ],
      "outputs": [
        {
          "output_type": "stream",
          "name": "stdout",
          "text": [
            "              precision    recall  f1-score   support\n",
            "\n",
            "    B-DOSAGE       0.72      0.59      0.65       269\n",
            "      B-DRUG       0.78      0.27      0.40       273\n",
            "    I-DOSAGE       0.60      0.57      0.58       430\n",
            "      I-DRUG       0.54      0.28      0.37        53\n",
            "           O       0.92      0.96      0.94      6343\n",
            "\n",
            "    accuracy                           0.89      7368\n",
            "   macro avg       0.71      0.53      0.59      7368\n",
            "weighted avg       0.89      0.89      0.88      7368\n",
            "\n"
          ]
        }
      ],
      "metadata": {
        "colab": {
          "base_uri": "https://localhost:8080/"
        },
        "id": "hUfGYPZiIa4E",
        "outputId": "ed8cdb5c-53d6-4206-88dc-529232b67642"
      }
    },
    {
      "cell_type": "markdown",
      "source": [
        "**Evaluation:**\n",
        "Overall, the precision is quite reasonable but the recall is quite poor.To overcome this issue, we will now introduce a simple machine learning model to predict the named entities. To achieve this, we convert the data to a simple feature vector for every word and then use a random forest to classify the words.\n"
      ],
      "metadata": {
        "id": "D2lDmEHKiwFu"
      }
    },
    {
      "cell_type": "markdown",
      "source": [
        "### 2) Using RandomForest model"
      ],
      "metadata": {
        "id": "SlkUB_mqKBCl"
      }
    },
    {
      "cell_type": "code",
      "execution_count": null,
      "source": [
        "# We define simple rules for word feature function\n",
        "def feature_map(word):\n",
        "    '''Simple feature map.'''\n",
        "    return np.array([word.istitle(), word.islower(), word.isupper(), len(word), word.isdigit(), word.isalpha()])"
      ],
      "outputs": [],
      "metadata": {
        "id": "SmcROVSjJhNw"
      }
    },
    {
      "cell_type": "code",
      "execution_count": null,
      "source": [
        "words = [feature_map(w) for w in df[\"Word\"].values.tolist()]"
      ],
      "outputs": [],
      "metadata": {
        "id": "iWMZYN8XJmG7"
      }
    },
    {
      "cell_type": "code",
      "execution_count": null,
      "source": [
        "# Making prediction on the validation set using RandomForest model with the help of cross-validation techniques to make use\n",
        "# of our humble-sized dataset\n",
        "pred = cross_val_predict(RandomForestClassifier(n_estimators=20),\n",
        "                         X=words, y=tags, cv=5)"
      ],
      "outputs": [],
      "metadata": {
        "id": "SQQheGQDJpvV"
      }
    },
    {
      "cell_type": "code",
      "execution_count": null,
      "source": [
        "report = classification_report(y_pred=pred, y_true=tags)\n",
        "print(report)"
      ],
      "outputs": [
        {
          "output_type": "stream",
          "name": "stdout",
          "text": [
            "              precision    recall  f1-score   support\n",
            "\n",
            "    B-DOSAGE       0.57      0.18      0.27       269\n",
            "      B-DRUG       0.36      0.03      0.06       273\n",
            "    I-DOSAGE       0.38      0.02      0.04       430\n",
            "      I-DRUG       0.00      0.00      0.00        53\n",
            "           O       0.87      0.99      0.93      6343\n",
            "\n",
            "    accuracy                           0.86      7368\n",
            "   macro avg       0.44      0.24      0.26      7368\n",
            "weighted avg       0.80      0.86      0.81      7368\n",
            "\n"
          ]
        }
      ],
      "metadata": {
        "colab": {
          "base_uri": "https://localhost:8080/"
        },
        "id": "aZm7xE1vJsAM",
        "outputId": "92a90fe1-b03c-47e9-f932-4174d4ceafe3"
      }
    },
    {
      "cell_type": "markdown",
      "source": [
        "The ouput is really bad, which is expected as we lack the information of each tag to make decision. To overcome this problem, we decided to employ a more sophisticated model, which is Conditional Random Field - CRF"
      ],
      "metadata": {
        "id": "CA5-8CGyHO6B"
      }
    },
    {
      "cell_type": "markdown",
      "source": [
        "### 3) Using CRF model"
      ],
      "metadata": {
        "id": "61ukK0OO1seF"
      }
    },
    {
      "cell_type": "markdown",
      "source": [
        "A Conditional Random Field (CRF) is a standard model for predicting the most likely sequence of labels that correspond to a sequence of inputs. It is a supervised learning method which has been proven to be better than the tree based models when it comes to NER. Whereas a discrete classifier predicts a label for a single sample without considering \"neighboring\" samples, a CRF can take context into account; e.g., the linear chain CRF (which is popular in natural language processing) predicts sequences of labels for sequences of input samples.\n",
        "\n",
        "In order to use CRF, we will enhance the feature set and create more features which can be used by the model to predict the tags correctly. Also, we add new features such as upper, lower, digit, title etc. for each word and also consider the consecutive words in the list. In short, we try to provide a sequence of features to the model for each word - the sequence containing capitalisations, type of word(title) etc."
      ],
      "metadata": {
        "id": "dHeNC6mkfC_-"
      }
    },
    {
      "cell_type": "code",
      "execution_count": null,
      "source": [
        "# This function is inherit from sklearn-crfsuite and used to perform feature extraction with a simple baseline features\n",
        "def word2features(sent, i):\n",
        "    word = sent[i][0]\n",
        "\n",
        "    features = {\n",
        "        'bias': 1.0,\n",
        "        'word.lower()': word.lower(),\n",
        "        'word[-3:]': word[-3:],\n",
        "        'word[-2:]': word[-2:],\n",
        "        'word.isupper()': word.isupper(),\n",
        "        'word.istitle()': word.istitle(),\n",
        "        'word.isdigit()': word.isdigit(),\n",
        "        \n",
        "    }\n",
        "    if i > 0:\n",
        "        word1 = sent[i-1][0]\n",
        "        features.update({\n",
        "            '-1:word.lower()': word1.lower(),\n",
        "            '-1:word.istitle()': word1.istitle(),\n",
        "            '-1:word.isupper()': word1.isupper(),\n",
        "     \n",
        "        })\n",
        "    else:\n",
        "        features['BOS'] = True\n",
        "\n",
        "    if i < len(sent)-1:\n",
        "        word1 = sent[i+1][0]\n",
        "    \n",
        "        features.update({\n",
        "            '+1:word.lower()': word1.lower(),\n",
        "            '+1:word.istitle()': word1.istitle(),\n",
        "            '+1:word.isupper()': word1.isupper(),\n",
        "        })\n",
        "    else:\n",
        "        features['EOS'] = True\n",
        "\n",
        "    return features\n",
        "\n",
        "\n",
        "def sent2features(sent):\n",
        "    return [word2features(sent, i) for i in range(len(sent))]\n",
        "\n",
        "def sent2labels(sent):\n",
        "    return [label for token, label in sent]\n",
        "\n",
        "def sent2tokens(sent):\n",
        "    return [token for token, label in sent]"
      ],
      "outputs": [],
      "metadata": {
        "id": "yQQf_EdSEup5"
      }
    },
    {
      "cell_type": "code",
      "execution_count": null,
      "source": [
        "X = [sent2features(s) for s in sentences_data]\n",
        "y = [sent2labels(s) for s in sentences_data]\n",
        "\n",
        "X_train, X_test, y_train, y_test = train_test_split(X, y, test_size=0.2, random_state=0)\n",
        "X_train, X_val, y_train, y_val = train_test_split(X_train, y_train, test_size=0.2, random_state=0)"
      ],
      "outputs": [],
      "metadata": {
        "id": "K8f_bmYVEzEG"
      }
    },
    {
      "cell_type": "code",
      "execution_count": null,
      "source": [
        "from sklearn_crfsuite import CRF\n",
        "crf = CRF(algorithm='lbfgs',\n",
        "          c1=0.1,\n",
        "          c2=0.1,\n",
        "          max_iterations=100,\n",
        "          all_possible_transitions=False)\n",
        "crf.fit(X_train, y_train)"
      ],
      "outputs": [],
      "metadata": {
        "id": "_N6JCzvqFSC8"
      }
    },
    {
      "cell_type": "code",
      "execution_count": null,
      "source": [
        "tags = list(crf.classes_)\n",
        "tags.remove('O')\n",
        "tags"
      ],
      "outputs": [
        {
          "output_type": "execute_result",
          "data": {
            "text/plain": [
              "['B-DRUG', 'I-DRUG', 'B-DOSAGE', 'I-DOSAGE']"
            ]
          },
          "metadata": {
            "tags": []
          },
          "execution_count": 418
        }
      ],
      "metadata": {
        "colab": {
          "base_uri": "https://localhost:8080/"
        },
        "id": "BS6R7b0cW0s0",
        "outputId": "0e79ceff-ac4b-49a0-e0e7-e709cc456b5b"
      }
    },
    {
      "cell_type": "code",
      "execution_count": null,
      "source": [
        "from sklearn_crfsuite import metrics\n",
        "y_pred = crf.predict(X_val)\n",
        "metrics.flat_f1_score(y_val, y_pred,\n",
        "                      average='macro', labels=tags)"
      ],
      "outputs": [
        {
          "output_type": "execute_result",
          "data": {
            "text/plain": [
              "0.6641192918689831"
            ]
          },
          "metadata": {
            "tags": []
          },
          "execution_count": 420
        }
      ],
      "metadata": {
        "colab": {
          "base_uri": "https://localhost:8080/"
        },
        "id": "p_vbka2yFgZ2",
        "outputId": "55b03d25-f200-4d5f-fe7e-2abb85f43d29"
      }
    },
    {
      "cell_type": "code",
      "execution_count": null,
      "source": [
        "y_pred"
      ],
      "outputs": [
        {
          "output_type": "execute_result",
          "data": {
            "text/plain": [
              "[['O',\n",
              "  'O',\n",
              "  'O',\n",
              "  'O',\n",
              "  'O',\n",
              "  'O',\n",
              "  'O',\n",
              "  'O',\n",
              "  'O',\n",
              "  'O',\n",
              "  'O',\n",
              "  'O',\n",
              "  'O',\n",
              "  'O',\n",
              "  'O',\n",
              "  'O',\n",
              "  'O',\n",
              "  'O',\n",
              "  'O',\n",
              "  'O',\n",
              "  'O',\n",
              "  'O',\n",
              "  'O',\n",
              "  'O',\n",
              "  'O',\n",
              "  'O',\n",
              "  'O',\n",
              "  'O',\n",
              "  'O',\n",
              "  'O',\n",
              "  'O',\n",
              "  'O',\n",
              "  'O',\n",
              "  'O',\n",
              "  'O',\n",
              "  'O',\n",
              "  'O',\n",
              "  'B-DOSAGE',\n",
              "  'I-DOSAGE',\n",
              "  'I-DOSAGE',\n",
              "  'B-DRUG',\n",
              "  'O',\n",
              "  'O'],\n",
              " ['O',\n",
              "  'O',\n",
              "  'O',\n",
              "  'O',\n",
              "  'O',\n",
              "  'O',\n",
              "  'O',\n",
              "  'O',\n",
              "  'O',\n",
              "  'B-DRUG',\n",
              "  'O',\n",
              "  'O',\n",
              "  'O',\n",
              "  'O',\n",
              "  'B-DOSAGE',\n",
              "  'I-DOSAGE',\n",
              "  'O',\n",
              "  'O',\n",
              "  'O',\n",
              "  'O',\n",
              "  'O',\n",
              "  'O',\n",
              "  'O'],\n",
              " ['O',\n",
              "  'B-DOSAGE',\n",
              "  'I-DOSAGE',\n",
              "  'I-DOSAGE',\n",
              "  'I-DOSAGE',\n",
              "  'O',\n",
              "  'B-DRUG',\n",
              "  'O',\n",
              "  'O',\n",
              "  'O',\n",
              "  'O',\n",
              "  'O',\n",
              "  'O',\n",
              "  'O',\n",
              "  'O',\n",
              "  'O',\n",
              "  'O',\n",
              "  'O'],\n",
              " ['O',\n",
              "  'O',\n",
              "  'O',\n",
              "  'O',\n",
              "  'B-DOSAGE',\n",
              "  'I-DOSAGE',\n",
              "  'I-DOSAGE',\n",
              "  'B-DRUG',\n",
              "  'O',\n",
              "  'O',\n",
              "  'O',\n",
              "  'O',\n",
              "  'O',\n",
              "  'O'],\n",
              " ['O',\n",
              "  'O',\n",
              "  'O',\n",
              "  'O',\n",
              "  'O',\n",
              "  'O',\n",
              "  'O',\n",
              "  'O',\n",
              "  'B-DRUG',\n",
              "  'B-DOSAGE',\n",
              "  'O',\n",
              "  'O',\n",
              "  'O',\n",
              "  'O',\n",
              "  'O',\n",
              "  'O'],\n",
              " ['O', 'O', 'O', 'O', 'O', 'B-DOSAGE', 'I-DOSAGE', 'B-DRUG', 'O'],\n",
              " ['O',\n",
              "  'O',\n",
              "  'O',\n",
              "  'O',\n",
              "  'O',\n",
              "  'B-DRUG',\n",
              "  'O',\n",
              "  'O',\n",
              "  'O',\n",
              "  'O',\n",
              "  'O',\n",
              "  'O',\n",
              "  'O',\n",
              "  'O',\n",
              "  'O',\n",
              "  'O',\n",
              "  'O',\n",
              "  'O',\n",
              "  'O',\n",
              "  'O',\n",
              "  'O',\n",
              "  'B-DRUG',\n",
              "  'O'],\n",
              " ['O',\n",
              "  'O',\n",
              "  'O',\n",
              "  'O',\n",
              "  'O',\n",
              "  'O',\n",
              "  'O',\n",
              "  'O',\n",
              "  'O',\n",
              "  'O',\n",
              "  'O',\n",
              "  'O',\n",
              "  'O',\n",
              "  'O',\n",
              "  'B-DOSAGE',\n",
              "  'O',\n",
              "  'O',\n",
              "  'O',\n",
              "  'O',\n",
              "  'O',\n",
              "  'O',\n",
              "  'O',\n",
              "  'O',\n",
              "  'O'],\n",
              " ['O',\n",
              "  'O',\n",
              "  'O',\n",
              "  'O',\n",
              "  'O',\n",
              "  'O',\n",
              "  'O',\n",
              "  'O',\n",
              "  'B-DOSAGE',\n",
              "  'I-DOSAGE',\n",
              "  'O',\n",
              "  'B-DRUG',\n",
              "  'O',\n",
              "  'O',\n",
              "  'O',\n",
              "  'O',\n",
              "  'O',\n",
              "  'O',\n",
              "  'B-DOSAGE',\n",
              "  'I-DOSAGE',\n",
              "  'I-DOSAGE',\n",
              "  'I-DOSAGE',\n",
              "  'O',\n",
              "  'O',\n",
              "  'O',\n",
              "  'O',\n",
              "  'O',\n",
              "  'O',\n",
              "  'O',\n",
              "  'O',\n",
              "  'O'],\n",
              " ['O',\n",
              "  'O',\n",
              "  'O',\n",
              "  'O',\n",
              "  'O',\n",
              "  'B-DRUG',\n",
              "  'O',\n",
              "  'O',\n",
              "  'O',\n",
              "  'O',\n",
              "  'O',\n",
              "  'O',\n",
              "  'B-DOSAGE',\n",
              "  'I-DOSAGE',\n",
              "  'I-DOSAGE',\n",
              "  'O',\n",
              "  'O',\n",
              "  'O',\n",
              "  'O',\n",
              "  'O',\n",
              "  'O',\n",
              "  'O',\n",
              "  'O',\n",
              "  'O',\n",
              "  'O',\n",
              "  'O',\n",
              "  'O',\n",
              "  'O',\n",
              "  'O',\n",
              "  'O',\n",
              "  'O',\n",
              "  'O',\n",
              "  'O',\n",
              "  'O',\n",
              "  'O',\n",
              "  'O'],\n",
              " ['O',\n",
              "  'O',\n",
              "  'O',\n",
              "  'O',\n",
              "  'O',\n",
              "  'O',\n",
              "  'O',\n",
              "  'O',\n",
              "  'O',\n",
              "  'O',\n",
              "  'O',\n",
              "  'O',\n",
              "  'O',\n",
              "  'O',\n",
              "  'O',\n",
              "  'B-DRUG',\n",
              "  'O',\n",
              "  'O',\n",
              "  'O',\n",
              "  'O',\n",
              "  'O',\n",
              "  'O',\n",
              "  'O',\n",
              "  'O',\n",
              "  'O',\n",
              "  'O',\n",
              "  'O',\n",
              "  'B-DOSAGE',\n",
              "  'O',\n",
              "  'O'],\n",
              " ['O',\n",
              "  'O',\n",
              "  'O',\n",
              "  'O',\n",
              "  'B-DOSAGE',\n",
              "  'I-DOSAGE',\n",
              "  'I-DOSAGE',\n",
              "  'O',\n",
              "  'O',\n",
              "  'B-DRUG',\n",
              "  'O',\n",
              "  'O',\n",
              "  'O',\n",
              "  'O',\n",
              "  'O',\n",
              "  'O',\n",
              "  'O',\n",
              "  'O',\n",
              "  'O',\n",
              "  'O',\n",
              "  'O'],\n",
              " ['O',\n",
              "  'O',\n",
              "  'O',\n",
              "  'O',\n",
              "  'O',\n",
              "  'O',\n",
              "  'O',\n",
              "  'O',\n",
              "  'O',\n",
              "  'O',\n",
              "  'O',\n",
              "  'O',\n",
              "  'O',\n",
              "  'O',\n",
              "  'O',\n",
              "  'O',\n",
              "  'O',\n",
              "  'O',\n",
              "  'O',\n",
              "  'O',\n",
              "  'B-DRUG',\n",
              "  'O',\n",
              "  'O',\n",
              "  'O',\n",
              "  'O',\n",
              "  'O'],\n",
              " ['O',\n",
              "  'O',\n",
              "  'O',\n",
              "  'B-DOSAGE',\n",
              "  'I-DOSAGE',\n",
              "  'I-DOSAGE',\n",
              "  'B-DRUG',\n",
              "  'O',\n",
              "  'O',\n",
              "  'O',\n",
              "  'O'],\n",
              " ['O',\n",
              "  'O',\n",
              "  'O',\n",
              "  'O',\n",
              "  'O',\n",
              "  'O',\n",
              "  'O',\n",
              "  'O',\n",
              "  'O',\n",
              "  'O',\n",
              "  'O',\n",
              "  'O',\n",
              "  'O',\n",
              "  'O',\n",
              "  'B-DOSAGE',\n",
              "  'I-DOSAGE',\n",
              "  'B-DRUG',\n",
              "  'O',\n",
              "  'O'],\n",
              " ['O',\n",
              "  'O',\n",
              "  'O',\n",
              "  'O',\n",
              "  'O',\n",
              "  'B-DRUG',\n",
              "  'O',\n",
              "  'O',\n",
              "  'O',\n",
              "  'O',\n",
              "  'O',\n",
              "  'O',\n",
              "  'B-DOSAGE',\n",
              "  'I-DOSAGE',\n",
              "  'I-DOSAGE',\n",
              "  'O',\n",
              "  'O',\n",
              "  'O',\n",
              "  'O',\n",
              "  'O',\n",
              "  'O',\n",
              "  'O',\n",
              "  'O',\n",
              "  'O',\n",
              "  'O',\n",
              "  'O',\n",
              "  'O',\n",
              "  'O',\n",
              "  'O',\n",
              "  'O',\n",
              "  'O',\n",
              "  'O',\n",
              "  'O',\n",
              "  'O',\n",
              "  'O',\n",
              "  'O'],\n",
              " ['O',\n",
              "  'O',\n",
              "  'O',\n",
              "  'B-DOSAGE',\n",
              "  'I-DOSAGE',\n",
              "  'O',\n",
              "  'B-DRUG',\n",
              "  'I-DRUG',\n",
              "  'O',\n",
              "  'O',\n",
              "  'O',\n",
              "  'O',\n",
              "  'O',\n",
              "  'O',\n",
              "  'O',\n",
              "  'O',\n",
              "  'O',\n",
              "  'O',\n",
              "  'O',\n",
              "  'O'],\n",
              " ['O',\n",
              "  'O',\n",
              "  'O',\n",
              "  'O',\n",
              "  'O',\n",
              "  'O',\n",
              "  'O',\n",
              "  'O',\n",
              "  'O',\n",
              "  'O',\n",
              "  'O',\n",
              "  'O',\n",
              "  'O',\n",
              "  'O',\n",
              "  'O',\n",
              "  'O',\n",
              "  'O',\n",
              "  'B-DOSAGE',\n",
              "  'O',\n",
              "  'O',\n",
              "  'O',\n",
              "  'O',\n",
              "  'O',\n",
              "  'O',\n",
              "  'O',\n",
              "  'O',\n",
              "  'O',\n",
              "  'O',\n",
              "  'O',\n",
              "  'B-DRUG',\n",
              "  'O',\n",
              "  'O',\n",
              "  'O',\n",
              "  'O',\n",
              "  'O',\n",
              "  'O',\n",
              "  'O',\n",
              "  'O',\n",
              "  'O',\n",
              "  'O',\n",
              "  'O',\n",
              "  'O',\n",
              "  'O'],\n",
              " ['O',\n",
              "  'O',\n",
              "  'O',\n",
              "  'O',\n",
              "  'O',\n",
              "  'O',\n",
              "  'O',\n",
              "  'O',\n",
              "  'O',\n",
              "  'B-DOSAGE',\n",
              "  'I-DOSAGE',\n",
              "  'O',\n",
              "  'O',\n",
              "  'O',\n",
              "  'O',\n",
              "  'O',\n",
              "  'O',\n",
              "  'O',\n",
              "  'O',\n",
              "  'O',\n",
              "  'O',\n",
              "  'B-DRUG',\n",
              "  'O',\n",
              "  'O',\n",
              "  'O',\n",
              "  'O'],\n",
              " ['O',\n",
              "  'O',\n",
              "  'O',\n",
              "  'O',\n",
              "  'O',\n",
              "  'O',\n",
              "  'O',\n",
              "  'O',\n",
              "  'O',\n",
              "  'O',\n",
              "  'B-DOSAGE',\n",
              "  'I-DOSAGE',\n",
              "  'I-DOSAGE',\n",
              "  'B-DRUG',\n",
              "  'O',\n",
              "  'O',\n",
              "  'O',\n",
              "  'O',\n",
              "  'O',\n",
              "  'O',\n",
              "  'O',\n",
              "  'O',\n",
              "  'O',\n",
              "  'O',\n",
              "  'O',\n",
              "  'O',\n",
              "  'O',\n",
              "  'O',\n",
              "  'O',\n",
              "  'O',\n",
              "  'O',\n",
              "  'O',\n",
              "  'O',\n",
              "  'O'],\n",
              " ['O',\n",
              "  'O',\n",
              "  'O',\n",
              "  'B-DOSAGE',\n",
              "  'I-DOSAGE',\n",
              "  'I-DOSAGE',\n",
              "  'O',\n",
              "  'O',\n",
              "  'O',\n",
              "  'O',\n",
              "  'O',\n",
              "  'O',\n",
              "  'O',\n",
              "  'O'],\n",
              " ['O', 'O', 'O', 'O', 'O', 'O', 'O', 'B-DOSAGE', 'O', 'O', 'B-DRUG', 'O'],\n",
              " ['O',\n",
              "  'O',\n",
              "  'O',\n",
              "  'O',\n",
              "  'O',\n",
              "  'O',\n",
              "  'B-DOSAGE',\n",
              "  'I-DOSAGE',\n",
              "  'I-DOSAGE',\n",
              "  'O',\n",
              "  'B-DRUG',\n",
              "  'O'],\n",
              " ['O',\n",
              "  'O',\n",
              "  'O',\n",
              "  'O',\n",
              "  'O',\n",
              "  'O',\n",
              "  'O',\n",
              "  'O',\n",
              "  'O',\n",
              "  'O',\n",
              "  'O',\n",
              "  'O',\n",
              "  'O',\n",
              "  'O',\n",
              "  'O',\n",
              "  'O',\n",
              "  'O',\n",
              "  'O',\n",
              "  'O',\n",
              "  'O',\n",
              "  'O',\n",
              "  'O',\n",
              "  'O',\n",
              "  'O',\n",
              "  'O',\n",
              "  'O',\n",
              "  'B-DRUG',\n",
              "  'O',\n",
              "  'B-DOSAGE',\n",
              "  'I-DOSAGE',\n",
              "  'I-DOSAGE',\n",
              "  'I-DOSAGE',\n",
              "  'I-DOSAGE',\n",
              "  'I-DOSAGE',\n",
              "  'O',\n",
              "  'O',\n",
              "  'O'],\n",
              " ['O',\n",
              "  'O',\n",
              "  'O',\n",
              "  'O',\n",
              "  'B-DRUG',\n",
              "  'I-DRUG',\n",
              "  'O',\n",
              "  'O',\n",
              "  'O',\n",
              "  'O',\n",
              "  'O',\n",
              "  'O',\n",
              "  'O',\n",
              "  'O',\n",
              "  'O',\n",
              "  'O',\n",
              "  'O',\n",
              "  'O',\n",
              "  'O',\n",
              "  'O',\n",
              "  'O',\n",
              "  'O',\n",
              "  'O',\n",
              "  'O',\n",
              "  'O',\n",
              "  'B-DOSAGE',\n",
              "  'I-DOSAGE',\n",
              "  'I-DOSAGE',\n",
              "  'I-DOSAGE',\n",
              "  'O',\n",
              "  'O',\n",
              "  'O',\n",
              "  'O',\n",
              "  'O',\n",
              "  'O'],\n",
              " ['B-DRUG', 'I-DRUG', 'B-DOSAGE', 'O', 'O', 'O', 'O', 'O', 'O', 'O', 'O'],\n",
              " ['O', 'B-DOSAGE', 'O', 'O', 'O', 'O', 'O', 'O', 'O', 'O', 'O', 'O', 'O', 'O'],\n",
              " ['O',\n",
              "  'O',\n",
              "  'O',\n",
              "  'O',\n",
              "  'O',\n",
              "  'O',\n",
              "  'O',\n",
              "  'O',\n",
              "  'O',\n",
              "  'O',\n",
              "  'O',\n",
              "  'O',\n",
              "  'O',\n",
              "  'O',\n",
              "  'O',\n",
              "  'O',\n",
              "  'O',\n",
              "  'O',\n",
              "  'O',\n",
              "  'B-DOSAGE',\n",
              "  'I-DOSAGE',\n",
              "  'I-DOSAGE',\n",
              "  'I-DOSAGE',\n",
              "  'O'],\n",
              " ['O',\n",
              "  'O',\n",
              "  'O',\n",
              "  'O',\n",
              "  'O',\n",
              "  'O',\n",
              "  'O',\n",
              "  'O',\n",
              "  'O',\n",
              "  'O',\n",
              "  'O',\n",
              "  'O',\n",
              "  'O',\n",
              "  'O',\n",
              "  'O',\n",
              "  'O',\n",
              "  'O',\n",
              "  'O',\n",
              "  'O',\n",
              "  'O',\n",
              "  'O',\n",
              "  'O',\n",
              "  'O',\n",
              "  'O',\n",
              "  'O',\n",
              "  'O',\n",
              "  'O',\n",
              "  'O',\n",
              "  'O',\n",
              "  'O',\n",
              "  'O',\n",
              "  'O',\n",
              "  'O',\n",
              "  'O',\n",
              "  'O',\n",
              "  'O',\n",
              "  'O',\n",
              "  'B-DOSAGE',\n",
              "  'I-DOSAGE',\n",
              "  'B-DRUG',\n",
              "  'O',\n",
              "  'O'],\n",
              " ['O',\n",
              "  'O',\n",
              "  'O',\n",
              "  'O',\n",
              "  'O',\n",
              "  'O',\n",
              "  'O',\n",
              "  'O',\n",
              "  'O',\n",
              "  'O',\n",
              "  'O',\n",
              "  'O',\n",
              "  'O',\n",
              "  'O',\n",
              "  'O',\n",
              "  'O',\n",
              "  'O',\n",
              "  'O',\n",
              "  'O',\n",
              "  'O',\n",
              "  'B-DRUG',\n",
              "  'B-DOSAGE',\n",
              "  'I-DOSAGE',\n",
              "  'I-DOSAGE',\n",
              "  'I-DOSAGE',\n",
              "  'O'],\n",
              " ['O',\n",
              "  'O',\n",
              "  'O',\n",
              "  'O',\n",
              "  'O',\n",
              "  'O',\n",
              "  'O',\n",
              "  'O',\n",
              "  'B-DOSAGE',\n",
              "  'I-DOSAGE',\n",
              "  'I-DOSAGE',\n",
              "  'I-DOSAGE',\n",
              "  'I-DOSAGE',\n",
              "  'O',\n",
              "  'O',\n",
              "  'O',\n",
              "  'O',\n",
              "  'O',\n",
              "  'O',\n",
              "  'O',\n",
              "  'O',\n",
              "  'O',\n",
              "  'O',\n",
              "  'O',\n",
              "  'O',\n",
              "  'O'],\n",
              " ['O',\n",
              "  'O',\n",
              "  'O',\n",
              "  'O',\n",
              "  'O',\n",
              "  'O',\n",
              "  'O',\n",
              "  'O',\n",
              "  'O',\n",
              "  'O',\n",
              "  'O',\n",
              "  'O',\n",
              "  'O',\n",
              "  'O',\n",
              "  'O',\n",
              "  'O',\n",
              "  'O',\n",
              "  'O',\n",
              "  'B-DOSAGE',\n",
              "  'O',\n",
              "  'B-DRUG',\n",
              "  'O',\n",
              "  'O',\n",
              "  'O',\n",
              "  'O',\n",
              "  'O',\n",
              "  'O',\n",
              "  'O',\n",
              "  'O'],\n",
              " ['O',\n",
              "  'O',\n",
              "  'O',\n",
              "  'O',\n",
              "  'O',\n",
              "  'O',\n",
              "  'O',\n",
              "  'O',\n",
              "  'O',\n",
              "  'O',\n",
              "  'O',\n",
              "  'O',\n",
              "  'O',\n",
              "  'O',\n",
              "  'O',\n",
              "  'O'],\n",
              " ['O',\n",
              "  'O',\n",
              "  'O',\n",
              "  'O',\n",
              "  'O',\n",
              "  'O',\n",
              "  'O',\n",
              "  'B-DOSAGE',\n",
              "  'I-DOSAGE',\n",
              "  'I-DOSAGE',\n",
              "  'B-DRUG',\n",
              "  'I-DRUG',\n",
              "  'O'],\n",
              " ['O',\n",
              "  'O',\n",
              "  'O',\n",
              "  'O',\n",
              "  'O',\n",
              "  'O',\n",
              "  'O',\n",
              "  'O',\n",
              "  'O',\n",
              "  'O',\n",
              "  'O',\n",
              "  'O',\n",
              "  'O',\n",
              "  'O',\n",
              "  'O',\n",
              "  'O',\n",
              "  'O',\n",
              "  'O',\n",
              "  'O',\n",
              "  'O',\n",
              "  'O',\n",
              "  'O',\n",
              "  'O',\n",
              "  'O',\n",
              "  'O',\n",
              "  'O',\n",
              "  'O',\n",
              "  'O',\n",
              "  'B-DRUG',\n",
              "  'O',\n",
              "  'O'],\n",
              " ['O',\n",
              "  'O',\n",
              "  'O',\n",
              "  'O',\n",
              "  'O',\n",
              "  'O',\n",
              "  'O',\n",
              "  'O',\n",
              "  'O',\n",
              "  'O',\n",
              "  'O',\n",
              "  'O',\n",
              "  'O',\n",
              "  'O',\n",
              "  'O',\n",
              "  'O',\n",
              "  'O',\n",
              "  'O',\n",
              "  'O',\n",
              "  'O',\n",
              "  'O',\n",
              "  'O',\n",
              "  'O',\n",
              "  'O',\n",
              "  'O',\n",
              "  'O',\n",
              "  'O',\n",
              "  'O',\n",
              "  'O',\n",
              "  'O',\n",
              "  'O'],\n",
              " ['O',\n",
              "  'O',\n",
              "  'O',\n",
              "  'O',\n",
              "  'O',\n",
              "  'O',\n",
              "  'O',\n",
              "  'O',\n",
              "  'O',\n",
              "  'O',\n",
              "  'O',\n",
              "  'O',\n",
              "  'O',\n",
              "  'O',\n",
              "  'O',\n",
              "  'O',\n",
              "  'O',\n",
              "  'O',\n",
              "  'O',\n",
              "  'O',\n",
              "  'B-DRUG',\n",
              "  'B-DOSAGE',\n",
              "  'I-DOSAGE',\n",
              "  'I-DOSAGE',\n",
              "  'I-DOSAGE',\n",
              "  'O',\n",
              "  'O'],\n",
              " ['O',\n",
              "  'O',\n",
              "  'O',\n",
              "  'O',\n",
              "  'O',\n",
              "  'O',\n",
              "  'O',\n",
              "  'O',\n",
              "  'O',\n",
              "  'O',\n",
              "  'O',\n",
              "  'O',\n",
              "  'O',\n",
              "  'O',\n",
              "  'O',\n",
              "  'O',\n",
              "  'O',\n",
              "  'O',\n",
              "  'O',\n",
              "  'O',\n",
              "  'O',\n",
              "  'O',\n",
              "  'O',\n",
              "  'O',\n",
              "  'O',\n",
              "  'O',\n",
              "  'O',\n",
              "  'O',\n",
              "  'O',\n",
              "  'O',\n",
              "  'O',\n",
              "  'O',\n",
              "  'O',\n",
              "  'O'],\n",
              " ['O',\n",
              "  'O',\n",
              "  'O',\n",
              "  'O',\n",
              "  'O',\n",
              "  'B-DRUG',\n",
              "  'O',\n",
              "  'O',\n",
              "  'O',\n",
              "  'O',\n",
              "  'O',\n",
              "  'O',\n",
              "  'O',\n",
              "  'O',\n",
              "  'O',\n",
              "  'O',\n",
              "  'O',\n",
              "  'O',\n",
              "  'O',\n",
              "  'O',\n",
              "  'O',\n",
              "  'B-DRUG',\n",
              "  'O'],\n",
              " ['B-DOSAGE',\n",
              "  'I-DOSAGE',\n",
              "  'I-DOSAGE',\n",
              "  'O',\n",
              "  'B-DRUG',\n",
              "  'O',\n",
              "  'O',\n",
              "  'O',\n",
              "  'O',\n",
              "  'O',\n",
              "  'O',\n",
              "  'O',\n",
              "  'O',\n",
              "  'O',\n",
              "  'O',\n",
              "  'O',\n",
              "  'O',\n",
              "  'O',\n",
              "  'O'],\n",
              " ['O',\n",
              "  'O',\n",
              "  'O',\n",
              "  'O',\n",
              "  'O',\n",
              "  'O',\n",
              "  'O',\n",
              "  'O',\n",
              "  'O',\n",
              "  'O',\n",
              "  'O',\n",
              "  'O',\n",
              "  'O',\n",
              "  'O',\n",
              "  'O',\n",
              "  'O',\n",
              "  'O',\n",
              "  'O',\n",
              "  'O',\n",
              "  'B-DOSAGE',\n",
              "  'I-DOSAGE',\n",
              "  'I-DOSAGE',\n",
              "  'I-DOSAGE',\n",
              "  'O',\n",
              "  'O'],\n",
              " ['O',\n",
              "  'O',\n",
              "  'O',\n",
              "  'O',\n",
              "  'O',\n",
              "  'O',\n",
              "  'O',\n",
              "  'O',\n",
              "  'O',\n",
              "  'O',\n",
              "  'O',\n",
              "  'O',\n",
              "  'O',\n",
              "  'B-DRUG',\n",
              "  'O',\n",
              "  'O',\n",
              "  'B-DOSAGE',\n",
              "  'I-DOSAGE',\n",
              "  'I-DOSAGE',\n",
              "  'I-DOSAGE',\n",
              "  'O',\n",
              "  'O'],\n",
              " ['O',\n",
              "  'O',\n",
              "  'O',\n",
              "  'O',\n",
              "  'O',\n",
              "  'B-DOSAGE',\n",
              "  'I-DOSAGE',\n",
              "  'I-DOSAGE',\n",
              "  'B-DRUG',\n",
              "  'O',\n",
              "  'O',\n",
              "  'O',\n",
              "  'O',\n",
              "  'O',\n",
              "  'O'],\n",
              " ['O', 'O', 'O', 'O', 'O', 'O', 'B-DRUG', 'O'],\n",
              " ['O',\n",
              "  'O',\n",
              "  'O',\n",
              "  'O',\n",
              "  'O',\n",
              "  'O',\n",
              "  'O',\n",
              "  'O',\n",
              "  'O',\n",
              "  'O',\n",
              "  'O',\n",
              "  'O',\n",
              "  'O',\n",
              "  'O',\n",
              "  'B-DRUG',\n",
              "  'I-DRUG',\n",
              "  'O',\n",
              "  'O',\n",
              "  'O',\n",
              "  'O',\n",
              "  'O']]"
            ]
          },
          "metadata": {
            "tags": []
          },
          "execution_count": 449
        }
      ],
      "metadata": {
        "colab": {
          "base_uri": "https://localhost:8080/"
        },
        "id": "g1LZ8FyuoU1y",
        "outputId": "fc261db8-e73b-44e4-921d-207963e70cf9"
      }
    },
    {
      "cell_type": "code",
      "execution_count": null,
      "source": [
        "sorted_tags = sorted(\n",
        "    tags,\n",
        "    key=lambda name: (name[1:], name[0])\n",
        ")\n",
        "print(metrics.flat_classification_report(\n",
        "    y_val, y_pred, labels=sorted_tags, digits=3\n",
        "))"
      ],
      "outputs": [
        {
          "output_type": "stream",
          "name": "stdout",
          "text": [
            "              precision    recall  f1-score   support\n",
            "\n",
            "    B-DOSAGE      0.737     0.683     0.709        41\n",
            "    I-DOSAGE      0.619     0.565     0.591        69\n",
            "      B-DRUG      0.789     0.682     0.732        44\n",
            "      I-DRUG      0.833     0.500     0.625        10\n",
            "\n",
            "   micro avg      0.703     0.622     0.660       164\n",
            "   macro avg      0.745     0.607     0.664       164\n",
            "weighted avg      0.707     0.622     0.660       164\n",
            "\n"
          ]
        }
      ],
      "metadata": {
        "colab": {
          "base_uri": "https://localhost:8080/"
        },
        "id": "GOFQQTXbFg6r",
        "outputId": "89c7f0af-50a4-49e5-eef9-e5a16b919923"
      }
    },
    {
      "cell_type": "code",
      "execution_count": null,
      "source": [
        "print('model size: {:0.2f}M'.format(crf.size_ / 1000000))"
      ],
      "outputs": [
        {
          "output_type": "stream",
          "name": "stdout",
          "text": [
            "model size: 0.09M\n"
          ]
        }
      ],
      "metadata": {
        "colab": {
          "base_uri": "https://localhost:8080/"
        },
        "id": "bNoaGaUKZ3fA",
        "outputId": "e8121a5a-3600-4b49-cd61-495d795f5c07"
      }
    },
    {
      "cell_type": "markdown",
      "source": [
        "The result is actually noticeable, although the micro-f1 has not fluctuate, other metrics experiecne a noticable rise in figure, particularly those of I-DRUG tag. "
      ],
      "metadata": {
        "id": "qwVkfXBLGcwh"
      }
    },
    {
      "cell_type": "markdown",
      "source": [
        "### 4) CRF hyperparameters optimization"
      ],
      "metadata": {
        "id": "gWx5ikfcyFN4"
      }
    },
    {
      "cell_type": "code",
      "execution_count": null,
      "source": [
        "import scipy.stats\n",
        "from sklearn.metrics import make_scorer\n",
        "from sklearn.model_selection import RandomizedSearchCV\n",
        "from sklearn.model_selection import cross_val_score"
      ],
      "outputs": [],
      "metadata": {
        "id": "g4mIt1uQXwc9"
      }
    },
    {
      "cell_type": "code",
      "execution_count": null,
      "source": [
        "crf_tuned = CRF(\n",
        "    algorithm='lbfgs',\n",
        "    max_iterations=100,\n",
        "    all_possible_transitions=True\n",
        ")\n",
        "params_space = {\n",
        "    'c1': scipy.stats.expon(scale=0.5),\n",
        "    'c2': scipy.stats.expon(scale=0.05),\n",
        "}\n",
        "\n",
        "# use the same metric for evaluation\n",
        "f1_scorer = make_scorer(metrics.flat_f1_score,\n",
        "                        average='macro', labels=tags)\n",
        "\n",
        "# define grid search \n",
        "rs = RandomizedSearchCV(crf_tuned, params_space,\n",
        "                        cv=5,\n",
        "                        verbose=1,\n",
        "                        n_jobs=-1,\n",
        "                        n_iter=50,\n",
        "                        scoring=f1_scorer)\n",
        "rs.fit(X_train, y_train)"
      ],
      "outputs": [
        {
          "output_type": "stream",
          "name": "stderr",
          "text": [
            "/usr/local/lib/python3.7/dist-packages/sklearn/base.py:197: FutureWarning:\n",
            "\n",
            "From version 0.24, get_params will raise an AttributeError if a parameter cannot be retrieved as an instance attribute. Previously it would return None.\n",
            "\n",
            "[Parallel(n_jobs=-1)]: Using backend LokyBackend with 2 concurrent workers.\n"
          ]
        },
        {
          "output_type": "stream",
          "name": "stdout",
          "text": [
            "Fitting 5 folds for each of 50 candidates, totalling 250 fits\n"
          ]
        },
        {
          "output_type": "stream",
          "name": "stderr",
          "text": [
            "[Parallel(n_jobs=-1)]: Done  46 tasks      | elapsed:   27.6s\n",
            "[Parallel(n_jobs=-1)]: Done 196 tasks      | elapsed:  1.8min\n",
            "[Parallel(n_jobs=-1)]: Done 250 out of 250 | elapsed:  2.3min finished\n"
          ]
        },
        {
          "output_type": "execute_result",
          "data": {
            "text/plain": [
              "RandomizedSearchCV(cv=5, error_score=nan,\n",
              "                   estimator=CRF(algorithm='lbfgs', all_possible_states=None,\n",
              "                                 all_possible_transitions=True, averaging=None,\n",
              "                                 c=None, c1=None, c2=None,\n",
              "                                 calibration_candidates=None,\n",
              "                                 calibration_eta=None,\n",
              "                                 calibration_max_trials=None,\n",
              "                                 calibration_rate=None,\n",
              "                                 calibration_samples=None, delta=None,\n",
              "                                 epsilon=None, error_sensitive=None, gamma=None,\n",
              "                                 keep_...\n",
              "                   param_distributions={'c1': <scipy.stats._distn_infrastructure.rv_frozen object at 0x7f7197448550>,\n",
              "                                        'c2': <scipy.stats._distn_infrastructure.rv_frozen object at 0x7f7197504410>},\n",
              "                   pre_dispatch='2*n_jobs', random_state=None, refit=True,\n",
              "                   return_train_score=False,\n",
              "                   scoring=make_scorer(flat_f1_score, average=macro, labels=['B-DRUG', 'I-DRUG', 'B-DOSAGE', 'I-DOSAGE']),\n",
              "                   verbose=1)"
            ]
          },
          "metadata": {
            "tags": []
          },
          "execution_count": 432
        }
      ],
      "metadata": {
        "id": "m67GXnSEx2xB",
        "colab": {
          "base_uri": "https://localhost:8080/"
        },
        "outputId": "c6c486c9-d7e6-40ce-8da3-da312f52fb4e"
      }
    },
    {
      "cell_type": "code",
      "execution_count": null,
      "source": [
        "print('best params:', rs.best_params_)\n",
        "print('best CV score:', rs.best_score_)\n",
        "print('model size: {:0.2f}M'.format(rs.best_estimator_.size_ / 1000000))"
      ],
      "outputs": [
        {
          "output_type": "stream",
          "name": "stdout",
          "text": [
            "best params: {'c1': 0.058761573113500463, 'c2': 0.008854148643341015}\n",
            "best CV score: 0.6280446464876833\n",
            "model size: 0.08M\n"
          ]
        }
      ],
      "metadata": {
        "colab": {
          "base_uri": "https://localhost:8080/"
        },
        "id": "ZOpJfLClZJSt",
        "outputId": "1300d0c4-5ac0-4d09-82b3-e153135d4502"
      }
    },
    {
      "cell_type": "code",
      "execution_count": null,
      "source": [
        "crf_tuned = rs.best_estimator_\n",
        "y_pred = crf_tuned.predict(X_val)\n",
        "print(metrics.flat_classification_report(\n",
        "    y_val, y_pred, labels=sorted_tags, digits=3\n",
        "))"
      ],
      "outputs": [
        {
          "output_type": "stream",
          "name": "stdout",
          "text": [
            "              precision    recall  f1-score   support\n",
            "\n",
            "    B-DOSAGE      0.757     0.683     0.718        41\n",
            "    I-DOSAGE      0.641     0.594     0.617        69\n",
            "      B-DRUG      0.763     0.659     0.707        44\n",
            "      I-DRUG      1.000     0.500     0.667        10\n",
            "\n",
            "   micro avg      0.715     0.628     0.669       164\n",
            "   macro avg      0.790     0.609     0.677       164\n",
            "weighted avg      0.724     0.628     0.669       164\n",
            "\n"
          ]
        }
      ],
      "metadata": {
        "colab": {
          "base_uri": "https://localhost:8080/"
        },
        "id": "iTnjnGxBZSFY",
        "outputId": "dc0bba55-6cb9-4a53-faf3-92bc5d18b5a4"
      }
    },
    {
      "cell_type": "markdown",
      "source": [
        "**Evaluation**: From observation, the tuned-CRF achieved outperform the baseline CRF on macro-f1 score. Moreover, jusdging from other expects, such as model size, Precision and Recall score on each tag, we can notice a slight increase in these metrics from the tuned-CRF. Therefore, within all Machine Learning model, **tuned-CRF** would be the best performance one."
      ],
      "metadata": {
        "id": "Vrpid7inZmvD"
      }
    },
    {
      "cell_type": "markdown",
      "source": [
        "## Deep Learning approach"
      ],
      "metadata": {
        "id": "M382wWOILeul"
      }
    },
    {
      "cell_type": "markdown",
      "source": [
        "### Dictionaries of words and tags"
      ],
      "metadata": {
        "id": "bLs0oSVZD1d0"
      }
    },
    {
      "cell_type": "markdown",
      "source": [
        "Before feeding the data into the deep learning model, we have to preprocess the text.\n",
        "\n",
        "1. We will use the word2idx dictionary to convert each word to its corresponding ID and the tag2idx to perform the same task for the labels Converting words and present them in integers help reserving more memory.\n",
        "\n",
        "2. In order to feed the text input into our model (we are experimenting different approaches with the Bi-LSTM-CRF model, we have to make sure all text (sentences) must be in the same length. There are 2 more methods 2 perform this task, one is to declare the batch_size = 1 or you can declare your batch_size > 1 but with all equal-length samples at each batch. However, I choose the Padding technique as it is more elegant and clean.We ensure this using the sequence.pad_sequences() method and MAX_LEN variable. All texts longer than MAX_LEN are truncated and shorter texts are padded to get them to the same length."
      ],
      "metadata": {
        "id": "oHrhlZm0qmqx"
      }
    },
    {
      "cell_type": "code",
      "execution_count": null,
      "source": [
        "from future.utils import iteritems\n",
        "\n",
        "word2idx = {w: i + 2 for i, w in enumerate(words)}\n",
        "word2idx = {w: i + 2 for i, w in enumerate(words)}\n",
        "word2idx[\"UNK\"] = 1 # Unknown words\n",
        "word2idx[\"PAD\"] = 0 # Padding\n",
        "\n",
        "# Vocabulary Key:token_index -> Value:word\n",
        "idx2word = {i: w for w, i in word2idx.items()}\n",
        "\n",
        "tag2idx = {t: i+1 for i, t in enumerate(tags)}\n",
        "tag2idx[\"PAD\"] = 0\n",
        "\n",
        "idx2tag = {v: k for k, v in iteritems(tag2idx)}"
      ],
      "outputs": [],
      "metadata": {
        "id": "F-g_x_-gEMdX"
      }
    },
    {
      "cell_type": "markdown",
      "source": [
        "### Pad sentences\n",
        "All the neural networks require to have inputs that have the same shape and size. However, when we pre-process and use the texts as inputs for our model e.g. LSTM, not all the sentences have the same length. In other words, naturally, some of the sentences are longer or shorter. We need to have the inputs with the same size, this is where the padding is necessary."
      ],
      "metadata": {
        "id": "N4i7qNyrEVXz"
      }
    },
    {
      "cell_type": "code",
      "execution_count": null,
      "source": [
        "from tensorflow.keras.preprocessing.sequence import pad_sequences\n",
        "from tensorflow.keras.utils import to_categorical\n",
        "from sklearn.model_selection import train_test_split\n",
        "\n",
        "\n",
        "max_len = max([len(s) for s in sentences_data])\n",
        "\n",
        "X = [[word2idx[w[0]] for w in s] for s in sentences_data]\n",
        "X = pad_sequences(maxlen=max_len, sequences=X, padding=\"post\",value=word2idx[\"PAD\"])\n",
        "\n",
        "y = [[tag2idx[w[1]] for w in s] for s in sentences_data]\n",
        "y = pad_sequences(maxlen=max_len, sequences=y, padding=\"post\", value=tag2idx[\"PAD\"])\n",
        "\n",
        "y = [to_categorical(i, num_classes=n_tags+1) for i in y] #n+1 for PAD\n",
        "\n",
        "# Split train and test data\n",
        "X_train, X_test, y_train, y_test = train_test_split(X, y, test_size=0.2, random_state=1)"
      ],
      "outputs": [],
      "metadata": {
        "id": "kIx3MGUaEcqQ"
      }
    },
    {
      "cell_type": "markdown",
      "source": [
        "### Modeling"
      ],
      "metadata": {
        "id": "yoJEhijZYcNZ"
      }
    },
    {
      "cell_type": "code",
      "execution_count": null,
      "source": [
        "from keras.models import Model, Input\n",
        "from keras.layers import LSTM, Embedding, Dense, TimeDistributed, Dropout, Bidirectional, SpatialDropout1D\n",
        "import keras as k\n",
        "from tensorflow.keras.callbacks import ModelCheckpoint, EarlyStopping"
      ],
      "outputs": [],
      "metadata": {
        "id": "z3uE7RAdhv-C"
      }
    },
    {
      "cell_type": "markdown",
      "source": [
        "#### 1) Bi-LSTM baseline with dropout"
      ],
      "metadata": {
        "id": "fUPQwvltgcmm"
      }
    },
    {
      "cell_type": "code",
      "execution_count": null,
      "source": [
        "input = Input(shape=(max_len,))\n",
        "model = Embedding(input_dim=n_words+2, output_dim=50, input_length=max_len)(input)  # 50-dim embedding\n",
        "model = Dropout(0.1)(model)\n",
        "model = Bidirectional(LSTM(units=100, return_sequences=True, recurrent_dropout=0.1))(model)  # variational biLSTM\n",
        "out = TimeDistributed(Dense(n_tags+1, activation=\"softmax\"))(model)  # softmax output layer\n",
        "model = Model(input, out)"
      ],
      "outputs": [],
      "metadata": {
        "id": "O3BsV9JtgqQr"
      }
    },
    {
      "cell_type": "code",
      "execution_count": null,
      "source": [
        "model.compile(optimizer=\"rmsprop\",\n",
        "              loss=\"categorical_crossentropy\",\n",
        "              metrics = [keras.metrics.Precision(),\n",
        "                        keras.metrics.Recall()])"
      ],
      "outputs": [],
      "metadata": {
        "id": "wuExjmzlgqUi"
      }
    },
    {
      "cell_type": "code",
      "execution_count": null,
      "source": [
        "chkpt = ModelCheckpoint(\"ner_lstm_baseline_model.h5\", monitor='val_loss',verbose=1, save_best_only=True, save_weights_only=True, mode='min')\n",
        "\n",
        "# Define early stopper to monitor the fluctuation of val_loss, stop the training process if detect no further progression\n",
        "early_stopping = EarlyStopping(monitor='val_loss', min_delta=0, patience=1, verbose=0, mode='min', baseline=None, restore_best_weights=False)\n",
        "\n",
        "callbacks = [chkpt]\n",
        "\n",
        "history = model.fit(\n",
        "    x=X_train,\n",
        "    y=np.array(y_train),\n",
        "    validation_split=0.2,\n",
        "    epochs = 10,\n",
        "    batch_size = 64,\n",
        "    callbacks=callbacks,\n",
        "    verbose=1\n",
        ")"
      ],
      "outputs": [
        {
          "output_type": "stream",
          "name": "stdout",
          "text": [
            "Epoch 1/10\n",
            "3/3 [==============================] - 7s 660ms/step - loss: 1.7298 - precision_16: 0.0000e+00 - recall_16: 0.0000e+00 - val_loss: 1.3242 - val_precision_16: 0.0000e+00 - val_recall_16: 0.0000e+00\n",
            "\n",
            "Epoch 00001: val_loss improved from inf to 1.32422, saving model to ner_lstm_baseline_model.h5\n",
            "Epoch 2/10\n",
            "3/3 [==============================] - 1s 264ms/step - loss: 1.1585 - precision_16: 0.5380 - recall_16: 0.2286 - val_loss: 0.6589 - val_precision_16: 0.9089 - val_recall_16: 0.7722\n",
            "\n",
            "Epoch 00002: val_loss improved from 1.32422 to 0.65890, saving model to ner_lstm_baseline_model.h5\n",
            "Epoch 3/10\n",
            "3/3 [==============================] - 1s 264ms/step - loss: 0.6195 - precision_16: 0.8956 - recall_16: 0.8052 - val_loss: 0.4924 - val_precision_16: 0.8738 - val_recall_16: 0.8548\n",
            "\n",
            "Epoch 00003: val_loss improved from 0.65890 to 0.49236, saving model to ner_lstm_baseline_model.h5\n",
            "Epoch 4/10\n",
            "3/3 [==============================] - 1s 263ms/step - loss: 0.5052 - precision_16: 0.8706 - recall_16: 0.8463 - val_loss: 0.5199 - val_precision_16: 0.8313 - val_recall_16: 0.8075\n",
            "\n",
            "Epoch 00004: val_loss did not improve from 0.49236\n",
            "Epoch 5/10\n",
            "3/3 [==============================] - 1s 266ms/step - loss: 0.4743 - precision_16: 0.8725 - recall_16: 0.8453 - val_loss: 0.4341 - val_precision_16: 0.8932 - val_recall_16: 0.8694\n",
            "\n",
            "Epoch 00005: val_loss improved from 0.49236 to 0.43409, saving model to ner_lstm_baseline_model.h5\n",
            "Epoch 6/10\n",
            "3/3 [==============================] - 1s 260ms/step - loss: 0.4457 - precision_16: 0.8851 - recall_16: 0.8608 - val_loss: 0.4156 - val_precision_16: 0.8835 - val_recall_16: 0.8635\n",
            "\n",
            "Epoch 00006: val_loss improved from 0.43409 to 0.41556, saving model to ner_lstm_baseline_model.h5\n",
            "Epoch 7/10\n",
            "3/3 [==============================] - 1s 260ms/step - loss: 0.3903 - precision_16: 0.9073 - recall_16: 0.8867 - val_loss: 0.4021 - val_precision_16: 0.8997 - val_recall_16: 0.8790\n",
            "\n",
            "Epoch 00007: val_loss improved from 0.41556 to 0.40211, saving model to ner_lstm_baseline_model.h5\n",
            "Epoch 8/10\n",
            "3/3 [==============================] - 1s 273ms/step - loss: 0.3921 - precision_16: 0.9025 - recall_16: 0.8794 - val_loss: 0.4199 - val_precision_16: 0.8737 - val_recall_16: 0.8567\n",
            "\n",
            "Epoch 00008: val_loss did not improve from 0.40211\n",
            "Epoch 9/10\n",
            "3/3 [==============================] - 1s 274ms/step - loss: 0.3761 - precision_16: 0.9024 - recall_16: 0.8847 - val_loss: 0.3888 - val_precision_16: 0.8996 - val_recall_16: 0.8817\n",
            "\n",
            "Epoch 00009: val_loss improved from 0.40211 to 0.38875, saving model to ner_lstm_baseline_model.h5\n",
            "Epoch 10/10\n",
            "3/3 [==============================] - 1s 267ms/step - loss: 0.3707 - precision_16: 0.9083 - recall_16: 0.8891 - val_loss: 0.4159 - val_precision_16: 0.8744 - val_recall_16: 0.8563\n",
            "\n",
            "Epoch 00010: val_loss did not improve from 0.38875\n"
          ]
        }
      ],
      "metadata": {
        "colab": {
          "base_uri": "https://localhost:8080/"
        },
        "id": "xOVT1P3tjWZs",
        "outputId": "03613afb-d021-4e5e-e5ef-e0ab26d0dec9"
      }
    },
    {
      "cell_type": "code",
      "execution_count": null,
      "source": [
        "pred_cat = model.predict(X_test)\n",
        "pred = np.argmax(pred_cat, axis=-1)\n",
        "y_test_true = np.argmax(y_test, -1)"
      ],
      "outputs": [],
      "metadata": {
        "id": "9HYcRutwpstY"
      }
    },
    {
      "cell_type": "code",
      "execution_count": null,
      "source": [
        "from sklearn_crfsuite.metrics import flat_classification_report\n",
        "\n",
        "# Convert the index to tag\n",
        "pred_tag = [[idx2tag[i] for i in row] for row in pred]\n",
        "y_test_true_tag = [[idx2tag[i] for i in row] for row in y_test_true] \n",
        "\n",
        "report = flat_classification_report(y_pred=pred_tag, y_true=y_test_true_tag)\n",
        "print(report)"
      ],
      "outputs": [
        {
          "output_type": "stream",
          "name": "stdout",
          "text": [
            "              precision    recall  f1-score   support\n",
            "\n",
            "    B-DOSAGE       0.00      0.00      0.00        53\n",
            "      B-DRUG       0.00      0.00      0.00        54\n",
            "    I-DOSAGE       0.00      0.00      0.00        88\n",
            "      I-DRUG       0.00      0.00      0.00        14\n",
            "           O       0.77      0.99      0.87      1268\n",
            "         PAD       0.99      0.90      0.94      1659\n",
            "\n",
            "    accuracy                           0.88      3136\n",
            "   macro avg       0.29      0.31      0.30      3136\n",
            "weighted avg       0.84      0.88      0.85      3136\n",
            "\n"
          ]
        },
        {
          "output_type": "stream",
          "name": "stderr",
          "text": [
            "/usr/local/lib/python3.7/dist-packages/sklearn/metrics/_classification.py:1272: UndefinedMetricWarning:\n",
            "\n",
            "Precision and F-score are ill-defined and being set to 0.0 in labels with no predicted samples. Use `zero_division` parameter to control this behavior.\n",
            "\n"
          ]
        }
      ],
      "metadata": {
        "colab": {
          "base_uri": "https://localhost:8080/"
        },
        "id": "gW4YTLN7pxLi",
        "outputId": "b9ef70d4-61de-474a-f40d-f766eb3c6ddf"
      }
    },
    {
      "cell_type": "markdown",
      "source": [
        "The result is extremely devastating as the model could not recognize any DRUG or DOSAGE tags correctly. The macro-f1 score is disappointing. The main reason in charge for this result is the the overwhelming biased between tag categories. "
      ],
      "metadata": {
        "id": "3Mqt51ljqoUs"
      }
    },
    {
      "cell_type": "markdown",
      "source": [
        "#### 2) Bi-LSTM + LSTM with dropout\n",
        "In order to tackle the above issue, we add more layer, particularly LSTM layer to increase the model learning capability, to capture more information from the context"
      ],
      "metadata": {
        "id": "LopQFijFoHCJ"
      }
    },
    {
      "cell_type": "code",
      "execution_count": null,
      "source": [
        "input = Input(shape=(max_len,))\n",
        "\n",
        "#Increase word_embedding_size: \n",
        "word_embedding_size = 100\n",
        "\n",
        "# Embedding Layer\n",
        "model_2 = Embedding(input_dim=n_words+2, output_dim=word_embedding_size, input_length=max_len)(input)\n",
        "\n",
        "# BI-LSTM Layer\n",
        "model_2 = Bidirectional(LSTM(units=word_embedding_size, \n",
        "                           return_sequences=True, \n",
        "                           dropout=0.5, \n",
        "                           recurrent_dropout=0.5, \n",
        "                           kernel_initializer=k.initializers.he_normal()))(model_2)\n",
        "model_2 = LSTM(units=word_embedding_size * 2, \n",
        "             return_sequences=True, \n",
        "             dropout=0.5, \n",
        "             recurrent_dropout=0.5, \n",
        "             kernel_initializer=k.initializers.he_normal())(model_2)\n",
        "\n",
        "# TimeDistributed Layer\n",
        "out = TimeDistributed(Dense(n_tags+1, activation=\"softmax\"))(model_2)  \n",
        "\n",
        "# out = crf(model)  # output\n",
        "model_2 = Model(input, out)"
      ],
      "outputs": [],
      "metadata": {
        "id": "pp4KYLSWEsS1"
      }
    },
    {
      "cell_type": "code",
      "execution_count": null,
      "source": [
        "#Optimiser \n",
        "adam = k.optimizers.Adam(lr=0.0005, beta_1=0.9, beta_2=0.999)\n",
        "\n",
        "# Compile model\n",
        "model_2.compile(optimizer=adam, loss='categorical_crossentropy', \n",
        "                metrics=[keras.metrics.Precision(),\n",
        "                        keras.metrics.Recall()])\n",
        "\n",
        "model_2.summary()"
      ],
      "outputs": [
        {
          "output_type": "stream",
          "name": "stdout",
          "text": [
            "Model: \"model_26\"\n",
            "_________________________________________________________________\n",
            "Layer (type)                 Output Shape              Param #   \n",
            "=================================================================\n",
            "input_28 (InputLayer)        [(None, 56)]              0         \n",
            "_________________________________________________________________\n",
            "embedding_27 (Embedding)     (None, 56, 100)           158100    \n",
            "_________________________________________________________________\n",
            "bidirectional_27 (Bidirectio (None, 56, 200)           160800    \n",
            "_________________________________________________________________\n",
            "lstm_38 (LSTM)               (None, 56, 200)           320800    \n",
            "_________________________________________________________________\n",
            "time_distributed_27 (TimeDis (None, 56, 6)             1206      \n",
            "=================================================================\n",
            "Total params: 640,906\n",
            "Trainable params: 640,906\n",
            "Non-trainable params: 0\n",
            "_________________________________________________________________\n"
          ]
        }
      ],
      "metadata": {
        "id": "j3v1WN3QHYJM",
        "colab": {
          "base_uri": "https://localhost:8080/"
        },
        "outputId": "e6a2cb42-7da7-480e-f0b4-6494edcc5062"
      }
    },
    {
      "cell_type": "code",
      "execution_count": null,
      "source": [
        "# Saving the best model only\n",
        "filepath=\"ner_stacked_bi_lstm_model.hdf5\"\n",
        "checkpoint = ModelCheckpoint(filepath, monitor='val_loss', verbose=1, save_best_only=True, mode='min')\n",
        "callbacks_list = [checkpoint]\n",
        "\n",
        "# Fit the best model\n",
        "history = model_2.fit(X_train, np.array(y_train), batch_size=128, epochs=20, validation_split=0.2, verbose=1, callbacks=callbacks_list)"
      ],
      "outputs": [
        {
          "output_type": "stream",
          "name": "stdout",
          "text": [
            "Epoch 1/20\n",
            "2/2 [==============================] - 12s 2s/step - loss: 1.7731 - precision_18: 0.0000e+00 - recall_18: 0.0000e+00 - val_loss: 1.5879 - val_precision_18: 0.0000e+00 - val_recall_18: 0.0000e+00\n",
            "\n",
            "Epoch 00001: val_loss improved from inf to 1.58794, saving model to ner_stacked_bi_lstm_model.hdf5\n",
            "Epoch 2/20\n",
            "2/2 [==============================] - 2s 774ms/step - loss: 1.5896 - precision_18: 0.0000e+00 - recall_18: 0.0000e+00 - val_loss: 1.3640 - val_precision_18: 0.0000e+00 - val_recall_18: 0.0000e+00\n",
            "\n",
            "Epoch 00002: val_loss improved from 1.58794 to 1.36402, saving model to ner_stacked_bi_lstm_model.hdf5\n",
            "Epoch 3/20\n",
            "2/2 [==============================] - 2s 767ms/step - loss: 1.3837 - precision_18: 0.6667 - recall_18: 0.0146 - val_loss: 1.1042 - val_precision_18: 1.0000 - val_recall_18: 0.4218\n",
            "\n",
            "Epoch 00003: val_loss improved from 1.36402 to 1.10424, saving model to ner_stacked_bi_lstm_model.hdf5\n",
            "Epoch 4/20\n",
            "2/2 [==============================] - 2s 748ms/step - loss: 1.1531 - precision_18: 1.0000 - recall_18: 0.3793 - val_loss: 0.8881 - val_precision_18: 1.0000 - val_recall_18: 0.5413\n",
            "\n",
            "Epoch 00004: val_loss improved from 1.10424 to 0.88811, saving model to ner_stacked_bi_lstm_model.hdf5\n",
            "Epoch 5/20\n",
            "2/2 [==============================] - 2s 775ms/step - loss: 0.9652 - precision_18: 0.9893 - recall_18: 0.4955 - val_loss: 0.8206 - val_precision_18: 0.8949 - val_recall_18: 0.5611\n",
            "\n",
            "Epoch 00005: val_loss improved from 0.88811 to 0.82061, saving model to ner_stacked_bi_lstm_model.hdf5\n",
            "Epoch 6/20\n",
            "2/2 [==============================] - 2s 751ms/step - loss: 0.8859 - precision_18: 0.8785 - recall_18: 0.5215 - val_loss: 0.7892 - val_precision_18: 0.8559 - val_recall_18: 0.5611\n",
            "\n",
            "Epoch 00006: val_loss improved from 0.82061 to 0.78918, saving model to ner_stacked_bi_lstm_model.hdf5\n",
            "Epoch 7/20\n",
            "2/2 [==============================] - 2s 755ms/step - loss: 0.8424 - precision_18: 0.8510 - recall_18: 0.5193 - val_loss: 0.6958 - val_precision_18: 0.9200 - val_recall_18: 0.5611\n",
            "\n",
            "Epoch 00007: val_loss improved from 0.78918 to 0.69576, saving model to ner_stacked_bi_lstm_model.hdf5\n",
            "Epoch 8/20\n",
            "2/2 [==============================] - 2s 771ms/step - loss: 0.7369 - precision_18: 0.9339 - recall_18: 0.5227 - val_loss: 0.6387 - val_precision_18: 0.9964 - val_recall_18: 0.5544\n",
            "\n",
            "Epoch 00008: val_loss improved from 0.69576 to 0.63869, saving model to ner_stacked_bi_lstm_model.hdf5\n",
            "Epoch 9/20\n",
            "2/2 [==============================] - 2s 763ms/step - loss: 0.6954 - precision_18: 0.9959 - recall_18: 0.5040 - val_loss: 0.6113 - val_precision_18: 0.9595 - val_recall_18: 0.5825\n",
            "\n",
            "Epoch 00009: val_loss improved from 0.63869 to 0.61132, saving model to ner_stacked_bi_lstm_model.hdf5\n",
            "Epoch 10/20\n",
            "2/2 [==============================] - 2s 781ms/step - loss: 0.6685 - precision_18: 0.9483 - recall_18: 0.5362 - val_loss: 0.5477 - val_precision_18: 0.9227 - val_recall_18: 0.6683\n",
            "\n",
            "Epoch 00010: val_loss improved from 0.61132 to 0.54766, saving model to ner_stacked_bi_lstm_model.hdf5\n",
            "Epoch 11/20\n",
            "2/2 [==============================] - 2s 766ms/step - loss: 0.5861 - precision_18: 0.9106 - recall_18: 0.6426 - val_loss: 0.4758 - val_precision_18: 0.9327 - val_recall_18: 0.7869\n",
            "\n",
            "Epoch 00011: val_loss improved from 0.54766 to 0.47582, saving model to ner_stacked_bi_lstm_model.hdf5\n",
            "Epoch 12/20\n",
            "2/2 [==============================] - 2s 765ms/step - loss: 0.5105 - precision_18: 0.9207 - recall_18: 0.7687 - val_loss: 0.4854 - val_precision_18: 0.8979 - val_recall_18: 0.8060\n",
            "\n",
            "Epoch 00012: val_loss did not improve from 0.47582\n",
            "Epoch 13/20\n",
            "2/2 [==============================] - 2s 770ms/step - loss: 0.4966 - precision_18: 0.9097 - recall_18: 0.8101 - val_loss: 0.4546 - val_precision_18: 0.9091 - val_recall_18: 0.8373\n",
            "\n",
            "Epoch 00013: val_loss improved from 0.47582 to 0.45457, saving model to ner_stacked_bi_lstm_model.hdf5\n",
            "Epoch 14/20\n",
            "2/2 [==============================] - 2s 801ms/step - loss: 0.4811 - precision_18: 0.9009 - recall_18: 0.8249 - val_loss: 0.4471 - val_precision_18: 0.9108 - val_recall_18: 0.8504\n",
            "\n",
            "Epoch 00014: val_loss improved from 0.45457 to 0.44708, saving model to ner_stacked_bi_lstm_model.hdf5\n",
            "Epoch 15/20\n",
            "2/2 [==============================] - 2s 780ms/step - loss: 0.4631 - precision_18: 0.9055 - recall_18: 0.8422 - val_loss: 0.4407 - val_precision_18: 0.9094 - val_recall_18: 0.8599\n",
            "\n",
            "Epoch 00015: val_loss improved from 0.44708 to 0.44074, saving model to ner_stacked_bi_lstm_model.hdf5\n",
            "Epoch 16/20\n",
            "2/2 [==============================] - 2s 767ms/step - loss: 0.4407 - precision_18: 0.9138 - recall_18: 0.8560 - val_loss: 0.4172 - val_precision_18: 0.9133 - val_recall_18: 0.8655\n",
            "\n",
            "Epoch 00016: val_loss improved from 0.44074 to 0.41724, saving model to ner_stacked_bi_lstm_model.hdf5\n",
            "Epoch 17/20\n",
            "2/2 [==============================] - 2s 758ms/step - loss: 0.4165 - precision_18: 0.9171 - recall_18: 0.8646 - val_loss: 0.3887 - val_precision_18: 0.9208 - val_recall_18: 0.8762\n",
            "\n",
            "Epoch 00017: val_loss improved from 0.41724 to 0.38867, saving model to ner_stacked_bi_lstm_model.hdf5\n",
            "Epoch 18/20\n",
            "2/2 [==============================] - 2s 762ms/step - loss: 0.3993 - precision_18: 0.9132 - recall_18: 0.8652 - val_loss: 0.3718 - val_precision_18: 0.9227 - val_recall_18: 0.8810\n",
            "\n",
            "Epoch 00018: val_loss improved from 0.38867 to 0.37178, saving model to ner_stacked_bi_lstm_model.hdf5\n",
            "Epoch 19/20\n",
            "2/2 [==============================] - 2s 764ms/step - loss: 0.3789 - precision_18: 0.9189 - recall_18: 0.8739 - val_loss: 0.3608 - val_precision_18: 0.9224 - val_recall_18: 0.8825\n",
            "\n",
            "Epoch 00019: val_loss improved from 0.37178 to 0.36075, saving model to ner_stacked_bi_lstm_model.hdf5\n",
            "Epoch 20/20\n",
            "2/2 [==============================] - 2s 770ms/step - loss: 0.3661 - precision_18: 0.9208 - recall_18: 0.8786 - val_loss: 0.3551 - val_precision_18: 0.9180 - val_recall_18: 0.8802\n",
            "\n",
            "Epoch 00020: val_loss improved from 0.36075 to 0.35506, saving model to ner_stacked_bi_lstm_model.hdf5\n"
          ]
        }
      ],
      "metadata": {
        "colab": {
          "base_uri": "https://localhost:8080/"
        },
        "id": "k4y88ny-CfiI",
        "outputId": "4a70b068-dfb8-48dc-c12f-59bec0b93db8"
      }
    },
    {
      "cell_type": "code",
      "execution_count": null,
      "source": [
        "pred_cat = model_2.predict(X_test)\n",
        "pred = np.argmax(pred_cat, axis=-1)\n",
        "y_test_true = np.argmax(y_test, -1)"
      ],
      "outputs": [],
      "metadata": {
        "id": "SDWA-ogiCk8j"
      }
    },
    {
      "cell_type": "code",
      "execution_count": null,
      "source": [
        "pred_tag = [[idx2tag[i] for i in row] for row in pred]\n",
        "y_test_true_tag = [[idx2tag[i] for i in row] for row in y_test_true] \n",
        "\n",
        "report = flat_classification_report(y_pred=pred_tag, y_true=y_test_true_tag)\n",
        "print(report)"
      ],
      "outputs": [
        {
          "output_type": "stream",
          "name": "stdout",
          "text": [
            "              precision    recall  f1-score   support\n",
            "\n",
            "    B-DOSAGE       0.00      0.00      0.00        53\n",
            "      B-DRUG       0.00      0.00      0.00        54\n",
            "    I-DOSAGE       0.00      0.00      0.00        88\n",
            "      I-DRUG       0.00      0.00      0.00        14\n",
            "           O       0.85      0.95      0.90      1268\n",
            "         PAD       0.96      1.00      0.98      1659\n",
            "\n",
            "    accuracy                           0.91      3136\n",
            "   macro avg       0.30      0.33      0.31      3136\n",
            "weighted avg       0.86      0.91      0.88      3136\n",
            "\n"
          ]
        },
        {
          "output_type": "stream",
          "name": "stderr",
          "text": [
            "/usr/local/lib/python3.7/dist-packages/sklearn/metrics/_classification.py:1272: UndefinedMetricWarning:\n",
            "\n",
            "Precision and F-score are ill-defined and being set to 0.0 in labels with no predicted samples. Use `zero_division` parameter to control this behavior.\n",
            "\n"
          ]
        }
      ],
      "metadata": {
        "colab": {
          "base_uri": "https://localhost:8080/"
        },
        "id": "ALu2s2dkqVrV",
        "outputId": "22bb5d6e-04ff-4fd4-a3ed-d30566148ae7"
      }
    },
    {
      "cell_type": "markdown",
      "source": [
        "The result is not improving at all, although there is a slight increase in macro f1, from 0.3 to 0.31. However, others metrics from all tags remain unchanged, which mean the model is not sufficent enough to capture those information."
      ],
      "metadata": {
        "id": "owYPUlREJ4Ux"
      }
    },
    {
      "cell_type": "markdown",
      "source": [
        "## Ultimate Judgement\n",
        "Based on the performance of each approaches towards the chosen metrics - macro-f1 score. We finally came to the conclusion that the tuned-CRF is the best model to perform the named entity recognition task on the *Ade_corpus_v2_drug_dosage_relation* dataset. The model itself acquire 65,8% on macro-f1, which is not the best figure comparing to other state-of-the-art solution in the industry.\n",
        "\n",
        "However, since our dataset structure is not containing any POS-tag for each word, so it may have a noticeable affect on the learning capability of the CRF model. Because POS-tag concerns about the context information in a sentence, it might help CRF preserve more information rather than just remembering the word itself. For futreu improvement, we definitely need to construct and expand our dataset in order to increase the model performance."
      ],
      "metadata": {
        "id": "eqKVaILDav80"
      }
    },
    {
      "cell_type": "markdown",
      "source": [
        "## Best model export and testing"
      ],
      "metadata": {
        "id": "o7LmVdP7bjD2"
      }
    },
    {
      "cell_type": "code",
      "execution_count": null,
      "source": [
        "model_path = '/content/drive/MyDrive/ML_A2/ner-model'"
      ],
      "outputs": [],
      "metadata": {
        "id": "7JuEnu8guHDm"
      }
    },
    {
      "cell_type": "code",
      "execution_count": null,
      "source": [
        "import pickle\n",
        "# save the model to disk\n",
        "pickle.dump(crf_tuned, open(model_path, 'wb')) "
      ],
      "outputs": [],
      "metadata": {
        "id": "I8Zlt9N-cVqY"
      }
    },
    {
      "cell_type": "code",
      "execution_count": null,
      "source": [
        "# load the model from disk\n",
        "ner_model = pickle.load(open(model_path, 'rb'))"
      ],
      "outputs": [],
      "metadata": {
        "id": "NuUylIp-cZjW"
      }
    },
    {
      "cell_type": "code",
      "execution_count": null,
      "source": [
        "# Our NER model information\n",
        "ner_model"
      ],
      "outputs": [
        {
          "output_type": "stream",
          "name": "stderr",
          "text": [
            "/usr/local/lib/python3.7/dist-packages/sklearn/base.py:197: FutureWarning:\n",
            "\n",
            "From version 0.24, get_params will raise an AttributeError if a parameter cannot be retrieved as an instance attribute. Previously it would return None.\n",
            "\n"
          ]
        },
        {
          "output_type": "execute_result",
          "data": {
            "text/plain": [
              "CRF(algorithm='lbfgs', all_possible_states=None, all_possible_transitions=True,\n",
              "    averaging=None, c=None, c1=0.058761573113500463, c2=0.008854148643341015,\n",
              "    calibration_candidates=None, calibration_eta=None,\n",
              "    calibration_max_trials=None, calibration_rate=None,\n",
              "    calibration_samples=None, delta=None, epsilon=None, error_sensitive=None,\n",
              "    gamma=None, keep_tempfiles=None, linesearch=None, max_iterations=100,\n",
              "    max_linesearch=None, min_freq=None, model_filename=None, num_memories=None,\n",
              "    pa_type=None, period=None, trainer_cls=None, variance=None, verbose=False)"
            ]
          },
          "metadata": {
            "tags": []
          },
          "execution_count": 442
        }
      ],
      "metadata": {
        "colab": {
          "base_uri": "https://localhost:8080/"
        },
        "id": "ZiE581fhdH1K",
        "outputId": "767ed379-57b1-43ed-a815-9b1e3c4c696e"
      }
    },
    {
      "cell_type": "code",
      "execution_count": null,
      "source": [
        "test = pd.read_csv('/content/drive/MyDrive/ML_A2/data-testing-ner')\n",
        "test"
      ],
      "outputs": [
        {
          "output_type": "execute_result",
          "data": {
            "text/html": [
              "<div>\n",
              "<style scoped>\n",
              "    .dataframe tbody tr th:only-of-type {\n",
              "        vertical-align: middle;\n",
              "    }\n",
              "\n",
              "    .dataframe tbody tr th {\n",
              "        vertical-align: top;\n",
              "    }\n",
              "\n",
              "    .dataframe thead th {\n",
              "        text-align: right;\n",
              "    }\n",
              "</style>\n",
              "<table border=\"1\" class=\"dataframe\">\n",
              "  <thead>\n",
              "    <tr style=\"text-align: right;\">\n",
              "      <th></th>\n",
              "      <th>Unnamed: 0</th>\n",
              "      <th>text</th>\n",
              "      <th>label</th>\n",
              "    </tr>\n",
              "  </thead>\n",
              "  <tbody>\n",
              "    <tr>\n",
              "      <th>0</th>\n",
              "      <td>0</td>\n",
              "      <td>A prerenal component could have contributed to...</td>\n",
              "      <td>1</td>\n",
              "    </tr>\n",
              "    <tr>\n",
              "      <th>1</th>\n",
              "      <td>3</td>\n",
              "      <td>Hypersensitivity to zonizamide has been confir...</td>\n",
              "      <td>1</td>\n",
              "    </tr>\n",
              "    <tr>\n",
              "      <th>2</th>\n",
              "      <td>4</td>\n",
              "      <td>The three reported cases demonstrate that trog...</td>\n",
              "      <td>1</td>\n",
              "    </tr>\n",
              "    <tr>\n",
              "      <th>3</th>\n",
              "      <td>5</td>\n",
              "      <td>Epstein Bar virus-related lymphocyte prolifera...</td>\n",
              "      <td>1</td>\n",
              "    </tr>\n",
              "    <tr>\n",
              "      <th>4</th>\n",
              "      <td>10</td>\n",
              "      <td>Methotrexate is an effective but potentially t...</td>\n",
              "      <td>1</td>\n",
              "    </tr>\n",
              "    <tr>\n",
              "      <th>...</th>\n",
              "      <td>...</td>\n",
              "      <td>...</td>\n",
              "      <td>...</td>\n",
              "    </tr>\n",
              "    <tr>\n",
              "      <th>3461</th>\n",
              "      <td>6651</td>\n",
              "      <td>Fulminating hepatic failure developed in a 24-...</td>\n",
              "      <td>1</td>\n",
              "    </tr>\n",
              "    <tr>\n",
              "      <th>3462</th>\n",
              "      <td>6654</td>\n",
              "      <td>He has developed recurring skin rash, fever, h...</td>\n",
              "      <td>1</td>\n",
              "    </tr>\n",
              "    <tr>\n",
              "      <th>3463</th>\n",
              "      <td>6655</td>\n",
              "      <td>Hyperammonia induced by carbamazepine.</td>\n",
              "      <td>1</td>\n",
              "    </tr>\n",
              "    <tr>\n",
              "      <th>3464</th>\n",
              "      <td>6656</td>\n",
              "      <td>Atypical endometriosis may act as a precancero...</td>\n",
              "      <td>1</td>\n",
              "    </tr>\n",
              "    <tr>\n",
              "      <th>3465</th>\n",
              "      <td>6659</td>\n",
              "      <td>As a result, we identified total 11 patients w...</td>\n",
              "      <td>1</td>\n",
              "    </tr>\n",
              "  </tbody>\n",
              "</table>\n",
              "<p>3466 rows × 3 columns</p>\n",
              "</div>"
            ],
            "text/plain": [
              "      Unnamed: 0                                               text  label\n",
              "0              0  A prerenal component could have contributed to...      1\n",
              "1              3  Hypersensitivity to zonizamide has been confir...      1\n",
              "2              4  The three reported cases demonstrate that trog...      1\n",
              "3              5  Epstein Bar virus-related lymphocyte prolifera...      1\n",
              "4             10  Methotrexate is an effective but potentially t...      1\n",
              "...          ...                                                ...    ...\n",
              "3461        6651  Fulminating hepatic failure developed in a 24-...      1\n",
              "3462        6654  He has developed recurring skin rash, fever, h...      1\n",
              "3463        6655             Hyperammonia induced by carbamazepine.      1\n",
              "3464        6656  Atypical endometriosis may act as a precancero...      1\n",
              "3465        6659  As a result, we identified total 11 patients w...      1\n",
              "\n",
              "[3466 rows x 3 columns]"
            ]
          },
          "metadata": {
            "tags": []
          },
          "execution_count": 443
        }
      ],
      "metadata": {
        "colab": {
          "base_uri": "https://localhost:8080/",
          "height": 407
        },
        "id": "IJ0blORldMUy",
        "outputId": "74a752cc-f14c-400b-c27c-b1ac68cf077c"
      }
    },
    {
      "cell_type": "code",
      "execution_count": null,
      "source": [
        "# Define a customize word2feature function to test\n",
        "def word2features_cus(sent, i):\n",
        "    word = sent[i]\n",
        "\n",
        "    features = {\n",
        "        'bias': 1.0,\n",
        "        'word.lower()': word.lower(),\n",
        "        'word[-3:]': word[-3:],\n",
        "        'word[-2:]': word[-2:],\n",
        "        'word.isupper()': word.isupper(),\n",
        "        'word.istitle()': word.istitle(),\n",
        "        'word.isdigit()': word.isdigit(),\n",
        "        \n",
        "    }\n",
        "    if i > 0:\n",
        "        word1 = sent[i-1]\n",
        "        features.update({\n",
        "            '-1:word.lower()': word1.lower(),\n",
        "            '-1:word.istitle()': word1.istitle(),\n",
        "            '-1:word.isupper()': word1.isupper(),\n",
        "     \n",
        "        })\n",
        "    else:\n",
        "        features['BOS'] = True\n",
        "\n",
        "    if i < len(sent)-1:\n",
        "        word1 = sent[i+1]\n",
        "    \n",
        "        features.update({\n",
        "            '+1:word.lower()': word1.lower(),\n",
        "            '+1:word.istitle()': word1.istitle(),\n",
        "            '+1:word.isupper()': word1.isupper(),\n",
        "        })\n",
        "    else:\n",
        "        features['EOS'] = True\n",
        "\n",
        "    return features\n",
        "\n",
        "def sent2features_cus(sent):\n",
        "    return [word2features_cus(sent, i) for i in range(len(sent))]"
      ],
      "outputs": [],
      "metadata": {
        "id": "nWdABluimZL6"
      }
    },
    {
      "cell_type": "code",
      "execution_count": null,
      "source": [
        "# For the purpose of the testing, we only make prediction on the first 5 sentences of the testing dataset\n",
        "sent_list = test['text'].sample(10).tolist()\n",
        "sent_list"
      ],
      "outputs": [
        {
          "output_type": "execute_result",
          "data": {
            "text/plain": [
              "['Eboprofen rarely causes adverse reactions of gastrointestinal tract, but is involved in systemic and local side effects in lupus patients.',\n",
              " 'To our knowledge, this recurrence of amiodarone pulmonary toxicity has not been previously informed.',\n",
              " 'We describe the development of cutaneous scleroderm in 3 patients coinciding with the use of low cumulative low dose bleomycin less than 100 U.',\n",
              " 'Only few reports exist on iodine-induced hypothyroidism after a single injection of the iodized radiopaque dye Lipiodol.',\n",
              " 'A fatal case of theophylline intoxication.',\n",
              " 'Meeting of granulocytosis, eosinophilic, skin reaction and hepatitis, has been reported in Propylthiova (PTU) therapy for tyrotoxycycles in black women aged 47.',\n",
              " 'As a result, Amantadine has been permanently disturbed and the cornea has renewed again.',\n",
              " 'The most likely cause of hepatic insufficiency in this patient was, therefore, clarithromycin, which is subjected to a hepatic metabolism and has been reported that it causes fulminating liver failure.',\n",
              " 'The mechanism of decrease in potassium plasma induced by phosphate treatment was investigated in a 24-year hypertensive patient with hypophosphatemic osteomalacia, who was the youngest of four patients, who belonged to a number of 23 numbers of five generations.',\n",
              " 'It has been diagnosed with possible serotonin syndrome; its symptoms resolved after stopping clomipramine but before Clozapine has been restarted eight days later.']"
            ]
          },
          "metadata": {
            "tags": []
          },
          "execution_count": 493
        }
      ],
      "metadata": {
        "colab": {
          "base_uri": "https://localhost:8080/"
        },
        "id": "1N30lWShdXL7",
        "outputId": "8b1cf3f9-f723-4b72-a255-e13bbde81420"
      }
    },
    {
      "cell_type": "code",
      "execution_count": null,
      "source": [
        "# Segmentate a sentence into sequence of words and create a list to store all of those sequences\n",
        "sent = []\n",
        "for s in sent_list:\n",
        "  tmp = s.split()\n",
        "  sent.append(tmp)\n",
        "sent"
      ],
      "outputs": [
        {
          "output_type": "execute_result",
          "data": {
            "text/plain": [
              "[['Eboprofen',\n",
              "  'rarely',\n",
              "  'causes',\n",
              "  'adverse',\n",
              "  'reactions',\n",
              "  'of',\n",
              "  'gastrointestinal',\n",
              "  'tract,',\n",
              "  'but',\n",
              "  'is',\n",
              "  'involved',\n",
              "  'in',\n",
              "  'systemic',\n",
              "  'and',\n",
              "  'local',\n",
              "  'side',\n",
              "  'effects',\n",
              "  'in',\n",
              "  'lupus',\n",
              "  'patients.'],\n",
              " ['To',\n",
              "  'our',\n",
              "  'knowledge,',\n",
              "  'this',\n",
              "  'recurrence',\n",
              "  'of',\n",
              "  'amiodarone',\n",
              "  'pulmonary',\n",
              "  'toxicity',\n",
              "  'has',\n",
              "  'not',\n",
              "  'been',\n",
              "  'previously',\n",
              "  'informed.'],\n",
              " ['We',\n",
              "  'describe',\n",
              "  'the',\n",
              "  'development',\n",
              "  'of',\n",
              "  'cutaneous',\n",
              "  'scleroderm',\n",
              "  'in',\n",
              "  '3',\n",
              "  'patients',\n",
              "  'coinciding',\n",
              "  'with',\n",
              "  'the',\n",
              "  'use',\n",
              "  'of',\n",
              "  'low',\n",
              "  'cumulative',\n",
              "  'low',\n",
              "  'dose',\n",
              "  'bleomycin',\n",
              "  'less',\n",
              "  'than',\n",
              "  '100',\n",
              "  'U.'],\n",
              " ['Only',\n",
              "  'few',\n",
              "  'reports',\n",
              "  'exist',\n",
              "  'on',\n",
              "  'iodine-induced',\n",
              "  'hypothyroidism',\n",
              "  'after',\n",
              "  'a',\n",
              "  'single',\n",
              "  'injection',\n",
              "  'of',\n",
              "  'the',\n",
              "  'iodized',\n",
              "  'radiopaque',\n",
              "  'dye',\n",
              "  'Lipiodol.'],\n",
              " ['A', 'fatal', 'case', 'of', 'theophylline', 'intoxication.'],\n",
              " ['Meeting',\n",
              "  'of',\n",
              "  'granulocytosis,',\n",
              "  'eosinophilic,',\n",
              "  'skin',\n",
              "  'reaction',\n",
              "  'and',\n",
              "  'hepatitis,',\n",
              "  'has',\n",
              "  'been',\n",
              "  'reported',\n",
              "  'in',\n",
              "  'Propylthiova',\n",
              "  '(PTU)',\n",
              "  'therapy',\n",
              "  'for',\n",
              "  'tyrotoxycycles',\n",
              "  'in',\n",
              "  'black',\n",
              "  'women',\n",
              "  'aged',\n",
              "  '47.'],\n",
              " ['As',\n",
              "  'a',\n",
              "  'result,',\n",
              "  'Amantadine',\n",
              "  'has',\n",
              "  'been',\n",
              "  'permanently',\n",
              "  'disturbed',\n",
              "  'and',\n",
              "  'the',\n",
              "  'cornea',\n",
              "  'has',\n",
              "  'renewed',\n",
              "  'again.'],\n",
              " ['The',\n",
              "  'most',\n",
              "  'likely',\n",
              "  'cause',\n",
              "  'of',\n",
              "  'hepatic',\n",
              "  'insufficiency',\n",
              "  'in',\n",
              "  'this',\n",
              "  'patient',\n",
              "  'was,',\n",
              "  'therefore,',\n",
              "  'clarithromycin,',\n",
              "  'which',\n",
              "  'is',\n",
              "  'subjected',\n",
              "  'to',\n",
              "  'a',\n",
              "  'hepatic',\n",
              "  'metabolism',\n",
              "  'and',\n",
              "  'has',\n",
              "  'been',\n",
              "  'reported',\n",
              "  'that',\n",
              "  'it',\n",
              "  'causes',\n",
              "  'fulminating',\n",
              "  'liver',\n",
              "  'failure.'],\n",
              " ['The',\n",
              "  'mechanism',\n",
              "  'of',\n",
              "  'decrease',\n",
              "  'in',\n",
              "  'potassium',\n",
              "  'plasma',\n",
              "  'induced',\n",
              "  'by',\n",
              "  'phosphate',\n",
              "  'treatment',\n",
              "  'was',\n",
              "  'investigated',\n",
              "  'in',\n",
              "  'a',\n",
              "  '24-year',\n",
              "  'hypertensive',\n",
              "  'patient',\n",
              "  'with',\n",
              "  'hypophosphatemic',\n",
              "  'osteomalacia,',\n",
              "  'who',\n",
              "  'was',\n",
              "  'the',\n",
              "  'youngest',\n",
              "  'of',\n",
              "  'four',\n",
              "  'patients,',\n",
              "  'who',\n",
              "  'belonged',\n",
              "  'to',\n",
              "  'a',\n",
              "  'number',\n",
              "  'of',\n",
              "  '23',\n",
              "  'numbers',\n",
              "  'of',\n",
              "  'five',\n",
              "  'generations.'],\n",
              " ['It',\n",
              "  'has',\n",
              "  'been',\n",
              "  'diagnosed',\n",
              "  'with',\n",
              "  'possible',\n",
              "  'serotonin',\n",
              "  'syndrome;',\n",
              "  'its',\n",
              "  'symptoms',\n",
              "  'resolved',\n",
              "  'after',\n",
              "  'stopping',\n",
              "  'clomipramine',\n",
              "  'but',\n",
              "  'before',\n",
              "  'Clozapine',\n",
              "  'has',\n",
              "  'been',\n",
              "  'restarted',\n",
              "  'eight',\n",
              "  'days',\n",
              "  'later.']]"
            ]
          },
          "metadata": {
            "tags": []
          },
          "execution_count": 494
        }
      ],
      "metadata": {
        "colab": {
          "base_uri": "https://localhost:8080/"
        },
        "id": "DZ9JePuCpV0J",
        "outputId": "0a404470-c494-45a1-d0bb-af574c6a49fb"
      }
    },
    {
      "cell_type": "code",
      "execution_count": null,
      "source": [
        "X_test = [sent2features_cus(s) for s in sent]"
      ],
      "outputs": [],
      "metadata": {
        "id": "3wgaNfVxtl5H"
      }
    },
    {
      "cell_type": "code",
      "execution_count": null,
      "source": [
        "X_test"
      ],
      "outputs": [
        {
          "output_type": "execute_result",
          "data": {
            "text/plain": [
              "[[{'+1:word.istitle()': False,\n",
              "   '+1:word.isupper()': False,\n",
              "   '+1:word.lower()': 'rarely',\n",
              "   'BOS': True,\n",
              "   'bias': 1.0,\n",
              "   'word.isdigit()': False,\n",
              "   'word.istitle()': True,\n",
              "   'word.isupper()': False,\n",
              "   'word.lower()': 'eboprofen',\n",
              "   'word[-2:]': 'en',\n",
              "   'word[-3:]': 'fen'},\n",
              "  {'+1:word.istitle()': False,\n",
              "   '+1:word.isupper()': False,\n",
              "   '+1:word.lower()': 'causes',\n",
              "   '-1:word.istitle()': True,\n",
              "   '-1:word.isupper()': False,\n",
              "   '-1:word.lower()': 'eboprofen',\n",
              "   'bias': 1.0,\n",
              "   'word.isdigit()': False,\n",
              "   'word.istitle()': False,\n",
              "   'word.isupper()': False,\n",
              "   'word.lower()': 'rarely',\n",
              "   'word[-2:]': 'ly',\n",
              "   'word[-3:]': 'ely'},\n",
              "  {'+1:word.istitle()': False,\n",
              "   '+1:word.isupper()': False,\n",
              "   '+1:word.lower()': 'adverse',\n",
              "   '-1:word.istitle()': False,\n",
              "   '-1:word.isupper()': False,\n",
              "   '-1:word.lower()': 'rarely',\n",
              "   'bias': 1.0,\n",
              "   'word.isdigit()': False,\n",
              "   'word.istitle()': False,\n",
              "   'word.isupper()': False,\n",
              "   'word.lower()': 'causes',\n",
              "   'word[-2:]': 'es',\n",
              "   'word[-3:]': 'ses'},\n",
              "  {'+1:word.istitle()': False,\n",
              "   '+1:word.isupper()': False,\n",
              "   '+1:word.lower()': 'reactions',\n",
              "   '-1:word.istitle()': False,\n",
              "   '-1:word.isupper()': False,\n",
              "   '-1:word.lower()': 'causes',\n",
              "   'bias': 1.0,\n",
              "   'word.isdigit()': False,\n",
              "   'word.istitle()': False,\n",
              "   'word.isupper()': False,\n",
              "   'word.lower()': 'adverse',\n",
              "   'word[-2:]': 'se',\n",
              "   'word[-3:]': 'rse'},\n",
              "  {'+1:word.istitle()': False,\n",
              "   '+1:word.isupper()': False,\n",
              "   '+1:word.lower()': 'of',\n",
              "   '-1:word.istitle()': False,\n",
              "   '-1:word.isupper()': False,\n",
              "   '-1:word.lower()': 'adverse',\n",
              "   'bias': 1.0,\n",
              "   'word.isdigit()': False,\n",
              "   'word.istitle()': False,\n",
              "   'word.isupper()': False,\n",
              "   'word.lower()': 'reactions',\n",
              "   'word[-2:]': 'ns',\n",
              "   'word[-3:]': 'ons'},\n",
              "  {'+1:word.istitle()': False,\n",
              "   '+1:word.isupper()': False,\n",
              "   '+1:word.lower()': 'gastrointestinal',\n",
              "   '-1:word.istitle()': False,\n",
              "   '-1:word.isupper()': False,\n",
              "   '-1:word.lower()': 'reactions',\n",
              "   'bias': 1.0,\n",
              "   'word.isdigit()': False,\n",
              "   'word.istitle()': False,\n",
              "   'word.isupper()': False,\n",
              "   'word.lower()': 'of',\n",
              "   'word[-2:]': 'of',\n",
              "   'word[-3:]': 'of'},\n",
              "  {'+1:word.istitle()': False,\n",
              "   '+1:word.isupper()': False,\n",
              "   '+1:word.lower()': 'tract,',\n",
              "   '-1:word.istitle()': False,\n",
              "   '-1:word.isupper()': False,\n",
              "   '-1:word.lower()': 'of',\n",
              "   'bias': 1.0,\n",
              "   'word.isdigit()': False,\n",
              "   'word.istitle()': False,\n",
              "   'word.isupper()': False,\n",
              "   'word.lower()': 'gastrointestinal',\n",
              "   'word[-2:]': 'al',\n",
              "   'word[-3:]': 'nal'},\n",
              "  {'+1:word.istitle()': False,\n",
              "   '+1:word.isupper()': False,\n",
              "   '+1:word.lower()': 'but',\n",
              "   '-1:word.istitle()': False,\n",
              "   '-1:word.isupper()': False,\n",
              "   '-1:word.lower()': 'gastrointestinal',\n",
              "   'bias': 1.0,\n",
              "   'word.isdigit()': False,\n",
              "   'word.istitle()': False,\n",
              "   'word.isupper()': False,\n",
              "   'word.lower()': 'tract,',\n",
              "   'word[-2:]': 't,',\n",
              "   'word[-3:]': 'ct,'},\n",
              "  {'+1:word.istitle()': False,\n",
              "   '+1:word.isupper()': False,\n",
              "   '+1:word.lower()': 'is',\n",
              "   '-1:word.istitle()': False,\n",
              "   '-1:word.isupper()': False,\n",
              "   '-1:word.lower()': 'tract,',\n",
              "   'bias': 1.0,\n",
              "   'word.isdigit()': False,\n",
              "   'word.istitle()': False,\n",
              "   'word.isupper()': False,\n",
              "   'word.lower()': 'but',\n",
              "   'word[-2:]': 'ut',\n",
              "   'word[-3:]': 'but'},\n",
              "  {'+1:word.istitle()': False,\n",
              "   '+1:word.isupper()': False,\n",
              "   '+1:word.lower()': 'involved',\n",
              "   '-1:word.istitle()': False,\n",
              "   '-1:word.isupper()': False,\n",
              "   '-1:word.lower()': 'but',\n",
              "   'bias': 1.0,\n",
              "   'word.isdigit()': False,\n",
              "   'word.istitle()': False,\n",
              "   'word.isupper()': False,\n",
              "   'word.lower()': 'is',\n",
              "   'word[-2:]': 'is',\n",
              "   'word[-3:]': 'is'},\n",
              "  {'+1:word.istitle()': False,\n",
              "   '+1:word.isupper()': False,\n",
              "   '+1:word.lower()': 'in',\n",
              "   '-1:word.istitle()': False,\n",
              "   '-1:word.isupper()': False,\n",
              "   '-1:word.lower()': 'is',\n",
              "   'bias': 1.0,\n",
              "   'word.isdigit()': False,\n",
              "   'word.istitle()': False,\n",
              "   'word.isupper()': False,\n",
              "   'word.lower()': 'involved',\n",
              "   'word[-2:]': 'ed',\n",
              "   'word[-3:]': 'ved'},\n",
              "  {'+1:word.istitle()': False,\n",
              "   '+1:word.isupper()': False,\n",
              "   '+1:word.lower()': 'systemic',\n",
              "   '-1:word.istitle()': False,\n",
              "   '-1:word.isupper()': False,\n",
              "   '-1:word.lower()': 'involved',\n",
              "   'bias': 1.0,\n",
              "   'word.isdigit()': False,\n",
              "   'word.istitle()': False,\n",
              "   'word.isupper()': False,\n",
              "   'word.lower()': 'in',\n",
              "   'word[-2:]': 'in',\n",
              "   'word[-3:]': 'in'},\n",
              "  {'+1:word.istitle()': False,\n",
              "   '+1:word.isupper()': False,\n",
              "   '+1:word.lower()': 'and',\n",
              "   '-1:word.istitle()': False,\n",
              "   '-1:word.isupper()': False,\n",
              "   '-1:word.lower()': 'in',\n",
              "   'bias': 1.0,\n",
              "   'word.isdigit()': False,\n",
              "   'word.istitle()': False,\n",
              "   'word.isupper()': False,\n",
              "   'word.lower()': 'systemic',\n",
              "   'word[-2:]': 'ic',\n",
              "   'word[-3:]': 'mic'},\n",
              "  {'+1:word.istitle()': False,\n",
              "   '+1:word.isupper()': False,\n",
              "   '+1:word.lower()': 'local',\n",
              "   '-1:word.istitle()': False,\n",
              "   '-1:word.isupper()': False,\n",
              "   '-1:word.lower()': 'systemic',\n",
              "   'bias': 1.0,\n",
              "   'word.isdigit()': False,\n",
              "   'word.istitle()': False,\n",
              "   'word.isupper()': False,\n",
              "   'word.lower()': 'and',\n",
              "   'word[-2:]': 'nd',\n",
              "   'word[-3:]': 'and'},\n",
              "  {'+1:word.istitle()': False,\n",
              "   '+1:word.isupper()': False,\n",
              "   '+1:word.lower()': 'side',\n",
              "   '-1:word.istitle()': False,\n",
              "   '-1:word.isupper()': False,\n",
              "   '-1:word.lower()': 'and',\n",
              "   'bias': 1.0,\n",
              "   'word.isdigit()': False,\n",
              "   'word.istitle()': False,\n",
              "   'word.isupper()': False,\n",
              "   'word.lower()': 'local',\n",
              "   'word[-2:]': 'al',\n",
              "   'word[-3:]': 'cal'},\n",
              "  {'+1:word.istitle()': False,\n",
              "   '+1:word.isupper()': False,\n",
              "   '+1:word.lower()': 'effects',\n",
              "   '-1:word.istitle()': False,\n",
              "   '-1:word.isupper()': False,\n",
              "   '-1:word.lower()': 'local',\n",
              "   'bias': 1.0,\n",
              "   'word.isdigit()': False,\n",
              "   'word.istitle()': False,\n",
              "   'word.isupper()': False,\n",
              "   'word.lower()': 'side',\n",
              "   'word[-2:]': 'de',\n",
              "   'word[-3:]': 'ide'},\n",
              "  {'+1:word.istitle()': False,\n",
              "   '+1:word.isupper()': False,\n",
              "   '+1:word.lower()': 'in',\n",
              "   '-1:word.istitle()': False,\n",
              "   '-1:word.isupper()': False,\n",
              "   '-1:word.lower()': 'side',\n",
              "   'bias': 1.0,\n",
              "   'word.isdigit()': False,\n",
              "   'word.istitle()': False,\n",
              "   'word.isupper()': False,\n",
              "   'word.lower()': 'effects',\n",
              "   'word[-2:]': 'ts',\n",
              "   'word[-3:]': 'cts'},\n",
              "  {'+1:word.istitle()': False,\n",
              "   '+1:word.isupper()': False,\n",
              "   '+1:word.lower()': 'lupus',\n",
              "   '-1:word.istitle()': False,\n",
              "   '-1:word.isupper()': False,\n",
              "   '-1:word.lower()': 'effects',\n",
              "   'bias': 1.0,\n",
              "   'word.isdigit()': False,\n",
              "   'word.istitle()': False,\n",
              "   'word.isupper()': False,\n",
              "   'word.lower()': 'in',\n",
              "   'word[-2:]': 'in',\n",
              "   'word[-3:]': 'in'},\n",
              "  {'+1:word.istitle()': False,\n",
              "   '+1:word.isupper()': False,\n",
              "   '+1:word.lower()': 'patients.',\n",
              "   '-1:word.istitle()': False,\n",
              "   '-1:word.isupper()': False,\n",
              "   '-1:word.lower()': 'in',\n",
              "   'bias': 1.0,\n",
              "   'word.isdigit()': False,\n",
              "   'word.istitle()': False,\n",
              "   'word.isupper()': False,\n",
              "   'word.lower()': 'lupus',\n",
              "   'word[-2:]': 'us',\n",
              "   'word[-3:]': 'pus'},\n",
              "  {'-1:word.istitle()': False,\n",
              "   '-1:word.isupper()': False,\n",
              "   '-1:word.lower()': 'lupus',\n",
              "   'EOS': True,\n",
              "   'bias': 1.0,\n",
              "   'word.isdigit()': False,\n",
              "   'word.istitle()': False,\n",
              "   'word.isupper()': False,\n",
              "   'word.lower()': 'patients.',\n",
              "   'word[-2:]': 's.',\n",
              "   'word[-3:]': 'ts.'}],\n",
              " [{'+1:word.istitle()': False,\n",
              "   '+1:word.isupper()': False,\n",
              "   '+1:word.lower()': 'our',\n",
              "   'BOS': True,\n",
              "   'bias': 1.0,\n",
              "   'word.isdigit()': False,\n",
              "   'word.istitle()': True,\n",
              "   'word.isupper()': False,\n",
              "   'word.lower()': 'to',\n",
              "   'word[-2:]': 'To',\n",
              "   'word[-3:]': 'To'},\n",
              "  {'+1:word.istitle()': False,\n",
              "   '+1:word.isupper()': False,\n",
              "   '+1:word.lower()': 'knowledge,',\n",
              "   '-1:word.istitle()': True,\n",
              "   '-1:word.isupper()': False,\n",
              "   '-1:word.lower()': 'to',\n",
              "   'bias': 1.0,\n",
              "   'word.isdigit()': False,\n",
              "   'word.istitle()': False,\n",
              "   'word.isupper()': False,\n",
              "   'word.lower()': 'our',\n",
              "   'word[-2:]': 'ur',\n",
              "   'word[-3:]': 'our'},\n",
              "  {'+1:word.istitle()': False,\n",
              "   '+1:word.isupper()': False,\n",
              "   '+1:word.lower()': 'this',\n",
              "   '-1:word.istitle()': False,\n",
              "   '-1:word.isupper()': False,\n",
              "   '-1:word.lower()': 'our',\n",
              "   'bias': 1.0,\n",
              "   'word.isdigit()': False,\n",
              "   'word.istitle()': False,\n",
              "   'word.isupper()': False,\n",
              "   'word.lower()': 'knowledge,',\n",
              "   'word[-2:]': 'e,',\n",
              "   'word[-3:]': 'ge,'},\n",
              "  {'+1:word.istitle()': False,\n",
              "   '+1:word.isupper()': False,\n",
              "   '+1:word.lower()': 'recurrence',\n",
              "   '-1:word.istitle()': False,\n",
              "   '-1:word.isupper()': False,\n",
              "   '-1:word.lower()': 'knowledge,',\n",
              "   'bias': 1.0,\n",
              "   'word.isdigit()': False,\n",
              "   'word.istitle()': False,\n",
              "   'word.isupper()': False,\n",
              "   'word.lower()': 'this',\n",
              "   'word[-2:]': 'is',\n",
              "   'word[-3:]': 'his'},\n",
              "  {'+1:word.istitle()': False,\n",
              "   '+1:word.isupper()': False,\n",
              "   '+1:word.lower()': 'of',\n",
              "   '-1:word.istitle()': False,\n",
              "   '-1:word.isupper()': False,\n",
              "   '-1:word.lower()': 'this',\n",
              "   'bias': 1.0,\n",
              "   'word.isdigit()': False,\n",
              "   'word.istitle()': False,\n",
              "   'word.isupper()': False,\n",
              "   'word.lower()': 'recurrence',\n",
              "   'word[-2:]': 'ce',\n",
              "   'word[-3:]': 'nce'},\n",
              "  {'+1:word.istitle()': False,\n",
              "   '+1:word.isupper()': False,\n",
              "   '+1:word.lower()': 'amiodarone',\n",
              "   '-1:word.istitle()': False,\n",
              "   '-1:word.isupper()': False,\n",
              "   '-1:word.lower()': 'recurrence',\n",
              "   'bias': 1.0,\n",
              "   'word.isdigit()': False,\n",
              "   'word.istitle()': False,\n",
              "   'word.isupper()': False,\n",
              "   'word.lower()': 'of',\n",
              "   'word[-2:]': 'of',\n",
              "   'word[-3:]': 'of'},\n",
              "  {'+1:word.istitle()': False,\n",
              "   '+1:word.isupper()': False,\n",
              "   '+1:word.lower()': 'pulmonary',\n",
              "   '-1:word.istitle()': False,\n",
              "   '-1:word.isupper()': False,\n",
              "   '-1:word.lower()': 'of',\n",
              "   'bias': 1.0,\n",
              "   'word.isdigit()': False,\n",
              "   'word.istitle()': False,\n",
              "   'word.isupper()': False,\n",
              "   'word.lower()': 'amiodarone',\n",
              "   'word[-2:]': 'ne',\n",
              "   'word[-3:]': 'one'},\n",
              "  {'+1:word.istitle()': False,\n",
              "   '+1:word.isupper()': False,\n",
              "   '+1:word.lower()': 'toxicity',\n",
              "   '-1:word.istitle()': False,\n",
              "   '-1:word.isupper()': False,\n",
              "   '-1:word.lower()': 'amiodarone',\n",
              "   'bias': 1.0,\n",
              "   'word.isdigit()': False,\n",
              "   'word.istitle()': False,\n",
              "   'word.isupper()': False,\n",
              "   'word.lower()': 'pulmonary',\n",
              "   'word[-2:]': 'ry',\n",
              "   'word[-3:]': 'ary'},\n",
              "  {'+1:word.istitle()': False,\n",
              "   '+1:word.isupper()': False,\n",
              "   '+1:word.lower()': 'has',\n",
              "   '-1:word.istitle()': False,\n",
              "   '-1:word.isupper()': False,\n",
              "   '-1:word.lower()': 'pulmonary',\n",
              "   'bias': 1.0,\n",
              "   'word.isdigit()': False,\n",
              "   'word.istitle()': False,\n",
              "   'word.isupper()': False,\n",
              "   'word.lower()': 'toxicity',\n",
              "   'word[-2:]': 'ty',\n",
              "   'word[-3:]': 'ity'},\n",
              "  {'+1:word.istitle()': False,\n",
              "   '+1:word.isupper()': False,\n",
              "   '+1:word.lower()': 'not',\n",
              "   '-1:word.istitle()': False,\n",
              "   '-1:word.isupper()': False,\n",
              "   '-1:word.lower()': 'toxicity',\n",
              "   'bias': 1.0,\n",
              "   'word.isdigit()': False,\n",
              "   'word.istitle()': False,\n",
              "   'word.isupper()': False,\n",
              "   'word.lower()': 'has',\n",
              "   'word[-2:]': 'as',\n",
              "   'word[-3:]': 'has'},\n",
              "  {'+1:word.istitle()': False,\n",
              "   '+1:word.isupper()': False,\n",
              "   '+1:word.lower()': 'been',\n",
              "   '-1:word.istitle()': False,\n",
              "   '-1:word.isupper()': False,\n",
              "   '-1:word.lower()': 'has',\n",
              "   'bias': 1.0,\n",
              "   'word.isdigit()': False,\n",
              "   'word.istitle()': False,\n",
              "   'word.isupper()': False,\n",
              "   'word.lower()': 'not',\n",
              "   'word[-2:]': 'ot',\n",
              "   'word[-3:]': 'not'},\n",
              "  {'+1:word.istitle()': False,\n",
              "   '+1:word.isupper()': False,\n",
              "   '+1:word.lower()': 'previously',\n",
              "   '-1:word.istitle()': False,\n",
              "   '-1:word.isupper()': False,\n",
              "   '-1:word.lower()': 'not',\n",
              "   'bias': 1.0,\n",
              "   'word.isdigit()': False,\n",
              "   'word.istitle()': False,\n",
              "   'word.isupper()': False,\n",
              "   'word.lower()': 'been',\n",
              "   'word[-2:]': 'en',\n",
              "   'word[-3:]': 'een'},\n",
              "  {'+1:word.istitle()': False,\n",
              "   '+1:word.isupper()': False,\n",
              "   '+1:word.lower()': 'informed.',\n",
              "   '-1:word.istitle()': False,\n",
              "   '-1:word.isupper()': False,\n",
              "   '-1:word.lower()': 'been',\n",
              "   'bias': 1.0,\n",
              "   'word.isdigit()': False,\n",
              "   'word.istitle()': False,\n",
              "   'word.isupper()': False,\n",
              "   'word.lower()': 'previously',\n",
              "   'word[-2:]': 'ly',\n",
              "   'word[-3:]': 'sly'},\n",
              "  {'-1:word.istitle()': False,\n",
              "   '-1:word.isupper()': False,\n",
              "   '-1:word.lower()': 'previously',\n",
              "   'EOS': True,\n",
              "   'bias': 1.0,\n",
              "   'word.isdigit()': False,\n",
              "   'word.istitle()': False,\n",
              "   'word.isupper()': False,\n",
              "   'word.lower()': 'informed.',\n",
              "   'word[-2:]': 'd.',\n",
              "   'word[-3:]': 'ed.'}],\n",
              " [{'+1:word.istitle()': False,\n",
              "   '+1:word.isupper()': False,\n",
              "   '+1:word.lower()': 'describe',\n",
              "   'BOS': True,\n",
              "   'bias': 1.0,\n",
              "   'word.isdigit()': False,\n",
              "   'word.istitle()': True,\n",
              "   'word.isupper()': False,\n",
              "   'word.lower()': 'we',\n",
              "   'word[-2:]': 'We',\n",
              "   'word[-3:]': 'We'},\n",
              "  {'+1:word.istitle()': False,\n",
              "   '+1:word.isupper()': False,\n",
              "   '+1:word.lower()': 'the',\n",
              "   '-1:word.istitle()': True,\n",
              "   '-1:word.isupper()': False,\n",
              "   '-1:word.lower()': 'we',\n",
              "   'bias': 1.0,\n",
              "   'word.isdigit()': False,\n",
              "   'word.istitle()': False,\n",
              "   'word.isupper()': False,\n",
              "   'word.lower()': 'describe',\n",
              "   'word[-2:]': 'be',\n",
              "   'word[-3:]': 'ibe'},\n",
              "  {'+1:word.istitle()': False,\n",
              "   '+1:word.isupper()': False,\n",
              "   '+1:word.lower()': 'development',\n",
              "   '-1:word.istitle()': False,\n",
              "   '-1:word.isupper()': False,\n",
              "   '-1:word.lower()': 'describe',\n",
              "   'bias': 1.0,\n",
              "   'word.isdigit()': False,\n",
              "   'word.istitle()': False,\n",
              "   'word.isupper()': False,\n",
              "   'word.lower()': 'the',\n",
              "   'word[-2:]': 'he',\n",
              "   'word[-3:]': 'the'},\n",
              "  {'+1:word.istitle()': False,\n",
              "   '+1:word.isupper()': False,\n",
              "   '+1:word.lower()': 'of',\n",
              "   '-1:word.istitle()': False,\n",
              "   '-1:word.isupper()': False,\n",
              "   '-1:word.lower()': 'the',\n",
              "   'bias': 1.0,\n",
              "   'word.isdigit()': False,\n",
              "   'word.istitle()': False,\n",
              "   'word.isupper()': False,\n",
              "   'word.lower()': 'development',\n",
              "   'word[-2:]': 'nt',\n",
              "   'word[-3:]': 'ent'},\n",
              "  {'+1:word.istitle()': False,\n",
              "   '+1:word.isupper()': False,\n",
              "   '+1:word.lower()': 'cutaneous',\n",
              "   '-1:word.istitle()': False,\n",
              "   '-1:word.isupper()': False,\n",
              "   '-1:word.lower()': 'development',\n",
              "   'bias': 1.0,\n",
              "   'word.isdigit()': False,\n",
              "   'word.istitle()': False,\n",
              "   'word.isupper()': False,\n",
              "   'word.lower()': 'of',\n",
              "   'word[-2:]': 'of',\n",
              "   'word[-3:]': 'of'},\n",
              "  {'+1:word.istitle()': False,\n",
              "   '+1:word.isupper()': False,\n",
              "   '+1:word.lower()': 'scleroderm',\n",
              "   '-1:word.istitle()': False,\n",
              "   '-1:word.isupper()': False,\n",
              "   '-1:word.lower()': 'of',\n",
              "   'bias': 1.0,\n",
              "   'word.isdigit()': False,\n",
              "   'word.istitle()': False,\n",
              "   'word.isupper()': False,\n",
              "   'word.lower()': 'cutaneous',\n",
              "   'word[-2:]': 'us',\n",
              "   'word[-3:]': 'ous'},\n",
              "  {'+1:word.istitle()': False,\n",
              "   '+1:word.isupper()': False,\n",
              "   '+1:word.lower()': 'in',\n",
              "   '-1:word.istitle()': False,\n",
              "   '-1:word.isupper()': False,\n",
              "   '-1:word.lower()': 'cutaneous',\n",
              "   'bias': 1.0,\n",
              "   'word.isdigit()': False,\n",
              "   'word.istitle()': False,\n",
              "   'word.isupper()': False,\n",
              "   'word.lower()': 'scleroderm',\n",
              "   'word[-2:]': 'rm',\n",
              "   'word[-3:]': 'erm'},\n",
              "  {'+1:word.istitle()': False,\n",
              "   '+1:word.isupper()': False,\n",
              "   '+1:word.lower()': '3',\n",
              "   '-1:word.istitle()': False,\n",
              "   '-1:word.isupper()': False,\n",
              "   '-1:word.lower()': 'scleroderm',\n",
              "   'bias': 1.0,\n",
              "   'word.isdigit()': False,\n",
              "   'word.istitle()': False,\n",
              "   'word.isupper()': False,\n",
              "   'word.lower()': 'in',\n",
              "   'word[-2:]': 'in',\n",
              "   'word[-3:]': 'in'},\n",
              "  {'+1:word.istitle()': False,\n",
              "   '+1:word.isupper()': False,\n",
              "   '+1:word.lower()': 'patients',\n",
              "   '-1:word.istitle()': False,\n",
              "   '-1:word.isupper()': False,\n",
              "   '-1:word.lower()': 'in',\n",
              "   'bias': 1.0,\n",
              "   'word.isdigit()': True,\n",
              "   'word.istitle()': False,\n",
              "   'word.isupper()': False,\n",
              "   'word.lower()': '3',\n",
              "   'word[-2:]': '3',\n",
              "   'word[-3:]': '3'},\n",
              "  {'+1:word.istitle()': False,\n",
              "   '+1:word.isupper()': False,\n",
              "   '+1:word.lower()': 'coinciding',\n",
              "   '-1:word.istitle()': False,\n",
              "   '-1:word.isupper()': False,\n",
              "   '-1:word.lower()': '3',\n",
              "   'bias': 1.0,\n",
              "   'word.isdigit()': False,\n",
              "   'word.istitle()': False,\n",
              "   'word.isupper()': False,\n",
              "   'word.lower()': 'patients',\n",
              "   'word[-2:]': 'ts',\n",
              "   'word[-3:]': 'nts'},\n",
              "  {'+1:word.istitle()': False,\n",
              "   '+1:word.isupper()': False,\n",
              "   '+1:word.lower()': 'with',\n",
              "   '-1:word.istitle()': False,\n",
              "   '-1:word.isupper()': False,\n",
              "   '-1:word.lower()': 'patients',\n",
              "   'bias': 1.0,\n",
              "   'word.isdigit()': False,\n",
              "   'word.istitle()': False,\n",
              "   'word.isupper()': False,\n",
              "   'word.lower()': 'coinciding',\n",
              "   'word[-2:]': 'ng',\n",
              "   'word[-3:]': 'ing'},\n",
              "  {'+1:word.istitle()': False,\n",
              "   '+1:word.isupper()': False,\n",
              "   '+1:word.lower()': 'the',\n",
              "   '-1:word.istitle()': False,\n",
              "   '-1:word.isupper()': False,\n",
              "   '-1:word.lower()': 'coinciding',\n",
              "   'bias': 1.0,\n",
              "   'word.isdigit()': False,\n",
              "   'word.istitle()': False,\n",
              "   'word.isupper()': False,\n",
              "   'word.lower()': 'with',\n",
              "   'word[-2:]': 'th',\n",
              "   'word[-3:]': 'ith'},\n",
              "  {'+1:word.istitle()': False,\n",
              "   '+1:word.isupper()': False,\n",
              "   '+1:word.lower()': 'use',\n",
              "   '-1:word.istitle()': False,\n",
              "   '-1:word.isupper()': False,\n",
              "   '-1:word.lower()': 'with',\n",
              "   'bias': 1.0,\n",
              "   'word.isdigit()': False,\n",
              "   'word.istitle()': False,\n",
              "   'word.isupper()': False,\n",
              "   'word.lower()': 'the',\n",
              "   'word[-2:]': 'he',\n",
              "   'word[-3:]': 'the'},\n",
              "  {'+1:word.istitle()': False,\n",
              "   '+1:word.isupper()': False,\n",
              "   '+1:word.lower()': 'of',\n",
              "   '-1:word.istitle()': False,\n",
              "   '-1:word.isupper()': False,\n",
              "   '-1:word.lower()': 'the',\n",
              "   'bias': 1.0,\n",
              "   'word.isdigit()': False,\n",
              "   'word.istitle()': False,\n",
              "   'word.isupper()': False,\n",
              "   'word.lower()': 'use',\n",
              "   'word[-2:]': 'se',\n",
              "   'word[-3:]': 'use'},\n",
              "  {'+1:word.istitle()': False,\n",
              "   '+1:word.isupper()': False,\n",
              "   '+1:word.lower()': 'low',\n",
              "   '-1:word.istitle()': False,\n",
              "   '-1:word.isupper()': False,\n",
              "   '-1:word.lower()': 'use',\n",
              "   'bias': 1.0,\n",
              "   'word.isdigit()': False,\n",
              "   'word.istitle()': False,\n",
              "   'word.isupper()': False,\n",
              "   'word.lower()': 'of',\n",
              "   'word[-2:]': 'of',\n",
              "   'word[-3:]': 'of'},\n",
              "  {'+1:word.istitle()': False,\n",
              "   '+1:word.isupper()': False,\n",
              "   '+1:word.lower()': 'cumulative',\n",
              "   '-1:word.istitle()': False,\n",
              "   '-1:word.isupper()': False,\n",
              "   '-1:word.lower()': 'of',\n",
              "   'bias': 1.0,\n",
              "   'word.isdigit()': False,\n",
              "   'word.istitle()': False,\n",
              "   'word.isupper()': False,\n",
              "   'word.lower()': 'low',\n",
              "   'word[-2:]': 'ow',\n",
              "   'word[-3:]': 'low'},\n",
              "  {'+1:word.istitle()': False,\n",
              "   '+1:word.isupper()': False,\n",
              "   '+1:word.lower()': 'low',\n",
              "   '-1:word.istitle()': False,\n",
              "   '-1:word.isupper()': False,\n",
              "   '-1:word.lower()': 'low',\n",
              "   'bias': 1.0,\n",
              "   'word.isdigit()': False,\n",
              "   'word.istitle()': False,\n",
              "   'word.isupper()': False,\n",
              "   'word.lower()': 'cumulative',\n",
              "   'word[-2:]': 've',\n",
              "   'word[-3:]': 'ive'},\n",
              "  {'+1:word.istitle()': False,\n",
              "   '+1:word.isupper()': False,\n",
              "   '+1:word.lower()': 'dose',\n",
              "   '-1:word.istitle()': False,\n",
              "   '-1:word.isupper()': False,\n",
              "   '-1:word.lower()': 'cumulative',\n",
              "   'bias': 1.0,\n",
              "   'word.isdigit()': False,\n",
              "   'word.istitle()': False,\n",
              "   'word.isupper()': False,\n",
              "   'word.lower()': 'low',\n",
              "   'word[-2:]': 'ow',\n",
              "   'word[-3:]': 'low'},\n",
              "  {'+1:word.istitle()': False,\n",
              "   '+1:word.isupper()': False,\n",
              "   '+1:word.lower()': 'bleomycin',\n",
              "   '-1:word.istitle()': False,\n",
              "   '-1:word.isupper()': False,\n",
              "   '-1:word.lower()': 'low',\n",
              "   'bias': 1.0,\n",
              "   'word.isdigit()': False,\n",
              "   'word.istitle()': False,\n",
              "   'word.isupper()': False,\n",
              "   'word.lower()': 'dose',\n",
              "   'word[-2:]': 'se',\n",
              "   'word[-3:]': 'ose'},\n",
              "  {'+1:word.istitle()': False,\n",
              "   '+1:word.isupper()': False,\n",
              "   '+1:word.lower()': 'less',\n",
              "   '-1:word.istitle()': False,\n",
              "   '-1:word.isupper()': False,\n",
              "   '-1:word.lower()': 'dose',\n",
              "   'bias': 1.0,\n",
              "   'word.isdigit()': False,\n",
              "   'word.istitle()': False,\n",
              "   'word.isupper()': False,\n",
              "   'word.lower()': 'bleomycin',\n",
              "   'word[-2:]': 'in',\n",
              "   'word[-3:]': 'cin'},\n",
              "  {'+1:word.istitle()': False,\n",
              "   '+1:word.isupper()': False,\n",
              "   '+1:word.lower()': 'than',\n",
              "   '-1:word.istitle()': False,\n",
              "   '-1:word.isupper()': False,\n",
              "   '-1:word.lower()': 'bleomycin',\n",
              "   'bias': 1.0,\n",
              "   'word.isdigit()': False,\n",
              "   'word.istitle()': False,\n",
              "   'word.isupper()': False,\n",
              "   'word.lower()': 'less',\n",
              "   'word[-2:]': 'ss',\n",
              "   'word[-3:]': 'ess'},\n",
              "  {'+1:word.istitle()': False,\n",
              "   '+1:word.isupper()': False,\n",
              "   '+1:word.lower()': '100',\n",
              "   '-1:word.istitle()': False,\n",
              "   '-1:word.isupper()': False,\n",
              "   '-1:word.lower()': 'less',\n",
              "   'bias': 1.0,\n",
              "   'word.isdigit()': False,\n",
              "   'word.istitle()': False,\n",
              "   'word.isupper()': False,\n",
              "   'word.lower()': 'than',\n",
              "   'word[-2:]': 'an',\n",
              "   'word[-3:]': 'han'},\n",
              "  {'+1:word.istitle()': True,\n",
              "   '+1:word.isupper()': True,\n",
              "   '+1:word.lower()': 'u.',\n",
              "   '-1:word.istitle()': False,\n",
              "   '-1:word.isupper()': False,\n",
              "   '-1:word.lower()': 'than',\n",
              "   'bias': 1.0,\n",
              "   'word.isdigit()': True,\n",
              "   'word.istitle()': False,\n",
              "   'word.isupper()': False,\n",
              "   'word.lower()': '100',\n",
              "   'word[-2:]': '00',\n",
              "   'word[-3:]': '100'},\n",
              "  {'-1:word.istitle()': False,\n",
              "   '-1:word.isupper()': False,\n",
              "   '-1:word.lower()': '100',\n",
              "   'EOS': True,\n",
              "   'bias': 1.0,\n",
              "   'word.isdigit()': False,\n",
              "   'word.istitle()': True,\n",
              "   'word.isupper()': True,\n",
              "   'word.lower()': 'u.',\n",
              "   'word[-2:]': 'U.',\n",
              "   'word[-3:]': 'U.'}],\n",
              " [{'+1:word.istitle()': False,\n",
              "   '+1:word.isupper()': False,\n",
              "   '+1:word.lower()': 'few',\n",
              "   'BOS': True,\n",
              "   'bias': 1.0,\n",
              "   'word.isdigit()': False,\n",
              "   'word.istitle()': True,\n",
              "   'word.isupper()': False,\n",
              "   'word.lower()': 'only',\n",
              "   'word[-2:]': 'ly',\n",
              "   'word[-3:]': 'nly'},\n",
              "  {'+1:word.istitle()': False,\n",
              "   '+1:word.isupper()': False,\n",
              "   '+1:word.lower()': 'reports',\n",
              "   '-1:word.istitle()': True,\n",
              "   '-1:word.isupper()': False,\n",
              "   '-1:word.lower()': 'only',\n",
              "   'bias': 1.0,\n",
              "   'word.isdigit()': False,\n",
              "   'word.istitle()': False,\n",
              "   'word.isupper()': False,\n",
              "   'word.lower()': 'few',\n",
              "   'word[-2:]': 'ew',\n",
              "   'word[-3:]': 'few'},\n",
              "  {'+1:word.istitle()': False,\n",
              "   '+1:word.isupper()': False,\n",
              "   '+1:word.lower()': 'exist',\n",
              "   '-1:word.istitle()': False,\n",
              "   '-1:word.isupper()': False,\n",
              "   '-1:word.lower()': 'few',\n",
              "   'bias': 1.0,\n",
              "   'word.isdigit()': False,\n",
              "   'word.istitle()': False,\n",
              "   'word.isupper()': False,\n",
              "   'word.lower()': 'reports',\n",
              "   'word[-2:]': 'ts',\n",
              "   'word[-3:]': 'rts'},\n",
              "  {'+1:word.istitle()': False,\n",
              "   '+1:word.isupper()': False,\n",
              "   '+1:word.lower()': 'on',\n",
              "   '-1:word.istitle()': False,\n",
              "   '-1:word.isupper()': False,\n",
              "   '-1:word.lower()': 'reports',\n",
              "   'bias': 1.0,\n",
              "   'word.isdigit()': False,\n",
              "   'word.istitle()': False,\n",
              "   'word.isupper()': False,\n",
              "   'word.lower()': 'exist',\n",
              "   'word[-2:]': 'st',\n",
              "   'word[-3:]': 'ist'},\n",
              "  {'+1:word.istitle()': False,\n",
              "   '+1:word.isupper()': False,\n",
              "   '+1:word.lower()': 'iodine-induced',\n",
              "   '-1:word.istitle()': False,\n",
              "   '-1:word.isupper()': False,\n",
              "   '-1:word.lower()': 'exist',\n",
              "   'bias': 1.0,\n",
              "   'word.isdigit()': False,\n",
              "   'word.istitle()': False,\n",
              "   'word.isupper()': False,\n",
              "   'word.lower()': 'on',\n",
              "   'word[-2:]': 'on',\n",
              "   'word[-3:]': 'on'},\n",
              "  {'+1:word.istitle()': False,\n",
              "   '+1:word.isupper()': False,\n",
              "   '+1:word.lower()': 'hypothyroidism',\n",
              "   '-1:word.istitle()': False,\n",
              "   '-1:word.isupper()': False,\n",
              "   '-1:word.lower()': 'on',\n",
              "   'bias': 1.0,\n",
              "   'word.isdigit()': False,\n",
              "   'word.istitle()': False,\n",
              "   'word.isupper()': False,\n",
              "   'word.lower()': 'iodine-induced',\n",
              "   'word[-2:]': 'ed',\n",
              "   'word[-3:]': 'ced'},\n",
              "  {'+1:word.istitle()': False,\n",
              "   '+1:word.isupper()': False,\n",
              "   '+1:word.lower()': 'after',\n",
              "   '-1:word.istitle()': False,\n",
              "   '-1:word.isupper()': False,\n",
              "   '-1:word.lower()': 'iodine-induced',\n",
              "   'bias': 1.0,\n",
              "   'word.isdigit()': False,\n",
              "   'word.istitle()': False,\n",
              "   'word.isupper()': False,\n",
              "   'word.lower()': 'hypothyroidism',\n",
              "   'word[-2:]': 'sm',\n",
              "   'word[-3:]': 'ism'},\n",
              "  {'+1:word.istitle()': False,\n",
              "   '+1:word.isupper()': False,\n",
              "   '+1:word.lower()': 'a',\n",
              "   '-1:word.istitle()': False,\n",
              "   '-1:word.isupper()': False,\n",
              "   '-1:word.lower()': 'hypothyroidism',\n",
              "   'bias': 1.0,\n",
              "   'word.isdigit()': False,\n",
              "   'word.istitle()': False,\n",
              "   'word.isupper()': False,\n",
              "   'word.lower()': 'after',\n",
              "   'word[-2:]': 'er',\n",
              "   'word[-3:]': 'ter'},\n",
              "  {'+1:word.istitle()': False,\n",
              "   '+1:word.isupper()': False,\n",
              "   '+1:word.lower()': 'single',\n",
              "   '-1:word.istitle()': False,\n",
              "   '-1:word.isupper()': False,\n",
              "   '-1:word.lower()': 'after',\n",
              "   'bias': 1.0,\n",
              "   'word.isdigit()': False,\n",
              "   'word.istitle()': False,\n",
              "   'word.isupper()': False,\n",
              "   'word.lower()': 'a',\n",
              "   'word[-2:]': 'a',\n",
              "   'word[-3:]': 'a'},\n",
              "  {'+1:word.istitle()': False,\n",
              "   '+1:word.isupper()': False,\n",
              "   '+1:word.lower()': 'injection',\n",
              "   '-1:word.istitle()': False,\n",
              "   '-1:word.isupper()': False,\n",
              "   '-1:word.lower()': 'a',\n",
              "   'bias': 1.0,\n",
              "   'word.isdigit()': False,\n",
              "   'word.istitle()': False,\n",
              "   'word.isupper()': False,\n",
              "   'word.lower()': 'single',\n",
              "   'word[-2:]': 'le',\n",
              "   'word[-3:]': 'gle'},\n",
              "  {'+1:word.istitle()': False,\n",
              "   '+1:word.isupper()': False,\n",
              "   '+1:word.lower()': 'of',\n",
              "   '-1:word.istitle()': False,\n",
              "   '-1:word.isupper()': False,\n",
              "   '-1:word.lower()': 'single',\n",
              "   'bias': 1.0,\n",
              "   'word.isdigit()': False,\n",
              "   'word.istitle()': False,\n",
              "   'word.isupper()': False,\n",
              "   'word.lower()': 'injection',\n",
              "   'word[-2:]': 'on',\n",
              "   'word[-3:]': 'ion'},\n",
              "  {'+1:word.istitle()': False,\n",
              "   '+1:word.isupper()': False,\n",
              "   '+1:word.lower()': 'the',\n",
              "   '-1:word.istitle()': False,\n",
              "   '-1:word.isupper()': False,\n",
              "   '-1:word.lower()': 'injection',\n",
              "   'bias': 1.0,\n",
              "   'word.isdigit()': False,\n",
              "   'word.istitle()': False,\n",
              "   'word.isupper()': False,\n",
              "   'word.lower()': 'of',\n",
              "   'word[-2:]': 'of',\n",
              "   'word[-3:]': 'of'},\n",
              "  {'+1:word.istitle()': False,\n",
              "   '+1:word.isupper()': False,\n",
              "   '+1:word.lower()': 'iodized',\n",
              "   '-1:word.istitle()': False,\n",
              "   '-1:word.isupper()': False,\n",
              "   '-1:word.lower()': 'of',\n",
              "   'bias': 1.0,\n",
              "   'word.isdigit()': False,\n",
              "   'word.istitle()': False,\n",
              "   'word.isupper()': False,\n",
              "   'word.lower()': 'the',\n",
              "   'word[-2:]': 'he',\n",
              "   'word[-3:]': 'the'},\n",
              "  {'+1:word.istitle()': False,\n",
              "   '+1:word.isupper()': False,\n",
              "   '+1:word.lower()': 'radiopaque',\n",
              "   '-1:word.istitle()': False,\n",
              "   '-1:word.isupper()': False,\n",
              "   '-1:word.lower()': 'the',\n",
              "   'bias': 1.0,\n",
              "   'word.isdigit()': False,\n",
              "   'word.istitle()': False,\n",
              "   'word.isupper()': False,\n",
              "   'word.lower()': 'iodized',\n",
              "   'word[-2:]': 'ed',\n",
              "   'word[-3:]': 'zed'},\n",
              "  {'+1:word.istitle()': False,\n",
              "   '+1:word.isupper()': False,\n",
              "   '+1:word.lower()': 'dye',\n",
              "   '-1:word.istitle()': False,\n",
              "   '-1:word.isupper()': False,\n",
              "   '-1:word.lower()': 'iodized',\n",
              "   'bias': 1.0,\n",
              "   'word.isdigit()': False,\n",
              "   'word.istitle()': False,\n",
              "   'word.isupper()': False,\n",
              "   'word.lower()': 'radiopaque',\n",
              "   'word[-2:]': 'ue',\n",
              "   'word[-3:]': 'que'},\n",
              "  {'+1:word.istitle()': True,\n",
              "   '+1:word.isupper()': False,\n",
              "   '+1:word.lower()': 'lipiodol.',\n",
              "   '-1:word.istitle()': False,\n",
              "   '-1:word.isupper()': False,\n",
              "   '-1:word.lower()': 'radiopaque',\n",
              "   'bias': 1.0,\n",
              "   'word.isdigit()': False,\n",
              "   'word.istitle()': False,\n",
              "   'word.isupper()': False,\n",
              "   'word.lower()': 'dye',\n",
              "   'word[-2:]': 'ye',\n",
              "   'word[-3:]': 'dye'},\n",
              "  {'-1:word.istitle()': False,\n",
              "   '-1:word.isupper()': False,\n",
              "   '-1:word.lower()': 'dye',\n",
              "   'EOS': True,\n",
              "   'bias': 1.0,\n",
              "   'word.isdigit()': False,\n",
              "   'word.istitle()': True,\n",
              "   'word.isupper()': False,\n",
              "   'word.lower()': 'lipiodol.',\n",
              "   'word[-2:]': 'l.',\n",
              "   'word[-3:]': 'ol.'}],\n",
              " [{'+1:word.istitle()': False,\n",
              "   '+1:word.isupper()': False,\n",
              "   '+1:word.lower()': 'fatal',\n",
              "   'BOS': True,\n",
              "   'bias': 1.0,\n",
              "   'word.isdigit()': False,\n",
              "   'word.istitle()': True,\n",
              "   'word.isupper()': True,\n",
              "   'word.lower()': 'a',\n",
              "   'word[-2:]': 'A',\n",
              "   'word[-3:]': 'A'},\n",
              "  {'+1:word.istitle()': False,\n",
              "   '+1:word.isupper()': False,\n",
              "   '+1:word.lower()': 'case',\n",
              "   '-1:word.istitle()': True,\n",
              "   '-1:word.isupper()': True,\n",
              "   '-1:word.lower()': 'a',\n",
              "   'bias': 1.0,\n",
              "   'word.isdigit()': False,\n",
              "   'word.istitle()': False,\n",
              "   'word.isupper()': False,\n",
              "   'word.lower()': 'fatal',\n",
              "   'word[-2:]': 'al',\n",
              "   'word[-3:]': 'tal'},\n",
              "  {'+1:word.istitle()': False,\n",
              "   '+1:word.isupper()': False,\n",
              "   '+1:word.lower()': 'of',\n",
              "   '-1:word.istitle()': False,\n",
              "   '-1:word.isupper()': False,\n",
              "   '-1:word.lower()': 'fatal',\n",
              "   'bias': 1.0,\n",
              "   'word.isdigit()': False,\n",
              "   'word.istitle()': False,\n",
              "   'word.isupper()': False,\n",
              "   'word.lower()': 'case',\n",
              "   'word[-2:]': 'se',\n",
              "   'word[-3:]': 'ase'},\n",
              "  {'+1:word.istitle()': False,\n",
              "   '+1:word.isupper()': False,\n",
              "   '+1:word.lower()': 'theophylline',\n",
              "   '-1:word.istitle()': False,\n",
              "   '-1:word.isupper()': False,\n",
              "   '-1:word.lower()': 'case',\n",
              "   'bias': 1.0,\n",
              "   'word.isdigit()': False,\n",
              "   'word.istitle()': False,\n",
              "   'word.isupper()': False,\n",
              "   'word.lower()': 'of',\n",
              "   'word[-2:]': 'of',\n",
              "   'word[-3:]': 'of'},\n",
              "  {'+1:word.istitle()': False,\n",
              "   '+1:word.isupper()': False,\n",
              "   '+1:word.lower()': 'intoxication.',\n",
              "   '-1:word.istitle()': False,\n",
              "   '-1:word.isupper()': False,\n",
              "   '-1:word.lower()': 'of',\n",
              "   'bias': 1.0,\n",
              "   'word.isdigit()': False,\n",
              "   'word.istitle()': False,\n",
              "   'word.isupper()': False,\n",
              "   'word.lower()': 'theophylline',\n",
              "   'word[-2:]': 'ne',\n",
              "   'word[-3:]': 'ine'},\n",
              "  {'-1:word.istitle()': False,\n",
              "   '-1:word.isupper()': False,\n",
              "   '-1:word.lower()': 'theophylline',\n",
              "   'EOS': True,\n",
              "   'bias': 1.0,\n",
              "   'word.isdigit()': False,\n",
              "   'word.istitle()': False,\n",
              "   'word.isupper()': False,\n",
              "   'word.lower()': 'intoxication.',\n",
              "   'word[-2:]': 'n.',\n",
              "   'word[-3:]': 'on.'}],\n",
              " [{'+1:word.istitle()': False,\n",
              "   '+1:word.isupper()': False,\n",
              "   '+1:word.lower()': 'of',\n",
              "   'BOS': True,\n",
              "   'bias': 1.0,\n",
              "   'word.isdigit()': False,\n",
              "   'word.istitle()': True,\n",
              "   'word.isupper()': False,\n",
              "   'word.lower()': 'meeting',\n",
              "   'word[-2:]': 'ng',\n",
              "   'word[-3:]': 'ing'},\n",
              "  {'+1:word.istitle()': False,\n",
              "   '+1:word.isupper()': False,\n",
              "   '+1:word.lower()': 'granulocytosis,',\n",
              "   '-1:word.istitle()': True,\n",
              "   '-1:word.isupper()': False,\n",
              "   '-1:word.lower()': 'meeting',\n",
              "   'bias': 1.0,\n",
              "   'word.isdigit()': False,\n",
              "   'word.istitle()': False,\n",
              "   'word.isupper()': False,\n",
              "   'word.lower()': 'of',\n",
              "   'word[-2:]': 'of',\n",
              "   'word[-3:]': 'of'},\n",
              "  {'+1:word.istitle()': False,\n",
              "   '+1:word.isupper()': False,\n",
              "   '+1:word.lower()': 'eosinophilic,',\n",
              "   '-1:word.istitle()': False,\n",
              "   '-1:word.isupper()': False,\n",
              "   '-1:word.lower()': 'of',\n",
              "   'bias': 1.0,\n",
              "   'word.isdigit()': False,\n",
              "   'word.istitle()': False,\n",
              "   'word.isupper()': False,\n",
              "   'word.lower()': 'granulocytosis,',\n",
              "   'word[-2:]': 's,',\n",
              "   'word[-3:]': 'is,'},\n",
              "  {'+1:word.istitle()': False,\n",
              "   '+1:word.isupper()': False,\n",
              "   '+1:word.lower()': 'skin',\n",
              "   '-1:word.istitle()': False,\n",
              "   '-1:word.isupper()': False,\n",
              "   '-1:word.lower()': 'granulocytosis,',\n",
              "   'bias': 1.0,\n",
              "   'word.isdigit()': False,\n",
              "   'word.istitle()': False,\n",
              "   'word.isupper()': False,\n",
              "   'word.lower()': 'eosinophilic,',\n",
              "   'word[-2:]': 'c,',\n",
              "   'word[-3:]': 'ic,'},\n",
              "  {'+1:word.istitle()': False,\n",
              "   '+1:word.isupper()': False,\n",
              "   '+1:word.lower()': 'reaction',\n",
              "   '-1:word.istitle()': False,\n",
              "   '-1:word.isupper()': False,\n",
              "   '-1:word.lower()': 'eosinophilic,',\n",
              "   'bias': 1.0,\n",
              "   'word.isdigit()': False,\n",
              "   'word.istitle()': False,\n",
              "   'word.isupper()': False,\n",
              "   'word.lower()': 'skin',\n",
              "   'word[-2:]': 'in',\n",
              "   'word[-3:]': 'kin'},\n",
              "  {'+1:word.istitle()': False,\n",
              "   '+1:word.isupper()': False,\n",
              "   '+1:word.lower()': 'and',\n",
              "   '-1:word.istitle()': False,\n",
              "   '-1:word.isupper()': False,\n",
              "   '-1:word.lower()': 'skin',\n",
              "   'bias': 1.0,\n",
              "   'word.isdigit()': False,\n",
              "   'word.istitle()': False,\n",
              "   'word.isupper()': False,\n",
              "   'word.lower()': 'reaction',\n",
              "   'word[-2:]': 'on',\n",
              "   'word[-3:]': 'ion'},\n",
              "  {'+1:word.istitle()': False,\n",
              "   '+1:word.isupper()': False,\n",
              "   '+1:word.lower()': 'hepatitis,',\n",
              "   '-1:word.istitle()': False,\n",
              "   '-1:word.isupper()': False,\n",
              "   '-1:word.lower()': 'reaction',\n",
              "   'bias': 1.0,\n",
              "   'word.isdigit()': False,\n",
              "   'word.istitle()': False,\n",
              "   'word.isupper()': False,\n",
              "   'word.lower()': 'and',\n",
              "   'word[-2:]': 'nd',\n",
              "   'word[-3:]': 'and'},\n",
              "  {'+1:word.istitle()': False,\n",
              "   '+1:word.isupper()': False,\n",
              "   '+1:word.lower()': 'has',\n",
              "   '-1:word.istitle()': False,\n",
              "   '-1:word.isupper()': False,\n",
              "   '-1:word.lower()': 'and',\n",
              "   'bias': 1.0,\n",
              "   'word.isdigit()': False,\n",
              "   'word.istitle()': False,\n",
              "   'word.isupper()': False,\n",
              "   'word.lower()': 'hepatitis,',\n",
              "   'word[-2:]': 's,',\n",
              "   'word[-3:]': 'is,'},\n",
              "  {'+1:word.istitle()': False,\n",
              "   '+1:word.isupper()': False,\n",
              "   '+1:word.lower()': 'been',\n",
              "   '-1:word.istitle()': False,\n",
              "   '-1:word.isupper()': False,\n",
              "   '-1:word.lower()': 'hepatitis,',\n",
              "   'bias': 1.0,\n",
              "   'word.isdigit()': False,\n",
              "   'word.istitle()': False,\n",
              "   'word.isupper()': False,\n",
              "   'word.lower()': 'has',\n",
              "   'word[-2:]': 'as',\n",
              "   'word[-3:]': 'has'},\n",
              "  {'+1:word.istitle()': False,\n",
              "   '+1:word.isupper()': False,\n",
              "   '+1:word.lower()': 'reported',\n",
              "   '-1:word.istitle()': False,\n",
              "   '-1:word.isupper()': False,\n",
              "   '-1:word.lower()': 'has',\n",
              "   'bias': 1.0,\n",
              "   'word.isdigit()': False,\n",
              "   'word.istitle()': False,\n",
              "   'word.isupper()': False,\n",
              "   'word.lower()': 'been',\n",
              "   'word[-2:]': 'en',\n",
              "   'word[-3:]': 'een'},\n",
              "  {'+1:word.istitle()': False,\n",
              "   '+1:word.isupper()': False,\n",
              "   '+1:word.lower()': 'in',\n",
              "   '-1:word.istitle()': False,\n",
              "   '-1:word.isupper()': False,\n",
              "   '-1:word.lower()': 'been',\n",
              "   'bias': 1.0,\n",
              "   'word.isdigit()': False,\n",
              "   'word.istitle()': False,\n",
              "   'word.isupper()': False,\n",
              "   'word.lower()': 'reported',\n",
              "   'word[-2:]': 'ed',\n",
              "   'word[-3:]': 'ted'},\n",
              "  {'+1:word.istitle()': True,\n",
              "   '+1:word.isupper()': False,\n",
              "   '+1:word.lower()': 'propylthiova',\n",
              "   '-1:word.istitle()': False,\n",
              "   '-1:word.isupper()': False,\n",
              "   '-1:word.lower()': 'reported',\n",
              "   'bias': 1.0,\n",
              "   'word.isdigit()': False,\n",
              "   'word.istitle()': False,\n",
              "   'word.isupper()': False,\n",
              "   'word.lower()': 'in',\n",
              "   'word[-2:]': 'in',\n",
              "   'word[-3:]': 'in'},\n",
              "  {'+1:word.istitle()': False,\n",
              "   '+1:word.isupper()': True,\n",
              "   '+1:word.lower()': '(ptu)',\n",
              "   '-1:word.istitle()': False,\n",
              "   '-1:word.isupper()': False,\n",
              "   '-1:word.lower()': 'in',\n",
              "   'bias': 1.0,\n",
              "   'word.isdigit()': False,\n",
              "   'word.istitle()': True,\n",
              "   'word.isupper()': False,\n",
              "   'word.lower()': 'propylthiova',\n",
              "   'word[-2:]': 'va',\n",
              "   'word[-3:]': 'ova'},\n",
              "  {'+1:word.istitle()': False,\n",
              "   '+1:word.isupper()': False,\n",
              "   '+1:word.lower()': 'therapy',\n",
              "   '-1:word.istitle()': True,\n",
              "   '-1:word.isupper()': False,\n",
              "   '-1:word.lower()': 'propylthiova',\n",
              "   'bias': 1.0,\n",
              "   'word.isdigit()': False,\n",
              "   'word.istitle()': False,\n",
              "   'word.isupper()': True,\n",
              "   'word.lower()': '(ptu)',\n",
              "   'word[-2:]': 'U)',\n",
              "   'word[-3:]': 'TU)'},\n",
              "  {'+1:word.istitle()': False,\n",
              "   '+1:word.isupper()': False,\n",
              "   '+1:word.lower()': 'for',\n",
              "   '-1:word.istitle()': False,\n",
              "   '-1:word.isupper()': True,\n",
              "   '-1:word.lower()': '(ptu)',\n",
              "   'bias': 1.0,\n",
              "   'word.isdigit()': False,\n",
              "   'word.istitle()': False,\n",
              "   'word.isupper()': False,\n",
              "   'word.lower()': 'therapy',\n",
              "   'word[-2:]': 'py',\n",
              "   'word[-3:]': 'apy'},\n",
              "  {'+1:word.istitle()': False,\n",
              "   '+1:word.isupper()': False,\n",
              "   '+1:word.lower()': 'tyrotoxycycles',\n",
              "   '-1:word.istitle()': False,\n",
              "   '-1:word.isupper()': False,\n",
              "   '-1:word.lower()': 'therapy',\n",
              "   'bias': 1.0,\n",
              "   'word.isdigit()': False,\n",
              "   'word.istitle()': False,\n",
              "   'word.isupper()': False,\n",
              "   'word.lower()': 'for',\n",
              "   'word[-2:]': 'or',\n",
              "   'word[-3:]': 'for'},\n",
              "  {'+1:word.istitle()': False,\n",
              "   '+1:word.isupper()': False,\n",
              "   '+1:word.lower()': 'in',\n",
              "   '-1:word.istitle()': False,\n",
              "   '-1:word.isupper()': False,\n",
              "   '-1:word.lower()': 'for',\n",
              "   'bias': 1.0,\n",
              "   'word.isdigit()': False,\n",
              "   'word.istitle()': False,\n",
              "   'word.isupper()': False,\n",
              "   'word.lower()': 'tyrotoxycycles',\n",
              "   'word[-2:]': 'es',\n",
              "   'word[-3:]': 'les'},\n",
              "  {'+1:word.istitle()': False,\n",
              "   '+1:word.isupper()': False,\n",
              "   '+1:word.lower()': 'black',\n",
              "   '-1:word.istitle()': False,\n",
              "   '-1:word.isupper()': False,\n",
              "   '-1:word.lower()': 'tyrotoxycycles',\n",
              "   'bias': 1.0,\n",
              "   'word.isdigit()': False,\n",
              "   'word.istitle()': False,\n",
              "   'word.isupper()': False,\n",
              "   'word.lower()': 'in',\n",
              "   'word[-2:]': 'in',\n",
              "   'word[-3:]': 'in'},\n",
              "  {'+1:word.istitle()': False,\n",
              "   '+1:word.isupper()': False,\n",
              "   '+1:word.lower()': 'women',\n",
              "   '-1:word.istitle()': False,\n",
              "   '-1:word.isupper()': False,\n",
              "   '-1:word.lower()': 'in',\n",
              "   'bias': 1.0,\n",
              "   'word.isdigit()': False,\n",
              "   'word.istitle()': False,\n",
              "   'word.isupper()': False,\n",
              "   'word.lower()': 'black',\n",
              "   'word[-2:]': 'ck',\n",
              "   'word[-3:]': 'ack'},\n",
              "  {'+1:word.istitle()': False,\n",
              "   '+1:word.isupper()': False,\n",
              "   '+1:word.lower()': 'aged',\n",
              "   '-1:word.istitle()': False,\n",
              "   '-1:word.isupper()': False,\n",
              "   '-1:word.lower()': 'black',\n",
              "   'bias': 1.0,\n",
              "   'word.isdigit()': False,\n",
              "   'word.istitle()': False,\n",
              "   'word.isupper()': False,\n",
              "   'word.lower()': 'women',\n",
              "   'word[-2:]': 'en',\n",
              "   'word[-3:]': 'men'},\n",
              "  {'+1:word.istitle()': False,\n",
              "   '+1:word.isupper()': False,\n",
              "   '+1:word.lower()': '47.',\n",
              "   '-1:word.istitle()': False,\n",
              "   '-1:word.isupper()': False,\n",
              "   '-1:word.lower()': 'women',\n",
              "   'bias': 1.0,\n",
              "   'word.isdigit()': False,\n",
              "   'word.istitle()': False,\n",
              "   'word.isupper()': False,\n",
              "   'word.lower()': 'aged',\n",
              "   'word[-2:]': 'ed',\n",
              "   'word[-3:]': 'ged'},\n",
              "  {'-1:word.istitle()': False,\n",
              "   '-1:word.isupper()': False,\n",
              "   '-1:word.lower()': 'aged',\n",
              "   'EOS': True,\n",
              "   'bias': 1.0,\n",
              "   'word.isdigit()': False,\n",
              "   'word.istitle()': False,\n",
              "   'word.isupper()': False,\n",
              "   'word.lower()': '47.',\n",
              "   'word[-2:]': '7.',\n",
              "   'word[-3:]': '47.'}],\n",
              " [{'+1:word.istitle()': False,\n",
              "   '+1:word.isupper()': False,\n",
              "   '+1:word.lower()': 'a',\n",
              "   'BOS': True,\n",
              "   'bias': 1.0,\n",
              "   'word.isdigit()': False,\n",
              "   'word.istitle()': True,\n",
              "   'word.isupper()': False,\n",
              "   'word.lower()': 'as',\n",
              "   'word[-2:]': 'As',\n",
              "   'word[-3:]': 'As'},\n",
              "  {'+1:word.istitle()': False,\n",
              "   '+1:word.isupper()': False,\n",
              "   '+1:word.lower()': 'result,',\n",
              "   '-1:word.istitle()': True,\n",
              "   '-1:word.isupper()': False,\n",
              "   '-1:word.lower()': 'as',\n",
              "   'bias': 1.0,\n",
              "   'word.isdigit()': False,\n",
              "   'word.istitle()': False,\n",
              "   'word.isupper()': False,\n",
              "   'word.lower()': 'a',\n",
              "   'word[-2:]': 'a',\n",
              "   'word[-3:]': 'a'},\n",
              "  {'+1:word.istitle()': True,\n",
              "   '+1:word.isupper()': False,\n",
              "   '+1:word.lower()': 'amantadine',\n",
              "   '-1:word.istitle()': False,\n",
              "   '-1:word.isupper()': False,\n",
              "   '-1:word.lower()': 'a',\n",
              "   'bias': 1.0,\n",
              "   'word.isdigit()': False,\n",
              "   'word.istitle()': False,\n",
              "   'word.isupper()': False,\n",
              "   'word.lower()': 'result,',\n",
              "   'word[-2:]': 't,',\n",
              "   'word[-3:]': 'lt,'},\n",
              "  {'+1:word.istitle()': False,\n",
              "   '+1:word.isupper()': False,\n",
              "   '+1:word.lower()': 'has',\n",
              "   '-1:word.istitle()': False,\n",
              "   '-1:word.isupper()': False,\n",
              "   '-1:word.lower()': 'result,',\n",
              "   'bias': 1.0,\n",
              "   'word.isdigit()': False,\n",
              "   'word.istitle()': True,\n",
              "   'word.isupper()': False,\n",
              "   'word.lower()': 'amantadine',\n",
              "   'word[-2:]': 'ne',\n",
              "   'word[-3:]': 'ine'},\n",
              "  {'+1:word.istitle()': False,\n",
              "   '+1:word.isupper()': False,\n",
              "   '+1:word.lower()': 'been',\n",
              "   '-1:word.istitle()': True,\n",
              "   '-1:word.isupper()': False,\n",
              "   '-1:word.lower()': 'amantadine',\n",
              "   'bias': 1.0,\n",
              "   'word.isdigit()': False,\n",
              "   'word.istitle()': False,\n",
              "   'word.isupper()': False,\n",
              "   'word.lower()': 'has',\n",
              "   'word[-2:]': 'as',\n",
              "   'word[-3:]': 'has'},\n",
              "  {'+1:word.istitle()': False,\n",
              "   '+1:word.isupper()': False,\n",
              "   '+1:word.lower()': 'permanently',\n",
              "   '-1:word.istitle()': False,\n",
              "   '-1:word.isupper()': False,\n",
              "   '-1:word.lower()': 'has',\n",
              "   'bias': 1.0,\n",
              "   'word.isdigit()': False,\n",
              "   'word.istitle()': False,\n",
              "   'word.isupper()': False,\n",
              "   'word.lower()': 'been',\n",
              "   'word[-2:]': 'en',\n",
              "   'word[-3:]': 'een'},\n",
              "  {'+1:word.istitle()': False,\n",
              "   '+1:word.isupper()': False,\n",
              "   '+1:word.lower()': 'disturbed',\n",
              "   '-1:word.istitle()': False,\n",
              "   '-1:word.isupper()': False,\n",
              "   '-1:word.lower()': 'been',\n",
              "   'bias': 1.0,\n",
              "   'word.isdigit()': False,\n",
              "   'word.istitle()': False,\n",
              "   'word.isupper()': False,\n",
              "   'word.lower()': 'permanently',\n",
              "   'word[-2:]': 'ly',\n",
              "   'word[-3:]': 'tly'},\n",
              "  {'+1:word.istitle()': False,\n",
              "   '+1:word.isupper()': False,\n",
              "   '+1:word.lower()': 'and',\n",
              "   '-1:word.istitle()': False,\n",
              "   '-1:word.isupper()': False,\n",
              "   '-1:word.lower()': 'permanently',\n",
              "   'bias': 1.0,\n",
              "   'word.isdigit()': False,\n",
              "   'word.istitle()': False,\n",
              "   'word.isupper()': False,\n",
              "   'word.lower()': 'disturbed',\n",
              "   'word[-2:]': 'ed',\n",
              "   'word[-3:]': 'bed'},\n",
              "  {'+1:word.istitle()': False,\n",
              "   '+1:word.isupper()': False,\n",
              "   '+1:word.lower()': 'the',\n",
              "   '-1:word.istitle()': False,\n",
              "   '-1:word.isupper()': False,\n",
              "   '-1:word.lower()': 'disturbed',\n",
              "   'bias': 1.0,\n",
              "   'word.isdigit()': False,\n",
              "   'word.istitle()': False,\n",
              "   'word.isupper()': False,\n",
              "   'word.lower()': 'and',\n",
              "   'word[-2:]': 'nd',\n",
              "   'word[-3:]': 'and'},\n",
              "  {'+1:word.istitle()': False,\n",
              "   '+1:word.isupper()': False,\n",
              "   '+1:word.lower()': 'cornea',\n",
              "   '-1:word.istitle()': False,\n",
              "   '-1:word.isupper()': False,\n",
              "   '-1:word.lower()': 'and',\n",
              "   'bias': 1.0,\n",
              "   'word.isdigit()': False,\n",
              "   'word.istitle()': False,\n",
              "   'word.isupper()': False,\n",
              "   'word.lower()': 'the',\n",
              "   'word[-2:]': 'he',\n",
              "   'word[-3:]': 'the'},\n",
              "  {'+1:word.istitle()': False,\n",
              "   '+1:word.isupper()': False,\n",
              "   '+1:word.lower()': 'has',\n",
              "   '-1:word.istitle()': False,\n",
              "   '-1:word.isupper()': False,\n",
              "   '-1:word.lower()': 'the',\n",
              "   'bias': 1.0,\n",
              "   'word.isdigit()': False,\n",
              "   'word.istitle()': False,\n",
              "   'word.isupper()': False,\n",
              "   'word.lower()': 'cornea',\n",
              "   'word[-2:]': 'ea',\n",
              "   'word[-3:]': 'nea'},\n",
              "  {'+1:word.istitle()': False,\n",
              "   '+1:word.isupper()': False,\n",
              "   '+1:word.lower()': 'renewed',\n",
              "   '-1:word.istitle()': False,\n",
              "   '-1:word.isupper()': False,\n",
              "   '-1:word.lower()': 'cornea',\n",
              "   'bias': 1.0,\n",
              "   'word.isdigit()': False,\n",
              "   'word.istitle()': False,\n",
              "   'word.isupper()': False,\n",
              "   'word.lower()': 'has',\n",
              "   'word[-2:]': 'as',\n",
              "   'word[-3:]': 'has'},\n",
              "  {'+1:word.istitle()': False,\n",
              "   '+1:word.isupper()': False,\n",
              "   '+1:word.lower()': 'again.',\n",
              "   '-1:word.istitle()': False,\n",
              "   '-1:word.isupper()': False,\n",
              "   '-1:word.lower()': 'has',\n",
              "   'bias': 1.0,\n",
              "   'word.isdigit()': False,\n",
              "   'word.istitle()': False,\n",
              "   'word.isupper()': False,\n",
              "   'word.lower()': 'renewed',\n",
              "   'word[-2:]': 'ed',\n",
              "   'word[-3:]': 'wed'},\n",
              "  {'-1:word.istitle()': False,\n",
              "   '-1:word.isupper()': False,\n",
              "   '-1:word.lower()': 'renewed',\n",
              "   'EOS': True,\n",
              "   'bias': 1.0,\n",
              "   'word.isdigit()': False,\n",
              "   'word.istitle()': False,\n",
              "   'word.isupper()': False,\n",
              "   'word.lower()': 'again.',\n",
              "   'word[-2:]': 'n.',\n",
              "   'word[-3:]': 'in.'}],\n",
              " [{'+1:word.istitle()': False,\n",
              "   '+1:word.isupper()': False,\n",
              "   '+1:word.lower()': 'most',\n",
              "   'BOS': True,\n",
              "   'bias': 1.0,\n",
              "   'word.isdigit()': False,\n",
              "   'word.istitle()': True,\n",
              "   'word.isupper()': False,\n",
              "   'word.lower()': 'the',\n",
              "   'word[-2:]': 'he',\n",
              "   'word[-3:]': 'The'},\n",
              "  {'+1:word.istitle()': False,\n",
              "   '+1:word.isupper()': False,\n",
              "   '+1:word.lower()': 'likely',\n",
              "   '-1:word.istitle()': True,\n",
              "   '-1:word.isupper()': False,\n",
              "   '-1:word.lower()': 'the',\n",
              "   'bias': 1.0,\n",
              "   'word.isdigit()': False,\n",
              "   'word.istitle()': False,\n",
              "   'word.isupper()': False,\n",
              "   'word.lower()': 'most',\n",
              "   'word[-2:]': 'st',\n",
              "   'word[-3:]': 'ost'},\n",
              "  {'+1:word.istitle()': False,\n",
              "   '+1:word.isupper()': False,\n",
              "   '+1:word.lower()': 'cause',\n",
              "   '-1:word.istitle()': False,\n",
              "   '-1:word.isupper()': False,\n",
              "   '-1:word.lower()': 'most',\n",
              "   'bias': 1.0,\n",
              "   'word.isdigit()': False,\n",
              "   'word.istitle()': False,\n",
              "   'word.isupper()': False,\n",
              "   'word.lower()': 'likely',\n",
              "   'word[-2:]': 'ly',\n",
              "   'word[-3:]': 'ely'},\n",
              "  {'+1:word.istitle()': False,\n",
              "   '+1:word.isupper()': False,\n",
              "   '+1:word.lower()': 'of',\n",
              "   '-1:word.istitle()': False,\n",
              "   '-1:word.isupper()': False,\n",
              "   '-1:word.lower()': 'likely',\n",
              "   'bias': 1.0,\n",
              "   'word.isdigit()': False,\n",
              "   'word.istitle()': False,\n",
              "   'word.isupper()': False,\n",
              "   'word.lower()': 'cause',\n",
              "   'word[-2:]': 'se',\n",
              "   'word[-3:]': 'use'},\n",
              "  {'+1:word.istitle()': False,\n",
              "   '+1:word.isupper()': False,\n",
              "   '+1:word.lower()': 'hepatic',\n",
              "   '-1:word.istitle()': False,\n",
              "   '-1:word.isupper()': False,\n",
              "   '-1:word.lower()': 'cause',\n",
              "   'bias': 1.0,\n",
              "   'word.isdigit()': False,\n",
              "   'word.istitle()': False,\n",
              "   'word.isupper()': False,\n",
              "   'word.lower()': 'of',\n",
              "   'word[-2:]': 'of',\n",
              "   'word[-3:]': 'of'},\n",
              "  {'+1:word.istitle()': False,\n",
              "   '+1:word.isupper()': False,\n",
              "   '+1:word.lower()': 'insufficiency',\n",
              "   '-1:word.istitle()': False,\n",
              "   '-1:word.isupper()': False,\n",
              "   '-1:word.lower()': 'of',\n",
              "   'bias': 1.0,\n",
              "   'word.isdigit()': False,\n",
              "   'word.istitle()': False,\n",
              "   'word.isupper()': False,\n",
              "   'word.lower()': 'hepatic',\n",
              "   'word[-2:]': 'ic',\n",
              "   'word[-3:]': 'tic'},\n",
              "  {'+1:word.istitle()': False,\n",
              "   '+1:word.isupper()': False,\n",
              "   '+1:word.lower()': 'in',\n",
              "   '-1:word.istitle()': False,\n",
              "   '-1:word.isupper()': False,\n",
              "   '-1:word.lower()': 'hepatic',\n",
              "   'bias': 1.0,\n",
              "   'word.isdigit()': False,\n",
              "   'word.istitle()': False,\n",
              "   'word.isupper()': False,\n",
              "   'word.lower()': 'insufficiency',\n",
              "   'word[-2:]': 'cy',\n",
              "   'word[-3:]': 'ncy'},\n",
              "  {'+1:word.istitle()': False,\n",
              "   '+1:word.isupper()': False,\n",
              "   '+1:word.lower()': 'this',\n",
              "   '-1:word.istitle()': False,\n",
              "   '-1:word.isupper()': False,\n",
              "   '-1:word.lower()': 'insufficiency',\n",
              "   'bias': 1.0,\n",
              "   'word.isdigit()': False,\n",
              "   'word.istitle()': False,\n",
              "   'word.isupper()': False,\n",
              "   'word.lower()': 'in',\n",
              "   'word[-2:]': 'in',\n",
              "   'word[-3:]': 'in'},\n",
              "  {'+1:word.istitle()': False,\n",
              "   '+1:word.isupper()': False,\n",
              "   '+1:word.lower()': 'patient',\n",
              "   '-1:word.istitle()': False,\n",
              "   '-1:word.isupper()': False,\n",
              "   '-1:word.lower()': 'in',\n",
              "   'bias': 1.0,\n",
              "   'word.isdigit()': False,\n",
              "   'word.istitle()': False,\n",
              "   'word.isupper()': False,\n",
              "   'word.lower()': 'this',\n",
              "   'word[-2:]': 'is',\n",
              "   'word[-3:]': 'his'},\n",
              "  {'+1:word.istitle()': False,\n",
              "   '+1:word.isupper()': False,\n",
              "   '+1:word.lower()': 'was,',\n",
              "   '-1:word.istitle()': False,\n",
              "   '-1:word.isupper()': False,\n",
              "   '-1:word.lower()': 'this',\n",
              "   'bias': 1.0,\n",
              "   'word.isdigit()': False,\n",
              "   'word.istitle()': False,\n",
              "   'word.isupper()': False,\n",
              "   'word.lower()': 'patient',\n",
              "   'word[-2:]': 'nt',\n",
              "   'word[-3:]': 'ent'},\n",
              "  {'+1:word.istitle()': False,\n",
              "   '+1:word.isupper()': False,\n",
              "   '+1:word.lower()': 'therefore,',\n",
              "   '-1:word.istitle()': False,\n",
              "   '-1:word.isupper()': False,\n",
              "   '-1:word.lower()': 'patient',\n",
              "   'bias': 1.0,\n",
              "   'word.isdigit()': False,\n",
              "   'word.istitle()': False,\n",
              "   'word.isupper()': False,\n",
              "   'word.lower()': 'was,',\n",
              "   'word[-2:]': 's,',\n",
              "   'word[-3:]': 'as,'},\n",
              "  {'+1:word.istitle()': False,\n",
              "   '+1:word.isupper()': False,\n",
              "   '+1:word.lower()': 'clarithromycin,',\n",
              "   '-1:word.istitle()': False,\n",
              "   '-1:word.isupper()': False,\n",
              "   '-1:word.lower()': 'was,',\n",
              "   'bias': 1.0,\n",
              "   'word.isdigit()': False,\n",
              "   'word.istitle()': False,\n",
              "   'word.isupper()': False,\n",
              "   'word.lower()': 'therefore,',\n",
              "   'word[-2:]': 'e,',\n",
              "   'word[-3:]': 're,'},\n",
              "  {'+1:word.istitle()': False,\n",
              "   '+1:word.isupper()': False,\n",
              "   '+1:word.lower()': 'which',\n",
              "   '-1:word.istitle()': False,\n",
              "   '-1:word.isupper()': False,\n",
              "   '-1:word.lower()': 'therefore,',\n",
              "   'bias': 1.0,\n",
              "   'word.isdigit()': False,\n",
              "   'word.istitle()': False,\n",
              "   'word.isupper()': False,\n",
              "   'word.lower()': 'clarithromycin,',\n",
              "   'word[-2:]': 'n,',\n",
              "   'word[-3:]': 'in,'},\n",
              "  {'+1:word.istitle()': False,\n",
              "   '+1:word.isupper()': False,\n",
              "   '+1:word.lower()': 'is',\n",
              "   '-1:word.istitle()': False,\n",
              "   '-1:word.isupper()': False,\n",
              "   '-1:word.lower()': 'clarithromycin,',\n",
              "   'bias': 1.0,\n",
              "   'word.isdigit()': False,\n",
              "   'word.istitle()': False,\n",
              "   'word.isupper()': False,\n",
              "   'word.lower()': 'which',\n",
              "   'word[-2:]': 'ch',\n",
              "   'word[-3:]': 'ich'},\n",
              "  {'+1:word.istitle()': False,\n",
              "   '+1:word.isupper()': False,\n",
              "   '+1:word.lower()': 'subjected',\n",
              "   '-1:word.istitle()': False,\n",
              "   '-1:word.isupper()': False,\n",
              "   '-1:word.lower()': 'which',\n",
              "   'bias': 1.0,\n",
              "   'word.isdigit()': False,\n",
              "   'word.istitle()': False,\n",
              "   'word.isupper()': False,\n",
              "   'word.lower()': 'is',\n",
              "   'word[-2:]': 'is',\n",
              "   'word[-3:]': 'is'},\n",
              "  {'+1:word.istitle()': False,\n",
              "   '+1:word.isupper()': False,\n",
              "   '+1:word.lower()': 'to',\n",
              "   '-1:word.istitle()': False,\n",
              "   '-1:word.isupper()': False,\n",
              "   '-1:word.lower()': 'is',\n",
              "   'bias': 1.0,\n",
              "   'word.isdigit()': False,\n",
              "   'word.istitle()': False,\n",
              "   'word.isupper()': False,\n",
              "   'word.lower()': 'subjected',\n",
              "   'word[-2:]': 'ed',\n",
              "   'word[-3:]': 'ted'},\n",
              "  {'+1:word.istitle()': False,\n",
              "   '+1:word.isupper()': False,\n",
              "   '+1:word.lower()': 'a',\n",
              "   '-1:word.istitle()': False,\n",
              "   '-1:word.isupper()': False,\n",
              "   '-1:word.lower()': 'subjected',\n",
              "   'bias': 1.0,\n",
              "   'word.isdigit()': False,\n",
              "   'word.istitle()': False,\n",
              "   'word.isupper()': False,\n",
              "   'word.lower()': 'to',\n",
              "   'word[-2:]': 'to',\n",
              "   'word[-3:]': 'to'},\n",
              "  {'+1:word.istitle()': False,\n",
              "   '+1:word.isupper()': False,\n",
              "   '+1:word.lower()': 'hepatic',\n",
              "   '-1:word.istitle()': False,\n",
              "   '-1:word.isupper()': False,\n",
              "   '-1:word.lower()': 'to',\n",
              "   'bias': 1.0,\n",
              "   'word.isdigit()': False,\n",
              "   'word.istitle()': False,\n",
              "   'word.isupper()': False,\n",
              "   'word.lower()': 'a',\n",
              "   'word[-2:]': 'a',\n",
              "   'word[-3:]': 'a'},\n",
              "  {'+1:word.istitle()': False,\n",
              "   '+1:word.isupper()': False,\n",
              "   '+1:word.lower()': 'metabolism',\n",
              "   '-1:word.istitle()': False,\n",
              "   '-1:word.isupper()': False,\n",
              "   '-1:word.lower()': 'a',\n",
              "   'bias': 1.0,\n",
              "   'word.isdigit()': False,\n",
              "   'word.istitle()': False,\n",
              "   'word.isupper()': False,\n",
              "   'word.lower()': 'hepatic',\n",
              "   'word[-2:]': 'ic',\n",
              "   'word[-3:]': 'tic'},\n",
              "  {'+1:word.istitle()': False,\n",
              "   '+1:word.isupper()': False,\n",
              "   '+1:word.lower()': 'and',\n",
              "   '-1:word.istitle()': False,\n",
              "   '-1:word.isupper()': False,\n",
              "   '-1:word.lower()': 'hepatic',\n",
              "   'bias': 1.0,\n",
              "   'word.isdigit()': False,\n",
              "   'word.istitle()': False,\n",
              "   'word.isupper()': False,\n",
              "   'word.lower()': 'metabolism',\n",
              "   'word[-2:]': 'sm',\n",
              "   'word[-3:]': 'ism'},\n",
              "  {'+1:word.istitle()': False,\n",
              "   '+1:word.isupper()': False,\n",
              "   '+1:word.lower()': 'has',\n",
              "   '-1:word.istitle()': False,\n",
              "   '-1:word.isupper()': False,\n",
              "   '-1:word.lower()': 'metabolism',\n",
              "   'bias': 1.0,\n",
              "   'word.isdigit()': False,\n",
              "   'word.istitle()': False,\n",
              "   'word.isupper()': False,\n",
              "   'word.lower()': 'and',\n",
              "   'word[-2:]': 'nd',\n",
              "   'word[-3:]': 'and'},\n",
              "  {'+1:word.istitle()': False,\n",
              "   '+1:word.isupper()': False,\n",
              "   '+1:word.lower()': 'been',\n",
              "   '-1:word.istitle()': False,\n",
              "   '-1:word.isupper()': False,\n",
              "   '-1:word.lower()': 'and',\n",
              "   'bias': 1.0,\n",
              "   'word.isdigit()': False,\n",
              "   'word.istitle()': False,\n",
              "   'word.isupper()': False,\n",
              "   'word.lower()': 'has',\n",
              "   'word[-2:]': 'as',\n",
              "   'word[-3:]': 'has'},\n",
              "  {'+1:word.istitle()': False,\n",
              "   '+1:word.isupper()': False,\n",
              "   '+1:word.lower()': 'reported',\n",
              "   '-1:word.istitle()': False,\n",
              "   '-1:word.isupper()': False,\n",
              "   '-1:word.lower()': 'has',\n",
              "   'bias': 1.0,\n",
              "   'word.isdigit()': False,\n",
              "   'word.istitle()': False,\n",
              "   'word.isupper()': False,\n",
              "   'word.lower()': 'been',\n",
              "   'word[-2:]': 'en',\n",
              "   'word[-3:]': 'een'},\n",
              "  {'+1:word.istitle()': False,\n",
              "   '+1:word.isupper()': False,\n",
              "   '+1:word.lower()': 'that',\n",
              "   '-1:word.istitle()': False,\n",
              "   '-1:word.isupper()': False,\n",
              "   '-1:word.lower()': 'been',\n",
              "   'bias': 1.0,\n",
              "   'word.isdigit()': False,\n",
              "   'word.istitle()': False,\n",
              "   'word.isupper()': False,\n",
              "   'word.lower()': 'reported',\n",
              "   'word[-2:]': 'ed',\n",
              "   'word[-3:]': 'ted'},\n",
              "  {'+1:word.istitle()': False,\n",
              "   '+1:word.isupper()': False,\n",
              "   '+1:word.lower()': 'it',\n",
              "   '-1:word.istitle()': False,\n",
              "   '-1:word.isupper()': False,\n",
              "   '-1:word.lower()': 'reported',\n",
              "   'bias': 1.0,\n",
              "   'word.isdigit()': False,\n",
              "   'word.istitle()': False,\n",
              "   'word.isupper()': False,\n",
              "   'word.lower()': 'that',\n",
              "   'word[-2:]': 'at',\n",
              "   'word[-3:]': 'hat'},\n",
              "  {'+1:word.istitle()': False,\n",
              "   '+1:word.isupper()': False,\n",
              "   '+1:word.lower()': 'causes',\n",
              "   '-1:word.istitle()': False,\n",
              "   '-1:word.isupper()': False,\n",
              "   '-1:word.lower()': 'that',\n",
              "   'bias': 1.0,\n",
              "   'word.isdigit()': False,\n",
              "   'word.istitle()': False,\n",
              "   'word.isupper()': False,\n",
              "   'word.lower()': 'it',\n",
              "   'word[-2:]': 'it',\n",
              "   'word[-3:]': 'it'},\n",
              "  {'+1:word.istitle()': False,\n",
              "   '+1:word.isupper()': False,\n",
              "   '+1:word.lower()': 'fulminating',\n",
              "   '-1:word.istitle()': False,\n",
              "   '-1:word.isupper()': False,\n",
              "   '-1:word.lower()': 'it',\n",
              "   'bias': 1.0,\n",
              "   'word.isdigit()': False,\n",
              "   'word.istitle()': False,\n",
              "   'word.isupper()': False,\n",
              "   'word.lower()': 'causes',\n",
              "   'word[-2:]': 'es',\n",
              "   'word[-3:]': 'ses'},\n",
              "  {'+1:word.istitle()': False,\n",
              "   '+1:word.isupper()': False,\n",
              "   '+1:word.lower()': 'liver',\n",
              "   '-1:word.istitle()': False,\n",
              "   '-1:word.isupper()': False,\n",
              "   '-1:word.lower()': 'causes',\n",
              "   'bias': 1.0,\n",
              "   'word.isdigit()': False,\n",
              "   'word.istitle()': False,\n",
              "   'word.isupper()': False,\n",
              "   'word.lower()': 'fulminating',\n",
              "   'word[-2:]': 'ng',\n",
              "   'word[-3:]': 'ing'},\n",
              "  {'+1:word.istitle()': False,\n",
              "   '+1:word.isupper()': False,\n",
              "   '+1:word.lower()': 'failure.',\n",
              "   '-1:word.istitle()': False,\n",
              "   '-1:word.isupper()': False,\n",
              "   '-1:word.lower()': 'fulminating',\n",
              "   'bias': 1.0,\n",
              "   'word.isdigit()': False,\n",
              "   'word.istitle()': False,\n",
              "   'word.isupper()': False,\n",
              "   'word.lower()': 'liver',\n",
              "   'word[-2:]': 'er',\n",
              "   'word[-3:]': 'ver'},\n",
              "  {'-1:word.istitle()': False,\n",
              "   '-1:word.isupper()': False,\n",
              "   '-1:word.lower()': 'liver',\n",
              "   'EOS': True,\n",
              "   'bias': 1.0,\n",
              "   'word.isdigit()': False,\n",
              "   'word.istitle()': False,\n",
              "   'word.isupper()': False,\n",
              "   'word.lower()': 'failure.',\n",
              "   'word[-2:]': 'e.',\n",
              "   'word[-3:]': 're.'}],\n",
              " [{'+1:word.istitle()': False,\n",
              "   '+1:word.isupper()': False,\n",
              "   '+1:word.lower()': 'mechanism',\n",
              "   'BOS': True,\n",
              "   'bias': 1.0,\n",
              "   'word.isdigit()': False,\n",
              "   'word.istitle()': True,\n",
              "   'word.isupper()': False,\n",
              "   'word.lower()': 'the',\n",
              "   'word[-2:]': 'he',\n",
              "   'word[-3:]': 'The'},\n",
              "  {'+1:word.istitle()': False,\n",
              "   '+1:word.isupper()': False,\n",
              "   '+1:word.lower()': 'of',\n",
              "   '-1:word.istitle()': True,\n",
              "   '-1:word.isupper()': False,\n",
              "   '-1:word.lower()': 'the',\n",
              "   'bias': 1.0,\n",
              "   'word.isdigit()': False,\n",
              "   'word.istitle()': False,\n",
              "   'word.isupper()': False,\n",
              "   'word.lower()': 'mechanism',\n",
              "   'word[-2:]': 'sm',\n",
              "   'word[-3:]': 'ism'},\n",
              "  {'+1:word.istitle()': False,\n",
              "   '+1:word.isupper()': False,\n",
              "   '+1:word.lower()': 'decrease',\n",
              "   '-1:word.istitle()': False,\n",
              "   '-1:word.isupper()': False,\n",
              "   '-1:word.lower()': 'mechanism',\n",
              "   'bias': 1.0,\n",
              "   'word.isdigit()': False,\n",
              "   'word.istitle()': False,\n",
              "   'word.isupper()': False,\n",
              "   'word.lower()': 'of',\n",
              "   'word[-2:]': 'of',\n",
              "   'word[-3:]': 'of'},\n",
              "  {'+1:word.istitle()': False,\n",
              "   '+1:word.isupper()': False,\n",
              "   '+1:word.lower()': 'in',\n",
              "   '-1:word.istitle()': False,\n",
              "   '-1:word.isupper()': False,\n",
              "   '-1:word.lower()': 'of',\n",
              "   'bias': 1.0,\n",
              "   'word.isdigit()': False,\n",
              "   'word.istitle()': False,\n",
              "   'word.isupper()': False,\n",
              "   'word.lower()': 'decrease',\n",
              "   'word[-2:]': 'se',\n",
              "   'word[-3:]': 'ase'},\n",
              "  {'+1:word.istitle()': False,\n",
              "   '+1:word.isupper()': False,\n",
              "   '+1:word.lower()': 'potassium',\n",
              "   '-1:word.istitle()': False,\n",
              "   '-1:word.isupper()': False,\n",
              "   '-1:word.lower()': 'decrease',\n",
              "   'bias': 1.0,\n",
              "   'word.isdigit()': False,\n",
              "   'word.istitle()': False,\n",
              "   'word.isupper()': False,\n",
              "   'word.lower()': 'in',\n",
              "   'word[-2:]': 'in',\n",
              "   'word[-3:]': 'in'},\n",
              "  {'+1:word.istitle()': False,\n",
              "   '+1:word.isupper()': False,\n",
              "   '+1:word.lower()': 'plasma',\n",
              "   '-1:word.istitle()': False,\n",
              "   '-1:word.isupper()': False,\n",
              "   '-1:word.lower()': 'in',\n",
              "   'bias': 1.0,\n",
              "   'word.isdigit()': False,\n",
              "   'word.istitle()': False,\n",
              "   'word.isupper()': False,\n",
              "   'word.lower()': 'potassium',\n",
              "   'word[-2:]': 'um',\n",
              "   'word[-3:]': 'ium'},\n",
              "  {'+1:word.istitle()': False,\n",
              "   '+1:word.isupper()': False,\n",
              "   '+1:word.lower()': 'induced',\n",
              "   '-1:word.istitle()': False,\n",
              "   '-1:word.isupper()': False,\n",
              "   '-1:word.lower()': 'potassium',\n",
              "   'bias': 1.0,\n",
              "   'word.isdigit()': False,\n",
              "   'word.istitle()': False,\n",
              "   'word.isupper()': False,\n",
              "   'word.lower()': 'plasma',\n",
              "   'word[-2:]': 'ma',\n",
              "   'word[-3:]': 'sma'},\n",
              "  {'+1:word.istitle()': False,\n",
              "   '+1:word.isupper()': False,\n",
              "   '+1:word.lower()': 'by',\n",
              "   '-1:word.istitle()': False,\n",
              "   '-1:word.isupper()': False,\n",
              "   '-1:word.lower()': 'plasma',\n",
              "   'bias': 1.0,\n",
              "   'word.isdigit()': False,\n",
              "   'word.istitle()': False,\n",
              "   'word.isupper()': False,\n",
              "   'word.lower()': 'induced',\n",
              "   'word[-2:]': 'ed',\n",
              "   'word[-3:]': 'ced'},\n",
              "  {'+1:word.istitle()': False,\n",
              "   '+1:word.isupper()': False,\n",
              "   '+1:word.lower()': 'phosphate',\n",
              "   '-1:word.istitle()': False,\n",
              "   '-1:word.isupper()': False,\n",
              "   '-1:word.lower()': 'induced',\n",
              "   'bias': 1.0,\n",
              "   'word.isdigit()': False,\n",
              "   'word.istitle()': False,\n",
              "   'word.isupper()': False,\n",
              "   'word.lower()': 'by',\n",
              "   'word[-2:]': 'by',\n",
              "   'word[-3:]': 'by'},\n",
              "  {'+1:word.istitle()': False,\n",
              "   '+1:word.isupper()': False,\n",
              "   '+1:word.lower()': 'treatment',\n",
              "   '-1:word.istitle()': False,\n",
              "   '-1:word.isupper()': False,\n",
              "   '-1:word.lower()': 'by',\n",
              "   'bias': 1.0,\n",
              "   'word.isdigit()': False,\n",
              "   'word.istitle()': False,\n",
              "   'word.isupper()': False,\n",
              "   'word.lower()': 'phosphate',\n",
              "   'word[-2:]': 'te',\n",
              "   'word[-3:]': 'ate'},\n",
              "  {'+1:word.istitle()': False,\n",
              "   '+1:word.isupper()': False,\n",
              "   '+1:word.lower()': 'was',\n",
              "   '-1:word.istitle()': False,\n",
              "   '-1:word.isupper()': False,\n",
              "   '-1:word.lower()': 'phosphate',\n",
              "   'bias': 1.0,\n",
              "   'word.isdigit()': False,\n",
              "   'word.istitle()': False,\n",
              "   'word.isupper()': False,\n",
              "   'word.lower()': 'treatment',\n",
              "   'word[-2:]': 'nt',\n",
              "   'word[-3:]': 'ent'},\n",
              "  {'+1:word.istitle()': False,\n",
              "   '+1:word.isupper()': False,\n",
              "   '+1:word.lower()': 'investigated',\n",
              "   '-1:word.istitle()': False,\n",
              "   '-1:word.isupper()': False,\n",
              "   '-1:word.lower()': 'treatment',\n",
              "   'bias': 1.0,\n",
              "   'word.isdigit()': False,\n",
              "   'word.istitle()': False,\n",
              "   'word.isupper()': False,\n",
              "   'word.lower()': 'was',\n",
              "   'word[-2:]': 'as',\n",
              "   'word[-3:]': 'was'},\n",
              "  {'+1:word.istitle()': False,\n",
              "   '+1:word.isupper()': False,\n",
              "   '+1:word.lower()': 'in',\n",
              "   '-1:word.istitle()': False,\n",
              "   '-1:word.isupper()': False,\n",
              "   '-1:word.lower()': 'was',\n",
              "   'bias': 1.0,\n",
              "   'word.isdigit()': False,\n",
              "   'word.istitle()': False,\n",
              "   'word.isupper()': False,\n",
              "   'word.lower()': 'investigated',\n",
              "   'word[-2:]': 'ed',\n",
              "   'word[-3:]': 'ted'},\n",
              "  {'+1:word.istitle()': False,\n",
              "   '+1:word.isupper()': False,\n",
              "   '+1:word.lower()': 'a',\n",
              "   '-1:word.istitle()': False,\n",
              "   '-1:word.isupper()': False,\n",
              "   '-1:word.lower()': 'investigated',\n",
              "   'bias': 1.0,\n",
              "   'word.isdigit()': False,\n",
              "   'word.istitle()': False,\n",
              "   'word.isupper()': False,\n",
              "   'word.lower()': 'in',\n",
              "   'word[-2:]': 'in',\n",
              "   'word[-3:]': 'in'},\n",
              "  {'+1:word.istitle()': False,\n",
              "   '+1:word.isupper()': False,\n",
              "   '+1:word.lower()': '24-year',\n",
              "   '-1:word.istitle()': False,\n",
              "   '-1:word.isupper()': False,\n",
              "   '-1:word.lower()': 'in',\n",
              "   'bias': 1.0,\n",
              "   'word.isdigit()': False,\n",
              "   'word.istitle()': False,\n",
              "   'word.isupper()': False,\n",
              "   'word.lower()': 'a',\n",
              "   'word[-2:]': 'a',\n",
              "   'word[-3:]': 'a'},\n",
              "  {'+1:word.istitle()': False,\n",
              "   '+1:word.isupper()': False,\n",
              "   '+1:word.lower()': 'hypertensive',\n",
              "   '-1:word.istitle()': False,\n",
              "   '-1:word.isupper()': False,\n",
              "   '-1:word.lower()': 'a',\n",
              "   'bias': 1.0,\n",
              "   'word.isdigit()': False,\n",
              "   'word.istitle()': False,\n",
              "   'word.isupper()': False,\n",
              "   'word.lower()': '24-year',\n",
              "   'word[-2:]': 'ar',\n",
              "   'word[-3:]': 'ear'},\n",
              "  {'+1:word.istitle()': False,\n",
              "   '+1:word.isupper()': False,\n",
              "   '+1:word.lower()': 'patient',\n",
              "   '-1:word.istitle()': False,\n",
              "   '-1:word.isupper()': False,\n",
              "   '-1:word.lower()': '24-year',\n",
              "   'bias': 1.0,\n",
              "   'word.isdigit()': False,\n",
              "   'word.istitle()': False,\n",
              "   'word.isupper()': False,\n",
              "   'word.lower()': 'hypertensive',\n",
              "   'word[-2:]': 've',\n",
              "   'word[-3:]': 'ive'},\n",
              "  {'+1:word.istitle()': False,\n",
              "   '+1:word.isupper()': False,\n",
              "   '+1:word.lower()': 'with',\n",
              "   '-1:word.istitle()': False,\n",
              "   '-1:word.isupper()': False,\n",
              "   '-1:word.lower()': 'hypertensive',\n",
              "   'bias': 1.0,\n",
              "   'word.isdigit()': False,\n",
              "   'word.istitle()': False,\n",
              "   'word.isupper()': False,\n",
              "   'word.lower()': 'patient',\n",
              "   'word[-2:]': 'nt',\n",
              "   'word[-3:]': 'ent'},\n",
              "  {'+1:word.istitle()': False,\n",
              "   '+1:word.isupper()': False,\n",
              "   '+1:word.lower()': 'hypophosphatemic',\n",
              "   '-1:word.istitle()': False,\n",
              "   '-1:word.isupper()': False,\n",
              "   '-1:word.lower()': 'patient',\n",
              "   'bias': 1.0,\n",
              "   'word.isdigit()': False,\n",
              "   'word.istitle()': False,\n",
              "   'word.isupper()': False,\n",
              "   'word.lower()': 'with',\n",
              "   'word[-2:]': 'th',\n",
              "   'word[-3:]': 'ith'},\n",
              "  {'+1:word.istitle()': False,\n",
              "   '+1:word.isupper()': False,\n",
              "   '+1:word.lower()': 'osteomalacia,',\n",
              "   '-1:word.istitle()': False,\n",
              "   '-1:word.isupper()': False,\n",
              "   '-1:word.lower()': 'with',\n",
              "   'bias': 1.0,\n",
              "   'word.isdigit()': False,\n",
              "   'word.istitle()': False,\n",
              "   'word.isupper()': False,\n",
              "   'word.lower()': 'hypophosphatemic',\n",
              "   'word[-2:]': 'ic',\n",
              "   'word[-3:]': 'mic'},\n",
              "  {'+1:word.istitle()': False,\n",
              "   '+1:word.isupper()': False,\n",
              "   '+1:word.lower()': 'who',\n",
              "   '-1:word.istitle()': False,\n",
              "   '-1:word.isupper()': False,\n",
              "   '-1:word.lower()': 'hypophosphatemic',\n",
              "   'bias': 1.0,\n",
              "   'word.isdigit()': False,\n",
              "   'word.istitle()': False,\n",
              "   'word.isupper()': False,\n",
              "   'word.lower()': 'osteomalacia,',\n",
              "   'word[-2:]': 'a,',\n",
              "   'word[-3:]': 'ia,'},\n",
              "  {'+1:word.istitle()': False,\n",
              "   '+1:word.isupper()': False,\n",
              "   '+1:word.lower()': 'was',\n",
              "   '-1:word.istitle()': False,\n",
              "   '-1:word.isupper()': False,\n",
              "   '-1:word.lower()': 'osteomalacia,',\n",
              "   'bias': 1.0,\n",
              "   'word.isdigit()': False,\n",
              "   'word.istitle()': False,\n",
              "   'word.isupper()': False,\n",
              "   'word.lower()': 'who',\n",
              "   'word[-2:]': 'ho',\n",
              "   'word[-3:]': 'who'},\n",
              "  {'+1:word.istitle()': False,\n",
              "   '+1:word.isupper()': False,\n",
              "   '+1:word.lower()': 'the',\n",
              "   '-1:word.istitle()': False,\n",
              "   '-1:word.isupper()': False,\n",
              "   '-1:word.lower()': 'who',\n",
              "   'bias': 1.0,\n",
              "   'word.isdigit()': False,\n",
              "   'word.istitle()': False,\n",
              "   'word.isupper()': False,\n",
              "   'word.lower()': 'was',\n",
              "   'word[-2:]': 'as',\n",
              "   'word[-3:]': 'was'},\n",
              "  {'+1:word.istitle()': False,\n",
              "   '+1:word.isupper()': False,\n",
              "   '+1:word.lower()': 'youngest',\n",
              "   '-1:word.istitle()': False,\n",
              "   '-1:word.isupper()': False,\n",
              "   '-1:word.lower()': 'was',\n",
              "   'bias': 1.0,\n",
              "   'word.isdigit()': False,\n",
              "   'word.istitle()': False,\n",
              "   'word.isupper()': False,\n",
              "   'word.lower()': 'the',\n",
              "   'word[-2:]': 'he',\n",
              "   'word[-3:]': 'the'},\n",
              "  {'+1:word.istitle()': False,\n",
              "   '+1:word.isupper()': False,\n",
              "   '+1:word.lower()': 'of',\n",
              "   '-1:word.istitle()': False,\n",
              "   '-1:word.isupper()': False,\n",
              "   '-1:word.lower()': 'the',\n",
              "   'bias': 1.0,\n",
              "   'word.isdigit()': False,\n",
              "   'word.istitle()': False,\n",
              "   'word.isupper()': False,\n",
              "   'word.lower()': 'youngest',\n",
              "   'word[-2:]': 'st',\n",
              "   'word[-3:]': 'est'},\n",
              "  {'+1:word.istitle()': False,\n",
              "   '+1:word.isupper()': False,\n",
              "   '+1:word.lower()': 'four',\n",
              "   '-1:word.istitle()': False,\n",
              "   '-1:word.isupper()': False,\n",
              "   '-1:word.lower()': 'youngest',\n",
              "   'bias': 1.0,\n",
              "   'word.isdigit()': False,\n",
              "   'word.istitle()': False,\n",
              "   'word.isupper()': False,\n",
              "   'word.lower()': 'of',\n",
              "   'word[-2:]': 'of',\n",
              "   'word[-3:]': 'of'},\n",
              "  {'+1:word.istitle()': False,\n",
              "   '+1:word.isupper()': False,\n",
              "   '+1:word.lower()': 'patients,',\n",
              "   '-1:word.istitle()': False,\n",
              "   '-1:word.isupper()': False,\n",
              "   '-1:word.lower()': 'of',\n",
              "   'bias': 1.0,\n",
              "   'word.isdigit()': False,\n",
              "   'word.istitle()': False,\n",
              "   'word.isupper()': False,\n",
              "   'word.lower()': 'four',\n",
              "   'word[-2:]': 'ur',\n",
              "   'word[-3:]': 'our'},\n",
              "  {'+1:word.istitle()': False,\n",
              "   '+1:word.isupper()': False,\n",
              "   '+1:word.lower()': 'who',\n",
              "   '-1:word.istitle()': False,\n",
              "   '-1:word.isupper()': False,\n",
              "   '-1:word.lower()': 'four',\n",
              "   'bias': 1.0,\n",
              "   'word.isdigit()': False,\n",
              "   'word.istitle()': False,\n",
              "   'word.isupper()': False,\n",
              "   'word.lower()': 'patients,',\n",
              "   'word[-2:]': 's,',\n",
              "   'word[-3:]': 'ts,'},\n",
              "  {'+1:word.istitle()': False,\n",
              "   '+1:word.isupper()': False,\n",
              "   '+1:word.lower()': 'belonged',\n",
              "   '-1:word.istitle()': False,\n",
              "   '-1:word.isupper()': False,\n",
              "   '-1:word.lower()': 'patients,',\n",
              "   'bias': 1.0,\n",
              "   'word.isdigit()': False,\n",
              "   'word.istitle()': False,\n",
              "   'word.isupper()': False,\n",
              "   'word.lower()': 'who',\n",
              "   'word[-2:]': 'ho',\n",
              "   'word[-3:]': 'who'},\n",
              "  {'+1:word.istitle()': False,\n",
              "   '+1:word.isupper()': False,\n",
              "   '+1:word.lower()': 'to',\n",
              "   '-1:word.istitle()': False,\n",
              "   '-1:word.isupper()': False,\n",
              "   '-1:word.lower()': 'who',\n",
              "   'bias': 1.0,\n",
              "   'word.isdigit()': False,\n",
              "   'word.istitle()': False,\n",
              "   'word.isupper()': False,\n",
              "   'word.lower()': 'belonged',\n",
              "   'word[-2:]': 'ed',\n",
              "   'word[-3:]': 'ged'},\n",
              "  {'+1:word.istitle()': False,\n",
              "   '+1:word.isupper()': False,\n",
              "   '+1:word.lower()': 'a',\n",
              "   '-1:word.istitle()': False,\n",
              "   '-1:word.isupper()': False,\n",
              "   '-1:word.lower()': 'belonged',\n",
              "   'bias': 1.0,\n",
              "   'word.isdigit()': False,\n",
              "   'word.istitle()': False,\n",
              "   'word.isupper()': False,\n",
              "   'word.lower()': 'to',\n",
              "   'word[-2:]': 'to',\n",
              "   'word[-3:]': 'to'},\n",
              "  {'+1:word.istitle()': False,\n",
              "   '+1:word.isupper()': False,\n",
              "   '+1:word.lower()': 'number',\n",
              "   '-1:word.istitle()': False,\n",
              "   '-1:word.isupper()': False,\n",
              "   '-1:word.lower()': 'to',\n",
              "   'bias': 1.0,\n",
              "   'word.isdigit()': False,\n",
              "   'word.istitle()': False,\n",
              "   'word.isupper()': False,\n",
              "   'word.lower()': 'a',\n",
              "   'word[-2:]': 'a',\n",
              "   'word[-3:]': 'a'},\n",
              "  {'+1:word.istitle()': False,\n",
              "   '+1:word.isupper()': False,\n",
              "   '+1:word.lower()': 'of',\n",
              "   '-1:word.istitle()': False,\n",
              "   '-1:word.isupper()': False,\n",
              "   '-1:word.lower()': 'a',\n",
              "   'bias': 1.0,\n",
              "   'word.isdigit()': False,\n",
              "   'word.istitle()': False,\n",
              "   'word.isupper()': False,\n",
              "   'word.lower()': 'number',\n",
              "   'word[-2:]': 'er',\n",
              "   'word[-3:]': 'ber'},\n",
              "  {'+1:word.istitle()': False,\n",
              "   '+1:word.isupper()': False,\n",
              "   '+1:word.lower()': '23',\n",
              "   '-1:word.istitle()': False,\n",
              "   '-1:word.isupper()': False,\n",
              "   '-1:word.lower()': 'number',\n",
              "   'bias': 1.0,\n",
              "   'word.isdigit()': False,\n",
              "   'word.istitle()': False,\n",
              "   'word.isupper()': False,\n",
              "   'word.lower()': 'of',\n",
              "   'word[-2:]': 'of',\n",
              "   'word[-3:]': 'of'},\n",
              "  {'+1:word.istitle()': False,\n",
              "   '+1:word.isupper()': False,\n",
              "   '+1:word.lower()': 'numbers',\n",
              "   '-1:word.istitle()': False,\n",
              "   '-1:word.isupper()': False,\n",
              "   '-1:word.lower()': 'of',\n",
              "   'bias': 1.0,\n",
              "   'word.isdigit()': True,\n",
              "   'word.istitle()': False,\n",
              "   'word.isupper()': False,\n",
              "   'word.lower()': '23',\n",
              "   'word[-2:]': '23',\n",
              "   'word[-3:]': '23'},\n",
              "  {'+1:word.istitle()': False,\n",
              "   '+1:word.isupper()': False,\n",
              "   '+1:word.lower()': 'of',\n",
              "   '-1:word.istitle()': False,\n",
              "   '-1:word.isupper()': False,\n",
              "   '-1:word.lower()': '23',\n",
              "   'bias': 1.0,\n",
              "   'word.isdigit()': False,\n",
              "   'word.istitle()': False,\n",
              "   'word.isupper()': False,\n",
              "   'word.lower()': 'numbers',\n",
              "   'word[-2:]': 'rs',\n",
              "   'word[-3:]': 'ers'},\n",
              "  {'+1:word.istitle()': False,\n",
              "   '+1:word.isupper()': False,\n",
              "   '+1:word.lower()': 'five',\n",
              "   '-1:word.istitle()': False,\n",
              "   '-1:word.isupper()': False,\n",
              "   '-1:word.lower()': 'numbers',\n",
              "   'bias': 1.0,\n",
              "   'word.isdigit()': False,\n",
              "   'word.istitle()': False,\n",
              "   'word.isupper()': False,\n",
              "   'word.lower()': 'of',\n",
              "   'word[-2:]': 'of',\n",
              "   'word[-3:]': 'of'},\n",
              "  {'+1:word.istitle()': False,\n",
              "   '+1:word.isupper()': False,\n",
              "   '+1:word.lower()': 'generations.',\n",
              "   '-1:word.istitle()': False,\n",
              "   '-1:word.isupper()': False,\n",
              "   '-1:word.lower()': 'of',\n",
              "   'bias': 1.0,\n",
              "   'word.isdigit()': False,\n",
              "   'word.istitle()': False,\n",
              "   'word.isupper()': False,\n",
              "   'word.lower()': 'five',\n",
              "   'word[-2:]': 've',\n",
              "   'word[-3:]': 'ive'},\n",
              "  {'-1:word.istitle()': False,\n",
              "   '-1:word.isupper()': False,\n",
              "   '-1:word.lower()': 'five',\n",
              "   'EOS': True,\n",
              "   'bias': 1.0,\n",
              "   'word.isdigit()': False,\n",
              "   'word.istitle()': False,\n",
              "   'word.isupper()': False,\n",
              "   'word.lower()': 'generations.',\n",
              "   'word[-2:]': 's.',\n",
              "   'word[-3:]': 'ns.'}],\n",
              " [{'+1:word.istitle()': False,\n",
              "   '+1:word.isupper()': False,\n",
              "   '+1:word.lower()': 'has',\n",
              "   'BOS': True,\n",
              "   'bias': 1.0,\n",
              "   'word.isdigit()': False,\n",
              "   'word.istitle()': True,\n",
              "   'word.isupper()': False,\n",
              "   'word.lower()': 'it',\n",
              "   'word[-2:]': 'It',\n",
              "   'word[-3:]': 'It'},\n",
              "  {'+1:word.istitle()': False,\n",
              "   '+1:word.isupper()': False,\n",
              "   '+1:word.lower()': 'been',\n",
              "   '-1:word.istitle()': True,\n",
              "   '-1:word.isupper()': False,\n",
              "   '-1:word.lower()': 'it',\n",
              "   'bias': 1.0,\n",
              "   'word.isdigit()': False,\n",
              "   'word.istitle()': False,\n",
              "   'word.isupper()': False,\n",
              "   'word.lower()': 'has',\n",
              "   'word[-2:]': 'as',\n",
              "   'word[-3:]': 'has'},\n",
              "  {'+1:word.istitle()': False,\n",
              "   '+1:word.isupper()': False,\n",
              "   '+1:word.lower()': 'diagnosed',\n",
              "   '-1:word.istitle()': False,\n",
              "   '-1:word.isupper()': False,\n",
              "   '-1:word.lower()': 'has',\n",
              "   'bias': 1.0,\n",
              "   'word.isdigit()': False,\n",
              "   'word.istitle()': False,\n",
              "   'word.isupper()': False,\n",
              "   'word.lower()': 'been',\n",
              "   'word[-2:]': 'en',\n",
              "   'word[-3:]': 'een'},\n",
              "  {'+1:word.istitle()': False,\n",
              "   '+1:word.isupper()': False,\n",
              "   '+1:word.lower()': 'with',\n",
              "   '-1:word.istitle()': False,\n",
              "   '-1:word.isupper()': False,\n",
              "   '-1:word.lower()': 'been',\n",
              "   'bias': 1.0,\n",
              "   'word.isdigit()': False,\n",
              "   'word.istitle()': False,\n",
              "   'word.isupper()': False,\n",
              "   'word.lower()': 'diagnosed',\n",
              "   'word[-2:]': 'ed',\n",
              "   'word[-3:]': 'sed'},\n",
              "  {'+1:word.istitle()': False,\n",
              "   '+1:word.isupper()': False,\n",
              "   '+1:word.lower()': 'possible',\n",
              "   '-1:word.istitle()': False,\n",
              "   '-1:word.isupper()': False,\n",
              "   '-1:word.lower()': 'diagnosed',\n",
              "   'bias': 1.0,\n",
              "   'word.isdigit()': False,\n",
              "   'word.istitle()': False,\n",
              "   'word.isupper()': False,\n",
              "   'word.lower()': 'with',\n",
              "   'word[-2:]': 'th',\n",
              "   'word[-3:]': 'ith'},\n",
              "  {'+1:word.istitle()': False,\n",
              "   '+1:word.isupper()': False,\n",
              "   '+1:word.lower()': 'serotonin',\n",
              "   '-1:word.istitle()': False,\n",
              "   '-1:word.isupper()': False,\n",
              "   '-1:word.lower()': 'with',\n",
              "   'bias': 1.0,\n",
              "   'word.isdigit()': False,\n",
              "   'word.istitle()': False,\n",
              "   'word.isupper()': False,\n",
              "   'word.lower()': 'possible',\n",
              "   'word[-2:]': 'le',\n",
              "   'word[-3:]': 'ble'},\n",
              "  {'+1:word.istitle()': False,\n",
              "   '+1:word.isupper()': False,\n",
              "   '+1:word.lower()': 'syndrome;',\n",
              "   '-1:word.istitle()': False,\n",
              "   '-1:word.isupper()': False,\n",
              "   '-1:word.lower()': 'possible',\n",
              "   'bias': 1.0,\n",
              "   'word.isdigit()': False,\n",
              "   'word.istitle()': False,\n",
              "   'word.isupper()': False,\n",
              "   'word.lower()': 'serotonin',\n",
              "   'word[-2:]': 'in',\n",
              "   'word[-3:]': 'nin'},\n",
              "  {'+1:word.istitle()': False,\n",
              "   '+1:word.isupper()': False,\n",
              "   '+1:word.lower()': 'its',\n",
              "   '-1:word.istitle()': False,\n",
              "   '-1:word.isupper()': False,\n",
              "   '-1:word.lower()': 'serotonin',\n",
              "   'bias': 1.0,\n",
              "   'word.isdigit()': False,\n",
              "   'word.istitle()': False,\n",
              "   'word.isupper()': False,\n",
              "   'word.lower()': 'syndrome;',\n",
              "   'word[-2:]': 'e;',\n",
              "   'word[-3:]': 'me;'},\n",
              "  {'+1:word.istitle()': False,\n",
              "   '+1:word.isupper()': False,\n",
              "   '+1:word.lower()': 'symptoms',\n",
              "   '-1:word.istitle()': False,\n",
              "   '-1:word.isupper()': False,\n",
              "   '-1:word.lower()': 'syndrome;',\n",
              "   'bias': 1.0,\n",
              "   'word.isdigit()': False,\n",
              "   'word.istitle()': False,\n",
              "   'word.isupper()': False,\n",
              "   'word.lower()': 'its',\n",
              "   'word[-2:]': 'ts',\n",
              "   'word[-3:]': 'its'},\n",
              "  {'+1:word.istitle()': False,\n",
              "   '+1:word.isupper()': False,\n",
              "   '+1:word.lower()': 'resolved',\n",
              "   '-1:word.istitle()': False,\n",
              "   '-1:word.isupper()': False,\n",
              "   '-1:word.lower()': 'its',\n",
              "   'bias': 1.0,\n",
              "   'word.isdigit()': False,\n",
              "   'word.istitle()': False,\n",
              "   'word.isupper()': False,\n",
              "   'word.lower()': 'symptoms',\n",
              "   'word[-2:]': 'ms',\n",
              "   'word[-3:]': 'oms'},\n",
              "  {'+1:word.istitle()': False,\n",
              "   '+1:word.isupper()': False,\n",
              "   '+1:word.lower()': 'after',\n",
              "   '-1:word.istitle()': False,\n",
              "   '-1:word.isupper()': False,\n",
              "   '-1:word.lower()': 'symptoms',\n",
              "   'bias': 1.0,\n",
              "   'word.isdigit()': False,\n",
              "   'word.istitle()': False,\n",
              "   'word.isupper()': False,\n",
              "   'word.lower()': 'resolved',\n",
              "   'word[-2:]': 'ed',\n",
              "   'word[-3:]': 'ved'},\n",
              "  {'+1:word.istitle()': False,\n",
              "   '+1:word.isupper()': False,\n",
              "   '+1:word.lower()': 'stopping',\n",
              "   '-1:word.istitle()': False,\n",
              "   '-1:word.isupper()': False,\n",
              "   '-1:word.lower()': 'resolved',\n",
              "   'bias': 1.0,\n",
              "   'word.isdigit()': False,\n",
              "   'word.istitle()': False,\n",
              "   'word.isupper()': False,\n",
              "   'word.lower()': 'after',\n",
              "   'word[-2:]': 'er',\n",
              "   'word[-3:]': 'ter'},\n",
              "  {'+1:word.istitle()': False,\n",
              "   '+1:word.isupper()': False,\n",
              "   '+1:word.lower()': 'clomipramine',\n",
              "   '-1:word.istitle()': False,\n",
              "   '-1:word.isupper()': False,\n",
              "   '-1:word.lower()': 'after',\n",
              "   'bias': 1.0,\n",
              "   'word.isdigit()': False,\n",
              "   'word.istitle()': False,\n",
              "   'word.isupper()': False,\n",
              "   'word.lower()': 'stopping',\n",
              "   'word[-2:]': 'ng',\n",
              "   'word[-3:]': 'ing'},\n",
              "  {'+1:word.istitle()': False,\n",
              "   '+1:word.isupper()': False,\n",
              "   '+1:word.lower()': 'but',\n",
              "   '-1:word.istitle()': False,\n",
              "   '-1:word.isupper()': False,\n",
              "   '-1:word.lower()': 'stopping',\n",
              "   'bias': 1.0,\n",
              "   'word.isdigit()': False,\n",
              "   'word.istitle()': False,\n",
              "   'word.isupper()': False,\n",
              "   'word.lower()': 'clomipramine',\n",
              "   'word[-2:]': 'ne',\n",
              "   'word[-3:]': 'ine'},\n",
              "  {'+1:word.istitle()': False,\n",
              "   '+1:word.isupper()': False,\n",
              "   '+1:word.lower()': 'before',\n",
              "   '-1:word.istitle()': False,\n",
              "   '-1:word.isupper()': False,\n",
              "   '-1:word.lower()': 'clomipramine',\n",
              "   'bias': 1.0,\n",
              "   'word.isdigit()': False,\n",
              "   'word.istitle()': False,\n",
              "   'word.isupper()': False,\n",
              "   'word.lower()': 'but',\n",
              "   'word[-2:]': 'ut',\n",
              "   'word[-3:]': 'but'},\n",
              "  {'+1:word.istitle()': True,\n",
              "   '+1:word.isupper()': False,\n",
              "   '+1:word.lower()': 'clozapine',\n",
              "   '-1:word.istitle()': False,\n",
              "   '-1:word.isupper()': False,\n",
              "   '-1:word.lower()': 'but',\n",
              "   'bias': 1.0,\n",
              "   'word.isdigit()': False,\n",
              "   'word.istitle()': False,\n",
              "   'word.isupper()': False,\n",
              "   'word.lower()': 'before',\n",
              "   'word[-2:]': 're',\n",
              "   'word[-3:]': 'ore'},\n",
              "  {'+1:word.istitle()': False,\n",
              "   '+1:word.isupper()': False,\n",
              "   '+1:word.lower()': 'has',\n",
              "   '-1:word.istitle()': False,\n",
              "   '-1:word.isupper()': False,\n",
              "   '-1:word.lower()': 'before',\n",
              "   'bias': 1.0,\n",
              "   'word.isdigit()': False,\n",
              "   'word.istitle()': True,\n",
              "   'word.isupper()': False,\n",
              "   'word.lower()': 'clozapine',\n",
              "   'word[-2:]': 'ne',\n",
              "   'word[-3:]': 'ine'},\n",
              "  {'+1:word.istitle()': False,\n",
              "   '+1:word.isupper()': False,\n",
              "   '+1:word.lower()': 'been',\n",
              "   '-1:word.istitle()': True,\n",
              "   '-1:word.isupper()': False,\n",
              "   '-1:word.lower()': 'clozapine',\n",
              "   'bias': 1.0,\n",
              "   'word.isdigit()': False,\n",
              "   'word.istitle()': False,\n",
              "   'word.isupper()': False,\n",
              "   'word.lower()': 'has',\n",
              "   'word[-2:]': 'as',\n",
              "   'word[-3:]': 'has'},\n",
              "  {'+1:word.istitle()': False,\n",
              "   '+1:word.isupper()': False,\n",
              "   '+1:word.lower()': 'restarted',\n",
              "   '-1:word.istitle()': False,\n",
              "   '-1:word.isupper()': False,\n",
              "   '-1:word.lower()': 'has',\n",
              "   'bias': 1.0,\n",
              "   'word.isdigit()': False,\n",
              "   'word.istitle()': False,\n",
              "   'word.isupper()': False,\n",
              "   'word.lower()': 'been',\n",
              "   'word[-2:]': 'en',\n",
              "   'word[-3:]': 'een'},\n",
              "  {'+1:word.istitle()': False,\n",
              "   '+1:word.isupper()': False,\n",
              "   '+1:word.lower()': 'eight',\n",
              "   '-1:word.istitle()': False,\n",
              "   '-1:word.isupper()': False,\n",
              "   '-1:word.lower()': 'been',\n",
              "   'bias': 1.0,\n",
              "   'word.isdigit()': False,\n",
              "   'word.istitle()': False,\n",
              "   'word.isupper()': False,\n",
              "   'word.lower()': 'restarted',\n",
              "   'word[-2:]': 'ed',\n",
              "   'word[-3:]': 'ted'},\n",
              "  {'+1:word.istitle()': False,\n",
              "   '+1:word.isupper()': False,\n",
              "   '+1:word.lower()': 'days',\n",
              "   '-1:word.istitle()': False,\n",
              "   '-1:word.isupper()': False,\n",
              "   '-1:word.lower()': 'restarted',\n",
              "   'bias': 1.0,\n",
              "   'word.isdigit()': False,\n",
              "   'word.istitle()': False,\n",
              "   'word.isupper()': False,\n",
              "   'word.lower()': 'eight',\n",
              "   'word[-2:]': 'ht',\n",
              "   'word[-3:]': 'ght'},\n",
              "  {'+1:word.istitle()': False,\n",
              "   '+1:word.isupper()': False,\n",
              "   '+1:word.lower()': 'later.',\n",
              "   '-1:word.istitle()': False,\n",
              "   '-1:word.isupper()': False,\n",
              "   '-1:word.lower()': 'eight',\n",
              "   'bias': 1.0,\n",
              "   'word.isdigit()': False,\n",
              "   'word.istitle()': False,\n",
              "   'word.isupper()': False,\n",
              "   'word.lower()': 'days',\n",
              "   'word[-2:]': 'ys',\n",
              "   'word[-3:]': 'ays'},\n",
              "  {'-1:word.istitle()': False,\n",
              "   '-1:word.isupper()': False,\n",
              "   '-1:word.lower()': 'days',\n",
              "   'EOS': True,\n",
              "   'bias': 1.0,\n",
              "   'word.isdigit()': False,\n",
              "   'word.istitle()': False,\n",
              "   'word.isupper()': False,\n",
              "   'word.lower()': 'later.',\n",
              "   'word[-2:]': 'r.',\n",
              "   'word[-3:]': 'er.'}]]"
            ]
          },
          "metadata": {
            "tags": []
          },
          "execution_count": 496
        }
      ],
      "metadata": {
        "colab": {
          "base_uri": "https://localhost:8080/"
        },
        "id": "iI1GJRfstwMb",
        "outputId": "dc6a3bfa-1338-4289-e26b-34ce1b8243c2"
      }
    },
    {
      "cell_type": "code",
      "execution_count": null,
      "source": [
        "predictions = ner_model.predict(X_test)"
      ],
      "outputs": [],
      "metadata": {
        "id": "MnsdawkRrSpO"
      }
    },
    {
      "cell_type": "code",
      "execution_count": null,
      "source": [
        "# Final prediction of our model on the list of 10 sample sentences\n",
        "predictions"
      ],
      "outputs": [
        {
          "output_type": "execute_result",
          "data": {
            "text/plain": [
              "[['O',\n",
              "  'O',\n",
              "  'O',\n",
              "  'O',\n",
              "  'O',\n",
              "  'O',\n",
              "  'O',\n",
              "  'O',\n",
              "  'O',\n",
              "  'O',\n",
              "  'O',\n",
              "  'O',\n",
              "  'O',\n",
              "  'O',\n",
              "  'O',\n",
              "  'O',\n",
              "  'O',\n",
              "  'O',\n",
              "  'O',\n",
              "  'O'],\n",
              " ['O', 'O', 'O', 'O', 'O', 'O', 'B-DRUG', 'O', 'O', 'O', 'O', 'O', 'O', 'O'],\n",
              " ['O',\n",
              "  'O',\n",
              "  'O',\n",
              "  'O',\n",
              "  'O',\n",
              "  'O',\n",
              "  'O',\n",
              "  'O',\n",
              "  'O',\n",
              "  'O',\n",
              "  'O',\n",
              "  'O',\n",
              "  'O',\n",
              "  'O',\n",
              "  'O',\n",
              "  'O',\n",
              "  'O',\n",
              "  'B-DOSAGE',\n",
              "  'O',\n",
              "  'B-DRUG',\n",
              "  'O',\n",
              "  'O',\n",
              "  'O',\n",
              "  'O'],\n",
              " ['O',\n",
              "  'O',\n",
              "  'O',\n",
              "  'O',\n",
              "  'O',\n",
              "  'O',\n",
              "  'O',\n",
              "  'O',\n",
              "  'O',\n",
              "  'O',\n",
              "  'O',\n",
              "  'O',\n",
              "  'O',\n",
              "  'O',\n",
              "  'O',\n",
              "  'O',\n",
              "  'O'],\n",
              " ['O', 'O', 'O', 'O', 'B-DRUG', 'O'],\n",
              " ['O',\n",
              "  'O',\n",
              "  'O',\n",
              "  'O',\n",
              "  'O',\n",
              "  'O',\n",
              "  'O',\n",
              "  'O',\n",
              "  'O',\n",
              "  'O',\n",
              "  'O',\n",
              "  'O',\n",
              "  'O',\n",
              "  'O',\n",
              "  'O',\n",
              "  'O',\n",
              "  'O',\n",
              "  'O',\n",
              "  'O',\n",
              "  'O',\n",
              "  'O',\n",
              "  'O'],\n",
              " ['O', 'O', 'O', 'O', 'O', 'O', 'O', 'O', 'O', 'O', 'O', 'O', 'O', 'O'],\n",
              " ['O',\n",
              "  'O',\n",
              "  'O',\n",
              "  'O',\n",
              "  'O',\n",
              "  'O',\n",
              "  'O',\n",
              "  'O',\n",
              "  'O',\n",
              "  'O',\n",
              "  'O',\n",
              "  'O',\n",
              "  'O',\n",
              "  'O',\n",
              "  'O',\n",
              "  'O',\n",
              "  'O',\n",
              "  'O',\n",
              "  'O',\n",
              "  'O',\n",
              "  'O',\n",
              "  'O',\n",
              "  'O',\n",
              "  'O',\n",
              "  'O',\n",
              "  'O',\n",
              "  'O',\n",
              "  'O',\n",
              "  'O',\n",
              "  'O'],\n",
              " ['O',\n",
              "  'O',\n",
              "  'O',\n",
              "  'O',\n",
              "  'O',\n",
              "  'O',\n",
              "  'O',\n",
              "  'O',\n",
              "  'O',\n",
              "  'O',\n",
              "  'O',\n",
              "  'O',\n",
              "  'O',\n",
              "  'O',\n",
              "  'O',\n",
              "  'O',\n",
              "  'O',\n",
              "  'O',\n",
              "  'O',\n",
              "  'O',\n",
              "  'O',\n",
              "  'O',\n",
              "  'O',\n",
              "  'O',\n",
              "  'O',\n",
              "  'O',\n",
              "  'O',\n",
              "  'O',\n",
              "  'O',\n",
              "  'O',\n",
              "  'O',\n",
              "  'O',\n",
              "  'O',\n",
              "  'O',\n",
              "  'O',\n",
              "  'O',\n",
              "  'O',\n",
              "  'O',\n",
              "  'O'],\n",
              " ['O',\n",
              "  'O',\n",
              "  'O',\n",
              "  'O',\n",
              "  'O',\n",
              "  'O',\n",
              "  'O',\n",
              "  'O',\n",
              "  'O',\n",
              "  'O',\n",
              "  'O',\n",
              "  'O',\n",
              "  'O',\n",
              "  'O',\n",
              "  'O',\n",
              "  'O',\n",
              "  'O',\n",
              "  'O',\n",
              "  'O',\n",
              "  'O',\n",
              "  'O',\n",
              "  'O',\n",
              "  'O']]"
            ]
          },
          "metadata": {
            "tags": []
          },
          "execution_count": 498
        }
      ],
      "metadata": {
        "colab": {
          "base_uri": "https://localhost:8080/"
        },
        "id": "nrWzcZXTrdhk",
        "outputId": "8f7ba2a2-2378-4bfd-9361-06abb3d104da"
      }
    },
    {
      "cell_type": "markdown",
      "source": [
        "**Evaluation:**\n",
        "From the above result, it seems that our model can recognize a proportion of word and classify those words with the corresponding tag. However, since the model performance is not that sufficient, false-tagging and missing information is inevitable, but we can improve this model if we can define more complex feature extracion rules, tuning our CRF model with more hyperparameter or collect more data."
      ],
      "metadata": {
        "id": "s9_KiHFfuDz1"
      }
    },
    {
      "cell_type": "code",
      "execution_count": null,
      "source": [],
      "outputs": [],
      "metadata": {
        "id": "ZYLy8Y5d8Tv3"
      }
    }
  ]
}